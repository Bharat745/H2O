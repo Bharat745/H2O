{
  "nbformat": 4,
  "nbformat_minor": 0,
  "metadata": {
    "colab": {
      "name": "GBM_Logistic_CKD.ipynb",
      "version": "0.3.2",
      "provenance": [],
      "toc_visible": true,
      "include_colab_link": true
    },
    "language_info": {
      "codemirror_mode": {
        "name": "ipython",
        "version": 3
      },
      "file_extension": ".py",
      "mimetype": "text/x-python",
      "name": "python",
      "nbconvert_exporter": "python",
      "pygments_lexer": "ipython3",
      "version": "3.7.3"
    },
    "kernelspec": {
      "name": "python3",
      "display_name": "Python 3"
    },
    "accelerator": "GPU"
  },
  "cells": [
    {
      "cell_type": "markdown",
      "metadata": {
        "id": "view-in-github",
        "colab_type": "text"
      },
      "source": [
        "<a href=\"https://colab.research.google.com/github/Bharat745/H2O/blob/master/GBM_Logistic_CKD.ipynb\" target=\"_parent\"><img src=\"https://colab.research.google.com/assets/colab-badge.svg\" alt=\"Open In Colab\"/></a>"
      ]
    },
    {
      "cell_type": "markdown",
      "metadata": {
        "id": "R-4NQsCFwgKa",
        "colab_type": "text"
      },
      "source": [
        "# Logistic_GBM_CKD"
      ]
    },
    {
      "cell_type": "markdown",
      "metadata": {
        "id": "gDgHUJJo7Qhn",
        "colab_type": "text"
      },
      "source": [
        "## Installation and Imports"
      ]
    },
    {
      "cell_type": "code",
      "metadata": {
        "id": "IzMetk9lxAdX",
        "colab_type": "code",
        "colab": {}
      },
      "source": [
        "# Installing java version for running H2O on colab\n",
        "! apt-get install default-jre\n",
        "!java -version"
      ],
      "execution_count": 0,
      "outputs": []
    },
    {
      "cell_type": "code",
      "metadata": {
        "id": "xWVRX3mmwgKf",
        "colab_type": "code",
        "outputId": "5eb1b819-27fe-47f8-c520-5795fc1cdc22",
        "colab": {
          "base_uri": "https://localhost:8080/",
          "height": 834
        }
      },
      "source": [
        "# Start and connect to local H2O cluster\n",
        "! pip install h2o\n",
        "import h2o\n",
        "h2o.init(nthreads = -1)"
      ],
      "execution_count": 3,
      "outputs": [
        {
          "output_type": "stream",
          "text": [
            "Collecting h2o\n",
            "\u001b[?25l  Downloading https://files.pythonhosted.org/packages/2a/05/cad6d1d8a4b0e85975aae28e61791510b7b963e7667143f33a63abbd5665/h2o-3.24.0.5.tar.gz (122.4MB)\n",
            "\u001b[K     |████████████████████████████████| 122.4MB 1.4MB/s \n",
            "\u001b[?25hRequirement already satisfied: requests in /usr/local/lib/python3.6/dist-packages (from h2o) (2.21.0)\n",
            "Requirement already satisfied: tabulate in /usr/local/lib/python3.6/dist-packages (from h2o) (0.8.3)\n",
            "Requirement already satisfied: future in /usr/local/lib/python3.6/dist-packages (from h2o) (0.16.0)\n",
            "Collecting colorama>=0.3.8 (from h2o)\n",
            "  Downloading https://files.pythonhosted.org/packages/4f/a6/728666f39bfff1719fc94c481890b2106837da9318031f71a8424b662e12/colorama-0.4.1-py2.py3-none-any.whl\n",
            "Requirement already satisfied: chardet<3.1.0,>=3.0.2 in /usr/local/lib/python3.6/dist-packages (from requests->h2o) (3.0.4)\n",
            "Requirement already satisfied: certifi>=2017.4.17 in /usr/local/lib/python3.6/dist-packages (from requests->h2o) (2019.6.16)\n",
            "Requirement already satisfied: idna<2.9,>=2.5 in /usr/local/lib/python3.6/dist-packages (from requests->h2o) (2.8)\n",
            "Requirement already satisfied: urllib3<1.25,>=1.21.1 in /usr/local/lib/python3.6/dist-packages (from requests->h2o) (1.24.3)\n",
            "Building wheels for collected packages: h2o\n",
            "  Building wheel for h2o (setup.py) ... \u001b[?25l\u001b[?25hdone\n",
            "  Stored in directory: /root/.cache/pip/wheels/fe/31/5a/d0a96f4ab19a49d5381707eb3017b1a41ec89acbeff54a532c\n",
            "Successfully built h2o\n",
            "Installing collected packages: colorama, h2o\n",
            "Successfully installed colorama-0.4.1 h2o-3.24.0.5\n",
            "Checking whether there is an H2O instance running at http://localhost:54321 ..... not found.\n",
            "Attempting to start a local H2O server...\n",
            "  Java Version: openjdk version \"11.0.3\" 2019-04-16; OpenJDK Runtime Environment (build 11.0.3+7-Ubuntu-1ubuntu218.04.1); OpenJDK 64-Bit Server VM (build 11.0.3+7-Ubuntu-1ubuntu218.04.1, mixed mode, sharing)\n",
            "  Starting server from /usr/local/lib/python3.6/dist-packages/h2o/backend/bin/h2o.jar\n",
            "  Ice root: /tmp/tmp1v9ok_sg\n",
            "  JVM stdout: /tmp/tmp1v9ok_sg/h2o_unknownUser_started_from_python.out\n",
            "  JVM stderr: /tmp/tmp1v9ok_sg/h2o_unknownUser_started_from_python.err\n",
            "  Server is running at http://127.0.0.1:54321\n",
            "Connecting to H2O server at http://127.0.0.1:54321 ... successful.\n"
          ],
          "name": "stdout"
        },
        {
          "output_type": "display_data",
          "data": {
            "text/html": [
              "<div style=\"overflow:auto\"><table style=\"width:50%\"><tr><td>H2O cluster uptime:</td>\n",
              "<td>02 secs</td></tr>\n",
              "<tr><td>H2O cluster timezone:</td>\n",
              "<td>Etc/UTC</td></tr>\n",
              "<tr><td>H2O data parsing timezone:</td>\n",
              "<td>UTC</td></tr>\n",
              "<tr><td>H2O cluster version:</td>\n",
              "<td>3.24.0.5</td></tr>\n",
              "<tr><td>H2O cluster version age:</td>\n",
              "<td>16 days </td></tr>\n",
              "<tr><td>H2O cluster name:</td>\n",
              "<td>H2O_from_python_unknownUser_6ohvwk</td></tr>\n",
              "<tr><td>H2O cluster total nodes:</td>\n",
              "<td>1</td></tr>\n",
              "<tr><td>H2O cluster free memory:</td>\n",
              "<td>2.938 Gb</td></tr>\n",
              "<tr><td>H2O cluster total cores:</td>\n",
              "<td>2</td></tr>\n",
              "<tr><td>H2O cluster allowed cores:</td>\n",
              "<td>2</td></tr>\n",
              "<tr><td>H2O cluster status:</td>\n",
              "<td>accepting new members, healthy</td></tr>\n",
              "<tr><td>H2O connection url:</td>\n",
              "<td>http://127.0.0.1:54321</td></tr>\n",
              "<tr><td>H2O connection proxy:</td>\n",
              "<td>None</td></tr>\n",
              "<tr><td>H2O internal security:</td>\n",
              "<td>False</td></tr>\n",
              "<tr><td>H2O API Extensions:</td>\n",
              "<td>Amazon S3, XGBoost, Algos, AutoML, Core V3, Core V4</td></tr>\n",
              "<tr><td>Python version:</td>\n",
              "<td>3.6.8 final</td></tr></table></div>"
            ],
            "text/plain": [
              "--------------------------  ---------------------------------------------------\n",
              "H2O cluster uptime:         02 secs\n",
              "H2O cluster timezone:       Etc/UTC\n",
              "H2O data parsing timezone:  UTC\n",
              "H2O cluster version:        3.24.0.5\n",
              "H2O cluster version age:    16 days\n",
              "H2O cluster name:           H2O_from_python_unknownUser_6ohvwk\n",
              "H2O cluster total nodes:    1\n",
              "H2O cluster free memory:    2.938 Gb\n",
              "H2O cluster total cores:    2\n",
              "H2O cluster allowed cores:  2\n",
              "H2O cluster status:         accepting new members, healthy\n",
              "H2O connection url:         http://127.0.0.1:54321\n",
              "H2O connection proxy:\n",
              "H2O internal security:      False\n",
              "H2O API Extensions:         Amazon S3, XGBoost, Algos, AutoML, Core V3, Core V4\n",
              "Python version:             3.6.8 final\n",
              "--------------------------  ---------------------------------------------------"
            ]
          },
          "metadata": {
            "tags": []
          }
        }
      ]
    },
    {
      "cell_type": "markdown",
      "metadata": {
        "id": "0jW9ZV03jaSP",
        "colab_type": "text"
      },
      "source": [
        "## Problem Statement"
      ]
    },
    {
      "cell_type": "markdown",
      "metadata": {
        "id": "at4HNsYgjs3B",
        "colab_type": "text"
      },
      "source": [
        "The task involves identifying patients with Chronic Kidney Disease(CKD). We want to build a model that can predict whether the patient has CKD or not given his health details. The prediction is binary hence we develop a logistic regression model using GBM in h2o."
      ]
    },
    {
      "cell_type": "markdown",
      "metadata": {
        "id": "8r96BzSVlBri",
        "colab_type": "text"
      },
      "source": [
        "## Dataset"
      ]
    },
    {
      "cell_type": "markdown",
      "metadata": {
        "id": "iKvFi5MIlJIG",
        "colab_type": "text"
      },
      "source": [
        "The data is a casestudy data having more than 8k rows (patients) and having 36 features(columns). The last column is CKD which is the one we have to predict. For the first 6000 rows, the value of CKD is available and for the rest we need topredict. Thus we split our data set accordingly into traning and testing. "
      ]
    },
    {
      "cell_type": "code",
      "metadata": {
        "id": "jVlmlpfBwgKw",
        "colab_type": "code",
        "outputId": "4b1ebace-dda3-494d-e3fc-fe6bb78d5bc1",
        "colab": {
          "base_uri": "https://localhost:8080/",
          "height": 34
        }
      },
      "source": [
        "# Importing file in h2o\n",
        "# you can find the file here 'https://github.com/Bharat745/Logistic-Regression/blob/master/casestudydata.csv'\n",
        "data = h2o.import_file(path = \"https://raw.githubusercontent.com/Bharat745/Logistic-Regression/master/casestudydata.csv\")\n",
        "\n"
      ],
      "execution_count": 10,
      "outputs": [
        {
          "output_type": "stream",
          "text": [
            "Parse progress: |█████████████████████████████████████████████████████████| 100%\n"
          ],
          "name": "stdout"
        }
      ]
    },
    {
      "cell_type": "markdown",
      "metadata": {
        "id": "7L5PObnHpiYj",
        "colab_type": "text"
      },
      "source": [
        "## Analysis/Modelling"
      ]
    },
    {
      "cell_type": "code",
      "metadata": {
        "collapsed": true,
        "id": "hNJGcuSewgK3",
        "colab_type": "code",
        "outputId": "bc144bf1-814f-41a7-8759-f8edf69fbc97",
        "colab": {
          "base_uri": "https://localhost:8080/",
          "height": 34
        }
      },
      "source": [
        "data.shape"
      ],
      "execution_count": 11,
      "outputs": [
        {
          "output_type": "execute_result",
          "data": {
            "text/plain": [
              "(8819, 34)"
            ]
          },
          "metadata": {
            "tags": []
          },
          "execution_count": 11
        }
      ]
    },
    {
      "cell_type": "code",
      "metadata": {
        "collapsed": true,
        "id": "UaUJV2e6wgK-",
        "colab_type": "code",
        "outputId": "fb700281-8306-424b-bde5-a2aa2c0ebed7",
        "colab": {
          "base_uri": "https://localhost:8080/",
          "height": 182
        }
      },
      "source": [
        "data.head(5)"
      ],
      "execution_count": 12,
      "outputs": [
        {
          "output_type": "display_data",
          "data": {
            "text/html": [
              "<table>\n",
              "<thead>\n",
              "<tr><th style=\"text-align: right;\">  ID</th><th style=\"text-align: right;\">  Age</th><th style=\"text-align: right;\">  Female</th><th>Racegrp  </th><th style=\"text-align: right;\">  Educ</th><th style=\"text-align: right;\">  Unmarried</th><th style=\"text-align: right;\">  Income</th><th>CareSource  </th><th style=\"text-align: right;\">  Insured</th><th style=\"text-align: right;\">  Weight</th><th style=\"text-align: right;\">  Height</th><th style=\"text-align: right;\">  BMI</th><th style=\"text-align: right;\">  Obese</th><th style=\"text-align: right;\">  Waist</th><th style=\"text-align: right;\">  SBP</th><th style=\"text-align: right;\">  DBP</th><th style=\"text-align: right;\">  HDL</th><th style=\"text-align: right;\">  LDL</th><th style=\"text-align: right;\">  Total Chol</th><th style=\"text-align: right;\">  Dyslipidemia</th><th style=\"text-align: right;\">  PVD</th><th style=\"text-align: right;\">  Activity</th><th style=\"text-align: right;\">  PoorVision</th><th style=\"text-align: right;\">  Smoker</th><th style=\"text-align: right;\">  Hypertension</th><th style=\"text-align: right;\">  Fam Hypertension</th><th style=\"text-align: right;\">  Diabetes</th><th style=\"text-align: right;\">  Fam Diabetes</th><th style=\"text-align: right;\">  Stroke</th><th style=\"text-align: right;\">  CVD</th><th style=\"text-align: right;\">  Fam CVD</th><th style=\"text-align: right;\">  CHF</th><th style=\"text-align: right;\">  Anemia</th><th style=\"text-align: right;\">  CKD</th></tr>\n",
              "</thead>\n",
              "<tbody>\n",
              "<tr><td style=\"text-align: right;\">   1</td><td style=\"text-align: right;\">   65</td><td style=\"text-align: right;\">       1</td><td>white    </td><td style=\"text-align: right;\">     0</td><td style=\"text-align: right;\">          0</td><td style=\"text-align: right;\">       1</td><td>other       </td><td style=\"text-align: right;\">        1</td><td style=\"text-align: right;\">    56  </td><td style=\"text-align: right;\">   162.1</td><td style=\"text-align: right;\">21.31</td><td style=\"text-align: right;\">      0</td><td style=\"text-align: right;\">   83.6</td><td style=\"text-align: right;\">  135</td><td style=\"text-align: right;\">   71</td><td style=\"text-align: right;\">   48</td><td style=\"text-align: right;\">  249</td><td style=\"text-align: right;\">         297</td><td style=\"text-align: right;\">             0</td><td style=\"text-align: right;\">    0</td><td style=\"text-align: right;\">         3</td><td style=\"text-align: right;\">           0</td><td style=\"text-align: right;\">       1</td><td style=\"text-align: right;\">             0</td><td style=\"text-align: right;\">                 0</td><td style=\"text-align: right;\">         0</td><td style=\"text-align: right;\">             1</td><td style=\"text-align: right;\">       0</td><td style=\"text-align: right;\">    1</td><td style=\"text-align: right;\">        0</td><td style=\"text-align: right;\">    0</td><td style=\"text-align: right;\">       0</td><td style=\"text-align: right;\">    0</td></tr>\n",
              "<tr><td style=\"text-align: right;\">   2</td><td style=\"text-align: right;\">   36</td><td style=\"text-align: right;\">       1</td><td>hispa    </td><td style=\"text-align: right;\">     0</td><td style=\"text-align: right;\">        nan</td><td style=\"text-align: right;\">       1</td><td>noplace     </td><td style=\"text-align: right;\">        0</td><td style=\"text-align: right;\">    60.2</td><td style=\"text-align: right;\">   162.2</td><td style=\"text-align: right;\">22.88</td><td style=\"text-align: right;\">      0</td><td style=\"text-align: right;\">   76.6</td><td style=\"text-align: right;\">   96</td><td style=\"text-align: right;\">   52</td><td style=\"text-align: right;\">   31</td><td style=\"text-align: right;\">  135</td><td style=\"text-align: right;\">         166</td><td style=\"text-align: right;\">             0</td><td style=\"text-align: right;\">    0</td><td style=\"text-align: right;\">         3</td><td style=\"text-align: right;\">           0</td><td style=\"text-align: right;\">       0</td><td style=\"text-align: right;\">             0</td><td style=\"text-align: right;\">                 0</td><td style=\"text-align: right;\">         0</td><td style=\"text-align: right;\">             0</td><td style=\"text-align: right;\">       0</td><td style=\"text-align: right;\">    0</td><td style=\"text-align: right;\">        0</td><td style=\"text-align: right;\">    0</td><td style=\"text-align: right;\">       0</td><td style=\"text-align: right;\">    0</td></tr>\n",
              "<tr><td style=\"text-align: right;\">   3</td><td style=\"text-align: right;\">   66</td><td style=\"text-align: right;\">       1</td><td>white    </td><td style=\"text-align: right;\">     0</td><td style=\"text-align: right;\">          1</td><td style=\"text-align: right;\">       0</td><td>noplace     </td><td style=\"text-align: right;\">        1</td><td style=\"text-align: right;\">    83.9</td><td style=\"text-align: right;\">   162.5</td><td style=\"text-align: right;\">31.77</td><td style=\"text-align: right;\">      1</td><td style=\"text-align: right;\">  113.2</td><td style=\"text-align: right;\">  115</td><td style=\"text-align: right;\">   57</td><td style=\"text-align: right;\">   44</td><td style=\"text-align: right;\">  211</td><td style=\"text-align: right;\">         255</td><td style=\"text-align: right;\">             1</td><td style=\"text-align: right;\">    0</td><td style=\"text-align: right;\">         1</td><td style=\"text-align: right;\">           0</td><td style=\"text-align: right;\">       1</td><td style=\"text-align: right;\">             0</td><td style=\"text-align: right;\">                 0</td><td style=\"text-align: right;\">         1</td><td style=\"text-align: right;\">             0</td><td style=\"text-align: right;\">       0</td><td style=\"text-align: right;\">    0</td><td style=\"text-align: right;\">        0</td><td style=\"text-align: right;\">    0</td><td style=\"text-align: right;\">       0</td><td style=\"text-align: right;\">    0</td></tr>\n",
              "<tr><td style=\"text-align: right;\">   4</td><td style=\"text-align: right;\">   54</td><td style=\"text-align: right;\">       1</td><td>white    </td><td style=\"text-align: right;\">     1</td><td style=\"text-align: right;\">          0</td><td style=\"text-align: right;\">       0</td><td>DrHMO       </td><td style=\"text-align: right;\">        1</td><td style=\"text-align: right;\">    69.4</td><td style=\"text-align: right;\">   160.5</td><td style=\"text-align: right;\">26.94</td><td style=\"text-align: right;\">      0</td><td style=\"text-align: right;\">   77.9</td><td style=\"text-align: right;\">  110</td><td style=\"text-align: right;\">   57</td><td style=\"text-align: right;\">   74</td><td style=\"text-align: right;\">  156</td><td style=\"text-align: right;\">         230</td><td style=\"text-align: right;\">             0</td><td style=\"text-align: right;\">    0</td><td style=\"text-align: right;\">         2</td><td style=\"text-align: right;\">           0</td><td style=\"text-align: right;\">       1</td><td style=\"text-align: right;\">             0</td><td style=\"text-align: right;\">                 0</td><td style=\"text-align: right;\">         0</td><td style=\"text-align: right;\">             0</td><td style=\"text-align: right;\">       0</td><td style=\"text-align: right;\">    0</td><td style=\"text-align: right;\">        0</td><td style=\"text-align: right;\">    0</td><td style=\"text-align: right;\">       0</td><td style=\"text-align: right;\">    0</td></tr>\n",
              "<tr><td style=\"text-align: right;\">   5</td><td style=\"text-align: right;\">   63</td><td style=\"text-align: right;\">       1</td><td>black    </td><td style=\"text-align: right;\">     0</td><td style=\"text-align: right;\">          0</td><td style=\"text-align: right;\">     nan</td><td>clinic      </td><td style=\"text-align: right;\">        1</td><td style=\"text-align: right;\">    73.1</td><td style=\"text-align: right;\">   159.2</td><td style=\"text-align: right;\">28.84</td><td style=\"text-align: right;\">      0</td><td style=\"text-align: right;\">   89.3</td><td style=\"text-align: right;\">  132</td><td style=\"text-align: right;\">   73</td><td style=\"text-align: right;\">   67</td><td style=\"text-align: right;\">  154</td><td style=\"text-align: right;\">         221</td><td style=\"text-align: right;\">             0</td><td style=\"text-align: right;\">    0</td><td style=\"text-align: right;\">         1</td><td style=\"text-align: right;\">           0</td><td style=\"text-align: right;\">       0</td><td style=\"text-align: right;\">             1</td><td style=\"text-align: right;\">                 0</td><td style=\"text-align: right;\">         0</td><td style=\"text-align: right;\">             0</td><td style=\"text-align: right;\">       0</td><td style=\"text-align: right;\">    0</td><td style=\"text-align: right;\">        0</td><td style=\"text-align: right;\">    0</td><td style=\"text-align: right;\">       0</td><td style=\"text-align: right;\">    0</td></tr>\n",
              "</tbody>\n",
              "</table>"
            ]
          },
          "metadata": {
            "tags": []
          }
        },
        {
          "output_type": "execute_result",
          "data": {
            "text/plain": [
              ""
            ]
          },
          "metadata": {
            "tags": []
          },
          "execution_count": 12
        }
      ]
    },
    {
      "cell_type": "code",
      "metadata": {
        "scrolled": true,
        "id": "Z6mLYyh8wgLE",
        "colab_type": "code",
        "outputId": "fca33f50-24a8-42f2-eca4-0596756365d7",
        "colab": {
          "base_uri": "https://localhost:8080/",
          "height": 595
        }
      },
      "source": [
        "data.types"
      ],
      "execution_count": 13,
      "outputs": [
        {
          "output_type": "execute_result",
          "data": {
            "text/plain": [
              "{'Activity': 'int',\n",
              " 'Age': 'int',\n",
              " 'Anemia': 'int',\n",
              " 'BMI': 'real',\n",
              " 'CHF': 'int',\n",
              " 'CKD': 'int',\n",
              " 'CVD': 'int',\n",
              " 'CareSource': 'enum',\n",
              " 'DBP': 'int',\n",
              " 'Diabetes': 'int',\n",
              " 'Dyslipidemia': 'int',\n",
              " 'Educ': 'int',\n",
              " 'Fam CVD': 'int',\n",
              " 'Fam Diabetes': 'int',\n",
              " 'Fam Hypertension': 'int',\n",
              " 'Female': 'int',\n",
              " 'HDL': 'int',\n",
              " 'Height': 'real',\n",
              " 'Hypertension': 'int',\n",
              " 'ID': 'int',\n",
              " 'Income': 'int',\n",
              " 'Insured': 'int',\n",
              " 'LDL': 'int',\n",
              " 'Obese': 'int',\n",
              " 'PVD': 'int',\n",
              " 'PoorVision': 'int',\n",
              " 'Racegrp': 'enum',\n",
              " 'SBP': 'int',\n",
              " 'Smoker': 'int',\n",
              " 'Stroke': 'int',\n",
              " 'Total Chol': 'int',\n",
              " 'Unmarried': 'int',\n",
              " 'Waist': 'real',\n",
              " 'Weight': 'real'}"
            ]
          },
          "metadata": {
            "tags": []
          },
          "execution_count": 13
        }
      ]
    },
    {
      "cell_type": "code",
      "metadata": {
        "id": "LSXshuZBwgLK",
        "colab_type": "code",
        "colab": {}
      },
      "source": [
        "# Converting the CKD column as factor because it is either 1 or 0 i.e person has CKD or not\n",
        "data[\"CKD\"] = data[\"CKD\"].asfactor()"
      ],
      "execution_count": 0,
      "outputs": []
    },
    {
      "cell_type": "code",
      "metadata": {
        "id": "okEfBdhwwgLP",
        "colab_type": "code",
        "colab": {}
      },
      "source": [
        "# Dropping the ID column as it is not useful\n",
        "data = data.drop([0], axis=1)"
      ],
      "execution_count": 0,
      "outputs": []
    },
    {
      "cell_type": "code",
      "metadata": {
        "id": "HJWSn2NRwgLS",
        "colab_type": "code",
        "outputId": "3295ba0e-7ba8-416e-f35a-f1900da37500",
        "colab": {
          "base_uri": "https://localhost:8080/",
          "height": 140
        }
      },
      "source": [
        "data.head(3)"
      ],
      "execution_count": 16,
      "outputs": [
        {
          "output_type": "display_data",
          "data": {
            "text/html": [
              "<table>\n",
              "<thead>\n",
              "<tr><th style=\"text-align: right;\">  Age</th><th style=\"text-align: right;\">  Female</th><th>Racegrp  </th><th style=\"text-align: right;\">  Educ</th><th style=\"text-align: right;\">  Unmarried</th><th style=\"text-align: right;\">  Income</th><th>CareSource  </th><th style=\"text-align: right;\">  Insured</th><th style=\"text-align: right;\">  Weight</th><th style=\"text-align: right;\">  Height</th><th style=\"text-align: right;\">  BMI</th><th style=\"text-align: right;\">  Obese</th><th style=\"text-align: right;\">  Waist</th><th style=\"text-align: right;\">  SBP</th><th style=\"text-align: right;\">  DBP</th><th style=\"text-align: right;\">  HDL</th><th style=\"text-align: right;\">  LDL</th><th style=\"text-align: right;\">  Total Chol</th><th style=\"text-align: right;\">  Dyslipidemia</th><th style=\"text-align: right;\">  PVD</th><th style=\"text-align: right;\">  Activity</th><th style=\"text-align: right;\">  PoorVision</th><th style=\"text-align: right;\">  Smoker</th><th style=\"text-align: right;\">  Hypertension</th><th style=\"text-align: right;\">  Fam Hypertension</th><th style=\"text-align: right;\">  Diabetes</th><th style=\"text-align: right;\">  Fam Diabetes</th><th style=\"text-align: right;\">  Stroke</th><th style=\"text-align: right;\">  CVD</th><th style=\"text-align: right;\">  Fam CVD</th><th style=\"text-align: right;\">  CHF</th><th style=\"text-align: right;\">  Anemia</th><th style=\"text-align: right;\">  CKD</th></tr>\n",
              "</thead>\n",
              "<tbody>\n",
              "<tr><td style=\"text-align: right;\">   65</td><td style=\"text-align: right;\">       1</td><td>white    </td><td style=\"text-align: right;\">     0</td><td style=\"text-align: right;\">          0</td><td style=\"text-align: right;\">       1</td><td>other       </td><td style=\"text-align: right;\">        1</td><td style=\"text-align: right;\">    56  </td><td style=\"text-align: right;\">   162.1</td><td style=\"text-align: right;\">21.31</td><td style=\"text-align: right;\">      0</td><td style=\"text-align: right;\">   83.6</td><td style=\"text-align: right;\">  135</td><td style=\"text-align: right;\">   71</td><td style=\"text-align: right;\">   48</td><td style=\"text-align: right;\">  249</td><td style=\"text-align: right;\">         297</td><td style=\"text-align: right;\">             0</td><td style=\"text-align: right;\">    0</td><td style=\"text-align: right;\">         3</td><td style=\"text-align: right;\">           0</td><td style=\"text-align: right;\">       1</td><td style=\"text-align: right;\">             0</td><td style=\"text-align: right;\">                 0</td><td style=\"text-align: right;\">         0</td><td style=\"text-align: right;\">             1</td><td style=\"text-align: right;\">       0</td><td style=\"text-align: right;\">    1</td><td style=\"text-align: right;\">        0</td><td style=\"text-align: right;\">    0</td><td style=\"text-align: right;\">       0</td><td style=\"text-align: right;\">    0</td></tr>\n",
              "<tr><td style=\"text-align: right;\">   36</td><td style=\"text-align: right;\">       1</td><td>hispa    </td><td style=\"text-align: right;\">     0</td><td style=\"text-align: right;\">        nan</td><td style=\"text-align: right;\">       1</td><td>noplace     </td><td style=\"text-align: right;\">        0</td><td style=\"text-align: right;\">    60.2</td><td style=\"text-align: right;\">   162.2</td><td style=\"text-align: right;\">22.88</td><td style=\"text-align: right;\">      0</td><td style=\"text-align: right;\">   76.6</td><td style=\"text-align: right;\">   96</td><td style=\"text-align: right;\">   52</td><td style=\"text-align: right;\">   31</td><td style=\"text-align: right;\">  135</td><td style=\"text-align: right;\">         166</td><td style=\"text-align: right;\">             0</td><td style=\"text-align: right;\">    0</td><td style=\"text-align: right;\">         3</td><td style=\"text-align: right;\">           0</td><td style=\"text-align: right;\">       0</td><td style=\"text-align: right;\">             0</td><td style=\"text-align: right;\">                 0</td><td style=\"text-align: right;\">         0</td><td style=\"text-align: right;\">             0</td><td style=\"text-align: right;\">       0</td><td style=\"text-align: right;\">    0</td><td style=\"text-align: right;\">        0</td><td style=\"text-align: right;\">    0</td><td style=\"text-align: right;\">       0</td><td style=\"text-align: right;\">    0</td></tr>\n",
              "<tr><td style=\"text-align: right;\">   66</td><td style=\"text-align: right;\">       1</td><td>white    </td><td style=\"text-align: right;\">     0</td><td style=\"text-align: right;\">          1</td><td style=\"text-align: right;\">       0</td><td>noplace     </td><td style=\"text-align: right;\">        1</td><td style=\"text-align: right;\">    83.9</td><td style=\"text-align: right;\">   162.5</td><td style=\"text-align: right;\">31.77</td><td style=\"text-align: right;\">      1</td><td style=\"text-align: right;\">  113.2</td><td style=\"text-align: right;\">  115</td><td style=\"text-align: right;\">   57</td><td style=\"text-align: right;\">   44</td><td style=\"text-align: right;\">  211</td><td style=\"text-align: right;\">         255</td><td style=\"text-align: right;\">             1</td><td style=\"text-align: right;\">    0</td><td style=\"text-align: right;\">         1</td><td style=\"text-align: right;\">           0</td><td style=\"text-align: right;\">       1</td><td style=\"text-align: right;\">             0</td><td style=\"text-align: right;\">                 0</td><td style=\"text-align: right;\">         1</td><td style=\"text-align: right;\">             0</td><td style=\"text-align: right;\">       0</td><td style=\"text-align: right;\">    0</td><td style=\"text-align: right;\">        0</td><td style=\"text-align: right;\">    0</td><td style=\"text-align: right;\">       0</td><td style=\"text-align: right;\">    0</td></tr>\n",
              "</tbody>\n",
              "</table>"
            ]
          },
          "metadata": {
            "tags": []
          }
        },
        {
          "output_type": "execute_result",
          "data": {
            "text/plain": [
              ""
            ]
          },
          "metadata": {
            "tags": []
          },
          "execution_count": 16
        }
      ]
    },
    {
      "cell_type": "code",
      "metadata": {
        "scrolled": true,
        "id": "JezoRtzAwgLX",
        "colab_type": "code",
        "outputId": "1da3cb46-16ab-4469-c199-29f5ac2b9122",
        "colab": {
          "base_uri": "https://localhost:8080/",
          "height": 417
        }
      },
      "source": [
        "# Descriptive analysis to understand the data\n",
        "data.summary()"
      ],
      "execution_count": 17,
      "outputs": [
        {
          "output_type": "display_data",
          "data": {
            "text/html": [
              "<table>\n",
              "<thead>\n",
              "<tr><th>       </th><th>Age               </th><th>Female             </th><th>Racegrp  </th><th>Educ               </th><th>Unmarried         </th><th>Income            </th><th>CareSource  </th><th>Insured           </th><th>Weight           </th><th>Height            </th><th>BMI               </th><th>Obese              </th><th>Waist             </th><th>SBP               </th><th>DBP               </th><th>HDL               </th><th>LDL               </th><th>Total Chol        </th><th>Dyslipidemia       </th><th>PVD                 </th><th>Activity          </th><th>PoorVision         </th><th>Smoker            </th><th>Hypertension       </th><th>Fam Hypertension   </th><th>Diabetes           </th><th>Fam Diabetes       </th><th>Stroke             </th><th>CVD                </th><th>Fam CVD            </th><th>CHF                </th><th>Anemia             </th><th>CKD  </th></tr>\n",
              "</thead>\n",
              "<tbody>\n",
              "<tr><td>type   </td><td>int               </td><td>int                </td><td>enum     </td><td>int                </td><td>int               </td><td>int               </td><td>enum        </td><td>int               </td><td>real             </td><td>real              </td><td>real              </td><td>int                </td><td>real              </td><td>int               </td><td>int               </td><td>int               </td><td>int               </td><td>int               </td><td>int                </td><td>int                 </td><td>int               </td><td>int                </td><td>int               </td><td>int                </td><td>int                </td><td>int                </td><td>int                </td><td>int                </td><td>int                </td><td>int                </td><td>int                </td><td>int                </td><td>enum </td></tr>\n",
              "<tr><td>mins   </td><td>20.0              </td><td>0.0                </td><td>         </td><td>0.0                </td><td>0.0               </td><td>0.0               </td><td>            </td><td>0.0               </td><td>25.6             </td><td>130.4             </td><td>12.04             </td><td>0.0                </td><td>58.5              </td><td>72.0              </td><td>10.0              </td><td>8.0               </td><td>27.0              </td><td>72.0              </td><td>0.0                </td><td>0.0                 </td><td>1.0               </td><td>0.0                </td><td>0.0               </td><td>0.0                </td><td>0.0                </td><td>0.0                </td><td>0.0                </td><td>0.0                </td><td>0.0                </td><td>0.0                </td><td>0.0                </td><td>0.0                </td><td>     </td></tr>\n",
              "<tr><td>mean   </td><td>49.358203877990704</td><td>0.5272706656083456 </td><td>         </td><td>0.43141266052960564</td><td>0.3685908927931158</td><td>0.4172220044427022</td><td>            </td><td>0.8045026418561911</td><td>79.09434202898548</td><td>167.0268544274455 </td><td>28.294347520225106</td><td>0.31574627740649547</td><td>96.83997648442094 </td><td>125.81083303959585</td><td>71.50894655764903 </td><td>51.82833446943877 </td><td>152.571298716055  </td><td>204.40338520958764</td><td>0.10545413312166912</td><td>0.039233473182900554</td><td>2.028153025315018 </td><td>0.06386330586524479</td><td>0.3041161129379748</td><td>0.40141892665064655</td><td>0.23324639981857354</td><td>0.11137575138936145</td><td>0.31171334618437463</td><td>0.03144868301544051</td><td>0.06639381537062301</td><td>0.3432142857142857 </td><td>0.02891950358647387</td><td>0.02042437308521502</td><td>     </td></tr>\n",
              "<tr><td>maxs   </td><td>85.0              </td><td>1.0                </td><td>         </td><td>1.0                </td><td>1.0               </td><td>1.0               </td><td>            </td><td>1.0               </td><td>193.3            </td><td>200.1             </td><td>66.44             </td><td>1.0                </td><td>173.4             </td><td>233.0             </td><td>132.0             </td><td>160.0             </td><td>684.0             </td><td>727.0             </td><td>1.0                </td><td>1.0                 </td><td>4.0               </td><td>1.0                </td><td>1.0               </td><td>1.0                </td><td>1.0                </td><td>1.0                </td><td>1.0                </td><td>1.0                </td><td>1.0                </td><td>1.0                </td><td>1.0                </td><td>1.0                </td><td>     </td></tr>\n",
              "<tr><td>sigma  </td><td>18.82872580982025 </td><td>0.49928406499674366</td><td>         </td><td>0.495301582594917  </td><td>0.4824515160005016</td><td>0.4931324154532263</td><td>            </td><td>0.3966058606049539</td><td>19.4107068958128 </td><td>10.099769646593007</td><td>6.186076206777893 </td><td>0.4648396497395821 </td><td>15.099678091159547</td><td>21.034785808424957</td><td>12.663170963647858</td><td>15.786402387105595</td><td>42.994626395282964</td><td>42.79774750436619 </td><td>0.30715510213878133</td><td>0.19416097047018913 </td><td>0.8150365143496283</td><td>0.24452408836640444</td><td>0.4600581512225135</td><td>0.49021349477899856</td><td>0.42292174018200457</td><td>0.31461471629098425</td><td>0.4632196743420641 </td><td>0.17453687841335183</td><td>0.24898338194043482</td><td>0.47481057117100844</td><td>0.16758986755950545</td><td>0.14145489924611554</td><td>     </td></tr>\n",
              "<tr><td>zeros  </td><td>0                 </td><td>4169               </td><td>         </td><td>5003               </td><td>5283              </td><td>4460              </td><td>            </td><td>1702              </td><td>0                </td><td>0                 </td><td>0                 </td><td>5836               </td><td>0                 </td><td>0                 </td><td>0                 </td><td>0                 </td><td>0                 </td><td>0                 </td><td>7889               </td><td>8473                </td><td>0                 </td><td>7725               </td><td>6137              </td><td>5231               </td><td>6762               </td><td>7835               </td><td>6070               </td><td>8531               </td><td>8212               </td><td>5517               </td><td>8529               </td><td>8633               </td><td>     </td></tr>\n",
              "<tr><td>missing</td><td>0                 </td><td>0                  </td><td>0        </td><td>20                 </td><td>452               </td><td>1166              </td><td>3           </td><td>113               </td><td>194              </td><td>191               </td><td>290               </td><td>290                </td><td>314               </td><td>308               </td><td>380               </td><td>17                </td><td>18                </td><td>16                </td><td>0                  </td><td>0                   </td><td>10                </td><td>567                </td><td>0                 </td><td>80                 </td><td>0                  </td><td>2                  </td><td>0                  </td><td>11                 </td><td>23                 </td><td>419                </td><td>36                 </td><td>6                  </td><td>2819 </td></tr>\n",
              "<tr><td>0      </td><td>65.0              </td><td>1.0                </td><td>white    </td><td>0.0                </td><td>0.0               </td><td>1.0               </td><td>other       </td><td>1.0               </td><td>56.0             </td><td>162.1             </td><td>21.31             </td><td>0.0                </td><td>83.6              </td><td>135.0             </td><td>71.0              </td><td>48.0              </td><td>249.0             </td><td>297.0             </td><td>0.0                </td><td>0.0                 </td><td>3.0               </td><td>0.0                </td><td>1.0               </td><td>0.0                </td><td>0.0                </td><td>0.0                </td><td>1.0                </td><td>0.0                </td><td>1.0                </td><td>0.0                </td><td>0.0                </td><td>0.0                </td><td>0    </td></tr>\n",
              "<tr><td>1      </td><td>36.0              </td><td>1.0                </td><td>hispa    </td><td>0.0                </td><td>nan               </td><td>1.0               </td><td>noplace     </td><td>0.0               </td><td>60.2             </td><td>162.2             </td><td>22.88             </td><td>0.0                </td><td>76.6              </td><td>96.0              </td><td>52.0              </td><td>31.0              </td><td>135.0             </td><td>166.0             </td><td>0.0                </td><td>0.0                 </td><td>3.0               </td><td>0.0                </td><td>0.0               </td><td>0.0                </td><td>0.0                </td><td>0.0                </td><td>0.0                </td><td>0.0                </td><td>0.0                </td><td>0.0                </td><td>0.0                </td><td>0.0                </td><td>0    </td></tr>\n",
              "<tr><td>2      </td><td>66.0              </td><td>1.0                </td><td>white    </td><td>0.0                </td><td>1.0               </td><td>0.0               </td><td>noplace     </td><td>1.0               </td><td>83.9             </td><td>162.5             </td><td>31.77             </td><td>1.0                </td><td>113.2             </td><td>115.0             </td><td>57.0              </td><td>44.0              </td><td>211.0             </td><td>255.0             </td><td>1.0                </td><td>0.0                 </td><td>1.0               </td><td>0.0                </td><td>1.0               </td><td>0.0                </td><td>0.0                </td><td>1.0                </td><td>0.0                </td><td>0.0                </td><td>0.0                </td><td>0.0                </td><td>0.0                </td><td>0.0                </td><td>0    </td></tr>\n",
              "<tr><td>3      </td><td>54.0              </td><td>1.0                </td><td>white    </td><td>1.0                </td><td>0.0               </td><td>0.0               </td><td>DrHMO       </td><td>1.0               </td><td>69.4             </td><td>160.5             </td><td>26.94             </td><td>0.0                </td><td>77.9              </td><td>110.0             </td><td>57.0              </td><td>74.0              </td><td>156.0             </td><td>230.0             </td><td>0.0                </td><td>0.0                 </td><td>2.0               </td><td>0.0                </td><td>1.0               </td><td>0.0                </td><td>0.0                </td><td>0.0                </td><td>0.0                </td><td>0.0                </td><td>0.0                </td><td>0.0                </td><td>0.0                </td><td>0.0                </td><td>0    </td></tr>\n",
              "<tr><td>4      </td><td>63.0              </td><td>1.0                </td><td>black    </td><td>0.0                </td><td>0.0               </td><td>nan               </td><td>clinic      </td><td>1.0               </td><td>73.1             </td><td>159.2             </td><td>28.84             </td><td>0.0                </td><td>89.3              </td><td>132.0             </td><td>73.0              </td><td>67.0              </td><td>154.0             </td><td>221.0             </td><td>0.0                </td><td>0.0                 </td><td>1.0               </td><td>0.0                </td><td>0.0               </td><td>1.0                </td><td>0.0                </td><td>0.0                </td><td>0.0                </td><td>0.0                </td><td>0.0                </td><td>0.0                </td><td>0.0                </td><td>0.0                </td><td>0    </td></tr>\n",
              "<tr><td>5      </td><td>26.0              </td><td>0.0                </td><td>white    </td><td>1.0                </td><td>0.0               </td><td>0.0               </td><td>DrHMO       </td><td>1.0               </td><td>119.3            </td><td>193.2             </td><td>31.96             </td><td>1.0                </td><td>117.9             </td><td>129.0             </td><td>70.0              </td><td>43.0              </td><td>159.0             </td><td>202.0             </td><td>0.0                </td><td>0.0                 </td><td>2.0               </td><td>0.0                </td><td>0.0               </td><td>0.0                </td><td>1.0                </td><td>0.0                </td><td>0.0                </td><td>0.0                </td><td>0.0                </td><td>1.0                </td><td>0.0                </td><td>0.0                </td><td>0    </td></tr>\n",
              "<tr><td>6      </td><td>66.0              </td><td>0.0                </td><td>black    </td><td>1.0                </td><td>0.0               </td><td>0.0               </td><td>DrHMO       </td><td>0.0               </td><td>85.1             </td><td>172.1             </td><td>28.73             </td><td>0.0                </td><td>99.2              </td><td>137.0             </td><td>92.0              </td><td>41.0              </td><td>143.0             </td><td>184.0             </td><td>0.0                </td><td>0.0                 </td><td>3.0               </td><td>0.0                </td><td>0.0               </td><td>1.0                </td><td>0.0                </td><td>0.0                </td><td>0.0                </td><td>0.0                </td><td>0.0                </td><td>1.0                </td><td>0.0                </td><td>0.0                </td><td>0    </td></tr>\n",
              "<tr><td>7      </td><td>59.0              </td><td>1.0                </td><td>white    </td><td>1.0                </td><td>1.0               </td><td>0.0               </td><td>DrHMO       </td><td>1.0               </td><td>69.9             </td><td>160.9             </td><td>27.0              </td><td>0.0                </td><td>101.5             </td><td>124.0             </td><td>73.0              </td><td>43.0              </td><td>140.0             </td><td>183.0             </td><td>0.0                </td><td>0.0                 </td><td>2.0               </td><td>0.0                </td><td>0.0               </td><td>0.0                </td><td>1.0                </td><td>1.0                </td><td>1.0                </td><td>0.0                </td><td>0.0                </td><td>1.0                </td><td>0.0                </td><td>0.0                </td><td>0    </td></tr>\n",
              "<tr><td>8      </td><td>53.0              </td><td>1.0                </td><td>white    </td><td>1.0                </td><td>0.0               </td><td>1.0               </td><td>DrHMO       </td><td>1.0               </td><td>75.2             </td><td>174.1             </td><td>24.81             </td><td>0.0                </td><td>85.6              </td><td>110.0             </td><td>74.0              </td><td>62.0              </td><td>110.0             </td><td>172.0             </td><td>0.0                </td><td>0.0                 </td><td>1.0               </td><td>0.0                </td><td>1.0               </td><td>1.0                </td><td>1.0                </td><td>0.0                </td><td>0.0                </td><td>0.0                </td><td>0.0                </td><td>1.0                </td><td>0.0                </td><td>0.0                </td><td>0    </td></tr>\n",
              "<tr><td>9      </td><td>78.0              </td><td>1.0                </td><td>black    </td><td>0.0                </td><td>1.0               </td><td>0.0               </td><td>DrHMO       </td><td>1.0               </td><td>47.6             </td><td>155.3             </td><td>19.74             </td><td>0.0                </td><td>70.3              </td><td>170.0             </td><td>78.0              </td><td>105.0             </td><td>90.0              </td><td>195.0             </td><td>0.0                </td><td>0.0                 </td><td>1.0               </td><td>0.0                </td><td>0.0               </td><td>1.0                </td><td>0.0                </td><td>1.0                </td><td>1.0                </td><td>1.0                </td><td>1.0                </td><td>1.0                </td><td>nan                </td><td>0.0                </td><td>0    </td></tr>\n",
              "</tbody>\n",
              "</table>"
            ]
          },
          "metadata": {
            "tags": []
          }
        }
      ]
    },
    {
      "cell_type": "markdown",
      "metadata": {
        "id": "rEoAZzlRpuEp",
        "colab_type": "text"
      },
      "source": [
        "### GBM Model"
      ]
    },
    {
      "cell_type": "code",
      "metadata": {
        "id": "BDRRvH83wgLd",
        "colab_type": "code",
        "colab": {}
      },
      "source": [
        "# Importing GBM Estimator\n",
        "from h2o.estimators.gbm import H2OGradientBoostingEstimator"
      ],
      "execution_count": 0,
      "outputs": []
    },
    {
      "cell_type": "code",
      "metadata": {
        "id": "_AeCkpt5wgLh",
        "colab_type": "code",
        "colab": {}
      },
      "source": [
        "# splitting data into train and test\n",
        "# Splitting the data as such because the first 6000 rows, we have the answer of weather a person has CKD or not\n",
        "train, test = data.split_frame(\n",
        "    ratios = [0.68],\n",
        "    destination_frames = [\"data_train\" , \"data_test\"],\n",
        "    seed =123\n",
        "    )"
      ],
      "execution_count": 0,
      "outputs": []
    },
    {
      "cell_type": "code",
      "metadata": {
        "id": "wMZDLuRewgLm",
        "colab_type": "code",
        "outputId": "2d683dff-79e8-4257-f312-6980a28a9b30",
        "colab": {
          "base_uri": "https://localhost:8080/",
          "height": 34
        }
      },
      "source": [
        "print(\"%d/%d\" % (train.nrows , test.nrows))"
      ],
      "execution_count": 20,
      "outputs": [
        {
          "output_type": "stream",
          "text": [
            "5999/2820\n"
          ],
          "name": "stdout"
        }
      ]
    },
    {
      "cell_type": "code",
      "metadata": {
        "id": "T_AE1R1zwgLu",
        "colab_type": "code",
        "colab": {}
      },
      "source": [
        "# Define the features and target\n",
        "x = list(train.columns)\n",
        "y = \"CKD\""
      ],
      "execution_count": 0,
      "outputs": []
    },
    {
      "cell_type": "code",
      "metadata": {
        "id": "ZgUXcb1RwgLz",
        "colab_type": "code",
        "outputId": "4d3defc1-06aa-4585-dcd4-56f6a68e45bc",
        "colab": {
          "base_uri": "https://localhost:8080/",
          "height": 1000
        }
      },
      "source": [
        "# Train the Gradient Boosting Model\n",
        "m1 = H2OGradientBoostingEstimator(seed= 1234)\n",
        "m1.train(x, y ,training_frame = train)\n",
        "print(m1)"
      ],
      "execution_count": 22,
      "outputs": [
        {
          "output_type": "stream",
          "text": [
            "gbm Model Build progress: |███████████████████████████████████████████████| 100%\n",
            "Model Details\n",
            "=============\n",
            "H2OGradientBoostingEstimator :  Gradient Boosting Machine\n",
            "Model Key:  GBM_model_python_1562353934678_1\n",
            "\n",
            "\n",
            "ModelMetricsBinomial: gbm\n",
            "** Reported on train data. **\n",
            "\n",
            "MSE: 0.027576011305050212\n",
            "RMSE: 0.16606026407617872\n",
            "LogLoss: 0.10554276990271674\n",
            "Mean Per-Class Error: 0.07593017838125671\n",
            "AUC: 0.9783059604632588\n",
            "pr_auc: 0.8872947907524608\n",
            "Gini: 0.9566119209265176\n",
            "Confusion Matrix (Act/Pred) for max f1 @ threshold = 0.37204500891332465: \n"
          ],
          "name": "stdout"
        },
        {
          "output_type": "display_data",
          "data": {
            "text/html": [
              "<div style=\"overflow:auto\"><table style=\"width:50%\"><tr><td><b></b></td>\n",
              "<td><b>0</b></td>\n",
              "<td><b>1</b></td>\n",
              "<td><b>Error</b></td>\n",
              "<td><b>Rate</b></td></tr>\n",
              "<tr><td>0</td>\n",
              "<td>3737.0</td>\n",
              "<td>19.0</td>\n",
              "<td>0.0051</td>\n",
              "<td> (19.0/3756.0)</td></tr>\n",
              "<tr><td>1</td>\n",
              "<td>83.0</td>\n",
              "<td>237.0</td>\n",
              "<td>0.2594</td>\n",
              "<td> (83.0/320.0)</td></tr>\n",
              "<tr><td>Total</td>\n",
              "<td>3820.0</td>\n",
              "<td>256.0</td>\n",
              "<td>0.025</td>\n",
              "<td> (102.0/4076.0)</td></tr></table></div>"
            ],
            "text/plain": [
              "       0     1    Error    Rate\n",
              "-----  ----  ---  -------  --------------\n",
              "0      3737  19   0.0051   (19.0/3756.0)\n",
              "1      83    237  0.2594   (83.0/320.0)\n",
              "Total  3820  256  0.025    (102.0/4076.0)"
            ]
          },
          "metadata": {
            "tags": []
          }
        },
        {
          "output_type": "stream",
          "text": [
            "Maximum Metrics: Maximum metrics at their respective thresholds\n",
            "\n"
          ],
          "name": "stdout"
        },
        {
          "output_type": "display_data",
          "data": {
            "text/html": [
              "<div style=\"overflow:auto\"><table style=\"width:50%\"><tr><td><b>metric</b></td>\n",
              "<td><b>threshold</b></td>\n",
              "<td><b>value</b></td>\n",
              "<td><b>idx</b></td></tr>\n",
              "<tr><td>max f1</td>\n",
              "<td>0.3720450</td>\n",
              "<td>0.8229167</td>\n",
              "<td>133.0</td></tr>\n",
              "<tr><td>max f2</td>\n",
              "<td>0.2710757</td>\n",
              "<td>0.8132344</td>\n",
              "<td>167.0</td></tr>\n",
              "<tr><td>max f0point5</td>\n",
              "<td>0.4114042</td>\n",
              "<td>0.8922956</td>\n",
              "<td>124.0</td></tr>\n",
              "<tr><td>max accuracy</td>\n",
              "<td>0.3779190</td>\n",
              "<td>0.9749755</td>\n",
              "<td>132.0</td></tr>\n",
              "<tr><td>max precision</td>\n",
              "<td>0.9327753</td>\n",
              "<td>1.0</td>\n",
              "<td>0.0</td></tr>\n",
              "<tr><td>max recall</td>\n",
              "<td>0.0077871</td>\n",
              "<td>1.0</td>\n",
              "<td>384.0</td></tr>\n",
              "<tr><td>max specificity</td>\n",
              "<td>0.9327753</td>\n",
              "<td>1.0</td>\n",
              "<td>0.0</td></tr>\n",
              "<tr><td>max absolute_mcc</td>\n",
              "<td>0.3720450</td>\n",
              "<td>0.8154701</td>\n",
              "<td>133.0</td></tr>\n",
              "<tr><td>max min_per_class_accuracy</td>\n",
              "<td>0.1437627</td>\n",
              "<td>0.9203940</td>\n",
              "<td>234.0</td></tr>\n",
              "<tr><td>max mean_per_class_accuracy</td>\n",
              "<td>0.1666402</td>\n",
              "<td>0.9240698</td>\n",
              "<td>219.0</td></tr></table></div>"
            ],
            "text/plain": [
              "metric                       threshold    value     idx\n",
              "---------------------------  -----------  --------  -----\n",
              "max f1                       0.372045     0.822917  133\n",
              "max f2                       0.271076     0.813234  167\n",
              "max f0point5                 0.411404     0.892296  124\n",
              "max accuracy                 0.377919     0.974975  132\n",
              "max precision                0.932775     1         0\n",
              "max recall                   0.00778708   1         384\n",
              "max specificity              0.932775     1         0\n",
              "max absolute_mcc             0.372045     0.81547   133\n",
              "max min_per_class_accuracy   0.143763     0.920394  234\n",
              "max mean_per_class_accuracy  0.16664      0.92407   219"
            ]
          },
          "metadata": {
            "tags": []
          }
        },
        {
          "output_type": "stream",
          "text": [
            "Gains/Lift Table: Avg response rate:  7.85 %, avg score:  7.88 %\n",
            "\n"
          ],
          "name": "stdout"
        },
        {
          "output_type": "display_data",
          "data": {
            "text/html": [
              "<div style=\"overflow:auto\"><table style=\"width:50%\"><tr><td><b></b></td>\n",
              "<td><b>group</b></td>\n",
              "<td><b>cumulative_data_fraction</b></td>\n",
              "<td><b>lower_threshold</b></td>\n",
              "<td><b>lift</b></td>\n",
              "<td><b>cumulative_lift</b></td>\n",
              "<td><b>response_rate</b></td>\n",
              "<td><b>score</b></td>\n",
              "<td><b>cumulative_response_rate</b></td>\n",
              "<td><b>cumulative_score</b></td>\n",
              "<td><b>capture_rate</b></td>\n",
              "<td><b>cumulative_capture_rate</b></td>\n",
              "<td><b>gain</b></td>\n",
              "<td><b>cumulative_gain</b></td></tr>\n",
              "<tr><td></td>\n",
              "<td>1</td>\n",
              "<td>0.0147203</td>\n",
              "<td>0.7357147</td>\n",
              "<td>12.7375000</td>\n",
              "<td>12.7375000</td>\n",
              "<td>1.0</td>\n",
              "<td>0.8114940</td>\n",
              "<td>1.0</td>\n",
              "<td>0.8114940</td>\n",
              "<td>0.1875</td>\n",
              "<td>0.1875</td>\n",
              "<td>1173.75</td>\n",
              "<td>1173.75</td></tr>\n",
              "<tr><td></td>\n",
              "<td>2</td>\n",
              "<td>0.0294406</td>\n",
              "<td>0.6410291</td>\n",
              "<td>12.7375000</td>\n",
              "<td>12.7375000</td>\n",
              "<td>1.0</td>\n",
              "<td>0.6872909</td>\n",
              "<td>1.0</td>\n",
              "<td>0.7493925</td>\n",
              "<td>0.1875</td>\n",
              "<td>0.375</td>\n",
              "<td>1173.75</td>\n",
              "<td>1173.75</td></tr>\n",
              "<tr><td></td>\n",
              "<td>3</td>\n",
              "<td>0.0441609</td>\n",
              "<td>0.5306833</td>\n",
              "<td>12.1006250</td>\n",
              "<td>12.5252083</td>\n",
              "<td>0.95</td>\n",
              "<td>0.5939314</td>\n",
              "<td>0.9833333</td>\n",
              "<td>0.6975721</td>\n",
              "<td>0.178125</td>\n",
              "<td>0.553125</td>\n",
              "<td>1110.0625</td>\n",
              "<td>1152.5208333</td></tr>\n",
              "<tr><td></td>\n",
              "<td>4</td>\n",
              "<td>0.0588813</td>\n",
              "<td>0.4019564</td>\n",
              "<td>10.6145833</td>\n",
              "<td>12.0475521</td>\n",
              "<td>0.8333333</td>\n",
              "<td>0.4783013</td>\n",
              "<td>0.9458333</td>\n",
              "<td>0.6427544</td>\n",
              "<td>0.15625</td>\n",
              "<td>0.709375</td>\n",
              "<td>961.4583333</td>\n",
              "<td>1104.7552083</td></tr>\n",
              "<tr><td></td>\n",
              "<td>5</td>\n",
              "<td>0.0736016</td>\n",
              "<td>0.3121599</td>\n",
              "<td>5.5195833</td>\n",
              "<td>10.7419583</td>\n",
              "<td>0.4333333</td>\n",
              "<td>0.3533304</td>\n",
              "<td>0.8433333</td>\n",
              "<td>0.5848696</td>\n",
              "<td>0.08125</td>\n",
              "<td>0.790625</td>\n",
              "<td>451.9583333</td>\n",
              "<td>974.1958333</td></tr>\n",
              "<tr><td></td>\n",
              "<td>6</td>\n",
              "<td>0.1472031</td>\n",
              "<td>0.1393123</td>\n",
              "<td>1.8257083</td>\n",
              "<td>6.2838333</td>\n",
              "<td>0.1433333</td>\n",
              "<td>0.2047313</td>\n",
              "<td>0.4933333</td>\n",
              "<td>0.3948004</td>\n",
              "<td>0.134375</td>\n",
              "<td>0.925</td>\n",
              "<td>82.5708333</td>\n",
              "<td>528.3833333</td></tr>\n",
              "<tr><td></td>\n",
              "<td>7</td>\n",
              "<td>0.2208047</td>\n",
              "<td>0.0766102</td>\n",
              "<td>0.3821250</td>\n",
              "<td>4.3165972</td>\n",
              "<td>0.03</td>\n",
              "<td>0.1069139</td>\n",
              "<td>0.3388889</td>\n",
              "<td>0.2988382</td>\n",
              "<td>0.028125</td>\n",
              "<td>0.953125</td>\n",
              "<td>-61.7875000</td>\n",
              "<td>331.6597222</td></tr>\n",
              "<tr><td></td>\n",
              "<td>8</td>\n",
              "<td>0.2944063</td>\n",
              "<td>0.0438436</td>\n",
              "<td>0.3396667</td>\n",
              "<td>3.3223646</td>\n",
              "<td>0.0266667</td>\n",
              "<td>0.0576452</td>\n",
              "<td>0.2608333</td>\n",
              "<td>0.2385400</td>\n",
              "<td>0.025</td>\n",
              "<td>0.978125</td>\n",
              "<td>-66.0333333</td>\n",
              "<td>232.2364583</td></tr>\n",
              "<tr><td></td>\n",
              "<td>9</td>\n",
              "<td>0.4416094</td>\n",
              "<td>0.0177253</td>\n",
              "<td>0.127375</td>\n",
              "<td>2.2573681</td>\n",
              "<td>0.01</td>\n",
              "<td>0.0284583</td>\n",
              "<td>0.1772222</td>\n",
              "<td>0.1685127</td>\n",
              "<td>0.01875</td>\n",
              "<td>0.996875</td>\n",
              "<td>-87.2625</td>\n",
              "<td>125.7368056</td></tr>\n",
              "<tr><td></td>\n",
              "<td>10</td>\n",
              "<td>0.5888126</td>\n",
              "<td>0.0091052</td>\n",
              "<td>0.0</td>\n",
              "<td>1.6930260</td>\n",
              "<td>0.0</td>\n",
              "<td>0.0125576</td>\n",
              "<td>0.1329167</td>\n",
              "<td>0.1295240</td>\n",
              "<td>0.0</td>\n",
              "<td>0.996875</td>\n",
              "<td>-100.0</td>\n",
              "<td>69.3026042</td></tr>\n",
              "<tr><td></td>\n",
              "<td>11</td>\n",
              "<td>0.7362610</td>\n",
              "<td>0.0064525</td>\n",
              "<td>0.0211938</td>\n",
              "<td>1.3582139</td>\n",
              "<td>0.0016639</td>\n",
              "<td>0.0075434</td>\n",
              "<td>0.1066311</td>\n",
              "<td>0.1050953</td>\n",
              "<td>0.003125</td>\n",
              "<td>1.0</td>\n",
              "<td>-97.8806156</td>\n",
              "<td>35.8213929</td></tr>\n",
              "<tr><td></td>\n",
              "<td>12</td>\n",
              "<td>0.8829735</td>\n",
              "<td>0.0053919</td>\n",
              "<td>0.0</td>\n",
              "<td>1.1325368</td>\n",
              "<td>0.0</td>\n",
              "<td>0.0058959</td>\n",
              "<td>0.0889136</td>\n",
              "<td>0.0886126</td>\n",
              "<td>0.0</td>\n",
              "<td>1.0</td>\n",
              "<td>-100.0</td>\n",
              "<td>13.2536816</td></tr>\n",
              "<tr><td></td>\n",
              "<td>13</td>\n",
              "<td>1.0</td>\n",
              "<td>0.0</td>\n",
              "<td>0.0</td>\n",
              "<td>1.0</td>\n",
              "<td>0.0</td>\n",
              "<td>0.0048199</td>\n",
              "<td>0.0785083</td>\n",
              "<td>0.0788067</td>\n",
              "<td>0.0</td>\n",
              "<td>1.0</td>\n",
              "<td>-100.0</td>\n",
              "<td>0.0</td></tr></table></div>"
            ],
            "text/plain": [
              "    group    cumulative_data_fraction    lower_threshold    lift       cumulative_lift    response_rate    score       cumulative_response_rate    cumulative_score    capture_rate    cumulative_capture_rate    gain      cumulative_gain\n",
              "--  -------  --------------------------  -----------------  ---------  -----------------  ---------------  ----------  --------------------------  ------------------  --------------  -------------------------  --------  -----------------\n",
              "    1        0.0147203                   0.735715           12.7375    12.7375            1                0.811494    1                           0.811494            0.1875          0.1875                     1173.75   1173.75\n",
              "    2        0.0294406                   0.641029           12.7375    12.7375            1                0.687291    1                           0.749392            0.1875          0.375                      1173.75   1173.75\n",
              "    3        0.0441609                   0.530683           12.1006    12.5252            0.95             0.593931    0.983333                    0.697572            0.178125        0.553125                   1110.06   1152.52\n",
              "    4        0.0588813                   0.401956           10.6146    12.0476            0.833333         0.478301    0.945833                    0.642754            0.15625         0.709375                   961.458   1104.76\n",
              "    5        0.0736016                   0.31216            5.51958    10.742             0.433333         0.35333     0.843333                    0.58487             0.08125         0.790625                   451.958   974.196\n",
              "    6        0.147203                    0.139312           1.82571    6.28383            0.143333         0.204731    0.493333                    0.3948              0.134375        0.925                      82.5708   528.383\n",
              "    7        0.220805                    0.0766102          0.382125   4.3166             0.03             0.106914    0.338889                    0.298838            0.028125        0.953125                   -61.7875  331.66\n",
              "    8        0.294406                    0.0438436          0.339667   3.32236            0.0266667        0.0576452   0.260833                    0.23854             0.025           0.978125                   -66.0333  232.236\n",
              "    9        0.441609                    0.0177253          0.127375   2.25737            0.01             0.0284583   0.177222                    0.168513            0.01875         0.996875                   -87.2625  125.737\n",
              "    10       0.588813                    0.00910519         0          1.69303            0                0.0125576   0.132917                    0.129524            0               0.996875                   -100      69.3026\n",
              "    11       0.736261                    0.00645245         0.0211938  1.35821            0.00166389       0.00754343  0.106631                    0.105095            0.003125        1                          -97.8806  35.8214\n",
              "    12       0.882974                    0.0053919          0          1.13254            0                0.00589587  0.0889136                   0.0886126           0               1                          -100      13.2537\n",
              "    13       1                           0                  0          1                  0                0.00481989  0.0785083                   0.0788067           0               1                          -100      0"
            ]
          },
          "metadata": {
            "tags": []
          }
        },
        {
          "output_type": "stream",
          "text": [
            "\n",
            "Scoring History: \n"
          ],
          "name": "stdout"
        },
        {
          "output_type": "display_data",
          "data": {
            "text/html": [
              "<div style=\"overflow:auto\"><table style=\"width:50%\"><tr><td><b></b></td>\n",
              "<td><b>timestamp</b></td>\n",
              "<td><b>duration</b></td>\n",
              "<td><b>number_of_trees</b></td>\n",
              "<td><b>training_rmse</b></td>\n",
              "<td><b>training_logloss</b></td>\n",
              "<td><b>training_auc</b></td>\n",
              "<td><b>training_pr_auc</b></td>\n",
              "<td><b>training_lift</b></td>\n",
              "<td><b>training_classification_error</b></td></tr>\n",
              "<tr><td></td>\n",
              "<td>2019-07-05 19:41:21</td>\n",
              "<td> 0.048 sec</td>\n",
              "<td>0.0</td>\n",
              "<td>0.2689699</td>\n",
              "<td>0.2751110</td>\n",
              "<td>0.5</td>\n",
              "<td>0.0</td>\n",
              "<td>1.0</td>\n",
              "<td>0.9214917</td></tr>\n",
              "<tr><td></td>\n",
              "<td>2019-07-05 19:41:21</td>\n",
              "<td> 0.378 sec</td>\n",
              "<td>1.0</td>\n",
              "<td>0.2602753</td>\n",
              "<td>0.2494960</td>\n",
              "<td>0.8910531</td>\n",
              "<td>0.4574103</td>\n",
              "<td>9.1285417</td>\n",
              "<td>0.0996075</td></tr>\n",
              "<tr><td></td>\n",
              "<td>2019-07-05 19:41:21</td>\n",
              "<td> 0.513 sec</td>\n",
              "<td>2.0</td>\n",
              "<td>0.2540177</td>\n",
              "<td>0.2344933</td>\n",
              "<td>0.9058382</td>\n",
              "<td>0.4785623</td>\n",
              "<td>8.7342857</td>\n",
              "<td>0.0873405</td></tr>\n",
              "<tr><td></td>\n",
              "<td>2019-07-05 19:41:21</td>\n",
              "<td> 0.589 sec</td>\n",
              "<td>3.0</td>\n",
              "<td>0.2484476</td>\n",
              "<td>0.2228639</td>\n",
              "<td>0.9102786</td>\n",
              "<td>0.4992984</td>\n",
              "<td>9.6053279</td>\n",
              "<td>0.0863592</td></tr>\n",
              "<tr><td></td>\n",
              "<td>2019-07-05 19:41:21</td>\n",
              "<td> 0.658 sec</td>\n",
              "<td>4.0</td>\n",
              "<td>0.2433270</td>\n",
              "<td>0.2128812</td>\n",
              "<td>0.9180661</td>\n",
              "<td>0.5556439</td>\n",
              "<td>10.826875</td>\n",
              "<td>0.0907753</td></tr>\n",
              "<tr><td>---</td>\n",
              "<td>---</td>\n",
              "<td>---</td>\n",
              "<td>---</td>\n",
              "<td>---</td>\n",
              "<td>---</td>\n",
              "<td>---</td>\n",
              "<td>---</td>\n",
              "<td>---</td>\n",
              "<td>---</td></tr>\n",
              "<tr><td></td>\n",
              "<td>2019-07-05 19:41:25</td>\n",
              "<td> 3.768 sec</td>\n",
              "<td>46.0</td>\n",
              "<td>0.1698689</td>\n",
              "<td>0.1096048</td>\n",
              "<td>0.9757546</td>\n",
              "<td>0.8760930</td>\n",
              "<td>12.7375000</td>\n",
              "<td>0.0279686</td></tr>\n",
              "<tr><td></td>\n",
              "<td>2019-07-05 19:41:25</td>\n",
              "<td> 3.831 sec</td>\n",
              "<td>47.0</td>\n",
              "<td>0.1690108</td>\n",
              "<td>0.1086403</td>\n",
              "<td>0.9764531</td>\n",
              "<td>0.8790096</td>\n",
              "<td>12.7375000</td>\n",
              "<td>0.0267419</td></tr>\n",
              "<tr><td></td>\n",
              "<td>2019-07-05 19:41:25</td>\n",
              "<td> 3.892 sec</td>\n",
              "<td>48.0</td>\n",
              "<td>0.1680927</td>\n",
              "<td>0.1077674</td>\n",
              "<td>0.9766540</td>\n",
              "<td>0.8805277</td>\n",
              "<td>12.7375000</td>\n",
              "<td>0.0260059</td></tr>\n",
              "<tr><td></td>\n",
              "<td>2019-07-05 19:41:25</td>\n",
              "<td> 3.975 sec</td>\n",
              "<td>49.0</td>\n",
              "<td>0.1670807</td>\n",
              "<td>0.1068284</td>\n",
              "<td>0.9770883</td>\n",
              "<td>0.8836796</td>\n",
              "<td>12.7375000</td>\n",
              "<td>0.0260059</td></tr>\n",
              "<tr><td></td>\n",
              "<td>2019-07-05 19:41:25</td>\n",
              "<td> 4.048 sec</td>\n",
              "<td>50.0</td>\n",
              "<td>0.1660603</td>\n",
              "<td>0.1055428</td>\n",
              "<td>0.9783060</td>\n",
              "<td>0.8872948</td>\n",
              "<td>12.7375000</td>\n",
              "<td>0.0250245</td></tr></table></div>"
            ],
            "text/plain": [
              "     timestamp            duration    number_of_trees    training_rmse        training_logloss     training_auc        training_pr_auc      training_lift       training_classification_error\n",
              "---  -------------------  ----------  -----------------  -------------------  -------------------  ------------------  -------------------  ------------------  -------------------------------\n",
              "     2019-07-05 19:41:21  0.048 sec   0.0                0.26896985300295945  0.275111021691352    0.5                 0.0                  1.0                 0.9214916584887144\n",
              "     2019-07-05 19:41:21  0.378 sec   1.0                0.2602753463237195   0.24949598731306313  0.8910530650958466  0.4574103321567777   9.128541666666667   0.09960745829244357\n",
              "     2019-07-05 19:41:21  0.513 sec   2.0                0.25401771536461976  0.2344933242963683   0.9058381589456869  0.47856228462323147  8.734285714285713   0.0873405299313052\n",
              "     2019-07-05 19:41:21  0.589 sec   3.0                0.24844759004009745  0.22286387354694168  0.910278554313099   0.499298420165771    9.605327868852457   0.08635917566241413\n",
              "     2019-07-05 19:41:21  0.658 sec   4.0                0.24332702486366398  0.21288117355954428  0.9180660942492013  0.5556438562138168   10.826875           0.09077526987242394\n",
              "---  ---                  ---         ---                ---                  ---                  ---                 ---                  ---                 ---\n",
              "     2019-07-05 19:41:25  3.768 sec   46.0               0.16986892633553233  0.1096047588616722   0.9757546259318424  0.8760929753745214   12.737499999999999  0.027968596663395486\n",
              "     2019-07-05 19:41:25  3.831 sec   47.0               0.1690107608696408   0.10864027726325758  0.9764530917199149  0.8790096024143856   12.737499999999999  0.02674190382728165\n",
              "     2019-07-05 19:41:25  3.892 sec   48.0               0.16809269636830007  0.10776743136776629  0.9766540202342918  0.8805276773762188   12.737499999999999  0.026005888125613347\n",
              "     2019-07-05 19:41:25  3.975 sec   49.0               0.16708067097317814  0.10682839583472818  0.9770883253461129  0.8836796338425792   12.737499999999999  0.026005888125613347\n",
              "     2019-07-05 19:41:25  4.048 sec   50.0               0.16606026407617872  0.10554276990271674  0.9783059604632588  0.8872947907524608   12.737499999999999  0.025024533856722278"
            ]
          },
          "metadata": {
            "tags": []
          }
        },
        {
          "output_type": "stream",
          "text": [
            "\n",
            "See the whole table with table.as_data_frame()\n",
            "Variable Importances: \n"
          ],
          "name": "stdout"
        },
        {
          "output_type": "display_data",
          "data": {
            "text/html": [
              "<div style=\"overflow:auto\"><table style=\"width:50%\"><tr><td><b>variable</b></td>\n",
              "<td><b>relative_importance</b></td>\n",
              "<td><b>scaled_importance</b></td>\n",
              "<td><b>percentage</b></td></tr>\n",
              "<tr><td>Age</td>\n",
              "<td>195.8016510</td>\n",
              "<td>1.0</td>\n",
              "<td>0.3791444</td></tr>\n",
              "<tr><td>Height</td>\n",
              "<td>37.1978569</td>\n",
              "<td>0.1899772</td>\n",
              "<td>0.0720288</td></tr>\n",
              "<tr><td>SBP</td>\n",
              "<td>34.3306313</td>\n",
              "<td>0.1753337</td>\n",
              "<td>0.0664768</td></tr>\n",
              "<tr><td>HDL</td>\n",
              "<td>27.5026779</td>\n",
              "<td>0.1404619</td>\n",
              "<td>0.0532553</td></tr>\n",
              "<tr><td>DBP</td>\n",
              "<td>26.5593071</td>\n",
              "<td>0.1356439</td>\n",
              "<td>0.0514286</td></tr>\n",
              "<tr><td>---</td>\n",
              "<td>---</td>\n",
              "<td>---</td>\n",
              "<td>---</td></tr>\n",
              "<tr><td>Income</td>\n",
              "<td>1.4221861</td>\n",
              "<td>0.0072634</td>\n",
              "<td>0.0027539</td></tr>\n",
              "<tr><td>Insured</td>\n",
              "<td>0.4855364</td>\n",
              "<td>0.0024797</td>\n",
              "<td>0.0009402</td></tr>\n",
              "<tr><td>Dyslipidemia</td>\n",
              "<td>0.3235362</td>\n",
              "<td>0.0016524</td>\n",
              "<td>0.0006265</td></tr>\n",
              "<tr><td>Obese</td>\n",
              "<td>0.0704785</td>\n",
              "<td>0.0003599</td>\n",
              "<td>0.0001365</td></tr>\n",
              "<tr><td>Fam Hypertension</td>\n",
              "<td>0.0</td>\n",
              "<td>0.0</td>\n",
              "<td>0.0</td></tr></table></div>"
            ],
            "text/plain": [
              "variable          relative_importance    scaled_importance      percentage\n",
              "----------------  ---------------------  ---------------------  ----------------------\n",
              "Age               195.80165100097656     1.0                    0.37914435108442335\n",
              "Height            37.19785690307617      0.18997723825572158    0.07202879671927645\n",
              "SBP               34.330631256103516     0.1753337169559019     0.06647678833846539\n",
              "HDL               27.50267791748047      0.14046193061642417    0.05325534753562943\n",
              "DBP               26.559307098388672     0.1356439384581911     0.05142863302526631\n",
              "---               ---                    ---                    ---\n",
              "Income            1.4221861362457275     0.007263402167322044   0.0027538779013945103\n",
              "Insured           0.4855363965034485     0.0024797359676044144  0.0009401778842980803\n",
              "Dyslipidemia      0.3235361874103546     0.0016523670038346152  0.000626485615422188\n",
              "Obese             0.07047848403453827    0.0003599483644506489  0.00013647238906354077\n",
              "Fam Hypertension  0.0                    0.0                    0.0"
            ]
          },
          "metadata": {
            "tags": []
          }
        },
        {
          "output_type": "stream",
          "text": [
            "\n",
            "See the whole table with table.as_data_frame()\n",
            "\n"
          ],
          "name": "stdout"
        }
      ]
    },
    {
      "cell_type": "markdown",
      "metadata": {
        "id": "lzlF1ntUqH-h",
        "colab_type": "text"
      },
      "source": [
        "From the above model we see that AUC is 97% which is pretty high suggesting that there may be some overfitting in the model. Age is the most important variable among others to make the prediction. the confusion matrix shows that 102/4076 were classified wrong."
      ]
    },
    {
      "cell_type": "code",
      "metadata": {
        "id": "VZWR_VlkwgL9",
        "colab_type": "code",
        "outputId": "6396db1b-55a5-4b10-8659-bd840e38bfdc",
        "colab": {
          "base_uri": "https://localhost:8080/",
          "height": 34
        }
      },
      "source": [
        "# Using the Gradient Boosting model to make predictions\n",
        "p = m1.predict(test)"
      ],
      "execution_count": 23,
      "outputs": [
        {
          "output_type": "stream",
          "text": [
            "gbm prediction progress: |████████████████████████████████████████████████| 100%\n"
          ],
          "name": "stdout"
        }
      ]
    },
    {
      "cell_type": "code",
      "metadata": {
        "id": "_x7vo-kZwgME",
        "colab_type": "code",
        "outputId": "53c434d5-c7b7-4c95-96de-69c6d669adfe",
        "colab": {
          "base_uri": "https://localhost:8080/",
          "height": 250
        }
      },
      "source": [
        "# We get binary prediction. p here gives the probablity of whether modelclassifies a person has CKD or not\n",
        "p"
      ],
      "execution_count": 24,
      "outputs": [
        {
          "output_type": "display_data",
          "data": {
            "text/html": [
              "<table>\n",
              "<thead>\n",
              "<tr><th style=\"text-align: right;\">  predict</th><th style=\"text-align: right;\">      p0</th><th style=\"text-align: right;\">        p1</th></tr>\n",
              "</thead>\n",
              "<tbody>\n",
              "<tr><td style=\"text-align: right;\">        0</td><td style=\"text-align: right;\">0.974083</td><td style=\"text-align: right;\">0.0259165 </td></tr>\n",
              "<tr><td style=\"text-align: right;\">        0</td><td style=\"text-align: right;\">0.95072 </td><td style=\"text-align: right;\">0.0492802 </td></tr>\n",
              "<tr><td style=\"text-align: right;\">        0</td><td style=\"text-align: right;\">0.640439</td><td style=\"text-align: right;\">0.359561  </td></tr>\n",
              "<tr><td style=\"text-align: right;\">        0</td><td style=\"text-align: right;\">0.98119 </td><td style=\"text-align: right;\">0.0188098 </td></tr>\n",
              "<tr><td style=\"text-align: right;\">        0</td><td style=\"text-align: right;\">0.980248</td><td style=\"text-align: right;\">0.0197521 </td></tr>\n",
              "<tr><td style=\"text-align: right;\">        0</td><td style=\"text-align: right;\">0.994643</td><td style=\"text-align: right;\">0.00535702</td></tr>\n",
              "<tr><td style=\"text-align: right;\">        0</td><td style=\"text-align: right;\">0.993395</td><td style=\"text-align: right;\">0.00660525</td></tr>\n",
              "<tr><td style=\"text-align: right;\">        0</td><td style=\"text-align: right;\">0.994011</td><td style=\"text-align: right;\">0.00598851</td></tr>\n",
              "<tr><td style=\"text-align: right;\">        0</td><td style=\"text-align: right;\">0.952136</td><td style=\"text-align: right;\">0.0478642 </td></tr>\n",
              "<tr><td style=\"text-align: right;\">        0</td><td style=\"text-align: right;\">0.993922</td><td style=\"text-align: right;\">0.0060782 </td></tr>\n",
              "</tbody>\n",
              "</table>"
            ]
          },
          "metadata": {
            "tags": []
          }
        },
        {
          "output_type": "execute_result",
          "data": {
            "text/plain": [
              ""
            ]
          },
          "metadata": {
            "tags": []
          },
          "execution_count": 24
        }
      ]
    },
    {
      "cell_type": "code",
      "metadata": {
        "scrolled": true,
        "id": "PtTsmJ9WwgMI",
        "colab_type": "code",
        "outputId": "2cedb4a5-c604-403b-d9dc-471298ee36f7",
        "colab": {
          "base_uri": "https://localhost:8080/",
          "height": 1000
        }
      },
      "source": [
        "# Checking the model performance on the test data\n",
        "perf1 = m1.model_performance(test)\n",
        "perf1"
      ],
      "execution_count": 25,
      "outputs": [
        {
          "output_type": "stream",
          "text": [
            "\n",
            "ModelMetricsBinomial: gbm\n",
            "** Reported on test data. **\n",
            "\n",
            "MSE: 0.05692478676740877\n",
            "RMSE: 0.23858915894777946\n",
            "LogLoss: 0.1918723161944375\n",
            "Mean Per-Class Error: 0.17478152309612982\n",
            "AUC: 0.884917290886392\n",
            "pr_auc: 0.35014674073383006\n",
            "Gini: 0.7698345817727841\n",
            "Confusion Matrix (Act/Pred) for max f1 @ threshold = 0.15940139835805198: \n"
          ],
          "name": "stdout"
        },
        {
          "output_type": "display_data",
          "data": {
            "text/html": [
              "<div style=\"overflow:auto\"><table style=\"width:50%\"><tr><td><b></b></td>\n",
              "<td><b>0</b></td>\n",
              "<td><b>1</b></td>\n",
              "<td><b>Error</b></td>\n",
              "<td><b>Rate</b></td></tr>\n",
              "<tr><td>0</td>\n",
              "<td>1611.0</td>\n",
              "<td>169.0</td>\n",
              "<td>0.0949</td>\n",
              "<td> (169.0/1780.0)</td></tr>\n",
              "<tr><td>1</td>\n",
              "<td>55.0</td>\n",
              "<td>89.0</td>\n",
              "<td>0.3819</td>\n",
              "<td> (55.0/144.0)</td></tr>\n",
              "<tr><td>Total</td>\n",
              "<td>1666.0</td>\n",
              "<td>258.0</td>\n",
              "<td>0.1164</td>\n",
              "<td> (224.0/1924.0)</td></tr></table></div>"
            ],
            "text/plain": [
              "       0     1    Error    Rate\n",
              "-----  ----  ---  -------  --------------\n",
              "0      1611  169  0.0949   (169.0/1780.0)\n",
              "1      55    89   0.3819   (55.0/144.0)\n",
              "Total  1666  258  0.1164   (224.0/1924.0)"
            ]
          },
          "metadata": {
            "tags": []
          }
        },
        {
          "output_type": "stream",
          "text": [
            "Maximum Metrics: Maximum metrics at their respective thresholds\n",
            "\n"
          ],
          "name": "stdout"
        },
        {
          "output_type": "display_data",
          "data": {
            "text/html": [
              "<div style=\"overflow:auto\"><table style=\"width:50%\"><tr><td><b>metric</b></td>\n",
              "<td><b>threshold</b></td>\n",
              "<td><b>value</b></td>\n",
              "<td><b>idx</b></td></tr>\n",
              "<tr><td>max f1</td>\n",
              "<td>0.1594014</td>\n",
              "<td>0.4427861</td>\n",
              "<td>176.0</td></tr>\n",
              "<tr><td>max f2</td>\n",
              "<td>0.0659746</td>\n",
              "<td>0.5825243</td>\n",
              "<td>265.0</td></tr>\n",
              "<tr><td>max f0point5</td>\n",
              "<td>0.3022979</td>\n",
              "<td>0.4113924</td>\n",
              "<td>98.0</td></tr>\n",
              "<tr><td>max accuracy</td>\n",
              "<td>0.8192316</td>\n",
              "<td>0.9261954</td>\n",
              "<td>1.0</td></tr>\n",
              "<tr><td>max precision</td>\n",
              "<td>0.8290710</td>\n",
              "<td>1.0</td>\n",
              "<td>0.0</td></tr>\n",
              "<tr><td>max recall</td>\n",
              "<td>0.0061033</td>\n",
              "<td>1.0</td>\n",
              "<td>385.0</td></tr>\n",
              "<tr><td>max specificity</td>\n",
              "<td>0.8290710</td>\n",
              "<td>1.0</td>\n",
              "<td>0.0</td></tr>\n",
              "<tr><td>max absolute_mcc</td>\n",
              "<td>0.0940312</td>\n",
              "<td>0.4043354</td>\n",
              "<td>234.0</td></tr>\n",
              "<tr><td>max min_per_class_accuracy</td>\n",
              "<td>0.0688825</td>\n",
              "<td>0.8168539</td>\n",
              "<td>262.0</td></tr>\n",
              "<tr><td>max mean_per_class_accuracy</td>\n",
              "<td>0.0558243</td>\n",
              "<td>0.8252185</td>\n",
              "<td>277.0</td></tr></table></div>"
            ],
            "text/plain": [
              "metric                       threshold    value     idx\n",
              "---------------------------  -----------  --------  -----\n",
              "max f1                       0.159401     0.442786  176\n",
              "max f2                       0.0659746    0.582524  265\n",
              "max f0point5                 0.302298     0.411392  98\n",
              "max accuracy                 0.819232     0.926195  1\n",
              "max precision                0.829071     1         0\n",
              "max recall                   0.00610329   1         385\n",
              "max specificity              0.829071     1         0\n",
              "max absolute_mcc             0.0940312    0.404335  234\n",
              "max min_per_class_accuracy   0.0688825    0.816854  262\n",
              "max mean_per_class_accuracy  0.0558243    0.825218  277"
            ]
          },
          "metadata": {
            "tags": []
          }
        },
        {
          "output_type": "stream",
          "text": [
            "Gains/Lift Table: Avg response rate:  7.48 %, avg score:  6.89 %\n",
            "\n"
          ],
          "name": "stdout"
        },
        {
          "output_type": "display_data",
          "data": {
            "text/html": [
              "<div style=\"overflow:auto\"><table style=\"width:50%\"><tr><td><b></b></td>\n",
              "<td><b>group</b></td>\n",
              "<td><b>cumulative_data_fraction</b></td>\n",
              "<td><b>lower_threshold</b></td>\n",
              "<td><b>lift</b></td>\n",
              "<td><b>cumulative_lift</b></td>\n",
              "<td><b>response_rate</b></td>\n",
              "<td><b>score</b></td>\n",
              "<td><b>cumulative_response_rate</b></td>\n",
              "<td><b>cumulative_score</b></td>\n",
              "<td><b>capture_rate</b></td>\n",
              "<td><b>cumulative_capture_rate</b></td>\n",
              "<td><b>gain</b></td>\n",
              "<td><b>cumulative_gain</b></td></tr>\n",
              "<tr><td></td>\n",
              "<td>1</td>\n",
              "<td>0.0083160</td>\n",
              "<td>0.6702011</td>\n",
              "<td>5.8454861</td>\n",
              "<td>5.8454861</td>\n",
              "<td>0.4375</td>\n",
              "<td>0.7457955</td>\n",
              "<td>0.4375</td>\n",
              "<td>0.7457955</td>\n",
              "<td>0.0486111</td>\n",
              "<td>0.0486111</td>\n",
              "<td>484.5486111</td>\n",
              "<td>484.5486111</td></tr>\n",
              "<tr><td></td>\n",
              "<td>2</td>\n",
              "<td>0.0166320</td>\n",
              "<td>0.5639000</td>\n",
              "<td>5.8454861</td>\n",
              "<td>5.8454861</td>\n",
              "<td>0.4375</td>\n",
              "<td>0.5983342</td>\n",
              "<td>0.4375</td>\n",
              "<td>0.6720649</td>\n",
              "<td>0.0486111</td>\n",
              "<td>0.0972222</td>\n",
              "<td>484.5486111</td>\n",
              "<td>484.5486111</td></tr>\n",
              "<tr><td></td>\n",
              "<td>3</td>\n",
              "<td>0.0285863</td>\n",
              "<td>0.4993679</td>\n",
              "<td>6.3900966</td>\n",
              "<td>6.0732323</td>\n",
              "<td>0.4782609</td>\n",
              "<td>0.5358347</td>\n",
              "<td>0.4545455</td>\n",
              "<td>0.6150959</td>\n",
              "<td>0.0763889</td>\n",
              "<td>0.1736111</td>\n",
              "<td>539.0096618</td>\n",
              "<td>507.3232323</td></tr>\n",
              "<tr><td></td>\n",
              "<td>4</td>\n",
              "<td>0.0363825</td>\n",
              "<td>0.4262993</td>\n",
              "<td>6.2351852</td>\n",
              "<td>6.1079365</td>\n",
              "<td>0.4666667</td>\n",
              "<td>0.4591699</td>\n",
              "<td>0.4571429</td>\n",
              "<td>0.5816832</td>\n",
              "<td>0.0486111</td>\n",
              "<td>0.2222222</td>\n",
              "<td>523.5185185</td>\n",
              "<td>510.7936508</td></tr>\n",
              "<tr><td></td>\n",
              "<td>5</td>\n",
              "<td>0.0415800</td>\n",
              "<td>0.3684910</td>\n",
              "<td>5.3444444</td>\n",
              "<td>6.0125</td>\n",
              "<td>0.4</td>\n",
              "<td>0.4026526</td>\n",
              "<td>0.45</td>\n",
              "<td>0.5593044</td>\n",
              "<td>0.0277778</td>\n",
              "<td>0.25</td>\n",
              "<td>434.4444444</td>\n",
              "<td>501.25</td></tr>\n",
              "<tr><td></td>\n",
              "<td>6</td>\n",
              "<td>0.0940748</td>\n",
              "<td>0.2275673</td>\n",
              "<td>4.2332233</td>\n",
              "<td>5.0196440</td>\n",
              "<td>0.3168317</td>\n",
              "<td>0.2925044</td>\n",
              "<td>0.3756906</td>\n",
              "<td>0.4104270</td>\n",
              "<td>0.2222222</td>\n",
              "<td>0.4722222</td>\n",
              "<td>323.3223322</td>\n",
              "<td>401.9643953</td></tr>\n",
              "<tr><td></td>\n",
              "<td>7</td>\n",
              "<td>0.1439709</td>\n",
              "<td>0.1449389</td>\n",
              "<td>3.2010995</td>\n",
              "<td>4.3893903</td>\n",
              "<td>0.2395833</td>\n",
              "<td>0.1850562</td>\n",
              "<td>0.3285199</td>\n",
              "<td>0.3323202</td>\n",
              "<td>0.1597222</td>\n",
              "<td>0.6319444</td>\n",
              "<td>220.1099537</td>\n",
              "<td>338.9390293</td></tr>\n",
              "<tr><td></td>\n",
              "<td>8</td>\n",
              "<td>0.1902287</td>\n",
              "<td>0.0987149</td>\n",
              "<td>2.2518727</td>\n",
              "<td>3.8696114</td>\n",
              "<td>0.1685393</td>\n",
              "<td>0.1206629</td>\n",
              "<td>0.2896175</td>\n",
              "<td>0.2808516</td>\n",
              "<td>0.1041667</td>\n",
              "<td>0.7361111</td>\n",
              "<td>125.1872659</td>\n",
              "<td>286.9611415</td></tr>\n",
              "<tr><td></td>\n",
              "<td>9</td>\n",
              "<td>0.2874220</td>\n",
              "<td>0.0462811</td>\n",
              "<td>1.5004456</td>\n",
              "<td>3.0684649</td>\n",
              "<td>0.1122995</td>\n",
              "<td>0.0661253</td>\n",
              "<td>0.2296564</td>\n",
              "<td>0.2082407</td>\n",
              "<td>0.1458333</td>\n",
              "<td>0.8819444</td>\n",
              "<td>50.0445633</td>\n",
              "<td>206.8464939</td></tr>\n",
              "<tr><td></td>\n",
              "<td>10</td>\n",
              "<td>0.3898129</td>\n",
              "<td>0.0251092</td>\n",
              "<td>0.5425832</td>\n",
              "<td>2.405</td>\n",
              "<td>0.0406091</td>\n",
              "<td>0.0348651</td>\n",
              "<td>0.18</td>\n",
              "<td>0.1627007</td>\n",
              "<td>0.0555556</td>\n",
              "<td>0.9375</td>\n",
              "<td>-45.7416808</td>\n",
              "<td>140.5000000</td></tr>\n",
              "<tr><td></td>\n",
              "<td>11</td>\n",
              "<td>0.4859667</td>\n",
              "<td>0.0141704</td>\n",
              "<td>0.2166667</td>\n",
              "<td>1.9720143</td>\n",
              "<td>0.0162162</td>\n",
              "<td>0.0189238</td>\n",
              "<td>0.1475936</td>\n",
              "<td>0.1342529</td>\n",
              "<td>0.0208333</td>\n",
              "<td>0.9583333</td>\n",
              "<td>-78.3333333</td>\n",
              "<td>97.2014260</td></tr>\n",
              "<tr><td></td>\n",
              "<td>12</td>\n",
              "<td>0.5847193</td>\n",
              "<td>0.0091146</td>\n",
              "<td>0.1406433</td>\n",
              "<td>1.6627160</td>\n",
              "<td>0.0105263</td>\n",
              "<td>0.0112198</td>\n",
              "<td>0.1244444</td>\n",
              "<td>0.1134740</td>\n",
              "<td>0.0138889</td>\n",
              "<td>0.9722222</td>\n",
              "<td>-85.9356725</td>\n",
              "<td>66.2716049</td></tr>\n",
              "<tr><td></td>\n",
              "<td>13</td>\n",
              "<td>0.6902287</td>\n",
              "<td>0.0069180</td>\n",
              "<td>0.0658183</td>\n",
              "<td>1.4186119</td>\n",
              "<td>0.0049261</td>\n",
              "<td>0.0078656</td>\n",
              "<td>0.1061747</td>\n",
              "<td>0.0973305</td>\n",
              "<td>0.0069444</td>\n",
              "<td>0.9791667</td>\n",
              "<td>-93.4181719</td>\n",
              "<td>41.8611948</td></tr>\n",
              "<tr><td></td>\n",
              "<td>14</td>\n",
              "<td>0.7884615</td>\n",
              "<td>0.0059401</td>\n",
              "<td>0.2120811</td>\n",
              "<td>1.2682927</td>\n",
              "<td>0.0158730</td>\n",
              "<td>0.0063532</td>\n",
              "<td>0.0949242</td>\n",
              "<td>0.0859958</td>\n",
              "<td>0.0208333</td>\n",
              "<td>1.0</td>\n",
              "<td>-78.7918871</td>\n",
              "<td>26.8292683</td></tr>\n",
              "<tr><td></td>\n",
              "<td>15</td>\n",
              "<td>0.8939709</td>\n",
              "<td>0.0052273</td>\n",
              "<td>0.0</td>\n",
              "<td>1.1186047</td>\n",
              "<td>0.0</td>\n",
              "<td>0.0055748</td>\n",
              "<td>0.0837209</td>\n",
              "<td>0.0765043</td>\n",
              "<td>0.0</td>\n",
              "<td>1.0</td>\n",
              "<td>-100.0</td>\n",
              "<td>11.8604651</td></tr>\n",
              "<tr><td></td>\n",
              "<td>16</td>\n",
              "<td>1.0</td>\n",
              "<td>0.0031918</td>\n",
              "<td>0.0</td>\n",
              "<td>1.0</td>\n",
              "<td>0.0</td>\n",
              "<td>0.0047334</td>\n",
              "<td>0.0748441</td>\n",
              "<td>0.0688945</td>\n",
              "<td>0.0</td>\n",
              "<td>1.0</td>\n",
              "<td>-100.0</td>\n",
              "<td>0.0</td></tr></table></div>"
            ],
            "text/plain": [
              "    group    cumulative_data_fraction    lower_threshold    lift       cumulative_lift    response_rate    score       cumulative_response_rate    cumulative_score    capture_rate    cumulative_capture_rate    gain      cumulative_gain\n",
              "--  -------  --------------------------  -----------------  ---------  -----------------  ---------------  ----------  --------------------------  ------------------  --------------  -------------------------  --------  -----------------\n",
              "    1        0.00831601                  0.670201           5.84549    5.84549            0.4375           0.745796    0.4375                      0.745796            0.0486111       0.0486111                  484.549   484.549\n",
              "    2        0.016632                    0.5639             5.84549    5.84549            0.4375           0.598334    0.4375                      0.672065            0.0486111       0.0972222                  484.549   484.549\n",
              "    3        0.0285863                   0.499368           6.3901     6.07323            0.478261         0.535835    0.454545                    0.615096            0.0763889       0.173611                   539.01    507.323\n",
              "    4        0.0363825                   0.426299           6.23519    6.10794            0.466667         0.45917     0.457143                    0.581683            0.0486111       0.222222                   523.519   510.794\n",
              "    5        0.04158                     0.368491           5.34444    6.0125             0.4              0.402653    0.45                        0.559304            0.0277778       0.25                       434.444   501.25\n",
              "    6        0.0940748                   0.227567           4.23322    5.01964            0.316832         0.292504    0.375691                    0.410427            0.222222        0.472222                   323.322   401.964\n",
              "    7        0.143971                    0.144939           3.2011     4.38939            0.239583         0.185056    0.32852                     0.33232             0.159722        0.631944                   220.11    338.939\n",
              "    8        0.190229                    0.0987149          2.25187    3.86961            0.168539         0.120663    0.289617                    0.280852            0.104167        0.736111                   125.187   286.961\n",
              "    9        0.287422                    0.0462811          1.50045    3.06846            0.112299         0.0661253   0.229656                    0.208241            0.145833        0.881944                   50.0446   206.846\n",
              "    10       0.389813                    0.0251092          0.542583   2.405              0.0406091        0.0348651   0.18                        0.162701            0.0555556       0.9375                     -45.7417  140.5\n",
              "    11       0.485967                    0.0141704          0.216667   1.97201            0.0162162        0.0189238   0.147594                    0.134253            0.0208333       0.958333                   -78.3333  97.2014\n",
              "    12       0.584719                    0.00911459         0.140643   1.66272            0.0105263        0.0112198   0.124444                    0.113474            0.0138889       0.972222                   -85.9357  66.2716\n",
              "    13       0.690229                    0.00691799         0.0658183  1.41861            0.00492611       0.00786557  0.106175                    0.0973305           0.00694444      0.979167                   -93.4182  41.8612\n",
              "    14       0.788462                    0.00594006         0.212081   1.26829            0.015873         0.00635318  0.0949242                   0.0859958           0.0208333       1                          -78.7919  26.8293\n",
              "    15       0.893971                    0.00522726         0          1.1186             0                0.00557485  0.0837209                   0.0765043           0               1                          -100      11.8605\n",
              "    16       1                           0.00319181         0          1                  0                0.00473341  0.0748441                   0.0688945           0               1                          -100      0"
            ]
          },
          "metadata": {
            "tags": []
          }
        },
        {
          "output_type": "stream",
          "text": [
            "\n"
          ],
          "name": "stdout"
        },
        {
          "output_type": "execute_result",
          "data": {
            "text/plain": [
              ""
            ]
          },
          "metadata": {
            "tags": []
          },
          "execution_count": 25
        }
      ]
    },
    {
      "cell_type": "markdown",
      "metadata": {
        "id": "GBP4ePOUwgMW",
        "colab_type": "text"
      },
      "source": [
        "The first model is a normal GBM with traning and testing data. This is done to show what the model looks like and what we are trying to predict at the end. We are trying to predict if a person has a kidney disease or not, given his health details. "
      ]
    },
    {
      "cell_type": "markdown",
      "metadata": {
        "id": "ZOziZmj8wgMX",
        "colab_type": "text"
      },
      "source": [
        "### Cross Validation"
      ]
    },
    {
      "cell_type": "code",
      "metadata": {
        "id": "9drYkiMowgMY",
        "colab_type": "code",
        "colab": {}
      },
      "source": [
        "# Importing GBM Estimator\n",
        "from h2o.estimators.gbm import H2OGradientBoostingEstimator"
      ],
      "execution_count": 0,
      "outputs": []
    },
    {
      "cell_type": "code",
      "metadata": {
        "id": "UnC6Pt3LwgMc",
        "colab_type": "code",
        "outputId": "89c82d5f-8c40-440f-fc67-2173dda4c88a",
        "colab": {
          "base_uri": "https://localhost:8080/",
          "height": 34
        }
      },
      "source": [
        "# 9 fold cross validation\n",
        "m2 = H2OGradientBoostingEstimator(model_id = \"def9folds\" , nfolds = 9)\n",
        "m2.train(x, y, train)"
      ],
      "execution_count": 27,
      "outputs": [
        {
          "output_type": "stream",
          "text": [
            "gbm Model Build progress: |███████████████████████████████████████████████| 100%\n"
          ],
          "name": "stdout"
        }
      ]
    },
    {
      "cell_type": "code",
      "metadata": {
        "id": "5_mx1Nl8wgMi",
        "colab_type": "code",
        "outputId": "d5d399fa-71c2-444e-e6bb-f2218790faa4",
        "colab": {
          "base_uri": "https://localhost:8080/",
          "height": 1000
        }
      },
      "source": [
        "m2"
      ],
      "execution_count": 28,
      "outputs": [
        {
          "output_type": "stream",
          "text": [
            "Model Details\n",
            "=============\n",
            "H2OGradientBoostingEstimator :  Gradient Boosting Machine\n",
            "Model Key:  def9folds\n",
            "\n",
            "\n",
            "ModelMetricsBinomial: gbm\n",
            "** Reported on train data. **\n",
            "\n",
            "MSE: 0.027576011305050212\n",
            "RMSE: 0.16606026407617872\n",
            "LogLoss: 0.10554276990271674\n",
            "Mean Per-Class Error: 0.07593017838125671\n",
            "AUC: 0.9783059604632588\n",
            "pr_auc: 0.8872947907524608\n",
            "Gini: 0.9566119209265176\n",
            "Confusion Matrix (Act/Pred) for max f1 @ threshold = 0.37204500891332465: \n"
          ],
          "name": "stdout"
        },
        {
          "output_type": "display_data",
          "data": {
            "text/html": [
              "<div style=\"overflow:auto\"><table style=\"width:50%\"><tr><td><b></b></td>\n",
              "<td><b>0</b></td>\n",
              "<td><b>1</b></td>\n",
              "<td><b>Error</b></td>\n",
              "<td><b>Rate</b></td></tr>\n",
              "<tr><td>0</td>\n",
              "<td>3737.0</td>\n",
              "<td>19.0</td>\n",
              "<td>0.0051</td>\n",
              "<td> (19.0/3756.0)</td></tr>\n",
              "<tr><td>1</td>\n",
              "<td>83.0</td>\n",
              "<td>237.0</td>\n",
              "<td>0.2594</td>\n",
              "<td> (83.0/320.0)</td></tr>\n",
              "<tr><td>Total</td>\n",
              "<td>3820.0</td>\n",
              "<td>256.0</td>\n",
              "<td>0.025</td>\n",
              "<td> (102.0/4076.0)</td></tr></table></div>"
            ],
            "text/plain": [
              "       0     1    Error    Rate\n",
              "-----  ----  ---  -------  --------------\n",
              "0      3737  19   0.0051   (19.0/3756.0)\n",
              "1      83    237  0.2594   (83.0/320.0)\n",
              "Total  3820  256  0.025    (102.0/4076.0)"
            ]
          },
          "metadata": {
            "tags": []
          }
        },
        {
          "output_type": "stream",
          "text": [
            "Maximum Metrics: Maximum metrics at their respective thresholds\n",
            "\n"
          ],
          "name": "stdout"
        },
        {
          "output_type": "display_data",
          "data": {
            "text/html": [
              "<div style=\"overflow:auto\"><table style=\"width:50%\"><tr><td><b>metric</b></td>\n",
              "<td><b>threshold</b></td>\n",
              "<td><b>value</b></td>\n",
              "<td><b>idx</b></td></tr>\n",
              "<tr><td>max f1</td>\n",
              "<td>0.3720450</td>\n",
              "<td>0.8229167</td>\n",
              "<td>133.0</td></tr>\n",
              "<tr><td>max f2</td>\n",
              "<td>0.2710757</td>\n",
              "<td>0.8132344</td>\n",
              "<td>167.0</td></tr>\n",
              "<tr><td>max f0point5</td>\n",
              "<td>0.4114042</td>\n",
              "<td>0.8922956</td>\n",
              "<td>124.0</td></tr>\n",
              "<tr><td>max accuracy</td>\n",
              "<td>0.3779190</td>\n",
              "<td>0.9749755</td>\n",
              "<td>132.0</td></tr>\n",
              "<tr><td>max precision</td>\n",
              "<td>0.9327753</td>\n",
              "<td>1.0</td>\n",
              "<td>0.0</td></tr>\n",
              "<tr><td>max recall</td>\n",
              "<td>0.0077871</td>\n",
              "<td>1.0</td>\n",
              "<td>384.0</td></tr>\n",
              "<tr><td>max specificity</td>\n",
              "<td>0.9327753</td>\n",
              "<td>1.0</td>\n",
              "<td>0.0</td></tr>\n",
              "<tr><td>max absolute_mcc</td>\n",
              "<td>0.3720450</td>\n",
              "<td>0.8154701</td>\n",
              "<td>133.0</td></tr>\n",
              "<tr><td>max min_per_class_accuracy</td>\n",
              "<td>0.1437627</td>\n",
              "<td>0.9203940</td>\n",
              "<td>234.0</td></tr>\n",
              "<tr><td>max mean_per_class_accuracy</td>\n",
              "<td>0.1666402</td>\n",
              "<td>0.9240698</td>\n",
              "<td>219.0</td></tr></table></div>"
            ],
            "text/plain": [
              "metric                       threshold    value     idx\n",
              "---------------------------  -----------  --------  -----\n",
              "max f1                       0.372045     0.822917  133\n",
              "max f2                       0.271076     0.813234  167\n",
              "max f0point5                 0.411404     0.892296  124\n",
              "max accuracy                 0.377919     0.974975  132\n",
              "max precision                0.932775     1         0\n",
              "max recall                   0.00778708   1         384\n",
              "max specificity              0.932775     1         0\n",
              "max absolute_mcc             0.372045     0.81547   133\n",
              "max min_per_class_accuracy   0.143763     0.920394  234\n",
              "max mean_per_class_accuracy  0.16664      0.92407   219"
            ]
          },
          "metadata": {
            "tags": []
          }
        },
        {
          "output_type": "stream",
          "text": [
            "Gains/Lift Table: Avg response rate:  7.85 %, avg score:  7.88 %\n",
            "\n"
          ],
          "name": "stdout"
        },
        {
          "output_type": "display_data",
          "data": {
            "text/html": [
              "<div style=\"overflow:auto\"><table style=\"width:50%\"><tr><td><b></b></td>\n",
              "<td><b>group</b></td>\n",
              "<td><b>cumulative_data_fraction</b></td>\n",
              "<td><b>lower_threshold</b></td>\n",
              "<td><b>lift</b></td>\n",
              "<td><b>cumulative_lift</b></td>\n",
              "<td><b>response_rate</b></td>\n",
              "<td><b>score</b></td>\n",
              "<td><b>cumulative_response_rate</b></td>\n",
              "<td><b>cumulative_score</b></td>\n",
              "<td><b>capture_rate</b></td>\n",
              "<td><b>cumulative_capture_rate</b></td>\n",
              "<td><b>gain</b></td>\n",
              "<td><b>cumulative_gain</b></td></tr>\n",
              "<tr><td></td>\n",
              "<td>1</td>\n",
              "<td>0.0147203</td>\n",
              "<td>0.7357147</td>\n",
              "<td>12.7375000</td>\n",
              "<td>12.7375000</td>\n",
              "<td>1.0</td>\n",
              "<td>0.8114940</td>\n",
              "<td>1.0</td>\n",
              "<td>0.8114940</td>\n",
              "<td>0.1875</td>\n",
              "<td>0.1875</td>\n",
              "<td>1173.75</td>\n",
              "<td>1173.75</td></tr>\n",
              "<tr><td></td>\n",
              "<td>2</td>\n",
              "<td>0.0294406</td>\n",
              "<td>0.6410291</td>\n",
              "<td>12.7375000</td>\n",
              "<td>12.7375000</td>\n",
              "<td>1.0</td>\n",
              "<td>0.6872909</td>\n",
              "<td>1.0</td>\n",
              "<td>0.7493925</td>\n",
              "<td>0.1875</td>\n",
              "<td>0.375</td>\n",
              "<td>1173.75</td>\n",
              "<td>1173.75</td></tr>\n",
              "<tr><td></td>\n",
              "<td>3</td>\n",
              "<td>0.0441609</td>\n",
              "<td>0.5306833</td>\n",
              "<td>12.1006250</td>\n",
              "<td>12.5252083</td>\n",
              "<td>0.95</td>\n",
              "<td>0.5939314</td>\n",
              "<td>0.9833333</td>\n",
              "<td>0.6975721</td>\n",
              "<td>0.178125</td>\n",
              "<td>0.553125</td>\n",
              "<td>1110.0625</td>\n",
              "<td>1152.5208333</td></tr>\n",
              "<tr><td></td>\n",
              "<td>4</td>\n",
              "<td>0.0588813</td>\n",
              "<td>0.4019564</td>\n",
              "<td>10.6145833</td>\n",
              "<td>12.0475521</td>\n",
              "<td>0.8333333</td>\n",
              "<td>0.4783013</td>\n",
              "<td>0.9458333</td>\n",
              "<td>0.6427544</td>\n",
              "<td>0.15625</td>\n",
              "<td>0.709375</td>\n",
              "<td>961.4583333</td>\n",
              "<td>1104.7552083</td></tr>\n",
              "<tr><td></td>\n",
              "<td>5</td>\n",
              "<td>0.0736016</td>\n",
              "<td>0.3121599</td>\n",
              "<td>5.5195833</td>\n",
              "<td>10.7419583</td>\n",
              "<td>0.4333333</td>\n",
              "<td>0.3533304</td>\n",
              "<td>0.8433333</td>\n",
              "<td>0.5848696</td>\n",
              "<td>0.08125</td>\n",
              "<td>0.790625</td>\n",
              "<td>451.9583333</td>\n",
              "<td>974.1958333</td></tr>\n",
              "<tr><td></td>\n",
              "<td>6</td>\n",
              "<td>0.1472031</td>\n",
              "<td>0.1393123</td>\n",
              "<td>1.8257083</td>\n",
              "<td>6.2838333</td>\n",
              "<td>0.1433333</td>\n",
              "<td>0.2047313</td>\n",
              "<td>0.4933333</td>\n",
              "<td>0.3948004</td>\n",
              "<td>0.134375</td>\n",
              "<td>0.925</td>\n",
              "<td>82.5708333</td>\n",
              "<td>528.3833333</td></tr>\n",
              "<tr><td></td>\n",
              "<td>7</td>\n",
              "<td>0.2208047</td>\n",
              "<td>0.0766102</td>\n",
              "<td>0.3821250</td>\n",
              "<td>4.3165972</td>\n",
              "<td>0.03</td>\n",
              "<td>0.1069139</td>\n",
              "<td>0.3388889</td>\n",
              "<td>0.2988382</td>\n",
              "<td>0.028125</td>\n",
              "<td>0.953125</td>\n",
              "<td>-61.7875000</td>\n",
              "<td>331.6597222</td></tr>\n",
              "<tr><td></td>\n",
              "<td>8</td>\n",
              "<td>0.2944063</td>\n",
              "<td>0.0438436</td>\n",
              "<td>0.3396667</td>\n",
              "<td>3.3223646</td>\n",
              "<td>0.0266667</td>\n",
              "<td>0.0576452</td>\n",
              "<td>0.2608333</td>\n",
              "<td>0.2385400</td>\n",
              "<td>0.025</td>\n",
              "<td>0.978125</td>\n",
              "<td>-66.0333333</td>\n",
              "<td>232.2364583</td></tr>\n",
              "<tr><td></td>\n",
              "<td>9</td>\n",
              "<td>0.4416094</td>\n",
              "<td>0.0177253</td>\n",
              "<td>0.127375</td>\n",
              "<td>2.2573681</td>\n",
              "<td>0.01</td>\n",
              "<td>0.0284583</td>\n",
              "<td>0.1772222</td>\n",
              "<td>0.1685127</td>\n",
              "<td>0.01875</td>\n",
              "<td>0.996875</td>\n",
              "<td>-87.2625</td>\n",
              "<td>125.7368056</td></tr>\n",
              "<tr><td></td>\n",
              "<td>10</td>\n",
              "<td>0.5888126</td>\n",
              "<td>0.0091052</td>\n",
              "<td>0.0</td>\n",
              "<td>1.6930260</td>\n",
              "<td>0.0</td>\n",
              "<td>0.0125576</td>\n",
              "<td>0.1329167</td>\n",
              "<td>0.1295240</td>\n",
              "<td>0.0</td>\n",
              "<td>0.996875</td>\n",
              "<td>-100.0</td>\n",
              "<td>69.3026042</td></tr>\n",
              "<tr><td></td>\n",
              "<td>11</td>\n",
              "<td>0.7362610</td>\n",
              "<td>0.0064525</td>\n",
              "<td>0.0211938</td>\n",
              "<td>1.3582139</td>\n",
              "<td>0.0016639</td>\n",
              "<td>0.0075434</td>\n",
              "<td>0.1066311</td>\n",
              "<td>0.1050953</td>\n",
              "<td>0.003125</td>\n",
              "<td>1.0</td>\n",
              "<td>-97.8806156</td>\n",
              "<td>35.8213929</td></tr>\n",
              "<tr><td></td>\n",
              "<td>12</td>\n",
              "<td>0.8829735</td>\n",
              "<td>0.0053919</td>\n",
              "<td>0.0</td>\n",
              "<td>1.1325368</td>\n",
              "<td>0.0</td>\n",
              "<td>0.0058959</td>\n",
              "<td>0.0889136</td>\n",
              "<td>0.0886126</td>\n",
              "<td>0.0</td>\n",
              "<td>1.0</td>\n",
              "<td>-100.0</td>\n",
              "<td>13.2536816</td></tr>\n",
              "<tr><td></td>\n",
              "<td>13</td>\n",
              "<td>1.0</td>\n",
              "<td>0.0</td>\n",
              "<td>0.0</td>\n",
              "<td>1.0</td>\n",
              "<td>0.0</td>\n",
              "<td>0.0048199</td>\n",
              "<td>0.0785083</td>\n",
              "<td>0.0788067</td>\n",
              "<td>0.0</td>\n",
              "<td>1.0</td>\n",
              "<td>-100.0</td>\n",
              "<td>0.0</td></tr></table></div>"
            ],
            "text/plain": [
              "    group    cumulative_data_fraction    lower_threshold    lift       cumulative_lift    response_rate    score       cumulative_response_rate    cumulative_score    capture_rate    cumulative_capture_rate    gain      cumulative_gain\n",
              "--  -------  --------------------------  -----------------  ---------  -----------------  ---------------  ----------  --------------------------  ------------------  --------------  -------------------------  --------  -----------------\n",
              "    1        0.0147203                   0.735715           12.7375    12.7375            1                0.811494    1                           0.811494            0.1875          0.1875                     1173.75   1173.75\n",
              "    2        0.0294406                   0.641029           12.7375    12.7375            1                0.687291    1                           0.749392            0.1875          0.375                      1173.75   1173.75\n",
              "    3        0.0441609                   0.530683           12.1006    12.5252            0.95             0.593931    0.983333                    0.697572            0.178125        0.553125                   1110.06   1152.52\n",
              "    4        0.0588813                   0.401956           10.6146    12.0476            0.833333         0.478301    0.945833                    0.642754            0.15625         0.709375                   961.458   1104.76\n",
              "    5        0.0736016                   0.31216            5.51958    10.742             0.433333         0.35333     0.843333                    0.58487             0.08125         0.790625                   451.958   974.196\n",
              "    6        0.147203                    0.139312           1.82571    6.28383            0.143333         0.204731    0.493333                    0.3948              0.134375        0.925                      82.5708   528.383\n",
              "    7        0.220805                    0.0766102          0.382125   4.3166             0.03             0.106914    0.338889                    0.298838            0.028125        0.953125                   -61.7875  331.66\n",
              "    8        0.294406                    0.0438436          0.339667   3.32236            0.0266667        0.0576452   0.260833                    0.23854             0.025           0.978125                   -66.0333  232.236\n",
              "    9        0.441609                    0.0177253          0.127375   2.25737            0.01             0.0284583   0.177222                    0.168513            0.01875         0.996875                   -87.2625  125.737\n",
              "    10       0.588813                    0.00910519         0          1.69303            0                0.0125576   0.132917                    0.129524            0               0.996875                   -100      69.3026\n",
              "    11       0.736261                    0.00645245         0.0211938  1.35821            0.00166389       0.00754343  0.106631                    0.105095            0.003125        1                          -97.8806  35.8214\n",
              "    12       0.882974                    0.0053919          0          1.13254            0                0.00589587  0.0889136                   0.0886126           0               1                          -100      13.2537\n",
              "    13       1                           0                  0          1                  0                0.00481989  0.0785083                   0.0788067           0               1                          -100      0"
            ]
          },
          "metadata": {
            "tags": []
          }
        },
        {
          "output_type": "stream",
          "text": [
            "\n",
            "\n",
            "ModelMetricsBinomial: gbm\n",
            "** Reported on cross-validation data. **\n",
            "\n",
            "MSE: 0.05922501821200946\n",
            "RMSE: 0.24336190789030535\n",
            "LogLoss: 0.20154039217679368\n",
            "Mean Per-Class Error: 0.18972144568690097\n",
            "AUC: 0.8739733093716721\n",
            "pr_auc: 0.3674183108799275\n",
            "Gini: 0.7479466187433441\n",
            "Confusion Matrix (Act/Pred) for max f1 @ threshold = 0.16518300163321958: \n"
          ],
          "name": "stdout"
        },
        {
          "output_type": "display_data",
          "data": {
            "text/html": [
              "<div style=\"overflow:auto\"><table style=\"width:50%\"><tr><td><b></b></td>\n",
              "<td><b>0</b></td>\n",
              "<td><b>1</b></td>\n",
              "<td><b>Error</b></td>\n",
              "<td><b>Rate</b></td></tr>\n",
              "<tr><td>0</td>\n",
              "<td>3386.0</td>\n",
              "<td>370.0</td>\n",
              "<td>0.0985</td>\n",
              "<td> (370.0/3756.0)</td></tr>\n",
              "<tr><td>1</td>\n",
              "<td>129.0</td>\n",
              "<td>191.0</td>\n",
              "<td>0.4031</td>\n",
              "<td> (129.0/320.0)</td></tr>\n",
              "<tr><td>Total</td>\n",
              "<td>3515.0</td>\n",
              "<td>561.0</td>\n",
              "<td>0.1224</td>\n",
              "<td> (499.0/4076.0)</td></tr></table></div>"
            ],
            "text/plain": [
              "       0     1    Error    Rate\n",
              "-----  ----  ---  -------  --------------\n",
              "0      3386  370  0.0985   (370.0/3756.0)\n",
              "1      129   191  0.4031   (129.0/320.0)\n",
              "Total  3515  561  0.1224   (499.0/4076.0)"
            ]
          },
          "metadata": {
            "tags": []
          }
        },
        {
          "output_type": "stream",
          "text": [
            "Maximum Metrics: Maximum metrics at their respective thresholds\n",
            "\n"
          ],
          "name": "stdout"
        },
        {
          "output_type": "display_data",
          "data": {
            "text/html": [
              "<div style=\"overflow:auto\"><table style=\"width:50%\"><tr><td><b>metric</b></td>\n",
              "<td><b>threshold</b></td>\n",
              "<td><b>value</b></td>\n",
              "<td><b>idx</b></td></tr>\n",
              "<tr><td>max f1</td>\n",
              "<td>0.1651830</td>\n",
              "<td>0.4335982</td>\n",
              "<td>215.0</td></tr>\n",
              "<tr><td>max f2</td>\n",
              "<td>0.0836700</td>\n",
              "<td>0.5715592</td>\n",
              "<td>275.0</td></tr>\n",
              "<tr><td>max f0point5</td>\n",
              "<td>0.4303442</td>\n",
              "<td>0.4096639</td>\n",
              "<td>90.0</td></tr>\n",
              "<tr><td>max accuracy</td>\n",
              "<td>0.5413436</td>\n",
              "<td>0.9239450</td>\n",
              "<td>52.0</td></tr>\n",
              "<tr><td>max precision</td>\n",
              "<td>0.9379126</td>\n",
              "<td>1.0</td>\n",
              "<td>0.0</td></tr>\n",
              "<tr><td>max recall</td>\n",
              "<td>0.0037025</td>\n",
              "<td>1.0</td>\n",
              "<td>398.0</td></tr>\n",
              "<tr><td>max specificity</td>\n",
              "<td>0.9379126</td>\n",
              "<td>1.0</td>\n",
              "<td>0.0</td></tr>\n",
              "<tr><td>max absolute_mcc</td>\n",
              "<td>0.0836700</td>\n",
              "<td>0.3920866</td>\n",
              "<td>275.0</td></tr>\n",
              "<tr><td>max min_per_class_accuracy</td>\n",
              "<td>0.0705881</td>\n",
              "<td>0.8056443</td>\n",
              "<td>286.0</td></tr>\n",
              "<tr><td>max mean_per_class_accuracy</td>\n",
              "<td>0.0507455</td>\n",
              "<td>0.8102786</td>\n",
              "<td>307.0</td></tr></table></div>"
            ],
            "text/plain": [
              "metric                       threshold    value     idx\n",
              "---------------------------  -----------  --------  -----\n",
              "max f1                       0.165183     0.433598  215\n",
              "max f2                       0.08367      0.571559  275\n",
              "max f0point5                 0.430344     0.409664  90\n",
              "max accuracy                 0.541344     0.923945  52\n",
              "max precision                0.937913     1         0\n",
              "max recall                   0.00370254   1         398\n",
              "max specificity              0.937913     1         0\n",
              "max absolute_mcc             0.08367      0.392087  275\n",
              "max min_per_class_accuracy   0.0705881    0.805644  286\n",
              "max mean_per_class_accuracy  0.0507455    0.810279  307"
            ]
          },
          "metadata": {
            "tags": []
          }
        },
        {
          "output_type": "stream",
          "text": [
            "Gains/Lift Table: Avg response rate:  7.85 %, avg score:  7.30 %\n",
            "\n"
          ],
          "name": "stdout"
        },
        {
          "output_type": "display_data",
          "data": {
            "text/html": [
              "<div style=\"overflow:auto\"><table style=\"width:50%\"><tr><td><b></b></td>\n",
              "<td><b>group</b></td>\n",
              "<td><b>cumulative_data_fraction</b></td>\n",
              "<td><b>lower_threshold</b></td>\n",
              "<td><b>lift</b></td>\n",
              "<td><b>cumulative_lift</b></td>\n",
              "<td><b>response_rate</b></td>\n",
              "<td><b>score</b></td>\n",
              "<td><b>cumulative_response_rate</b></td>\n",
              "<td><b>cumulative_score</b></td>\n",
              "<td><b>capture_rate</b></td>\n",
              "<td><b>cumulative_capture_rate</b></td>\n",
              "<td><b>gain</b></td>\n",
              "<td><b>cumulative_gain</b></td></tr>\n",
              "<tr><td></td>\n",
              "<td>1</td>\n",
              "<td>0.0098135</td>\n",
              "<td>0.6565561</td>\n",
              "<td>6.6871875</td>\n",
              "<td>6.6871875</td>\n",
              "<td>0.525</td>\n",
              "<td>0.7455347</td>\n",
              "<td>0.525</td>\n",
              "<td>0.7455347</td>\n",
              "<td>0.065625</td>\n",
              "<td>0.065625</td>\n",
              "<td>568.71875</td>\n",
              "<td>568.71875</td></tr>\n",
              "<tr><td></td>\n",
              "<td>2</td>\n",
              "<td>0.0196271</td>\n",
              "<td>0.5496042</td>\n",
              "<td>7.3240625</td>\n",
              "<td>7.005625</td>\n",
              "<td>0.575</td>\n",
              "<td>0.6063185</td>\n",
              "<td>0.55</td>\n",
              "<td>0.6759266</td>\n",
              "<td>0.071875</td>\n",
              "<td>0.1375</td>\n",
              "<td>632.4062500</td>\n",
              "<td>600.5625</td></tr>\n",
              "<tr><td></td>\n",
              "<td>3</td>\n",
              "<td>0.0289500</td>\n",
              "<td>0.4713338</td>\n",
              "<td>5.3631579</td>\n",
              "<td>6.4766949</td>\n",
              "<td>0.4210526</td>\n",
              "<td>0.5141451</td>\n",
              "<td>0.5084746</td>\n",
              "<td>0.6238275</td>\n",
              "<td>0.05</td>\n",
              "<td>0.1875</td>\n",
              "<td>436.3157895</td>\n",
              "<td>547.6694915</td></tr>\n",
              "<tr><td></td>\n",
              "<td>4</td>\n",
              "<td>0.0392542</td>\n",
              "<td>0.4280005</td>\n",
              "<td>5.7622024</td>\n",
              "<td>6.2891406</td>\n",
              "<td>0.4523810</td>\n",
              "<td>0.4479167</td>\n",
              "<td>0.49375</td>\n",
              "<td>0.5776509</td>\n",
              "<td>0.059375</td>\n",
              "<td>0.246875</td>\n",
              "<td>476.2202381</td>\n",
              "<td>528.9140625</td></tr>\n",
              "<tr><td></td>\n",
              "<td>5</td>\n",
              "<td>0.0505397</td>\n",
              "<td>0.3916058</td>\n",
              "<td>3.0459239</td>\n",
              "<td>5.5649272</td>\n",
              "<td>0.2391304</td>\n",
              "<td>0.4087106</td>\n",
              "<td>0.4368932</td>\n",
              "<td>0.5399264</td>\n",
              "<td>0.034375</td>\n",
              "<td>0.28125</td>\n",
              "<td>204.5923913</td>\n",
              "<td>456.4927184</td></tr>\n",
              "<tr><td></td>\n",
              "<td>6</td>\n",
              "<td>0.0978901</td>\n",
              "<td>0.2408138</td>\n",
              "<td>3.9598446</td>\n",
              "<td>4.7885338</td>\n",
              "<td>0.3108808</td>\n",
              "<td>0.3073933</td>\n",
              "<td>0.3759398</td>\n",
              "<td>0.4274480</td>\n",
              "<td>0.1875</td>\n",
              "<td>0.46875</td>\n",
              "<td>295.9844560</td>\n",
              "<td>378.8533835</td></tr>\n",
              "<tr><td></td>\n",
              "<td>7</td>\n",
              "<td>0.1464671</td>\n",
              "<td>0.1527994</td>\n",
              "<td>3.0878788</td>\n",
              "<td>4.2244975</td>\n",
              "<td>0.2424242</td>\n",
              "<td>0.1911717</td>\n",
              "<td>0.3316583</td>\n",
              "<td>0.3490850</td>\n",
              "<td>0.15</td>\n",
              "<td>0.61875</td>\n",
              "<td>208.7878788</td>\n",
              "<td>322.4497487</td></tr>\n",
              "<tr><td></td>\n",
              "<td>8</td>\n",
              "<td>0.1960255</td>\n",
              "<td>0.1011202</td>\n",
              "<td>2.0808787</td>\n",
              "<td>3.6825563</td>\n",
              "<td>0.1633663</td>\n",
              "<td>0.1210925</td>\n",
              "<td>0.2891114</td>\n",
              "<td>0.2914448</td>\n",
              "<td>0.103125</td>\n",
              "<td>0.721875</td>\n",
              "<td>108.0878713</td>\n",
              "<td>268.2556320</td></tr>\n",
              "<tr><td></td>\n",
              "<td>9</td>\n",
              "<td>0.2963690</td>\n",
              "<td>0.0459237</td>\n",
              "<td>1.4014364</td>\n",
              "<td>2.9102235</td>\n",
              "<td>0.1100244</td>\n",
              "<td>0.0703995</td>\n",
              "<td>0.2284768</td>\n",
              "<td>0.2166041</td>\n",
              "<td>0.140625</td>\n",
              "<td>0.8625</td>\n",
              "<td>40.1436430</td>\n",
              "<td>191.0223510</td></tr>\n",
              "<tr><td></td>\n",
              "<td>10</td>\n",
              "<td>0.3976938</td>\n",
              "<td>0.0246130</td>\n",
              "<td>0.7401937</td>\n",
              "<td>2.3573411</td>\n",
              "<td>0.0581114</td>\n",
              "<td>0.0332068</td>\n",
              "<td>0.1850709</td>\n",
              "<td>0.1698780</td>\n",
              "<td>0.075</td>\n",
              "<td>0.9375</td>\n",
              "<td>-25.9806295</td>\n",
              "<td>135.7341147</td></tr>\n",
              "<tr><td></td>\n",
              "<td>11</td>\n",
              "<td>0.5009814</td>\n",
              "<td>0.0137093</td>\n",
              "<td>0.2420428</td>\n",
              "<td>1.9212292</td>\n",
              "<td>0.0190024</td>\n",
              "<td>0.0183650</td>\n",
              "<td>0.1508325</td>\n",
              "<td>0.1386405</td>\n",
              "<td>0.025</td>\n",
              "<td>0.9625</td>\n",
              "<td>-75.7957245</td>\n",
              "<td>92.1229187</td></tr>\n",
              "<tr><td></td>\n",
              "<td>12</td>\n",
              "<td>0.6040236</td>\n",
              "<td>0.0089286</td>\n",
              "<td>0.1213095</td>\n",
              "<td>1.6141755</td>\n",
              "<td>0.0095238</td>\n",
              "<td>0.0110765</td>\n",
              "<td>0.1267262</td>\n",
              "<td>0.1168790</td>\n",
              "<td>0.0125</td>\n",
              "<td>0.975</td>\n",
              "<td>-87.8690476</td>\n",
              "<td>61.4175467</td></tr>\n",
              "<tr><td></td>\n",
              "<td>13</td>\n",
              "<td>0.7026497</td>\n",
              "<td>0.0068074</td>\n",
              "<td>0.0316853</td>\n",
              "<td>1.3920522</td>\n",
              "<td>0.0024876</td>\n",
              "<td>0.0076832</td>\n",
              "<td>0.1092877</td>\n",
              "<td>0.1015519</td>\n",
              "<td>0.003125</td>\n",
              "<td>0.978125</td>\n",
              "<td>-96.8314677</td>\n",
              "<td>39.2052200</td></tr>\n",
              "<tr><td></td>\n",
              "<td>14</td>\n",
              "<td>0.8022571</td>\n",
              "<td>0.0058602</td>\n",
              "<td>0.0627463</td>\n",
              "<td>1.2270069</td>\n",
              "<td>0.0049261</td>\n",
              "<td>0.0063135</td>\n",
              "<td>0.0963303</td>\n",
              "<td>0.0897272</td>\n",
              "<td>0.00625</td>\n",
              "<td>0.984375</td>\n",
              "<td>-93.7253695</td>\n",
              "<td>22.7006881</td></tr>\n",
              "<tr><td></td>\n",
              "<td>15</td>\n",
              "<td>0.9030913</td>\n",
              "<td>0.0050992</td>\n",
              "<td>0.0619830</td>\n",
              "<td>1.0969268</td>\n",
              "<td>0.0048662</td>\n",
              "<td>0.0054909</td>\n",
              "<td>0.0861179</td>\n",
              "<td>0.0803218</td>\n",
              "<td>0.00625</td>\n",
              "<td>0.990625</td>\n",
              "<td>-93.8017032</td>\n",
              "<td>9.6926786</td></tr>\n",
              "<tr><td></td>\n",
              "<td>16</td>\n",
              "<td>1.0</td>\n",
              "<td>0.0027880</td>\n",
              "<td>0.0967405</td>\n",
              "<td>1.0</td>\n",
              "<td>0.0075949</td>\n",
              "<td>0.0044869</td>\n",
              "<td>0.0785083</td>\n",
              "<td>0.0729728</td>\n",
              "<td>0.009375</td>\n",
              "<td>1.0</td>\n",
              "<td>-90.3259494</td>\n",
              "<td>0.0</td></tr></table></div>"
            ],
            "text/plain": [
              "    group    cumulative_data_fraction    lower_threshold    lift       cumulative_lift    response_rate    score       cumulative_response_rate    cumulative_score    capture_rate    cumulative_capture_rate    gain      cumulative_gain\n",
              "--  -------  --------------------------  -----------------  ---------  -----------------  ---------------  ----------  --------------------------  ------------------  --------------  -------------------------  --------  -----------------\n",
              "    1        0.00981354                  0.656556           6.68719    6.68719            0.525            0.745535    0.525                       0.745535            0.065625        0.065625                   568.719   568.719\n",
              "    2        0.0196271                   0.549604           7.32406    7.00563            0.575            0.606318    0.55                        0.675927            0.071875        0.1375                     632.406   600.562\n",
              "    3        0.02895                     0.471334           5.36316    6.47669            0.421053         0.514145    0.508475                    0.623827            0.05            0.1875                     436.316   547.669\n",
              "    4        0.0392542                   0.428001           5.7622     6.28914            0.452381         0.447917    0.49375                     0.577651            0.059375        0.246875                   476.22    528.914\n",
              "    5        0.0505397                   0.391606           3.04592    5.56493            0.23913          0.408711    0.436893                    0.539926            0.034375        0.28125                    204.592   456.493\n",
              "    6        0.0978901                   0.240814           3.95984    4.78853            0.310881         0.307393    0.37594                     0.427448            0.1875          0.46875                    295.984   378.853\n",
              "    7        0.146467                    0.152799           3.08788    4.2245             0.242424         0.191172    0.331658                    0.349085            0.15            0.61875                    208.788   322.45\n",
              "    8        0.196026                    0.10112            2.08088    3.68256            0.163366         0.121093    0.289111                    0.291445            0.103125        0.721875                   108.088   268.256\n",
              "    9        0.296369                    0.0459237          1.40144    2.91022            0.110024         0.0703995   0.228477                    0.216604            0.140625        0.8625                     40.1436   191.022\n",
              "    10       0.397694                    0.024613           0.740194   2.35734            0.0581114        0.0332068   0.185071                    0.169878            0.075           0.9375                     -25.9806  135.734\n",
              "    11       0.500981                    0.0137093          0.242043   1.92123            0.0190024        0.018365    0.150833                    0.13864             0.025           0.9625                     -75.7957  92.1229\n",
              "    12       0.604024                    0.00892863         0.12131    1.61418            0.00952381       0.0110765   0.126726                    0.116879            0.0125          0.975                      -87.869   61.4175\n",
              "    13       0.70265                     0.00680739         0.0316853  1.39205            0.00248756       0.00768323  0.109288                    0.101552            0.003125        0.978125                   -96.8315  39.2052\n",
              "    14       0.802257                    0.00586025         0.0627463  1.22701            0.00492611       0.00631348  0.0963303                   0.0897272           0.00625         0.984375                   -93.7254  22.7007\n",
              "    15       0.903091                    0.00509923         0.061983   1.09693            0.00486618       0.0054909   0.0861179                   0.0803218           0.00625         0.990625                   -93.8017  9.69268\n",
              "    16       1                           0.00278799         0.0967405  1                  0.00759494       0.0044869   0.0785083                   0.0729728           0.009375        1                          -90.3259  0"
            ]
          },
          "metadata": {
            "tags": []
          }
        },
        {
          "output_type": "stream",
          "text": [
            "\n",
            "Cross-Validation Metrics Summary: \n"
          ],
          "name": "stdout"
        },
        {
          "output_type": "display_data",
          "data": {
            "text/html": [
              "<div style=\"overflow:auto\"><table style=\"width:50%\"><tr><td><b></b></td>\n",
              "<td><b>mean</b></td>\n",
              "<td><b>sd</b></td>\n",
              "<td><b>cv_1_valid</b></td>\n",
              "<td><b>cv_2_valid</b></td>\n",
              "<td><b>cv_3_valid</b></td>\n",
              "<td><b>cv_4_valid</b></td>\n",
              "<td><b>cv_5_valid</b></td>\n",
              "<td><b>cv_6_valid</b></td>\n",
              "<td><b>cv_7_valid</b></td>\n",
              "<td><b>cv_8_valid</b></td>\n",
              "<td><b>cv_9_valid</b></td></tr>\n",
              "<tr><td>accuracy</td>\n",
              "<td>0.8944479</td>\n",
              "<td>0.0294786</td>\n",
              "<td>0.8721973</td>\n",
              "<td>0.9241706</td>\n",
              "<td>0.8097345</td>\n",
              "<td>0.9273128</td>\n",
              "<td>0.8543046</td>\n",
              "<td>0.8867102</td>\n",
              "<td>0.9568034</td>\n",
              "<td>0.9090909</td>\n",
              "<td>0.9097065</td></tr>\n",
              "<tr><td>auc</td>\n",
              "<td>0.8778754</td>\n",
              "<td>0.0121869</td>\n",
              "<td>0.8919153</td>\n",
              "<td>0.8751516</td>\n",
              "<td>0.8780404</td>\n",
              "<td>0.8987265</td>\n",
              "<td>0.8894215</td>\n",
              "<td>0.8851211</td>\n",
              "<td>0.8860573</td>\n",
              "<td>0.8448558</td>\n",
              "<td>0.8515891</td></tr>\n",
              "<tr><td>err</td>\n",
              "<td>0.1055521</td>\n",
              "<td>0.0294786</td>\n",
              "<td>0.1278027</td>\n",
              "<td>0.0758294</td>\n",
              "<td>0.1902655</td>\n",
              "<td>0.0726872</td>\n",
              "<td>0.1456954</td>\n",
              "<td>0.1132898</td>\n",
              "<td>0.0431965</td>\n",
              "<td>0.0909091</td>\n",
              "<td>0.0902934</td></tr>\n",
              "<tr><td>err_count</td>\n",
              "<td>47.77778</td>\n",
              "<td>13.353226</td>\n",
              "<td>57.0</td>\n",
              "<td>32.0</td>\n",
              "<td>86.0</td>\n",
              "<td>33.0</td>\n",
              "<td>66.0</td>\n",
              "<td>52.0</td>\n",
              "<td>20.0</td>\n",
              "<td>44.0</td>\n",
              "<td>40.0</td></tr>\n",
              "<tr><td>f0point5</td>\n",
              "<td>0.4486538</td>\n",
              "<td>0.0530879</td>\n",
              "<td>0.4334365</td>\n",
              "<td>0.5072464</td>\n",
              "<td>0.3023758</td>\n",
              "<td>0.5025126</td>\n",
              "<td>0.4216867</td>\n",
              "<td>0.3900709</td>\n",
              "<td>0.5729167</td>\n",
              "<td>0.4932736</td>\n",
              "<td>0.4143646</td></tr>\n",
              "<tr><td>f1</td>\n",
              "<td>0.4811082</td>\n",
              "<td>0.0324869</td>\n",
              "<td>0.4955752</td>\n",
              "<td>0.4666667</td>\n",
              "<td>0.3943662</td>\n",
              "<td>0.5479452</td>\n",
              "<td>0.5147059</td>\n",
              "<td>0.4583333</td>\n",
              "<td>0.5238095</td>\n",
              "<td>0.5</td>\n",
              "<td>0.4285714</td></tr>\n",
              "<tr><td>f2</td>\n",
              "<td>0.5365456</td>\n",
              "<td>0.0505676</td>\n",
              "<td>0.5785124</td>\n",
              "<td>0.4320988</td>\n",
              "<td>0.5668016</td>\n",
              "<td>0.6024097</td>\n",
              "<td>0.6603774</td>\n",
              "<td>0.5555556</td>\n",
              "<td>0.4824561</td>\n",
              "<td>0.5069125</td>\n",
              "<td>0.4437870</td></tr>\n",
              "<tr><td>lift_top_group</td>\n",
              "<td>6.95878</td>\n",
              "<td>1.5480382</td>\n",
              "<td>5.9269104</td>\n",
              "<td>8.865546</td>\n",
              "<td>5.5346937</td>\n",
              "<td>8.368664</td>\n",
              "<td>3.0099669</td>\n",
              "<td>7.714286</td>\n",
              "<td>11.023809</td>\n",
              "<td>6.431894</td>\n",
              "<td>5.753247</td></tr>\n",
              "<tr><td>logloss</td>\n",
              "<td>0.2014503</td>\n",
              "<td>0.0197531</td>\n",
              "<td>0.2232611</td>\n",
              "<td>0.2004143</td>\n",
              "<td>0.2094303</td>\n",
              "<td>0.1667606</td>\n",
              "<td>0.2315405</td>\n",
              "<td>0.1928828</td>\n",
              "<td>0.1472274</td>\n",
              "<td>0.2382921</td>\n",
              "<td>0.2032436</td></tr>\n",
              "<tr><td>max_per_class_error</td>\n",
              "<td>0.4007102</td>\n",
              "<td>0.0991945</td>\n",
              "<td>0.3488372</td>\n",
              "<td>0.5882353</td>\n",
              "<td>0.2</td>\n",
              "<td>0.3548387</td>\n",
              "<td>0.1860465</td>\n",
              "<td>0.3529412</td>\n",
              "<td>0.5416667</td>\n",
              "<td>0.4883721</td>\n",
              "<td>0.5454546</td></tr>\n",
              "<tr><td>mcc</td>\n",
              "<td>0.4471996</td>\n",
              "<td>0.0327970</td>\n",
              "<td>0.4437997</td>\n",
              "<td>0.4310822</td>\n",
              "<td>0.3839043</td>\n",
              "<td>0.5163494</td>\n",
              "<td>0.4879994</td>\n",
              "<td>0.4236642</td>\n",
              "<td>0.5073702</td>\n",
              "<td>0.4501691</td>\n",
              "<td>0.3804581</td></tr>\n",
              "<tr><td>mean_per_class_accuracy</td>\n",
              "<td>0.7588702</td>\n",
              "<td>0.0337084</td>\n",
              "<td>0.7734722</td>\n",
              "<td>0.6904184</td>\n",
              "<td>0.8052758</td>\n",
              "<td>0.7965759</td>\n",
              "<td>0.8362451</td>\n",
              "<td>0.7764706</td>\n",
              "<td>0.721194</td>\n",
              "<td>0.7297369</td>\n",
              "<td>0.7004434</td></tr>\n",
              "<tr><td>mean_per_class_error</td>\n",
              "<td>0.2411297</td>\n",
              "<td>0.0337084</td>\n",
              "<td>0.2265278</td>\n",
              "<td>0.3095816</td>\n",
              "<td>0.1947242</td>\n",
              "<td>0.2034241</td>\n",
              "<td>0.1637550</td>\n",
              "<td>0.2235294</td>\n",
              "<td>0.278806</td>\n",
              "<td>0.2702631</td>\n",
              "<td>0.2995565</td></tr>\n",
              "<tr><td>mse</td>\n",
              "<td>0.0592250</td>\n",
              "<td>0.0068965</td>\n",
              "<td>0.0682465</td>\n",
              "<td>0.0580538</td>\n",
              "<td>0.0627708</td>\n",
              "<td>0.0472739</td>\n",
              "<td>0.0729597</td>\n",
              "<td>0.0577351</td>\n",
              "<td>0.0400691</td>\n",
              "<td>0.0669749</td>\n",
              "<td>0.0589407</td></tr>\n",
              "<tr><td>precision</td>\n",
              "<td>0.4347691</td>\n",
              "<td>0.0700499</td>\n",
              "<td>0.4</td>\n",
              "<td>0.5384616</td>\n",
              "<td>0.2616822</td>\n",
              "<td>0.4761905</td>\n",
              "<td>0.3763441</td>\n",
              "<td>0.3548387</td>\n",
              "<td>0.6111111</td>\n",
              "<td>0.4888889</td>\n",
              "<td>0.4054054</td></tr>\n",
              "<tr><td>r2</td>\n",
              "<td>0.1802907</td>\n",
              "<td>0.0285230</td>\n",
              "<td>0.2166127</td>\n",
              "<td>0.2163088</td>\n",
              "<td>0.1213200</td>\n",
              "<td>0.256927</td>\n",
              "<td>0.1507670</td>\n",
              "<td>0.1582217</td>\n",
              "<td>0.1847408</td>\n",
              "<td>0.1726373</td>\n",
              "<td>0.1450808</td></tr>\n",
              "<tr><td>recall</td>\n",
              "<td>0.5992898</td>\n",
              "<td>0.0991945</td>\n",
              "<td>0.6511628</td>\n",
              "<td>0.4117647</td>\n",
              "<td>0.8</td>\n",
              "<td>0.6451613</td>\n",
              "<td>0.8139535</td>\n",
              "<td>0.6470588</td>\n",
              "<td>0.4583333</td>\n",
              "<td>0.5116279</td>\n",
              "<td>0.4545455</td></tr>\n",
              "<tr><td>rmse</td>\n",
              "<td>0.2424764</td>\n",
              "<td>0.0146657</td>\n",
              "<td>0.2612403</td>\n",
              "<td>0.2409436</td>\n",
              "<td>0.2505411</td>\n",
              "<td>0.2174257</td>\n",
              "<td>0.2701105</td>\n",
              "<td>0.2402814</td>\n",
              "<td>0.2001727</td>\n",
              "<td>0.2587951</td>\n",
              "<td>0.2427771</td></tr>\n",
              "<tr><td>specificity</td>\n",
              "<td>0.9184508</td>\n",
              "<td>0.0374794</td>\n",
              "<td>0.8957816</td>\n",
              "<td>0.9690722</td>\n",
              "<td>0.8105516</td>\n",
              "<td>0.9479905</td>\n",
              "<td>0.8585366</td>\n",
              "<td>0.9058824</td>\n",
              "<td>0.9840547</td>\n",
              "<td>0.9478458</td>\n",
              "<td>0.9463415</td></tr></table></div>"
            ],
            "text/plain": [
              "                         mean      sd         cv_1_valid    cv_2_valid    cv_3_valid    cv_4_valid    cv_5_valid    cv_6_valid    cv_7_valid    cv_8_valid    cv_9_valid\n",
              "-----------------------  --------  ---------  ------------  ------------  ------------  ------------  ------------  ------------  ------------  ------------  ------------\n",
              "accuracy                 0.894448  0.0294786  0.872197      0.924171      0.809735      0.927313      0.854305      0.88671       0.956803      0.909091      0.909707\n",
              "auc                      0.877875  0.0121869  0.891915      0.875152      0.87804       0.898726      0.889421      0.885121      0.886057      0.844856      0.851589\n",
              "err                      0.105552  0.0294786  0.127803      0.0758294     0.190265      0.0726872     0.145695      0.11329       0.0431965     0.0909091     0.0902934\n",
              "err_count                47.7778   13.3532    57            32            86            33            66            52            20            44            40\n",
              "f0point5                 0.448654  0.0530879  0.433437      0.507246      0.302376      0.502513      0.421687      0.390071      0.572917      0.493274      0.414365\n",
              "f1                       0.481108  0.0324869  0.495575      0.466667      0.394366      0.547945      0.514706      0.458333      0.52381       0.5           0.428571\n",
              "f2                       0.536546  0.0505676  0.578512      0.432099      0.566802      0.60241       0.660377      0.555556      0.482456      0.506912      0.443787\n",
              "lift_top_group           6.95878   1.54804    5.92691       8.86555       5.53469       8.36866       3.00997       7.71429       11.0238       6.43189       5.75325\n",
              "logloss                  0.20145   0.0197531  0.223261      0.200414      0.20943       0.166761      0.231541      0.192883      0.147227      0.238292      0.203244\n",
              "max_per_class_error      0.40071   0.0991945  0.348837      0.588235      0.2           0.354839      0.186047      0.352941      0.541667      0.488372      0.545455\n",
              "mcc                      0.4472    0.032797   0.4438        0.431082      0.383904      0.516349      0.487999      0.423664      0.50737       0.450169      0.380458\n",
              "mean_per_class_accuracy  0.75887   0.0337084  0.773472      0.690418      0.805276      0.796576      0.836245      0.776471      0.721194      0.729737      0.700443\n",
              "mean_per_class_error     0.24113   0.0337084  0.226528      0.309582      0.194724      0.203424      0.163755      0.223529      0.278806      0.270263      0.299557\n",
              "mse                      0.059225  0.0068965  0.0682465     0.0580538     0.0627708     0.0472739     0.0729597     0.0577351     0.0400691     0.0669749     0.0589407\n",
              "precision                0.434769  0.0700499  0.4           0.538462      0.261682      0.47619       0.376344      0.354839      0.611111      0.488889      0.405405\n",
              "r2                       0.180291  0.028523   0.216613      0.216309      0.12132       0.256927      0.150767      0.158222      0.184741      0.172637      0.145081\n",
              "recall                   0.59929   0.0991945  0.651163      0.411765      0.8           0.645161      0.813953      0.647059      0.458333      0.511628      0.454545\n",
              "rmse                     0.242476  0.0146657  0.26124       0.240944      0.250541      0.217426      0.27011       0.240281      0.200173      0.258795      0.242777\n",
              "specificity              0.918451  0.0374794  0.895782      0.969072      0.810552      0.947991      0.858537      0.905882      0.984055      0.947846      0.946341"
            ]
          },
          "metadata": {
            "tags": []
          }
        },
        {
          "output_type": "stream",
          "text": [
            "Scoring History: \n"
          ],
          "name": "stdout"
        },
        {
          "output_type": "display_data",
          "data": {
            "text/html": [
              "<div style=\"overflow:auto\"><table style=\"width:50%\"><tr><td><b></b></td>\n",
              "<td><b>timestamp</b></td>\n",
              "<td><b>duration</b></td>\n",
              "<td><b>number_of_trees</b></td>\n",
              "<td><b>training_rmse</b></td>\n",
              "<td><b>training_logloss</b></td>\n",
              "<td><b>training_auc</b></td>\n",
              "<td><b>training_pr_auc</b></td>\n",
              "<td><b>training_lift</b></td>\n",
              "<td><b>training_classification_error</b></td></tr>\n",
              "<tr><td></td>\n",
              "<td>2019-07-05 19:49:29</td>\n",
              "<td>20.886 sec</td>\n",
              "<td>0.0</td>\n",
              "<td>0.2689699</td>\n",
              "<td>0.2751110</td>\n",
              "<td>0.5</td>\n",
              "<td>0.0</td>\n",
              "<td>1.0</td>\n",
              "<td>0.9214917</td></tr>\n",
              "<tr><td></td>\n",
              "<td>2019-07-05 19:49:29</td>\n",
              "<td>20.924 sec</td>\n",
              "<td>1.0</td>\n",
              "<td>0.2602753</td>\n",
              "<td>0.2494960</td>\n",
              "<td>0.8910531</td>\n",
              "<td>0.4574103</td>\n",
              "<td>9.1285417</td>\n",
              "<td>0.0996075</td></tr>\n",
              "<tr><td></td>\n",
              "<td>2019-07-05 19:49:29</td>\n",
              "<td>20.961 sec</td>\n",
              "<td>2.0</td>\n",
              "<td>0.2540177</td>\n",
              "<td>0.2344933</td>\n",
              "<td>0.9058382</td>\n",
              "<td>0.4785623</td>\n",
              "<td>8.7342857</td>\n",
              "<td>0.0873405</td></tr>\n",
              "<tr><td></td>\n",
              "<td>2019-07-05 19:49:29</td>\n",
              "<td>20.997 sec</td>\n",
              "<td>3.0</td>\n",
              "<td>0.2484476</td>\n",
              "<td>0.2228639</td>\n",
              "<td>0.9102786</td>\n",
              "<td>0.4992984</td>\n",
              "<td>9.6053279</td>\n",
              "<td>0.0863592</td></tr>\n",
              "<tr><td></td>\n",
              "<td>2019-07-05 19:49:29</td>\n",
              "<td>21.045 sec</td>\n",
              "<td>4.0</td>\n",
              "<td>0.2433270</td>\n",
              "<td>0.2128812</td>\n",
              "<td>0.9180661</td>\n",
              "<td>0.5556439</td>\n",
              "<td>10.826875</td>\n",
              "<td>0.0907753</td></tr>\n",
              "<tr><td>---</td>\n",
              "<td>---</td>\n",
              "<td>---</td>\n",
              "<td>---</td>\n",
              "<td>---</td>\n",
              "<td>---</td>\n",
              "<td>---</td>\n",
              "<td>---</td>\n",
              "<td>---</td>\n",
              "<td>---</td></tr>\n",
              "<tr><td></td>\n",
              "<td>2019-07-05 19:49:31</td>\n",
              "<td>22.371 sec</td>\n",
              "<td>46.0</td>\n",
              "<td>0.1698689</td>\n",
              "<td>0.1096048</td>\n",
              "<td>0.9757546</td>\n",
              "<td>0.8760930</td>\n",
              "<td>12.7375000</td>\n",
              "<td>0.0279686</td></tr>\n",
              "<tr><td></td>\n",
              "<td>2019-07-05 19:49:31</td>\n",
              "<td>22.401 sec</td>\n",
              "<td>47.0</td>\n",
              "<td>0.1690108</td>\n",
              "<td>0.1086403</td>\n",
              "<td>0.9764531</td>\n",
              "<td>0.8790096</td>\n",
              "<td>12.7375000</td>\n",
              "<td>0.0267419</td></tr>\n",
              "<tr><td></td>\n",
              "<td>2019-07-05 19:49:31</td>\n",
              "<td>22.429 sec</td>\n",
              "<td>48.0</td>\n",
              "<td>0.1680927</td>\n",
              "<td>0.1077674</td>\n",
              "<td>0.9766540</td>\n",
              "<td>0.8805277</td>\n",
              "<td>12.7375000</td>\n",
              "<td>0.0260059</td></tr>\n",
              "<tr><td></td>\n",
              "<td>2019-07-05 19:49:31</td>\n",
              "<td>22.459 sec</td>\n",
              "<td>49.0</td>\n",
              "<td>0.1670807</td>\n",
              "<td>0.1068284</td>\n",
              "<td>0.9770883</td>\n",
              "<td>0.8836796</td>\n",
              "<td>12.7375000</td>\n",
              "<td>0.0260059</td></tr>\n",
              "<tr><td></td>\n",
              "<td>2019-07-05 19:49:31</td>\n",
              "<td>22.490 sec</td>\n",
              "<td>50.0</td>\n",
              "<td>0.1660603</td>\n",
              "<td>0.1055428</td>\n",
              "<td>0.9783060</td>\n",
              "<td>0.8872948</td>\n",
              "<td>12.7375000</td>\n",
              "<td>0.0250245</td></tr></table></div>"
            ],
            "text/plain": [
              "     timestamp            duration    number_of_trees    training_rmse        training_logloss     training_auc        training_pr_auc      training_lift       training_classification_error\n",
              "---  -------------------  ----------  -----------------  -------------------  -------------------  ------------------  -------------------  ------------------  -------------------------------\n",
              "     2019-07-05 19:49:29  20.886 sec  0.0                0.26896985300295945  0.275111021691352    0.5                 0.0                  1.0                 0.9214916584887144\n",
              "     2019-07-05 19:49:29  20.924 sec  1.0                0.2602753463237195   0.24949598731306313  0.8910530650958466  0.4574103321567777   9.128541666666667   0.09960745829244357\n",
              "     2019-07-05 19:49:29  20.961 sec  2.0                0.25401771536461976  0.2344933242963683   0.9058381589456869  0.47856228462323147  8.734285714285713   0.0873405299313052\n",
              "     2019-07-05 19:49:29  20.997 sec  3.0                0.24844759004009745  0.22286387354694168  0.910278554313099   0.499298420165771    9.605327868852457   0.08635917566241413\n",
              "     2019-07-05 19:49:29  21.045 sec  4.0                0.24332702486366398  0.21288117355954428  0.9180660942492013  0.5556438562138168   10.826875           0.09077526987242394\n",
              "---  ---                  ---         ---                ---                  ---                  ---                 ---                  ---                 ---\n",
              "     2019-07-05 19:49:31  22.371 sec  46.0               0.16986892633553233  0.1096047588616722   0.9757546259318424  0.8760929753745214   12.737499999999999  0.027968596663395486\n",
              "     2019-07-05 19:49:31  22.401 sec  47.0               0.1690107608696408   0.10864027726325758  0.9764530917199149  0.8790096024143856   12.737499999999999  0.02674190382728165\n",
              "     2019-07-05 19:49:31  22.429 sec  48.0               0.16809269636830007  0.10776743136776629  0.9766540202342918  0.8805276773762188   12.737499999999999  0.026005888125613347\n",
              "     2019-07-05 19:49:31  22.459 sec  49.0               0.16708067097317814  0.10682839583472818  0.9770883253461129  0.8836796338425792   12.737499999999999  0.026005888125613347\n",
              "     2019-07-05 19:49:31  22.490 sec  50.0               0.16606026407617872  0.10554276990271674  0.9783059604632588  0.8872947907524608   12.737499999999999  0.025024533856722278"
            ]
          },
          "metadata": {
            "tags": []
          }
        },
        {
          "output_type": "stream",
          "text": [
            "\n",
            "See the whole table with table.as_data_frame()\n",
            "Variable Importances: \n"
          ],
          "name": "stdout"
        },
        {
          "output_type": "display_data",
          "data": {
            "text/html": [
              "<div style=\"overflow:auto\"><table style=\"width:50%\"><tr><td><b>variable</b></td>\n",
              "<td><b>relative_importance</b></td>\n",
              "<td><b>scaled_importance</b></td>\n",
              "<td><b>percentage</b></td></tr>\n",
              "<tr><td>Age</td>\n",
              "<td>195.8016510</td>\n",
              "<td>1.0</td>\n",
              "<td>0.3791444</td></tr>\n",
              "<tr><td>Height</td>\n",
              "<td>37.1978569</td>\n",
              "<td>0.1899772</td>\n",
              "<td>0.0720288</td></tr>\n",
              "<tr><td>SBP</td>\n",
              "<td>34.3306313</td>\n",
              "<td>0.1753337</td>\n",
              "<td>0.0664768</td></tr>\n",
              "<tr><td>HDL</td>\n",
              "<td>27.5026779</td>\n",
              "<td>0.1404619</td>\n",
              "<td>0.0532553</td></tr>\n",
              "<tr><td>DBP</td>\n",
              "<td>26.5593071</td>\n",
              "<td>0.1356439</td>\n",
              "<td>0.0514286</td></tr>\n",
              "<tr><td>---</td>\n",
              "<td>---</td>\n",
              "<td>---</td>\n",
              "<td>---</td></tr>\n",
              "<tr><td>Income</td>\n",
              "<td>1.4221861</td>\n",
              "<td>0.0072634</td>\n",
              "<td>0.0027539</td></tr>\n",
              "<tr><td>Insured</td>\n",
              "<td>0.4855364</td>\n",
              "<td>0.0024797</td>\n",
              "<td>0.0009402</td></tr>\n",
              "<tr><td>Dyslipidemia</td>\n",
              "<td>0.3235362</td>\n",
              "<td>0.0016524</td>\n",
              "<td>0.0006265</td></tr>\n",
              "<tr><td>Obese</td>\n",
              "<td>0.0704785</td>\n",
              "<td>0.0003599</td>\n",
              "<td>0.0001365</td></tr>\n",
              "<tr><td>Fam Hypertension</td>\n",
              "<td>0.0</td>\n",
              "<td>0.0</td>\n",
              "<td>0.0</td></tr></table></div>"
            ],
            "text/plain": [
              "variable          relative_importance    scaled_importance      percentage\n",
              "----------------  ---------------------  ---------------------  ----------------------\n",
              "Age               195.80165100097656     1.0                    0.37914435108442335\n",
              "Height            37.19785690307617      0.18997723825572158    0.07202879671927645\n",
              "SBP               34.330631256103516     0.1753337169559019     0.06647678833846539\n",
              "HDL               27.50267791748047      0.14046193061642417    0.05325534753562943\n",
              "DBP               26.559307098388672     0.1356439384581911     0.05142863302526631\n",
              "---               ---                    ---                    ---\n",
              "Income            1.4221861362457275     0.007263402167322044   0.0027538779013945103\n",
              "Insured           0.4855363965034485     0.0024797359676044144  0.0009401778842980803\n",
              "Dyslipidemia      0.3235361874103546     0.0016523670038346152  0.000626485615422188\n",
              "Obese             0.07047848403453827    0.0003599483644506489  0.00013647238906354077\n",
              "Fam Hypertension  0.0                    0.0                    0.0"
            ]
          },
          "metadata": {
            "tags": []
          }
        },
        {
          "output_type": "stream",
          "text": [
            "\n",
            "See the whole table with table.as_data_frame()\n"
          ],
          "name": "stdout"
        },
        {
          "output_type": "execute_result",
          "data": {
            "text/plain": [
              ""
            ]
          },
          "metadata": {
            "tags": []
          },
          "execution_count": 28
        }
      ]
    },
    {
      "cell_type": "code",
      "metadata": {
        "scrolled": true,
        "id": "9xKb8OY8wgMp",
        "colab_type": "code",
        "outputId": "26a80a39-4d55-4bc8-a16e-97b6f3b6060c",
        "colab": {
          "base_uri": "https://localhost:8080/",
          "height": 1000
        }
      },
      "source": [
        "perf2 = m2.model_performance(test)\n",
        "perf2"
      ],
      "execution_count": 29,
      "outputs": [
        {
          "output_type": "stream",
          "text": [
            "\n",
            "ModelMetricsBinomial: gbm\n",
            "** Reported on test data. **\n",
            "\n",
            "MSE: 0.05692478676740877\n",
            "RMSE: 0.23858915894777946\n",
            "LogLoss: 0.1918723161944375\n",
            "Mean Per-Class Error: 0.17478152309612982\n",
            "AUC: 0.884917290886392\n",
            "pr_auc: 0.35014674073383006\n",
            "Gini: 0.7698345817727841\n",
            "Confusion Matrix (Act/Pred) for max f1 @ threshold = 0.15940139835805198: \n"
          ],
          "name": "stdout"
        },
        {
          "output_type": "display_data",
          "data": {
            "text/html": [
              "<div style=\"overflow:auto\"><table style=\"width:50%\"><tr><td><b></b></td>\n",
              "<td><b>0</b></td>\n",
              "<td><b>1</b></td>\n",
              "<td><b>Error</b></td>\n",
              "<td><b>Rate</b></td></tr>\n",
              "<tr><td>0</td>\n",
              "<td>1611.0</td>\n",
              "<td>169.0</td>\n",
              "<td>0.0949</td>\n",
              "<td> (169.0/1780.0)</td></tr>\n",
              "<tr><td>1</td>\n",
              "<td>55.0</td>\n",
              "<td>89.0</td>\n",
              "<td>0.3819</td>\n",
              "<td> (55.0/144.0)</td></tr>\n",
              "<tr><td>Total</td>\n",
              "<td>1666.0</td>\n",
              "<td>258.0</td>\n",
              "<td>0.1164</td>\n",
              "<td> (224.0/1924.0)</td></tr></table></div>"
            ],
            "text/plain": [
              "       0     1    Error    Rate\n",
              "-----  ----  ---  -------  --------------\n",
              "0      1611  169  0.0949   (169.0/1780.0)\n",
              "1      55    89   0.3819   (55.0/144.0)\n",
              "Total  1666  258  0.1164   (224.0/1924.0)"
            ]
          },
          "metadata": {
            "tags": []
          }
        },
        {
          "output_type": "stream",
          "text": [
            "Maximum Metrics: Maximum metrics at their respective thresholds\n",
            "\n"
          ],
          "name": "stdout"
        },
        {
          "output_type": "display_data",
          "data": {
            "text/html": [
              "<div style=\"overflow:auto\"><table style=\"width:50%\"><tr><td><b>metric</b></td>\n",
              "<td><b>threshold</b></td>\n",
              "<td><b>value</b></td>\n",
              "<td><b>idx</b></td></tr>\n",
              "<tr><td>max f1</td>\n",
              "<td>0.1594014</td>\n",
              "<td>0.4427861</td>\n",
              "<td>176.0</td></tr>\n",
              "<tr><td>max f2</td>\n",
              "<td>0.0659746</td>\n",
              "<td>0.5825243</td>\n",
              "<td>265.0</td></tr>\n",
              "<tr><td>max f0point5</td>\n",
              "<td>0.3022979</td>\n",
              "<td>0.4113924</td>\n",
              "<td>98.0</td></tr>\n",
              "<tr><td>max accuracy</td>\n",
              "<td>0.8192316</td>\n",
              "<td>0.9261954</td>\n",
              "<td>1.0</td></tr>\n",
              "<tr><td>max precision</td>\n",
              "<td>0.8290710</td>\n",
              "<td>1.0</td>\n",
              "<td>0.0</td></tr>\n",
              "<tr><td>max recall</td>\n",
              "<td>0.0061033</td>\n",
              "<td>1.0</td>\n",
              "<td>385.0</td></tr>\n",
              "<tr><td>max specificity</td>\n",
              "<td>0.8290710</td>\n",
              "<td>1.0</td>\n",
              "<td>0.0</td></tr>\n",
              "<tr><td>max absolute_mcc</td>\n",
              "<td>0.0940312</td>\n",
              "<td>0.4043354</td>\n",
              "<td>234.0</td></tr>\n",
              "<tr><td>max min_per_class_accuracy</td>\n",
              "<td>0.0688825</td>\n",
              "<td>0.8168539</td>\n",
              "<td>262.0</td></tr>\n",
              "<tr><td>max mean_per_class_accuracy</td>\n",
              "<td>0.0558243</td>\n",
              "<td>0.8252185</td>\n",
              "<td>277.0</td></tr></table></div>"
            ],
            "text/plain": [
              "metric                       threshold    value     idx\n",
              "---------------------------  -----------  --------  -----\n",
              "max f1                       0.159401     0.442786  176\n",
              "max f2                       0.0659746    0.582524  265\n",
              "max f0point5                 0.302298     0.411392  98\n",
              "max accuracy                 0.819232     0.926195  1\n",
              "max precision                0.829071     1         0\n",
              "max recall                   0.00610329   1         385\n",
              "max specificity              0.829071     1         0\n",
              "max absolute_mcc             0.0940312    0.404335  234\n",
              "max min_per_class_accuracy   0.0688825    0.816854  262\n",
              "max mean_per_class_accuracy  0.0558243    0.825218  277"
            ]
          },
          "metadata": {
            "tags": []
          }
        },
        {
          "output_type": "stream",
          "text": [
            "Gains/Lift Table: Avg response rate:  7.48 %, avg score:  6.89 %\n",
            "\n"
          ],
          "name": "stdout"
        },
        {
          "output_type": "display_data",
          "data": {
            "text/html": [
              "<div style=\"overflow:auto\"><table style=\"width:50%\"><tr><td><b></b></td>\n",
              "<td><b>group</b></td>\n",
              "<td><b>cumulative_data_fraction</b></td>\n",
              "<td><b>lower_threshold</b></td>\n",
              "<td><b>lift</b></td>\n",
              "<td><b>cumulative_lift</b></td>\n",
              "<td><b>response_rate</b></td>\n",
              "<td><b>score</b></td>\n",
              "<td><b>cumulative_response_rate</b></td>\n",
              "<td><b>cumulative_score</b></td>\n",
              "<td><b>capture_rate</b></td>\n",
              "<td><b>cumulative_capture_rate</b></td>\n",
              "<td><b>gain</b></td>\n",
              "<td><b>cumulative_gain</b></td></tr>\n",
              "<tr><td></td>\n",
              "<td>1</td>\n",
              "<td>0.0083160</td>\n",
              "<td>0.6702011</td>\n",
              "<td>5.8454861</td>\n",
              "<td>5.8454861</td>\n",
              "<td>0.4375</td>\n",
              "<td>0.7457955</td>\n",
              "<td>0.4375</td>\n",
              "<td>0.7457955</td>\n",
              "<td>0.0486111</td>\n",
              "<td>0.0486111</td>\n",
              "<td>484.5486111</td>\n",
              "<td>484.5486111</td></tr>\n",
              "<tr><td></td>\n",
              "<td>2</td>\n",
              "<td>0.0166320</td>\n",
              "<td>0.5639000</td>\n",
              "<td>5.8454861</td>\n",
              "<td>5.8454861</td>\n",
              "<td>0.4375</td>\n",
              "<td>0.5983342</td>\n",
              "<td>0.4375</td>\n",
              "<td>0.6720649</td>\n",
              "<td>0.0486111</td>\n",
              "<td>0.0972222</td>\n",
              "<td>484.5486111</td>\n",
              "<td>484.5486111</td></tr>\n",
              "<tr><td></td>\n",
              "<td>3</td>\n",
              "<td>0.0285863</td>\n",
              "<td>0.4993679</td>\n",
              "<td>6.3900966</td>\n",
              "<td>6.0732323</td>\n",
              "<td>0.4782609</td>\n",
              "<td>0.5358347</td>\n",
              "<td>0.4545455</td>\n",
              "<td>0.6150959</td>\n",
              "<td>0.0763889</td>\n",
              "<td>0.1736111</td>\n",
              "<td>539.0096618</td>\n",
              "<td>507.3232323</td></tr>\n",
              "<tr><td></td>\n",
              "<td>4</td>\n",
              "<td>0.0363825</td>\n",
              "<td>0.4262993</td>\n",
              "<td>6.2351852</td>\n",
              "<td>6.1079365</td>\n",
              "<td>0.4666667</td>\n",
              "<td>0.4591699</td>\n",
              "<td>0.4571429</td>\n",
              "<td>0.5816832</td>\n",
              "<td>0.0486111</td>\n",
              "<td>0.2222222</td>\n",
              "<td>523.5185185</td>\n",
              "<td>510.7936508</td></tr>\n",
              "<tr><td></td>\n",
              "<td>5</td>\n",
              "<td>0.0415800</td>\n",
              "<td>0.3684910</td>\n",
              "<td>5.3444444</td>\n",
              "<td>6.0125</td>\n",
              "<td>0.4</td>\n",
              "<td>0.4026526</td>\n",
              "<td>0.45</td>\n",
              "<td>0.5593044</td>\n",
              "<td>0.0277778</td>\n",
              "<td>0.25</td>\n",
              "<td>434.4444444</td>\n",
              "<td>501.25</td></tr>\n",
              "<tr><td></td>\n",
              "<td>6</td>\n",
              "<td>0.0940748</td>\n",
              "<td>0.2275673</td>\n",
              "<td>4.2332233</td>\n",
              "<td>5.0196440</td>\n",
              "<td>0.3168317</td>\n",
              "<td>0.2925044</td>\n",
              "<td>0.3756906</td>\n",
              "<td>0.4104270</td>\n",
              "<td>0.2222222</td>\n",
              "<td>0.4722222</td>\n",
              "<td>323.3223322</td>\n",
              "<td>401.9643953</td></tr>\n",
              "<tr><td></td>\n",
              "<td>7</td>\n",
              "<td>0.1439709</td>\n",
              "<td>0.1449389</td>\n",
              "<td>3.2010995</td>\n",
              "<td>4.3893903</td>\n",
              "<td>0.2395833</td>\n",
              "<td>0.1850562</td>\n",
              "<td>0.3285199</td>\n",
              "<td>0.3323202</td>\n",
              "<td>0.1597222</td>\n",
              "<td>0.6319444</td>\n",
              "<td>220.1099537</td>\n",
              "<td>338.9390293</td></tr>\n",
              "<tr><td></td>\n",
              "<td>8</td>\n",
              "<td>0.1902287</td>\n",
              "<td>0.0987149</td>\n",
              "<td>2.2518727</td>\n",
              "<td>3.8696114</td>\n",
              "<td>0.1685393</td>\n",
              "<td>0.1206629</td>\n",
              "<td>0.2896175</td>\n",
              "<td>0.2808516</td>\n",
              "<td>0.1041667</td>\n",
              "<td>0.7361111</td>\n",
              "<td>125.1872659</td>\n",
              "<td>286.9611415</td></tr>\n",
              "<tr><td></td>\n",
              "<td>9</td>\n",
              "<td>0.2874220</td>\n",
              "<td>0.0462811</td>\n",
              "<td>1.5004456</td>\n",
              "<td>3.0684649</td>\n",
              "<td>0.1122995</td>\n",
              "<td>0.0661253</td>\n",
              "<td>0.2296564</td>\n",
              "<td>0.2082407</td>\n",
              "<td>0.1458333</td>\n",
              "<td>0.8819444</td>\n",
              "<td>50.0445633</td>\n",
              "<td>206.8464939</td></tr>\n",
              "<tr><td></td>\n",
              "<td>10</td>\n",
              "<td>0.3898129</td>\n",
              "<td>0.0251092</td>\n",
              "<td>0.5425832</td>\n",
              "<td>2.405</td>\n",
              "<td>0.0406091</td>\n",
              "<td>0.0348651</td>\n",
              "<td>0.18</td>\n",
              "<td>0.1627007</td>\n",
              "<td>0.0555556</td>\n",
              "<td>0.9375</td>\n",
              "<td>-45.7416808</td>\n",
              "<td>140.5000000</td></tr>\n",
              "<tr><td></td>\n",
              "<td>11</td>\n",
              "<td>0.4859667</td>\n",
              "<td>0.0141704</td>\n",
              "<td>0.2166667</td>\n",
              "<td>1.9720143</td>\n",
              "<td>0.0162162</td>\n",
              "<td>0.0189238</td>\n",
              "<td>0.1475936</td>\n",
              "<td>0.1342529</td>\n",
              "<td>0.0208333</td>\n",
              "<td>0.9583333</td>\n",
              "<td>-78.3333333</td>\n",
              "<td>97.2014260</td></tr>\n",
              "<tr><td></td>\n",
              "<td>12</td>\n",
              "<td>0.5847193</td>\n",
              "<td>0.0091146</td>\n",
              "<td>0.1406433</td>\n",
              "<td>1.6627160</td>\n",
              "<td>0.0105263</td>\n",
              "<td>0.0112198</td>\n",
              "<td>0.1244444</td>\n",
              "<td>0.1134740</td>\n",
              "<td>0.0138889</td>\n",
              "<td>0.9722222</td>\n",
              "<td>-85.9356725</td>\n",
              "<td>66.2716049</td></tr>\n",
              "<tr><td></td>\n",
              "<td>13</td>\n",
              "<td>0.6902287</td>\n",
              "<td>0.0069180</td>\n",
              "<td>0.0658183</td>\n",
              "<td>1.4186119</td>\n",
              "<td>0.0049261</td>\n",
              "<td>0.0078656</td>\n",
              "<td>0.1061747</td>\n",
              "<td>0.0973305</td>\n",
              "<td>0.0069444</td>\n",
              "<td>0.9791667</td>\n",
              "<td>-93.4181719</td>\n",
              "<td>41.8611948</td></tr>\n",
              "<tr><td></td>\n",
              "<td>14</td>\n",
              "<td>0.7884615</td>\n",
              "<td>0.0059401</td>\n",
              "<td>0.2120811</td>\n",
              "<td>1.2682927</td>\n",
              "<td>0.0158730</td>\n",
              "<td>0.0063532</td>\n",
              "<td>0.0949242</td>\n",
              "<td>0.0859958</td>\n",
              "<td>0.0208333</td>\n",
              "<td>1.0</td>\n",
              "<td>-78.7918871</td>\n",
              "<td>26.8292683</td></tr>\n",
              "<tr><td></td>\n",
              "<td>15</td>\n",
              "<td>0.8939709</td>\n",
              "<td>0.0052273</td>\n",
              "<td>0.0</td>\n",
              "<td>1.1186047</td>\n",
              "<td>0.0</td>\n",
              "<td>0.0055748</td>\n",
              "<td>0.0837209</td>\n",
              "<td>0.0765043</td>\n",
              "<td>0.0</td>\n",
              "<td>1.0</td>\n",
              "<td>-100.0</td>\n",
              "<td>11.8604651</td></tr>\n",
              "<tr><td></td>\n",
              "<td>16</td>\n",
              "<td>1.0</td>\n",
              "<td>0.0031918</td>\n",
              "<td>0.0</td>\n",
              "<td>1.0</td>\n",
              "<td>0.0</td>\n",
              "<td>0.0047334</td>\n",
              "<td>0.0748441</td>\n",
              "<td>0.0688945</td>\n",
              "<td>0.0</td>\n",
              "<td>1.0</td>\n",
              "<td>-100.0</td>\n",
              "<td>0.0</td></tr></table></div>"
            ],
            "text/plain": [
              "    group    cumulative_data_fraction    lower_threshold    lift       cumulative_lift    response_rate    score       cumulative_response_rate    cumulative_score    capture_rate    cumulative_capture_rate    gain      cumulative_gain\n",
              "--  -------  --------------------------  -----------------  ---------  -----------------  ---------------  ----------  --------------------------  ------------------  --------------  -------------------------  --------  -----------------\n",
              "    1        0.00831601                  0.670201           5.84549    5.84549            0.4375           0.745796    0.4375                      0.745796            0.0486111       0.0486111                  484.549   484.549\n",
              "    2        0.016632                    0.5639             5.84549    5.84549            0.4375           0.598334    0.4375                      0.672065            0.0486111       0.0972222                  484.549   484.549\n",
              "    3        0.0285863                   0.499368           6.3901     6.07323            0.478261         0.535835    0.454545                    0.615096            0.0763889       0.173611                   539.01    507.323\n",
              "    4        0.0363825                   0.426299           6.23519    6.10794            0.466667         0.45917     0.457143                    0.581683            0.0486111       0.222222                   523.519   510.794\n",
              "    5        0.04158                     0.368491           5.34444    6.0125             0.4              0.402653    0.45                        0.559304            0.0277778       0.25                       434.444   501.25\n",
              "    6        0.0940748                   0.227567           4.23322    5.01964            0.316832         0.292504    0.375691                    0.410427            0.222222        0.472222                   323.322   401.964\n",
              "    7        0.143971                    0.144939           3.2011     4.38939            0.239583         0.185056    0.32852                     0.33232             0.159722        0.631944                   220.11    338.939\n",
              "    8        0.190229                    0.0987149          2.25187    3.86961            0.168539         0.120663    0.289617                    0.280852            0.104167        0.736111                   125.187   286.961\n",
              "    9        0.287422                    0.0462811          1.50045    3.06846            0.112299         0.0661253   0.229656                    0.208241            0.145833        0.881944                   50.0446   206.846\n",
              "    10       0.389813                    0.0251092          0.542583   2.405              0.0406091        0.0348651   0.18                        0.162701            0.0555556       0.9375                     -45.7417  140.5\n",
              "    11       0.485967                    0.0141704          0.216667   1.97201            0.0162162        0.0189238   0.147594                    0.134253            0.0208333       0.958333                   -78.3333  97.2014\n",
              "    12       0.584719                    0.00911459         0.140643   1.66272            0.0105263        0.0112198   0.124444                    0.113474            0.0138889       0.972222                   -85.9357  66.2716\n",
              "    13       0.690229                    0.00691799         0.0658183  1.41861            0.00492611       0.00786557  0.106175                    0.0973305           0.00694444      0.979167                   -93.4182  41.8612\n",
              "    14       0.788462                    0.00594006         0.212081   1.26829            0.015873         0.00635318  0.0949242                   0.0859958           0.0208333       1                          -78.7919  26.8293\n",
              "    15       0.893971                    0.00522726         0          1.1186             0                0.00557485  0.0837209                   0.0765043           0               1                          -100      11.8605\n",
              "    16       1                           0.00319181         0          1                  0                0.00473341  0.0748441                   0.0688945           0               1                          -100      0"
            ]
          },
          "metadata": {
            "tags": []
          }
        },
        {
          "output_type": "stream",
          "text": [
            "\n"
          ],
          "name": "stdout"
        },
        {
          "output_type": "execute_result",
          "data": {
            "text/plain": [
              ""
            ]
          },
          "metadata": {
            "tags": []
          },
          "execution_count": 29
        }
      ]
    },
    {
      "cell_type": "markdown",
      "metadata": {
        "id": "_IYu0_79wgMy",
        "colab_type": "text"
      },
      "source": [
        "### Over Fitting\n"
      ]
    },
    {
      "cell_type": "code",
      "metadata": {
        "id": "8ytxjiHowgMz",
        "colab_type": "code",
        "outputId": "94495d32-903c-429e-d957-2f31b271e83c",
        "colab": {
          "base_uri": "https://localhost:8080/",
          "height": 34
        }
      },
      "source": [
        "m3 = H2OGradientBoostingEstimator(model_id = \"def9folds\" , \n",
        "                                  max_depth = 10,\n",
        "                                  ntrees = 500,\n",
        "                                  nfolds = 6)\n",
        "m3.train(x, y, train)"
      ],
      "execution_count": 30,
      "outputs": [
        {
          "output_type": "stream",
          "text": [
            "gbm Model Build progress: |███████████████████████████████████████████████| 100%\n"
          ],
          "name": "stdout"
        }
      ]
    },
    {
      "cell_type": "code",
      "metadata": {
        "scrolled": true,
        "id": "2MfTIz8nwgM5",
        "colab_type": "code",
        "outputId": "920fe3ae-6446-4f28-9647-b18079f9daa2",
        "colab": {
          "base_uri": "https://localhost:8080/",
          "height": 1000
        }
      },
      "source": [
        "perf3 = m3.model_performance(test)\n",
        "perf3"
      ],
      "execution_count": 31,
      "outputs": [
        {
          "output_type": "stream",
          "text": [
            "\n",
            "ModelMetricsBinomial: gbm\n",
            "** Reported on test data. **\n",
            "\n",
            "MSE: 0.06933039847886922\n",
            "RMSE: 0.26330666242780343\n",
            "LogLoss: 0.7353627009931729\n",
            "Mean Per-Class Error: 0.20460362047440706\n",
            "AUC: 0.8494908707865169\n",
            "pr_auc: 0.3503867096191803\n",
            "Gini: 0.6989817415730337\n",
            "Confusion Matrix (Act/Pred) for max f1 @ threshold = 0.0002517106903091874: \n"
          ],
          "name": "stdout"
        },
        {
          "output_type": "display_data",
          "data": {
            "text/html": [
              "<div style=\"overflow:auto\"><table style=\"width:50%\"><tr><td><b></b></td>\n",
              "<td><b>0</b></td>\n",
              "<td><b>1</b></td>\n",
              "<td><b>Error</b></td>\n",
              "<td><b>Rate</b></td></tr>\n",
              "<tr><td>0</td>\n",
              "<td>1662.0</td>\n",
              "<td>118.0</td>\n",
              "<td>0.0663</td>\n",
              "<td> (118.0/1780.0)</td></tr>\n",
              "<tr><td>1</td>\n",
              "<td>71.0</td>\n",
              "<td>73.0</td>\n",
              "<td>0.4931</td>\n",
              "<td> (71.0/144.0)</td></tr>\n",
              "<tr><td>Total</td>\n",
              "<td>1733.0</td>\n",
              "<td>191.0</td>\n",
              "<td>0.0982</td>\n",
              "<td> (189.0/1924.0)</td></tr></table></div>"
            ],
            "text/plain": [
              "       0     1    Error    Rate\n",
              "-----  ----  ---  -------  --------------\n",
              "0      1662  118  0.0663   (118.0/1780.0)\n",
              "1      71    73   0.4931   (71.0/144.0)\n",
              "Total  1733  191  0.0982   (189.0/1924.0)"
            ]
          },
          "metadata": {
            "tags": []
          }
        },
        {
          "output_type": "stream",
          "text": [
            "Maximum Metrics: Maximum metrics at their respective thresholds\n",
            "\n"
          ],
          "name": "stdout"
        },
        {
          "output_type": "display_data",
          "data": {
            "text/html": [
              "<div style=\"overflow:auto\"><table style=\"width:50%\"><tr><td><b>metric</b></td>\n",
              "<td><b>threshold</b></td>\n",
              "<td><b>value</b></td>\n",
              "<td><b>idx</b></td></tr>\n",
              "<tr><td>max f1</td>\n",
              "<td>0.0002517</td>\n",
              "<td>0.4358209</td>\n",
              "<td>190.0</td></tr>\n",
              "<tr><td>max f2</td>\n",
              "<td>0.0000012</td>\n",
              "<td>0.5458290</td>\n",
              "<td>355.0</td></tr>\n",
              "<tr><td>max f0point5</td>\n",
              "<td>0.2514877</td>\n",
              "<td>0.4207921</td>\n",
              "<td>64.0</td></tr>\n",
              "<tr><td>max accuracy</td>\n",
              "<td>0.9965195</td>\n",
              "<td>0.9272349</td>\n",
              "<td>15.0</td></tr>\n",
              "<tr><td>max precision</td>\n",
              "<td>0.9999980</td>\n",
              "<td>1.0</td>\n",
              "<td>0.0</td></tr>\n",
              "<tr><td>max recall</td>\n",
              "<td>0.0000000</td>\n",
              "<td>1.0</td>\n",
              "<td>399.0</td></tr>\n",
              "<tr><td>max specificity</td>\n",
              "<td>0.9999980</td>\n",
              "<td>1.0</td>\n",
              "<td>0.0</td></tr>\n",
              "<tr><td>max absolute_mcc</td>\n",
              "<td>0.0002517</td>\n",
              "<td>0.3877674</td>\n",
              "<td>190.0</td></tr>\n",
              "<tr><td>max min_per_class_accuracy</td>\n",
              "<td>0.0000001</td>\n",
              "<td>0.7803371</td>\n",
              "<td>385.0</td></tr>\n",
              "<tr><td>max mean_per_class_accuracy</td>\n",
              "<td>0.0000001</td>\n",
              "<td>0.7953964</td>\n",
              "<td>387.0</td></tr></table></div>"
            ],
            "text/plain": [
              "metric                       threshold    value     idx\n",
              "---------------------------  -----------  --------  -----\n",
              "max f1                       0.000251711  0.435821  190\n",
              "max f2                       1.19523e-06  0.545829  355\n",
              "max f0point5                 0.251488     0.420792  64\n",
              "max accuracy                 0.996519     0.927235  15\n",
              "max precision                0.999998     1         0\n",
              "max recall                   3.32019e-10  1         399\n",
              "max specificity              0.999998     1         0\n",
              "max absolute_mcc             0.000251711  0.387767  190\n",
              "max min_per_class_accuracy   1.49675e-07  0.780337  385\n",
              "max mean_per_class_accuracy  1.10366e-07  0.795396  387"
            ]
          },
          "metadata": {
            "tags": []
          }
        },
        {
          "output_type": "stream",
          "text": [
            "Gains/Lift Table: Avg response rate:  7.48 %, avg score:  2.82 %\n",
            "\n"
          ],
          "name": "stdout"
        },
        {
          "output_type": "display_data",
          "data": {
            "text/html": [
              "<div style=\"overflow:auto\"><table style=\"width:50%\"><tr><td><b></b></td>\n",
              "<td><b>group</b></td>\n",
              "<td><b>cumulative_data_fraction</b></td>\n",
              "<td><b>lower_threshold</b></td>\n",
              "<td><b>lift</b></td>\n",
              "<td><b>cumulative_lift</b></td>\n",
              "<td><b>response_rate</b></td>\n",
              "<td><b>score</b></td>\n",
              "<td><b>cumulative_response_rate</b></td>\n",
              "<td><b>cumulative_score</b></td>\n",
              "<td><b>capture_rate</b></td>\n",
              "<td><b>cumulative_capture_rate</b></td>\n",
              "<td><b>gain</b></td>\n",
              "<td><b>cumulative_gain</b></td></tr>\n",
              "<tr><td></td>\n",
              "<td>1</td>\n",
              "<td>0.0093555</td>\n",
              "<td>0.9962791</td>\n",
              "<td>7.4228395</td>\n",
              "<td>7.4228395</td>\n",
              "<td>0.5555556</td>\n",
              "<td>0.9988760</td>\n",
              "<td>0.5555556</td>\n",
              "<td>0.9988760</td>\n",
              "<td>0.0694444</td>\n",
              "<td>0.0694444</td>\n",
              "<td>642.2839506</td>\n",
              "<td>642.2839506</td></tr>\n",
              "<tr><td></td>\n",
              "<td>2</td>\n",
              "<td>0.0197505</td>\n",
              "<td>0.7849909</td>\n",
              "<td>6.0125</td>\n",
              "<td>6.6805556</td>\n",
              "<td>0.45</td>\n",
              "<td>0.9350055</td>\n",
              "<td>0.5</td>\n",
              "<td>0.9652599</td>\n",
              "<td>0.0625</td>\n",
              "<td>0.1319444</td>\n",
              "<td>501.25</td>\n",
              "<td>568.0555556</td></tr>\n",
              "<tr><td></td>\n",
              "<td>3</td>\n",
              "<td>0.0306653</td>\n",
              "<td>0.3670867</td>\n",
              "<td>6.9986772</td>\n",
              "<td>6.7937853</td>\n",
              "<td>0.5238095</td>\n",
              "<td>0.5604197</td>\n",
              "<td>0.5084746</td>\n",
              "<td>0.8211643</td>\n",
              "<td>0.0763889</td>\n",
              "<td>0.2083333</td>\n",
              "<td>599.8677249</td>\n",
              "<td>579.3785311</td></tr>\n",
              "<tr><td></td>\n",
              "<td>4</td>\n",
              "<td>0.0405405</td>\n",
              "<td>0.1026891</td>\n",
              "<td>5.6257310</td>\n",
              "<td>6.5092593</td>\n",
              "<td>0.4210526</td>\n",
              "<td>0.2161018</td>\n",
              "<td>0.4871795</td>\n",
              "<td>0.6737772</td>\n",
              "<td>0.0555556</td>\n",
              "<td>0.2638889</td>\n",
              "<td>462.5730994</td>\n",
              "<td>550.9259259</td></tr>\n",
              "<tr><td></td>\n",
              "<td>5</td>\n",
              "<td>0.0509356</td>\n",
              "<td>0.0340222</td>\n",
              "<td>3.3402778</td>\n",
              "<td>5.8625283</td>\n",
              "<td>0.25</td>\n",
              "<td>0.0551944</td>\n",
              "<td>0.4387755</td>\n",
              "<td>0.5475358</td>\n",
              "<td>0.0347222</td>\n",
              "<td>0.2986111</td>\n",
              "<td>234.0277778</td>\n",
              "<td>486.2528345</td></tr>\n",
              "<tr><td></td>\n",
              "<td>6</td>\n",
              "<td>0.0925156</td>\n",
              "<td>0.0004508</td>\n",
              "<td>3.8413194</td>\n",
              "<td>4.9541199</td>\n",
              "<td>0.2875</td>\n",
              "<td>0.0068273</td>\n",
              "<td>0.3707865</td>\n",
              "<td>0.3045208</td>\n",
              "<td>0.1597222</td>\n",
              "<td>0.4583333</td>\n",
              "<td>284.1319444</td>\n",
              "<td>395.4119850</td></tr>\n",
              "<tr><td></td>\n",
              "<td>7</td>\n",
              "<td>0.1439709</td>\n",
              "<td>0.0000158</td>\n",
              "<td>2.4292929</td>\n",
              "<td>4.0517449</td>\n",
              "<td>0.1818182</td>\n",
              "<td>0.0001135</td>\n",
              "<td>0.3032491</td>\n",
              "<td>0.1957254</td>\n",
              "<td>0.125</td>\n",
              "<td>0.5833333</td>\n",
              "<td>142.9292929</td>\n",
              "<td>305.1744886</td></tr>\n",
              "<tr><td></td>\n",
              "<td>8</td>\n",
              "<td>0.1943867</td>\n",
              "<td>0.0000020</td>\n",
              "<td>2.4793814</td>\n",
              "<td>3.6439394</td>\n",
              "<td>0.1855670</td>\n",
              "<td>0.0000064</td>\n",
              "<td>0.2727273</td>\n",
              "<td>0.1449640</td>\n",
              "<td>0.125</td>\n",
              "<td>0.7083333</td>\n",
              "<td>147.9381443</td>\n",
              "<td>264.3939394</td></tr>\n",
              "<tr><td></td>\n",
              "<td>9</td>\n",
              "<td>0.2936590</td>\n",
              "<td>0.0000001</td>\n",
              "<td>1.2591623</td>\n",
              "<td>2.8377581</td>\n",
              "<td>0.0942408</td>\n",
              "<td>0.0000005</td>\n",
              "<td>0.2123894</td>\n",
              "<td>0.0959586</td>\n",
              "<td>0.125</td>\n",
              "<td>0.8333333</td>\n",
              "<td>25.9162304</td>\n",
              "<td>183.7758112</td></tr>\n",
              "<tr><td></td>\n",
              "<td>10</td>\n",
              "<td>0.3950104</td>\n",
              "<td>0.0000000</td>\n",
              "<td>0.4796296</td>\n",
              "<td>2.2327120</td>\n",
              "<td>0.0358974</td>\n",
              "<td>0.0000000</td>\n",
              "<td>0.1671053</td>\n",
              "<td>0.0713377</td>\n",
              "<td>0.0486111</td>\n",
              "<td>0.8819444</td>\n",
              "<td>-52.0370370</td>\n",
              "<td>123.2711988</td></tr>\n",
              "<tr><td></td>\n",
              "<td>11</td>\n",
              "<td>0.4906445</td>\n",
              "<td>0.0000000</td>\n",
              "<td>0.4356884</td>\n",
              "<td>1.8824447</td>\n",
              "<td>0.0326087</td>\n",
              "<td>0.0000000</td>\n",
              "<td>0.1408898</td>\n",
              "<td>0.0574329</td>\n",
              "<td>0.0416667</td>\n",
              "<td>0.9236111</td>\n",
              "<td>-56.4311594</td>\n",
              "<td>88.2444680</td></tr>\n",
              "<tr><td></td>\n",
              "<td>12</td>\n",
              "<td>0.5862786</td>\n",
              "<td>0.0000000</td>\n",
              "<td>0.2178442</td>\n",
              "<td>1.6109141</td>\n",
              "<td>0.0163043</td>\n",
              "<td>0.0000000</td>\n",
              "<td>0.1205674</td>\n",
              "<td>0.0480644</td>\n",
              "<td>0.0208333</td>\n",
              "<td>0.9444444</td>\n",
              "<td>-78.2155797</td>\n",
              "<td>61.0914106</td></tr>\n",
              "<tr><td></td>\n",
              "<td>13</td>\n",
              "<td>0.6876299</td>\n",
              "<td>0.0000000</td>\n",
              "<td>0.2055556</td>\n",
              "<td>1.4037751</td>\n",
              "<td>0.0153846</td>\n",
              "<td>0.0000000</td>\n",
              "<td>0.1050642</td>\n",
              "<td>0.0409801</td>\n",
              "<td>0.0208333</td>\n",
              "<td>0.9652778</td>\n",
              "<td>-79.4444444</td>\n",
              "<td>40.3775090</td></tr>\n",
              "<tr><td></td>\n",
              "<td>14</td>\n",
              "<td>0.7910603</td>\n",
              "<td>0.0000000</td>\n",
              "<td>0.1342825</td>\n",
              "<td>1.2377902</td>\n",
              "<td>0.0100503</td>\n",
              "<td>0.0000000</td>\n",
              "<td>0.0926413</td>\n",
              "<td>0.0356220</td>\n",
              "<td>0.0138889</td>\n",
              "<td>0.9791667</td>\n",
              "<td>-86.5717476</td>\n",
              "<td>23.7790188</td></tr>\n",
              "<tr><td></td>\n",
              "<td>15</td>\n",
              "<td>0.8934511</td>\n",
              "<td>0.0000000</td>\n",
              "<td>0.1356458</td>\n",
              "<td>1.1114828</td>\n",
              "<td>0.0101523</td>\n",
              "<td>0.0000000</td>\n",
              "<td>0.0831879</td>\n",
              "<td>0.0315396</td>\n",
              "<td>0.0138889</td>\n",
              "<td>0.9930556</td>\n",
              "<td>-86.4354202</td>\n",
              "<td>11.1482774</td></tr>\n",
              "<tr><td></td>\n",
              "<td>16</td>\n",
              "<td>1.0</td>\n",
              "<td>0.0000000</td>\n",
              "<td>0.0651762</td>\n",
              "<td>1.0</td>\n",
              "<td>0.0048780</td>\n",
              "<td>0.0000000</td>\n",
              "<td>0.0748441</td>\n",
              "<td>0.0281791</td>\n",
              "<td>0.0069444</td>\n",
              "<td>1.0</td>\n",
              "<td>-93.4823848</td>\n",
              "<td>0.0</td></tr></table></div>"
            ],
            "text/plain": [
              "    group    cumulative_data_fraction    lower_threshold    lift       cumulative_lift    response_rate    score        cumulative_response_rate    cumulative_score    capture_rate    cumulative_capture_rate    gain      cumulative_gain\n",
              "--  -------  --------------------------  -----------------  ---------  -----------------  ---------------  -----------  --------------------------  ------------------  --------------  -------------------------  --------  -----------------\n",
              "    1        0.00935551                  0.996279           7.42284    7.42284            0.555556         0.998876     0.555556                    0.998876            0.0694444       0.0694444                  642.284   642.284\n",
              "    2        0.0197505                   0.784991           6.0125     6.68056            0.45             0.935005     0.5                         0.96526             0.0625          0.131944                   501.25    568.056\n",
              "    3        0.0306653                   0.367087           6.99868    6.79379            0.52381          0.56042      0.508475                    0.821164            0.0763889       0.208333                   599.868   579.379\n",
              "    4        0.0405405                   0.102689           5.62573    6.50926            0.421053         0.216102     0.487179                    0.673777            0.0555556       0.263889                   462.573   550.926\n",
              "    5        0.0509356                   0.0340222          3.34028    5.86253            0.25             0.0551944    0.438776                    0.547536            0.0347222       0.298611                   234.028   486.253\n",
              "    6        0.0925156                   0.000450817        3.84132    4.95412            0.2875           0.00682733   0.370787                    0.304521            0.159722        0.458333                   284.132   395.412\n",
              "    7        0.143971                    1.58321e-05        2.42929    4.05174            0.181818         0.000113474  0.303249                    0.195725            0.125           0.583333                   142.929   305.174\n",
              "    8        0.194387                    2.00851e-06        2.47938    3.64394            0.185567         6.36993e-06  0.272727                    0.144964            0.125           0.708333                   147.938   264.394\n",
              "    9        0.293659                    6.11122e-08        1.25916    2.83776            0.0942408        4.50951e-07  0.212389                    0.0959586           0.125           0.833333                   25.9162   183.776\n",
              "    10       0.39501                     7.20358e-09        0.47963    2.23271            0.0358974        2.3229e-08   0.167105                    0.0713377           0.0486111       0.881944                   -52.037   123.271\n",
              "    11       0.490644                    1.55664e-09        0.435688   1.88244            0.0326087        3.72888e-09  0.14089                     0.0574329           0.0416667       0.923611                   -56.4312  88.2445\n",
              "    12       0.586279                    4.75291e-10        0.217844   1.61091            0.0163043        8.50388e-10  0.120567                    0.0480644           0.0208333       0.944444                   -78.2156  61.0914\n",
              "    13       0.68763                     1.79724e-10        0.205556   1.40378            0.0153846        3.01576e-10  0.105064                    0.0409801           0.0208333       0.965278                   -79.4444  40.3775\n",
              "    14       0.79106                     6.8278e-11         0.134283   1.23779            0.0100503        1.19556e-10  0.0926413                   0.035622            0.0138889       0.979167                   -86.5717  23.779\n",
              "    15       0.893451                    2.3251e-11         0.135646   1.11148            0.0101523        4.31852e-11  0.0831879                   0.0315396           0.0138889       0.993056                   -86.4354  11.1483\n",
              "    16       1                           5.57231e-14        0.0651762  1                  0.00487805       9.05585e-12  0.0748441                   0.0281791           0.00694444      1                          -93.4824  0"
            ]
          },
          "metadata": {
            "tags": []
          }
        },
        {
          "output_type": "stream",
          "text": [
            "\n"
          ],
          "name": "stdout"
        },
        {
          "output_type": "execute_result",
          "data": {
            "text/plain": [
              ""
            ]
          },
          "metadata": {
            "tags": []
          },
          "execution_count": 31
        }
      ]
    },
    {
      "cell_type": "code",
      "metadata": {
        "id": "SDkC829GwgM-",
        "colab_type": "code",
        "colab": {}
      },
      "source": [
        "# Analysing model performance on training data and test data \n",
        "# m1, m2, m3 are the models training data\n",
        "# perf 1,2,3 are performance of models on test data "
      ],
      "execution_count": 0,
      "outputs": []
    },
    {
      "cell_type": "markdown",
      "metadata": {
        "id": "Tkp-OUMcwgNA",
        "colab_type": "text"
      },
      "source": [
        "# Training model performance"
      ]
    },
    {
      "cell_type": "code",
      "metadata": {
        "id": "IQz7uJ5zwgNB",
        "colab_type": "code",
        "outputId": "45cb2d03-8e14-4c4f-b78a-a63ad6073d60",
        "colab": {
          "base_uri": "https://localhost:8080/",
          "height": 120
        }
      },
      "source": [
        "m1.confusion_matrix()"
      ],
      "execution_count": 33,
      "outputs": [
        {
          "output_type": "stream",
          "text": [
            "Confusion Matrix (Act/Pred) for max f1 @ threshold = 0.37204500891332465: \n"
          ],
          "name": "stdout"
        },
        {
          "output_type": "display_data",
          "data": {
            "text/html": [
              "<div style=\"overflow:auto\"><table style=\"width:50%\"><tr><td><b></b></td>\n",
              "<td><b>0</b></td>\n",
              "<td><b>1</b></td>\n",
              "<td><b>Error</b></td>\n",
              "<td><b>Rate</b></td></tr>\n",
              "<tr><td>0</td>\n",
              "<td>3737.0</td>\n",
              "<td>19.0</td>\n",
              "<td>0.0051</td>\n",
              "<td> (19.0/3756.0)</td></tr>\n",
              "<tr><td>1</td>\n",
              "<td>83.0</td>\n",
              "<td>237.0</td>\n",
              "<td>0.2594</td>\n",
              "<td> (83.0/320.0)</td></tr>\n",
              "<tr><td>Total</td>\n",
              "<td>3820.0</td>\n",
              "<td>256.0</td>\n",
              "<td>0.025</td>\n",
              "<td> (102.0/4076.0)</td></tr></table></div>"
            ],
            "text/plain": [
              "       0     1    Error    Rate\n",
              "-----  ----  ---  -------  --------------\n",
              "0      3737  19   0.0051   (19.0/3756.0)\n",
              "1      83    237  0.2594   (83.0/320.0)\n",
              "Total  3820  256  0.025    (102.0/4076.0)"
            ]
          },
          "metadata": {
            "tags": []
          }
        },
        {
          "output_type": "execute_result",
          "data": {
            "text/plain": [
              ""
            ]
          },
          "metadata": {
            "tags": []
          },
          "execution_count": 33
        }
      ]
    },
    {
      "cell_type": "code",
      "metadata": {
        "id": "CpJrTepKwgNG",
        "colab_type": "code",
        "outputId": "27cacf18-2376-44b6-ad81-69bb6044e1ac",
        "colab": {
          "base_uri": "https://localhost:8080/",
          "height": 120
        }
      },
      "source": [
        "m2.confusion_matrix()"
      ],
      "execution_count": 34,
      "outputs": [
        {
          "output_type": "stream",
          "text": [
            "Confusion Matrix (Act/Pred) for max f1 @ threshold = 0.37204500891332465: \n"
          ],
          "name": "stdout"
        },
        {
          "output_type": "display_data",
          "data": {
            "text/html": [
              "<div style=\"overflow:auto\"><table style=\"width:50%\"><tr><td><b></b></td>\n",
              "<td><b>0</b></td>\n",
              "<td><b>1</b></td>\n",
              "<td><b>Error</b></td>\n",
              "<td><b>Rate</b></td></tr>\n",
              "<tr><td>0</td>\n",
              "<td>3737.0</td>\n",
              "<td>19.0</td>\n",
              "<td>0.0051</td>\n",
              "<td> (19.0/3756.0)</td></tr>\n",
              "<tr><td>1</td>\n",
              "<td>83.0</td>\n",
              "<td>237.0</td>\n",
              "<td>0.2594</td>\n",
              "<td> (83.0/320.0)</td></tr>\n",
              "<tr><td>Total</td>\n",
              "<td>3820.0</td>\n",
              "<td>256.0</td>\n",
              "<td>0.025</td>\n",
              "<td> (102.0/4076.0)</td></tr></table></div>"
            ],
            "text/plain": [
              "       0     1    Error    Rate\n",
              "-----  ----  ---  -------  --------------\n",
              "0      3737  19   0.0051   (19.0/3756.0)\n",
              "1      83    237  0.2594   (83.0/320.0)\n",
              "Total  3820  256  0.025    (102.0/4076.0)"
            ]
          },
          "metadata": {
            "tags": []
          }
        },
        {
          "output_type": "execute_result",
          "data": {
            "text/plain": [
              ""
            ]
          },
          "metadata": {
            "tags": []
          },
          "execution_count": 34
        }
      ]
    },
    {
      "cell_type": "code",
      "metadata": {
        "id": "cNkX-uuswgNO",
        "colab_type": "code",
        "outputId": "23610286-e7a4-4cc7-8b12-35ff0c0c7aea",
        "colab": {
          "base_uri": "https://localhost:8080/",
          "height": 120
        }
      },
      "source": [
        "m3.confusion_matrix()"
      ],
      "execution_count": 35,
      "outputs": [
        {
          "output_type": "stream",
          "text": [
            "Confusion Matrix (Act/Pred) for max f1 @ threshold = 0.9999996058366459: \n"
          ],
          "name": "stdout"
        },
        {
          "output_type": "display_data",
          "data": {
            "text/html": [
              "<div style=\"overflow:auto\"><table style=\"width:50%\"><tr><td><b></b></td>\n",
              "<td><b>0</b></td>\n",
              "<td><b>1</b></td>\n",
              "<td><b>Error</b></td>\n",
              "<td><b>Rate</b></td></tr>\n",
              "<tr><td>0</td>\n",
              "<td>3756.0</td>\n",
              "<td>0.0</td>\n",
              "<td>0.0</td>\n",
              "<td> (0.0/3756.0)</td></tr>\n",
              "<tr><td>1</td>\n",
              "<td>0.0</td>\n",
              "<td>320.0</td>\n",
              "<td>0.0</td>\n",
              "<td> (0.0/320.0)</td></tr>\n",
              "<tr><td>Total</td>\n",
              "<td>3756.0</td>\n",
              "<td>320.0</td>\n",
              "<td>0.0</td>\n",
              "<td> (0.0/4076.0)</td></tr></table></div>"
            ],
            "text/plain": [
              "       0     1    Error    Rate\n",
              "-----  ----  ---  -------  ------------\n",
              "0      3756  0    0        (0.0/3756.0)\n",
              "1      0     320  0        (0.0/320.0)\n",
              "Total  3756  320  0        (0.0/4076.0)"
            ]
          },
          "metadata": {
            "tags": []
          }
        },
        {
          "output_type": "execute_result",
          "data": {
            "text/plain": [
              ""
            ]
          },
          "metadata": {
            "tags": []
          },
          "execution_count": 35
        }
      ]
    },
    {
      "cell_type": "markdown",
      "metadata": {
        "id": "IDNuCXS_wgNZ",
        "colab_type": "text"
      },
      "source": [
        "As we can see that there is no big difference between simple model and crossvalidation. but when we overfit the model o training data, there is 0 error rate which is not good for the model. "
      ]
    },
    {
      "cell_type": "markdown",
      "metadata": {
        "id": "3_DrZwkvwgNa",
        "colab_type": "text"
      },
      "source": [
        "# Testing Model Performance"
      ]
    },
    {
      "cell_type": "code",
      "metadata": {
        "id": "bwvPeRtdwgNe",
        "colab_type": "code",
        "outputId": "230a6658-6707-4b44-e39d-40ed65f11c69",
        "colab": {
          "base_uri": "https://localhost:8080/",
          "height": 120
        }
      },
      "source": [
        "perf1.confusion_matrix()"
      ],
      "execution_count": 36,
      "outputs": [
        {
          "output_type": "stream",
          "text": [
            "Confusion Matrix (Act/Pred) for max f1 @ threshold = 0.15940139835805198: \n"
          ],
          "name": "stdout"
        },
        {
          "output_type": "display_data",
          "data": {
            "text/html": [
              "<div style=\"overflow:auto\"><table style=\"width:50%\"><tr><td><b></b></td>\n",
              "<td><b>0</b></td>\n",
              "<td><b>1</b></td>\n",
              "<td><b>Error</b></td>\n",
              "<td><b>Rate</b></td></tr>\n",
              "<tr><td>0</td>\n",
              "<td>1611.0</td>\n",
              "<td>169.0</td>\n",
              "<td>0.0949</td>\n",
              "<td> (169.0/1780.0)</td></tr>\n",
              "<tr><td>1</td>\n",
              "<td>55.0</td>\n",
              "<td>89.0</td>\n",
              "<td>0.3819</td>\n",
              "<td> (55.0/144.0)</td></tr>\n",
              "<tr><td>Total</td>\n",
              "<td>1666.0</td>\n",
              "<td>258.0</td>\n",
              "<td>0.1164</td>\n",
              "<td> (224.0/1924.0)</td></tr></table></div>"
            ],
            "text/plain": [
              "       0     1    Error    Rate\n",
              "-----  ----  ---  -------  --------------\n",
              "0      1611  169  0.0949   (169.0/1780.0)\n",
              "1      55    89   0.3819   (55.0/144.0)\n",
              "Total  1666  258  0.1164   (224.0/1924.0)"
            ]
          },
          "metadata": {
            "tags": []
          }
        },
        {
          "output_type": "execute_result",
          "data": {
            "text/plain": [
              ""
            ]
          },
          "metadata": {
            "tags": []
          },
          "execution_count": 36
        }
      ]
    },
    {
      "cell_type": "code",
      "metadata": {
        "id": "A3xSyrAtwgNl",
        "colab_type": "code",
        "outputId": "00b8b2cb-6996-4fd7-8295-b62659e24287",
        "colab": {
          "base_uri": "https://localhost:8080/",
          "height": 120
        }
      },
      "source": [
        "perf2.confusion_matrix()"
      ],
      "execution_count": 37,
      "outputs": [
        {
          "output_type": "stream",
          "text": [
            "Confusion Matrix (Act/Pred) for max f1 @ threshold = 0.15940139835805198: \n"
          ],
          "name": "stdout"
        },
        {
          "output_type": "display_data",
          "data": {
            "text/html": [
              "<div style=\"overflow:auto\"><table style=\"width:50%\"><tr><td><b></b></td>\n",
              "<td><b>0</b></td>\n",
              "<td><b>1</b></td>\n",
              "<td><b>Error</b></td>\n",
              "<td><b>Rate</b></td></tr>\n",
              "<tr><td>0</td>\n",
              "<td>1611.0</td>\n",
              "<td>169.0</td>\n",
              "<td>0.0949</td>\n",
              "<td> (169.0/1780.0)</td></tr>\n",
              "<tr><td>1</td>\n",
              "<td>55.0</td>\n",
              "<td>89.0</td>\n",
              "<td>0.3819</td>\n",
              "<td> (55.0/144.0)</td></tr>\n",
              "<tr><td>Total</td>\n",
              "<td>1666.0</td>\n",
              "<td>258.0</td>\n",
              "<td>0.1164</td>\n",
              "<td> (224.0/1924.0)</td></tr></table></div>"
            ],
            "text/plain": [
              "       0     1    Error    Rate\n",
              "-----  ----  ---  -------  --------------\n",
              "0      1611  169  0.0949   (169.0/1780.0)\n",
              "1      55    89   0.3819   (55.0/144.0)\n",
              "Total  1666  258  0.1164   (224.0/1924.0)"
            ]
          },
          "metadata": {
            "tags": []
          }
        },
        {
          "output_type": "execute_result",
          "data": {
            "text/plain": [
              ""
            ]
          },
          "metadata": {
            "tags": []
          },
          "execution_count": 37
        }
      ]
    },
    {
      "cell_type": "code",
      "metadata": {
        "id": "-aXuZvo7wgNs",
        "colab_type": "code",
        "outputId": "841e11b2-ad40-4283-f476-d04973ec4bf3",
        "colab": {
          "base_uri": "https://localhost:8080/",
          "height": 120
        }
      },
      "source": [
        "perf3.confusion_matrix()"
      ],
      "execution_count": 38,
      "outputs": [
        {
          "output_type": "stream",
          "text": [
            "Confusion Matrix (Act/Pred) for max f1 @ threshold = 0.0002517106903091874: \n"
          ],
          "name": "stdout"
        },
        {
          "output_type": "display_data",
          "data": {
            "text/html": [
              "<div style=\"overflow:auto\"><table style=\"width:50%\"><tr><td><b></b></td>\n",
              "<td><b>0</b></td>\n",
              "<td><b>1</b></td>\n",
              "<td><b>Error</b></td>\n",
              "<td><b>Rate</b></td></tr>\n",
              "<tr><td>0</td>\n",
              "<td>1662.0</td>\n",
              "<td>118.0</td>\n",
              "<td>0.0663</td>\n",
              "<td> (118.0/1780.0)</td></tr>\n",
              "<tr><td>1</td>\n",
              "<td>71.0</td>\n",
              "<td>73.0</td>\n",
              "<td>0.4931</td>\n",
              "<td> (71.0/144.0)</td></tr>\n",
              "<tr><td>Total</td>\n",
              "<td>1733.0</td>\n",
              "<td>191.0</td>\n",
              "<td>0.0982</td>\n",
              "<td> (189.0/1924.0)</td></tr></table></div>"
            ],
            "text/plain": [
              "       0     1    Error    Rate\n",
              "-----  ----  ---  -------  --------------\n",
              "0      1662  118  0.0663   (118.0/1780.0)\n",
              "1      71    73   0.4931   (71.0/144.0)\n",
              "Total  1733  191  0.0982   (189.0/1924.0)"
            ]
          },
          "metadata": {
            "tags": []
          }
        },
        {
          "output_type": "execute_result",
          "data": {
            "text/plain": [
              ""
            ]
          },
          "metadata": {
            "tags": []
          },
          "execution_count": 38
        }
      ]
    },
    {
      "cell_type": "markdown",
      "metadata": {
        "id": "Z2CAI7_twgNy",
        "colab_type": "text"
      },
      "source": [
        "When we apply the models totest data, we see that there is no difference between normal GBM model and cross validation. but it gives better results for the overfit model which is as expected. "
      ]
    }
  ]
}