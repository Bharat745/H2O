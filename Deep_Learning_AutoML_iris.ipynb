{
  "nbformat": 4,
  "nbformat_minor": 0,
  "metadata": {
    "colab": {
      "name": "Deep Learning_AutoML_iris.ipynb",
      "version": "0.3.2",
      "provenance": [],
      "include_colab_link": true
    },
    "language_info": {
      "codemirror_mode": {
        "name": "ipython",
        "version": 3
      },
      "file_extension": ".py",
      "mimetype": "text/x-python",
      "name": "python",
      "nbconvert_exporter": "python",
      "pygments_lexer": "ipython3",
      "version": "3.7.3"
    },
    "kernelspec": {
      "display_name": "Python 3",
      "language": "python",
      "name": "python3"
    }
  },
  "cells": [
    {
      "cell_type": "markdown",
      "metadata": {
        "id": "view-in-github",
        "colab_type": "text"
      },
      "source": [
        "<a href=\"https://colab.research.google.com/github/Bharat745/H2O/blob/master/Deep_Learning_AutoML_iris.ipynb\" target=\"_parent\"><img src=\"https://colab.research.google.com/assets/colab-badge.svg\" alt=\"Open In Colab\"/></a>"
      ]
    },
    {
      "cell_type": "markdown",
      "metadata": {
        "id": "bdfO9Rqh8nLF",
        "colab_type": "text"
      },
      "source": [
        "# Deep Learning_AutoML_iris"
      ]
    },
    {
      "cell_type": "markdown",
      "metadata": {
        "id": "nLw0rgPA9Okr",
        "colab_type": "text"
      },
      "source": [
        "## Installation and imports\n"
      ]
    },
    {
      "cell_type": "code",
      "metadata": {
        "id": "XbmULGR69ZIQ",
        "colab_type": "code",
        "colab": {}
      },
      "source": [
        "# Installing java version for running H2O on colab\n",
        "! apt-get install default-jre\n",
        "!java -version"
      ],
      "execution_count": 0,
      "outputs": []
    },
    {
      "cell_type": "markdown",
      "metadata": {
        "id": "1HXS0PaC9X0z",
        "colab_type": "text"
      },
      "source": [
        ""
      ]
    },
    {
      "cell_type": "code",
      "metadata": {
        "id": "jmVrH5jn8nLM",
        "colab_type": "code",
        "colab": {
          "base_uri": "https://localhost:8080/",
          "height": 372
        },
        "outputId": "7609b9c8-1670-4752-8052-84bac6f10a10"
      },
      "source": [
        "# Start and connect to local H2O cluster\n",
        "import h2o\n",
        "h2o.init(nthreads = -1)"
      ],
      "execution_count": 1,
      "outputs": [
        {
          "output_type": "stream",
          "text": [
            "Checking whether there is an H2O instance running at http://localhost:54321 . connected.\n"
          ],
          "name": "stdout"
        },
        {
          "output_type": "display_data",
          "data": {
            "text/html": [
              "<div style=\"overflow:auto\"><table style=\"width:50%\"><tr><td>H2O cluster uptime:</td>\n",
              "<td>51 mins 26 secs</td></tr>\n",
              "<tr><td>H2O cluster timezone:</td>\n",
              "<td>Etc/UTC</td></tr>\n",
              "<tr><td>H2O data parsing timezone:</td>\n",
              "<td>UTC</td></tr>\n",
              "<tr><td>H2O cluster version:</td>\n",
              "<td>3.24.0.5</td></tr>\n",
              "<tr><td>H2O cluster version age:</td>\n",
              "<td>16 days </td></tr>\n",
              "<tr><td>H2O cluster name:</td>\n",
              "<td>H2O_from_python_unknownUser_243a22</td></tr>\n",
              "<tr><td>H2O cluster total nodes:</td>\n",
              "<td>1</td></tr>\n",
              "<tr><td>H2O cluster free memory:</td>\n",
              "<td>3.000 Gb</td></tr>\n",
              "<tr><td>H2O cluster total cores:</td>\n",
              "<td>2</td></tr>\n",
              "<tr><td>H2O cluster allowed cores:</td>\n",
              "<td>2</td></tr>\n",
              "<tr><td>H2O cluster status:</td>\n",
              "<td>locked, healthy</td></tr>\n",
              "<tr><td>H2O connection url:</td>\n",
              "<td>http://localhost:54321</td></tr>\n",
              "<tr><td>H2O connection proxy:</td>\n",
              "<td>None</td></tr>\n",
              "<tr><td>H2O internal security:</td>\n",
              "<td>False</td></tr>\n",
              "<tr><td>H2O API Extensions:</td>\n",
              "<td>Amazon S3, XGBoost, Algos, AutoML, Core V3, Core V4</td></tr>\n",
              "<tr><td>Python version:</td>\n",
              "<td>3.6.8 final</td></tr></table></div>"
            ],
            "text/plain": [
              "--------------------------  ---------------------------------------------------\n",
              "H2O cluster uptime:         51 mins 26 secs\n",
              "H2O cluster timezone:       Etc/UTC\n",
              "H2O data parsing timezone:  UTC\n",
              "H2O cluster version:        3.24.0.5\n",
              "H2O cluster version age:    16 days\n",
              "H2O cluster name:           H2O_from_python_unknownUser_243a22\n",
              "H2O cluster total nodes:    1\n",
              "H2O cluster free memory:    3.000 Gb\n",
              "H2O cluster total cores:    2\n",
              "H2O cluster allowed cores:  2\n",
              "H2O cluster status:         locked, healthy\n",
              "H2O connection url:         http://localhost:54321\n",
              "H2O connection proxy:\n",
              "H2O internal security:      False\n",
              "H2O API Extensions:         Amazon S3, XGBoost, Algos, AutoML, Core V3, Core V4\n",
              "Python version:             3.6.8 final\n",
              "--------------------------  ---------------------------------------------------"
            ]
          },
          "metadata": {
            "tags": []
          }
        }
      ]
    },
    {
      "cell_type": "code",
      "metadata": {
        "collapsed": true,
        "id": "JMgNGdKI8nLf",
        "colab_type": "code",
        "colab": {
          "base_uri": "https://localhost:8080/",
          "height": 34
        },
        "outputId": "c2cf351d-9b9f-4b1e-a85b-69d4ce9281c7"
      },
      "source": [
        "#Import dataset\n",
        "url = \"http://h2o-public-test-data.s3.amazonaws.com/smalldata/iris/iris_wheader.csv\"\n",
        "iris= h2o.import_file(url)"
      ],
      "execution_count": 2,
      "outputs": [
        {
          "output_type": "stream",
          "text": [
            "Parse progress: |█████████████████████████████████████████████████████████| 100%\n"
          ],
          "name": "stdout"
        }
      ]
    },
    {
      "cell_type": "markdown",
      "metadata": {
        "id": "wS7-2IBU9t43",
        "colab_type": "text"
      },
      "source": [
        "## Analysis / Modelling"
      ]
    },
    {
      "cell_type": "code",
      "metadata": {
        "id": "AcU9cMxs8nLn",
        "colab_type": "code",
        "colab": {}
      },
      "source": [
        "# Splitting the dataset to train and test\n",
        "train, test = iris.split_frame([0.8])"
      ],
      "execution_count": 0,
      "outputs": []
    },
    {
      "cell_type": "code",
      "metadata": {
        "scrolled": true,
        "id": "b5YAWtfY8nLv",
        "colab_type": "code",
        "colab": {
          "base_uri": "https://localhost:8080/",
          "height": 647
        },
        "outputId": "1cec14b8-8111-4d13-de17-1e0e31883376"
      },
      "source": [
        "#looking at the datasets\n",
        "train.summary()\n",
        "test.summary"
      ],
      "execution_count": 4,
      "outputs": [
        {
          "output_type": "display_data",
          "data": {
            "text/html": [
              "<table>\n",
              "<thead>\n",
              "<tr><th>       </th><th>sepal_len         </th><th>sepal_wid          </th><th>petal_len         </th><th>petal_wid         </th><th>class      </th></tr>\n",
              "</thead>\n",
              "<tbody>\n",
              "<tr><td>type   </td><td>real              </td><td>real               </td><td>real              </td><td>real              </td><td>enum       </td></tr>\n",
              "<tr><td>mins   </td><td>4.3               </td><td>2.2                </td><td>1.1               </td><td>0.1               </td><td>           </td></tr>\n",
              "<tr><td>mean   </td><td>5.859836065573771 </td><td>3.0852459016393428 </td><td>3.7442622950819673</td><td>1.1901639344262296</td><td>           </td></tr>\n",
              "<tr><td>maxs   </td><td>7.9               </td><td>4.4                </td><td>6.9               </td><td>2.5               </td><td>           </td></tr>\n",
              "<tr><td>sigma  </td><td>0.8272886947575492</td><td>0.42788585238240207</td><td>1.8030300108120507</td><td>0.7781531256462235</td><td>           </td></tr>\n",
              "<tr><td>zeros  </td><td>0                 </td><td>0                  </td><td>0                 </td><td>0                 </td><td>           </td></tr>\n",
              "<tr><td>missing</td><td>0                 </td><td>0                  </td><td>0                 </td><td>0                 </td><td>0          </td></tr>\n",
              "<tr><td>0      </td><td>4.9               </td><td>3.0                </td><td>1.4               </td><td>0.2               </td><td>Iris-setosa</td></tr>\n",
              "<tr><td>1      </td><td>4.7               </td><td>3.2                </td><td>1.3               </td><td>0.2               </td><td>Iris-setosa</td></tr>\n",
              "<tr><td>2      </td><td>4.6               </td><td>3.1                </td><td>1.5               </td><td>0.2               </td><td>Iris-setosa</td></tr>\n",
              "<tr><td>3      </td><td>5.0               </td><td>3.6                </td><td>1.4               </td><td>0.2               </td><td>Iris-setosa</td></tr>\n",
              "<tr><td>4      </td><td>5.4               </td><td>3.9                </td><td>1.7               </td><td>0.4               </td><td>Iris-setosa</td></tr>\n",
              "<tr><td>5      </td><td>4.6               </td><td>3.4                </td><td>1.4               </td><td>0.3               </td><td>Iris-setosa</td></tr>\n",
              "<tr><td>6      </td><td>5.0               </td><td>3.4                </td><td>1.5               </td><td>0.2               </td><td>Iris-setosa</td></tr>\n",
              "<tr><td>7      </td><td>4.9               </td><td>3.1                </td><td>1.5               </td><td>0.1               </td><td>Iris-setosa</td></tr>\n",
              "<tr><td>8      </td><td>5.4               </td><td>3.7                </td><td>1.5               </td><td>0.2               </td><td>Iris-setosa</td></tr>\n",
              "<tr><td>9      </td><td>4.8               </td><td>3.4                </td><td>1.6               </td><td>0.2               </td><td>Iris-setosa</td></tr>\n",
              "</tbody>\n",
              "</table>"
            ]
          },
          "metadata": {
            "tags": []
          }
        },
        {
          "output_type": "display_data",
          "data": {
            "text/html": [
              "<table>\n",
              "<thead>\n",
              "<tr><th style=\"text-align: right;\">  sepal_len</th><th style=\"text-align: right;\">  sepal_wid</th><th style=\"text-align: right;\">  petal_len</th><th style=\"text-align: right;\">  petal_wid</th><th>class          </th></tr>\n",
              "</thead>\n",
              "<tbody>\n",
              "<tr><td style=\"text-align: right;\">        5.1</td><td style=\"text-align: right;\">        3.5</td><td style=\"text-align: right;\">        1.4</td><td style=\"text-align: right;\">        0.2</td><td>Iris-setosa    </td></tr>\n",
              "<tr><td style=\"text-align: right;\">        4.4</td><td style=\"text-align: right;\">        2.9</td><td style=\"text-align: right;\">        1.4</td><td style=\"text-align: right;\">        0.2</td><td>Iris-setosa    </td></tr>\n",
              "<tr><td style=\"text-align: right;\">        4.6</td><td style=\"text-align: right;\">        3.6</td><td style=\"text-align: right;\">        1  </td><td style=\"text-align: right;\">        0.2</td><td>Iris-setosa    </td></tr>\n",
              "<tr><td style=\"text-align: right;\">        4.7</td><td style=\"text-align: right;\">        3.2</td><td style=\"text-align: right;\">        1.6</td><td style=\"text-align: right;\">        0.2</td><td>Iris-setosa    </td></tr>\n",
              "<tr><td style=\"text-align: right;\">        5  </td><td style=\"text-align: right;\">        3.5</td><td style=\"text-align: right;\">        1.3</td><td style=\"text-align: right;\">        0.3</td><td>Iris-setosa    </td></tr>\n",
              "<tr><td style=\"text-align: right;\">        5.1</td><td style=\"text-align: right;\">        3.8</td><td style=\"text-align: right;\">        1.6</td><td style=\"text-align: right;\">        0.2</td><td>Iris-setosa    </td></tr>\n",
              "<tr><td style=\"text-align: right;\">        4.6</td><td style=\"text-align: right;\">        3.2</td><td style=\"text-align: right;\">        1.4</td><td style=\"text-align: right;\">        0.2</td><td>Iris-setosa    </td></tr>\n",
              "<tr><td style=\"text-align: right;\">        5.2</td><td style=\"text-align: right;\">        2.7</td><td style=\"text-align: right;\">        3.9</td><td style=\"text-align: right;\">        1.4</td><td>Iris-versicolor</td></tr>\n",
              "<tr><td style=\"text-align: right;\">        5  </td><td style=\"text-align: right;\">        2  </td><td style=\"text-align: right;\">        3.5</td><td style=\"text-align: right;\">        1  </td><td>Iris-versicolor</td></tr>\n",
              "<tr><td style=\"text-align: right;\">        5.9</td><td style=\"text-align: right;\">        3  </td><td style=\"text-align: right;\">        4.2</td><td style=\"text-align: right;\">        1.5</td><td>Iris-versicolor</td></tr>\n",
              "</tbody>\n",
              "</table>"
            ]
          },
          "metadata": {
            "tags": []
          }
        },
        {
          "output_type": "execute_result",
          "data": {
            "text/plain": [
              "<bound method H2OFrame.summary of >"
            ]
          },
          "metadata": {
            "tags": []
          },
          "execution_count": 4
        }
      ]
    },
    {
      "cell_type": "code",
      "metadata": {
        "id": "0yDROeVv8nL8",
        "colab_type": "code",
        "colab": {
          "base_uri": "https://localhost:8080/",
          "height": 34
        },
        "outputId": "753ac3a9-e230-4163-bf1f-580e1bf54341"
      },
      "source": [
        "train.nrows"
      ],
      "execution_count": 5,
      "outputs": [
        {
          "output_type": "execute_result",
          "data": {
            "text/plain": [
              "122"
            ]
          },
          "metadata": {
            "tags": []
          },
          "execution_count": 5
        }
      ]
    },
    {
      "cell_type": "code",
      "metadata": {
        "id": "bot0bUdV8nMH",
        "colab_type": "code",
        "colab": {
          "base_uri": "https://localhost:8080/",
          "height": 34
        },
        "outputId": "5ff1dffe-82b8-4648-8952-5bc8d611855e"
      },
      "source": [
        "test.nrows"
      ],
      "execution_count": 6,
      "outputs": [
        {
          "output_type": "execute_result",
          "data": {
            "text/plain": [
              "28"
            ]
          },
          "metadata": {
            "tags": []
          },
          "execution_count": 6
        }
      ]
    },
    {
      "cell_type": "markdown",
      "metadata": {
        "id": "w-VoVQGW8nMW",
        "colab_type": "text"
      },
      "source": [
        "### Deep Learning Model"
      ]
    },
    {
      "cell_type": "code",
      "metadata": {
        "id": "X0qKYI428nMd",
        "colab_type": "code",
        "colab": {}
      },
      "source": [
        "from h2o.estimators.deeplearning import H2ODeepLearningEstimator"
      ],
      "execution_count": 0,
      "outputs": []
    },
    {
      "cell_type": "code",
      "metadata": {
        "id": "EXgpYx0A8nMi",
        "colab_type": "code",
        "colab": {}
      },
      "source": [
        "# Define the features and target\n",
        "features = list(test.columns)\n",
        "target = \"class\""
      ],
      "execution_count": 0,
      "outputs": []
    },
    {
      "cell_type": "code",
      "metadata": {
        "id": "bfhQ77F68nMo",
        "colab_type": "code",
        "colab": {
          "base_uri": "https://localhost:8080/",
          "height": 845
        },
        "outputId": "999d9346-62e4-480e-dc4f-f42ee4f98bf8"
      },
      "source": [
        "# Train the Deep Learning Model\n",
        "mDL = H2ODeepLearningEstimator(seed= 1234)\n",
        "mDL.train(x= features, y = target ,training_frame = train)\n",
        "print(mDL)"
      ],
      "execution_count": 9,
      "outputs": [
        {
          "output_type": "stream",
          "text": [
            "deeplearning Model Build progress: |██████████████████████████████████████| 100%\n",
            "Model Details\n",
            "=============\n",
            "H2ODeepLearningEstimator :  Deep Learning\n",
            "Model Key:  DeepLearning_model_python_1562340797463_2\n",
            "\n",
            "\n",
            "ModelMetricsMultinomial: deeplearning\n",
            "** Reported on train data. **\n",
            "\n",
            "MSE: 0.2122751645958932\n",
            "RMSE: 0.4607332900886295\n",
            "LogLoss: 1.0339615996634133\n",
            "Mean Per-Class Error: 0.2170542635658915\n",
            "Confusion Matrix: Row labels: Actual class; Column labels: Predicted class\n",
            "\n"
          ],
          "name": "stdout"
        },
        {
          "output_type": "display_data",
          "data": {
            "text/html": [
              "<div style=\"overflow:auto\"><table style=\"width:50%\"><tr><td><b>Iris-setosa</b></td>\n",
              "<td><b>Iris-versicolor</b></td>\n",
              "<td><b>Iris-virginica</b></td>\n",
              "<td><b>Error</b></td>\n",
              "<td><b>Rate</b></td></tr>\n",
              "<tr><td>43.0</td>\n",
              "<td>0.0</td>\n",
              "<td>0.0</td>\n",
              "<td>0.0</td>\n",
              "<td>0 / 43</td></tr>\n",
              "<tr><td>0.0</td>\n",
              "<td>36.0</td>\n",
              "<td>0.0</td>\n",
              "<td>0.0</td>\n",
              "<td>0 / 36</td></tr>\n",
              "<tr><td>0.0</td>\n",
              "<td>28.0</td>\n",
              "<td>15.0</td>\n",
              "<td>0.6511628</td>\n",
              "<td>28 / 43</td></tr>\n",
              "<tr><td>43.0</td>\n",
              "<td>64.0</td>\n",
              "<td>15.0</td>\n",
              "<td>0.2295082</td>\n",
              "<td>28 / 122</td></tr></table></div>"
            ],
            "text/plain": [
              "Iris-setosa    Iris-versicolor    Iris-virginica    Error     Rate\n",
              "-------------  -----------------  ----------------  --------  --------\n",
              "43             0                  0                 0         0 / 43\n",
              "0              36                 0                 0         0 / 36\n",
              "0              28                 15                0.651163  28 / 43\n",
              "43             64                 15                0.229508  28 / 122"
            ]
          },
          "metadata": {
            "tags": []
          }
        },
        {
          "output_type": "stream",
          "text": [
            "Top-3 Hit Ratios: \n"
          ],
          "name": "stdout"
        },
        {
          "output_type": "display_data",
          "data": {
            "text/html": [
              "<div style=\"overflow:auto\"><table style=\"width:50%\"><tr><td><b>k</b></td>\n",
              "<td><b>hit_ratio</b></td></tr>\n",
              "<tr><td>1</td>\n",
              "<td>0.7704918</td></tr>\n",
              "<tr><td>2</td>\n",
              "<td>1.0</td></tr>\n",
              "<tr><td>3</td>\n",
              "<td>1.0</td></tr></table></div>"
            ],
            "text/plain": [
              "k    hit_ratio\n",
              "---  -----------\n",
              "1    0.770492\n",
              "2    1\n",
              "3    1"
            ]
          },
          "metadata": {
            "tags": []
          }
        },
        {
          "output_type": "stream",
          "text": [
            "Scoring History: \n"
          ],
          "name": "stdout"
        },
        {
          "output_type": "display_data",
          "data": {
            "text/html": [
              "<div style=\"overflow:auto\"><table style=\"width:50%\"><tr><td><b></b></td>\n",
              "<td><b>timestamp</b></td>\n",
              "<td><b>duration</b></td>\n",
              "<td><b>training_speed</b></td>\n",
              "<td><b>epochs</b></td>\n",
              "<td><b>iterations</b></td>\n",
              "<td><b>samples</b></td>\n",
              "<td><b>training_rmse</b></td>\n",
              "<td><b>training_logloss</b></td>\n",
              "<td><b>training_r2</b></td>\n",
              "<td><b>training_classification_error</b></td></tr>\n",
              "<tr><td></td>\n",
              "<td>2019-07-05 16:29:57</td>\n",
              "<td> 0.000 sec</td>\n",
              "<td>None</td>\n",
              "<td>0.0</td>\n",
              "<td>0</td>\n",
              "<td>0.0</td>\n",
              "<td>nan</td>\n",
              "<td>nan</td>\n",
              "<td>nan</td>\n",
              "<td>nan</td></tr>\n",
              "<tr><td></td>\n",
              "<td>2019-07-05 16:29:58</td>\n",
              "<td> 0.726 sec</td>\n",
              "<td>246 obs/sec</td>\n",
              "<td>1.0</td>\n",
              "<td>1</td>\n",
              "<td>122.0</td>\n",
              "<td>0.8353406</td>\n",
              "<td>4.8591730</td>\n",
              "<td>0.0101063</td>\n",
              "<td>0.7049180</td></tr>\n",
              "<tr><td></td>\n",
              "<td>2019-07-05 16:29:58</td>\n",
              "<td> 1.463 sec</td>\n",
              "<td>1007 obs/sec</td>\n",
              "<td>10.0</td>\n",
              "<td>10</td>\n",
              "<td>1220.0</td>\n",
              "<td>0.4607333</td>\n",
              "<td>1.0339616</td>\n",
              "<td>0.6988655</td>\n",
              "<td>0.2295082</td></tr></table></div>"
            ],
            "text/plain": [
              "    timestamp            duration    training_speed    epochs    iterations    samples    training_rmse    training_logloss    training_r2    training_classification_error\n",
              "--  -------------------  ----------  ----------------  --------  ------------  ---------  ---------------  ------------------  -------------  -------------------------------\n",
              "    2019-07-05 16:29:57  0.000 sec                     0         0             0          nan              nan                 nan            nan\n",
              "    2019-07-05 16:29:58  0.726 sec   246 obs/sec       1         1             122        0.835341         4.85917             0.0101063      0.704918\n",
              "    2019-07-05 16:29:58  1.463 sec   1007 obs/sec      10        10            1220       0.460733         1.03396             0.698865       0.229508"
            ]
          },
          "metadata": {
            "tags": []
          }
        },
        {
          "output_type": "stream",
          "text": [
            "Variable Importances: \n"
          ],
          "name": "stdout"
        },
        {
          "output_type": "display_data",
          "data": {
            "text/html": [
              "<div style=\"overflow:auto\"><table style=\"width:50%\"><tr><td><b>variable</b></td>\n",
              "<td><b>relative_importance</b></td>\n",
              "<td><b>scaled_importance</b></td>\n",
              "<td><b>percentage</b></td></tr>\n",
              "<tr><td>petal_wid</td>\n",
              "<td>1.0</td>\n",
              "<td>1.0</td>\n",
              "<td>0.2673977</td></tr>\n",
              "<tr><td>sepal_len</td>\n",
              "<td>0.9248157</td>\n",
              "<td>0.9248157</td>\n",
              "<td>0.2472935</td></tr>\n",
              "<tr><td>sepal_wid</td>\n",
              "<td>0.9220610</td>\n",
              "<td>0.9220610</td>\n",
              "<td>0.2465570</td></tr>\n",
              "<tr><td>petal_len</td>\n",
              "<td>0.8928717</td>\n",
              "<td>0.8928717</td>\n",
              "<td>0.2387518</td></tr></table></div>"
            ],
            "text/plain": [
              "variable    relative_importance    scaled_importance    percentage\n",
              "----------  ---------------------  -------------------  ------------\n",
              "petal_wid   1                      1                    0.267398\n",
              "sepal_len   0.924816               0.924816             0.247294\n",
              "sepal_wid   0.922061               0.922061             0.246557\n",
              "petal_len   0.892872               0.892872             0.238752"
            ]
          },
          "metadata": {
            "tags": []
          }
        },
        {
          "output_type": "stream",
          "text": [
            "\n"
          ],
          "name": "stdout"
        }
      ]
    },
    {
      "cell_type": "markdown",
      "metadata": {
        "id": "cuBXplqoCt8N",
        "colab_type": "text"
      },
      "source": [
        "As we see from the above model that 28/122 were classified wrong, giving a prediction accuracy of 77% on the traning data."
      ]
    },
    {
      "cell_type": "markdown",
      "metadata": {
        "id": "0a1nbpW2-MtB",
        "colab_type": "text"
      },
      "source": [
        "### Results"
      ]
    },
    {
      "cell_type": "code",
      "metadata": {
        "id": "uHz6KJuv8nM3",
        "colab_type": "code",
        "colab": {
          "base_uri": "https://localhost:8080/",
          "height": 34
        },
        "outputId": "58f8a853-cd2c-4f2a-ad09-9a72fbb26922"
      },
      "source": [
        "# Using the Deep Learning model to make predictions\n",
        "p = mDL.predict(test)"
      ],
      "execution_count": 10,
      "outputs": [
        {
          "output_type": "stream",
          "text": [
            "deeplearning prediction progress: |███████████████████████████████████████| 100%\n"
          ],
          "name": "stdout"
        }
      ]
    },
    {
      "cell_type": "code",
      "metadata": {
        "id": "JuQbWo8o8nNB",
        "colab_type": "code",
        "colab": {
          "base_uri": "https://localhost:8080/",
          "height": 250
        },
        "outputId": "111305c4-a34d-42c3-cea4-e1c47bb96841"
      },
      "source": [
        "p"
      ],
      "execution_count": 11,
      "outputs": [
        {
          "output_type": "display_data",
          "data": {
            "text/html": [
              "<table>\n",
              "<thead>\n",
              "<tr><th>predict        </th><th style=\"text-align: right;\">  Iris-setosa</th><th style=\"text-align: right;\">  Iris-versicolor</th><th style=\"text-align: right;\">  Iris-virginica</th></tr>\n",
              "</thead>\n",
              "<tbody>\n",
              "<tr><td>Iris-setosa    </td><td style=\"text-align: right;\">  0.998851   </td><td style=\"text-align: right;\">      0.00114853 </td><td style=\"text-align: right;\">     7.84442e-20</td></tr>\n",
              "<tr><td>Iris-setosa    </td><td style=\"text-align: right;\">  0.998063   </td><td style=\"text-align: right;\">      0.00193744 </td><td style=\"text-align: right;\">     1.88171e-18</td></tr>\n",
              "<tr><td>Iris-setosa    </td><td style=\"text-align: right;\">  0.999923   </td><td style=\"text-align: right;\">      7.74369e-05</td><td style=\"text-align: right;\">     8.02947e-21</td></tr>\n",
              "<tr><td>Iris-setosa    </td><td style=\"text-align: right;\">  0.998985   </td><td style=\"text-align: right;\">      0.0010147  </td><td style=\"text-align: right;\">     4.57945e-19</td></tr>\n",
              "<tr><td>Iris-setosa    </td><td style=\"text-align: right;\">  0.999253   </td><td style=\"text-align: right;\">      0.000746841</td><td style=\"text-align: right;\">     1.3287e-19 </td></tr>\n",
              "<tr><td>Iris-setosa    </td><td style=\"text-align: right;\">  0.999761   </td><td style=\"text-align: right;\">      0.000239409</td><td style=\"text-align: right;\">     2.63967e-20</td></tr>\n",
              "<tr><td>Iris-setosa    </td><td style=\"text-align: right;\">  0.999353   </td><td style=\"text-align: right;\">      0.000646653</td><td style=\"text-align: right;\">     2.41184e-19</td></tr>\n",
              "<tr><td>Iris-versicolor</td><td style=\"text-align: right;\">  0.000238537</td><td style=\"text-align: right;\">      0.99976    </td><td style=\"text-align: right;\">     1.92181e-06</td></tr>\n",
              "<tr><td>Iris-versicolor</td><td style=\"text-align: right;\">  2.22277e-05</td><td style=\"text-align: right;\">      0.999978   </td><td style=\"text-align: right;\">     4.89992e-08</td></tr>\n",
              "<tr><td>Iris-versicolor</td><td style=\"text-align: right;\">  1.62074e-05</td><td style=\"text-align: right;\">      0.999982   </td><td style=\"text-align: right;\">     1.51976e-06</td></tr>\n",
              "</tbody>\n",
              "</table>"
            ]
          },
          "metadata": {
            "tags": []
          }
        },
        {
          "output_type": "execute_result",
          "data": {
            "text/plain": [
              ""
            ]
          },
          "metadata": {
            "tags": []
          },
          "execution_count": 11
        }
      ]
    },
    {
      "cell_type": "code",
      "metadata": {
        "scrolled": false,
        "id": "m75e3nr78nNI",
        "colab_type": "code",
        "colab": {
          "base_uri": "https://localhost:8080/",
          "height": 397
        },
        "outputId": "1064cd9d-ff4c-4dff-c2b7-d2e0a501cbb8"
      },
      "source": [
        "# Checking the performance of the model\n",
        "mDL.model_performance(test)"
      ],
      "execution_count": 12,
      "outputs": [
        {
          "output_type": "stream",
          "text": [
            "\n",
            "ModelMetricsMultinomial: deeplearning\n",
            "** Reported on test data. **\n",
            "\n",
            "MSE: 0.12873965177905247\n",
            "RMSE: 0.3588030821760767\n",
            "LogLoss: 0.4069171947216555\n",
            "Mean Per-Class Error: 0.2380952380952381\n",
            "Confusion Matrix: Row labels: Actual class; Column labels: Predicted class\n",
            "\n"
          ],
          "name": "stdout"
        },
        {
          "output_type": "display_data",
          "data": {
            "text/html": [
              "<div style=\"overflow:auto\"><table style=\"width:50%\"><tr><td><b>Iris-setosa</b></td>\n",
              "<td><b>Iris-versicolor</b></td>\n",
              "<td><b>Iris-virginica</b></td>\n",
              "<td><b>Error</b></td>\n",
              "<td><b>Rate</b></td></tr>\n",
              "<tr><td>7.0</td>\n",
              "<td>0.0</td>\n",
              "<td>0.0</td>\n",
              "<td>0.0</td>\n",
              "<td>0 / 7</td></tr>\n",
              "<tr><td>0.0</td>\n",
              "<td>14.0</td>\n",
              "<td>0.0</td>\n",
              "<td>0.0</td>\n",
              "<td>0 / 14</td></tr>\n",
              "<tr><td>0.0</td>\n",
              "<td>5.0</td>\n",
              "<td>2.0</td>\n",
              "<td>0.7142857</td>\n",
              "<td>5 / 7</td></tr>\n",
              "<tr><td>7.0</td>\n",
              "<td>19.0</td>\n",
              "<td>2.0</td>\n",
              "<td>0.1785714</td>\n",
              "<td>5 / 28</td></tr></table></div>"
            ],
            "text/plain": [
              "Iris-setosa    Iris-versicolor    Iris-virginica    Error     Rate\n",
              "-------------  -----------------  ----------------  --------  ------\n",
              "7              0                  0                 0         0 / 7\n",
              "0              14                 0                 0         0 / 14\n",
              "0              5                  2                 0.714286  5 / 7\n",
              "7              19                 2                 0.178571  5 / 28"
            ]
          },
          "metadata": {
            "tags": []
          }
        },
        {
          "output_type": "stream",
          "text": [
            "Top-3 Hit Ratios: \n"
          ],
          "name": "stdout"
        },
        {
          "output_type": "display_data",
          "data": {
            "text/html": [
              "<div style=\"overflow:auto\"><table style=\"width:50%\"><tr><td><b>k</b></td>\n",
              "<td><b>hit_ratio</b></td></tr>\n",
              "<tr><td>1</td>\n",
              "<td>0.8214286</td></tr>\n",
              "<tr><td>2</td>\n",
              "<td>1.0</td></tr>\n",
              "<tr><td>3</td>\n",
              "<td>1.0</td></tr></table></div>"
            ],
            "text/plain": [
              "k    hit_ratio\n",
              "---  -----------\n",
              "1    0.821429\n",
              "2    1\n",
              "3    1"
            ]
          },
          "metadata": {
            "tags": []
          }
        },
        {
          "output_type": "execute_result",
          "data": {
            "text/plain": [
              ""
            ]
          },
          "metadata": {
            "tags": []
          },
          "execution_count": 12
        }
      ]
    },
    {
      "cell_type": "markdown",
      "metadata": {
        "id": "ie-FXV9fDGQu",
        "colab_type": "text"
      },
      "source": [
        "When we test our Deep Learning model, it gives us a higher accuracy of prediction i.e. 82% on our test data."
      ]
    },
    {
      "cell_type": "markdown",
      "metadata": {
        "id": "pm9qwBUG8nNR",
        "colab_type": "text"
      },
      "source": [
        "# Auto ML"
      ]
    },
    {
      "cell_type": "code",
      "metadata": {
        "id": "HfCW7ErX8nNT",
        "colab_type": "code",
        "colab": {
          "base_uri": "https://localhost:8080/",
          "height": 34
        },
        "outputId": "c675ce14-c145-481f-a784-b33663d50e0c"
      },
      "source": [
        "# using H2O's Auto ML\n",
        "from h2o.automl import H2OAutoML\n",
        "aml = H2OAutoML(max_runtime_secs = 30, seed = 1234)\n",
        "aml.train(x = features, y = target, training_frame = train)"
      ],
      "execution_count": 13,
      "outputs": [
        {
          "output_type": "stream",
          "text": [
            "AutoML progress: |████████████████████████████████████████████████████████| 100%\n"
          ],
          "name": "stdout"
        }
      ]
    },
    {
      "cell_type": "code",
      "metadata": {
        "id": "TR_R-FU68nNc",
        "colab_type": "code",
        "colab": {
          "base_uri": "https://localhost:8080/",
          "height": 267
        },
        "outputId": "7327e89b-d72c-4000-d3cb-795ea04985cb"
      },
      "source": [
        "# Print Leaderboard\n",
        "print(aml.leaderboard)"
      ],
      "execution_count": 14,
      "outputs": [
        {
          "output_type": "display_data",
          "data": {
            "text/html": [
              "<table>\n",
              "<thead>\n",
              "<tr><th>model_id                                           </th><th style=\"text-align: right;\">  mean_per_class_error</th><th style=\"text-align: right;\">  logloss</th><th style=\"text-align: right;\">    rmse</th><th style=\"text-align: right;\">      mse</th></tr>\n",
              "</thead>\n",
              "<tbody>\n",
              "<tr><td>GBM_grid_1_AutoML_20190705_163058_model_2          </td><td style=\"text-align: right;\">             0.0340224</td><td style=\"text-align: right;\"> 0.414   </td><td style=\"text-align: right;\">0.18992 </td><td style=\"text-align: right;\">0.0360696</td></tr>\n",
              "<tr><td>GLM_grid_1_AutoML_20190705_163058_model_1          </td><td style=\"text-align: right;\">             0.0417743</td><td style=\"text-align: right;\"> 0.173156</td><td style=\"text-align: right;\">0.206685</td><td style=\"text-align: right;\">0.0427186</td></tr>\n",
              "<tr><td>GBM_4_AutoML_20190705_163058                       </td><td style=\"text-align: right;\">             0.0417743</td><td style=\"text-align: right;\"> 0.134912</td><td style=\"text-align: right;\">0.185075</td><td style=\"text-align: right;\">0.0342527</td></tr>\n",
              "<tr><td>GBM_3_AutoML_20190705_163058                       </td><td style=\"text-align: right;\">             0.0417743</td><td style=\"text-align: right;\"> 0.134912</td><td style=\"text-align: right;\">0.185075</td><td style=\"text-align: right;\">0.0342527</td></tr>\n",
              "<tr><td>GBM_1_AutoML_20190705_163058                       </td><td style=\"text-align: right;\">             0.0417743</td><td style=\"text-align: right;\"> 0.132244</td><td style=\"text-align: right;\">0.188719</td><td style=\"text-align: right;\">0.0356147</td></tr>\n",
              "<tr><td>GBM_2_AutoML_20190705_163058                       </td><td style=\"text-align: right;\">             0.0417743</td><td style=\"text-align: right;\"> 0.134912</td><td style=\"text-align: right;\">0.185075</td><td style=\"text-align: right;\">0.0342527</td></tr>\n",
              "<tr><td>XGBoost_grid_1_AutoML_20190705_163058_model_3      </td><td style=\"text-align: right;\">             0.0432817</td><td style=\"text-align: right;\"> 0.255115</td><td style=\"text-align: right;\">0.246895</td><td style=\"text-align: right;\">0.0609573</td></tr>\n",
              "<tr><td>XGBoost_grid_1_AutoML_20190705_163058_model_1      </td><td style=\"text-align: right;\">             0.0432817</td><td style=\"text-align: right;\"> 0.373907</td><td style=\"text-align: right;\">0.319813</td><td style=\"text-align: right;\">0.10228  </td></tr>\n",
              "<tr><td>StackedEnsemble_BestOfFamily_AutoML_20190705_163058</td><td style=\"text-align: right;\">             0.0495263</td><td style=\"text-align: right;\"> 0.220046</td><td style=\"text-align: right;\">0.227193</td><td style=\"text-align: right;\">0.0516168</td></tr>\n",
              "<tr><td>StackedEnsemble_AllModels_AutoML_20190705_163058   </td><td style=\"text-align: right;\">             0.0510336</td><td style=\"text-align: right;\"> 0.210908</td><td style=\"text-align: right;\">0.220868</td><td style=\"text-align: right;\">0.0487829</td></tr>\n",
              "</tbody>\n",
              "</table>"
            ]
          },
          "metadata": {
            "tags": []
          }
        },
        {
          "output_type": "stream",
          "text": [
            "\n"
          ],
          "name": "stdout"
        }
      ]
    },
    {
      "cell_type": "code",
      "metadata": {
        "id": "vgkcSHgr8nNw",
        "colab_type": "code",
        "colab": {
          "base_uri": "https://localhost:8080/",
          "height": 267
        },
        "outputId": "c8ed4a59-beae-48ac-e638-87e0937177b8"
      },
      "source": [
        "# Using the best model to make predictions\n",
        "best_model = aml.leader\n",
        "phat = best_model.predict(test)\n",
        "phat"
      ],
      "execution_count": 15,
      "outputs": [
        {
          "output_type": "stream",
          "text": [
            "gbm prediction progress: |████████████████████████████████████████████████| 100%\n"
          ],
          "name": "stdout"
        },
        {
          "output_type": "display_data",
          "data": {
            "text/html": [
              "<table>\n",
              "<thead>\n",
              "<tr><th>predict        </th><th style=\"text-align: right;\">  Iris-setosa</th><th style=\"text-align: right;\">  Iris-versicolor</th><th style=\"text-align: right;\">  Iris-virginica</th></tr>\n",
              "</thead>\n",
              "<tbody>\n",
              "<tr><td>Iris-setosa    </td><td style=\"text-align: right;\">  1          </td><td style=\"text-align: right;\">      8.46093e-09</td><td style=\"text-align: right;\">     8.43225e-09</td></tr>\n",
              "<tr><td>Iris-setosa    </td><td style=\"text-align: right;\">  0.999999   </td><td style=\"text-align: right;\">      9.21576e-07</td><td style=\"text-align: right;\">     6.12962e-08</td></tr>\n",
              "<tr><td>Iris-setosa    </td><td style=\"text-align: right;\">  1          </td><td style=\"text-align: right;\">      8.5853e-09 </td><td style=\"text-align: right;\">     8.57263e-09</td></tr>\n",
              "<tr><td>Iris-setosa    </td><td style=\"text-align: right;\">  1          </td><td style=\"text-align: right;\">      2.17255e-08</td><td style=\"text-align: right;\">     1.38771e-08</td></tr>\n",
              "<tr><td>Iris-setosa    </td><td style=\"text-align: right;\">  1          </td><td style=\"text-align: right;\">      8.73555e-09</td><td style=\"text-align: right;\">     8.70249e-09</td></tr>\n",
              "<tr><td>Iris-setosa    </td><td style=\"text-align: right;\">  1          </td><td style=\"text-align: right;\">      8.56807e-09</td><td style=\"text-align: right;\">     8.5637e-09 </td></tr>\n",
              "<tr><td>Iris-setosa    </td><td style=\"text-align: right;\">  1          </td><td style=\"text-align: right;\">      2.13798e-08</td><td style=\"text-align: right;\">     1.36113e-08</td></tr>\n",
              "<tr><td>Iris-versicolor</td><td style=\"text-align: right;\">  1.28082e-05</td><td style=\"text-align: right;\">      0.999974   </td><td style=\"text-align: right;\">     1.3374e-05 </td></tr>\n",
              "<tr><td>Iris-versicolor</td><td style=\"text-align: right;\">  2.22393e-07</td><td style=\"text-align: right;\">      0.999998   </td><td style=\"text-align: right;\">     1.31526e-06</td></tr>\n",
              "<tr><td>Iris-versicolor</td><td style=\"text-align: right;\">  5.77618e-07</td><td style=\"text-align: right;\">      0.999966   </td><td style=\"text-align: right;\">     3.38083e-05</td></tr>\n",
              "</tbody>\n",
              "</table>"
            ]
          },
          "metadata": {
            "tags": []
          }
        },
        {
          "output_type": "execute_result",
          "data": {
            "text/plain": [
              ""
            ]
          },
          "metadata": {
            "tags": []
          },
          "execution_count": 15
        }
      ]
    },
    {
      "cell_type": "code",
      "metadata": {
        "id": "IegqlKuS8nN-",
        "colab_type": "code",
        "colab": {
          "base_uri": "https://localhost:8080/",
          "height": 397
        },
        "outputId": "9dbf8611-e38d-434e-ff31-1df14c45a2e6"
      },
      "source": [
        "# Checking the performance of the best model \n",
        "best_model.model_performance(test)"
      ],
      "execution_count": 16,
      "outputs": [
        {
          "output_type": "stream",
          "text": [
            "\n",
            "ModelMetricsMultinomial: gbm\n",
            "** Reported on test data. **\n",
            "\n",
            "MSE: 0.0788788610341951\n",
            "RMSE: 0.2808538072275238\n",
            "LogLoss: 0.6993501134999359\n",
            "Mean Per-Class Error: 0.047619047619047616\n",
            "Confusion Matrix: Row labels: Actual class; Column labels: Predicted class\n",
            "\n"
          ],
          "name": "stdout"
        },
        {
          "output_type": "display_data",
          "data": {
            "text/html": [
              "<div style=\"overflow:auto\"><table style=\"width:50%\"><tr><td><b>Iris-setosa</b></td>\n",
              "<td><b>Iris-versicolor</b></td>\n",
              "<td><b>Iris-virginica</b></td>\n",
              "<td><b>Error</b></td>\n",
              "<td><b>Rate</b></td></tr>\n",
              "<tr><td>7.0</td>\n",
              "<td>0.0</td>\n",
              "<td>0.0</td>\n",
              "<td>0.0</td>\n",
              "<td>0 / 7</td></tr>\n",
              "<tr><td>0.0</td>\n",
              "<td>12.0</td>\n",
              "<td>2.0</td>\n",
              "<td>0.1428571</td>\n",
              "<td>2 / 14</td></tr>\n",
              "<tr><td>0.0</td>\n",
              "<td>0.0</td>\n",
              "<td>7.0</td>\n",
              "<td>0.0</td>\n",
              "<td>0 / 7</td></tr>\n",
              "<tr><td>7.0</td>\n",
              "<td>12.0</td>\n",
              "<td>9.0</td>\n",
              "<td>0.0714286</td>\n",
              "<td>2 / 28</td></tr></table></div>"
            ],
            "text/plain": [
              "Iris-setosa    Iris-versicolor    Iris-virginica    Error      Rate\n",
              "-------------  -----------------  ----------------  ---------  ------\n",
              "7              0                  0                 0          0 / 7\n",
              "0              12                 2                 0.142857   2 / 14\n",
              "0              0                  7                 0          0 / 7\n",
              "7              12                 9                 0.0714286  2 / 28"
            ]
          },
          "metadata": {
            "tags": []
          }
        },
        {
          "output_type": "stream",
          "text": [
            "Top-3 Hit Ratios: \n"
          ],
          "name": "stdout"
        },
        {
          "output_type": "display_data",
          "data": {
            "text/html": [
              "<div style=\"overflow:auto\"><table style=\"width:50%\"><tr><td><b>k</b></td>\n",
              "<td><b>hit_ratio</b></td></tr>\n",
              "<tr><td>1</td>\n",
              "<td>0.9285714</td></tr>\n",
              "<tr><td>2</td>\n",
              "<td>1.0</td></tr>\n",
              "<tr><td>3</td>\n",
              "<td>1.0</td></tr></table></div>"
            ],
            "text/plain": [
              "k    hit_ratio\n",
              "---  -----------\n",
              "1    0.928571\n",
              "2    1\n",
              "3    1"
            ]
          },
          "metadata": {
            "tags": []
          }
        },
        {
          "output_type": "execute_result",
          "data": {
            "text/plain": [
              ""
            ]
          },
          "metadata": {
            "tags": []
          },
          "execution_count": 16
        }
      ]
    },
    {
      "cell_type": "markdown",
      "metadata": {
        "id": "Yeav3nI5DTu3",
        "colab_type": "text"
      },
      "source": [
        "As we see from the above results, when we run our best model among the list of models on the test data, it gives us even higher accuracy of 92%. oly 2 out of 28 are predicted wrong. |"
      ]
    }
  ]
}