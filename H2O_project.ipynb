{
  "nbformat": 4,
  "nbformat_minor": 0,
  "metadata": {
    "colab": {
      "name": "H2O_project.ipynb",
      "provenance": [],
      "toc_visible": true,
      "include_colab_link": true
    },
    "kernelspec": {
      "name": "python3",
      "display_name": "Python 3"
    },
    "accelerator": "GPU"
  },
  "cells": [
    {
      "cell_type": "markdown",
      "metadata": {
        "id": "view-in-github",
        "colab_type": "text"
      },
      "source": [
        "<a href=\"https://colab.research.google.com/github/Bharat745/H2O/blob/master/H2O_project.ipynb\" target=\"_parent\"><img src=\"https://colab.research.google.com/assets/colab-badge.svg\" alt=\"Open In Colab\"/></a>"
      ]
    },
    {
      "cell_type": "markdown",
      "metadata": {
        "id": "NHDSj4eebQP6",
        "colab_type": "text"
      },
      "source": [
        "# Final Project"
      ]
    },
    {
      "cell_type": "markdown",
      "metadata": {
        "id": "7wNDV0d1bYpl",
        "colab_type": "text"
      },
      "source": [
        "## Installation and Imports"
      ]
    },
    {
      "cell_type": "code",
      "metadata": {
        "id": "DZdLDB9pbKx3",
        "colab_type": "code",
        "outputId": "1b8efac9-be86-4dac-e739-15db9b5f9777",
        "colab": {
          "base_uri": "https://localhost:8080/",
          "height": 153
        }
      },
      "source": [
        "# Installing java version for running H2O on colab\n",
        "# If code is run on Jupyter notebook, you do NOT need to run this code\n",
        "! apt-get install default-jre\n",
        "!java -version"
      ],
      "execution_count": 0,
      "outputs": [
        {
          "output_type": "stream",
          "text": [
            "Reading package lists... Done\n",
            "Building dependency tree       \n",
            "Reading state information... Done\n",
            "default-jre is already the newest version (2:1.11-68ubuntu1~18.04.1).\n",
            "0 upgraded, 0 newly installed, 0 to remove and 28 not upgraded.\n",
            "openjdk version \"11.0.4\" 2019-07-16\n",
            "OpenJDK Runtime Environment (build 11.0.4+11-post-Ubuntu-1ubuntu218.04.3)\n",
            "OpenJDK 64-Bit Server VM (build 11.0.4+11-post-Ubuntu-1ubuntu218.04.3, mixed mode, sharing)\n"
          ],
          "name": "stdout"
        }
      ]
    },
    {
      "cell_type": "code",
      "metadata": {
        "id": "yEsPIH8rbcS9",
        "colab_type": "code",
        "outputId": "68b09724-9a20-4b9d-8ec7-9fc05aa28673",
        "colab": {
          "base_uri": "https://localhost:8080/",
          "height": 681
        }
      },
      "source": [
        "# Start and connect to local H2O cluster\n",
        "# If the code is run on Jupyter notebook, remove the '!' in pip install\n",
        "! pip install h2o\n",
        "import h2o\n",
        "h2o.init(nthreads = -1)"
      ],
      "execution_count": 0,
      "outputs": [
        {
          "output_type": "stream",
          "text": [
            "Requirement already satisfied: h2o in /usr/local/lib/python3.6/dist-packages (3.26.0.8)\n",
            "Requirement already satisfied: requests in /usr/local/lib/python3.6/dist-packages (from h2o) (2.21.0)\n",
            "Requirement already satisfied: future in /usr/local/lib/python3.6/dist-packages (from h2o) (0.16.0)\n",
            "Requirement already satisfied: colorama>=0.3.8 in /usr/local/lib/python3.6/dist-packages (from h2o) (0.4.1)\n",
            "Requirement already satisfied: tabulate in /usr/local/lib/python3.6/dist-packages (from h2o) (0.8.5)\n",
            "Requirement already satisfied: idna<2.9,>=2.5 in /usr/local/lib/python3.6/dist-packages (from requests->h2o) (2.8)\n",
            "Requirement already satisfied: urllib3<1.25,>=1.21.1 in /usr/local/lib/python3.6/dist-packages (from requests->h2o) (1.24.3)\n",
            "Requirement already satisfied: certifi>=2017.4.17 in /usr/local/lib/python3.6/dist-packages (from requests->h2o) (2019.9.11)\n",
            "Requirement already satisfied: chardet<3.1.0,>=3.0.2 in /usr/local/lib/python3.6/dist-packages (from requests->h2o) (3.0.4)\n",
            "Checking whether there is an H2O instance running at http://localhost:54321 ..... not found.\n",
            "Attempting to start a local H2O server...\n",
            "  Java Version: openjdk version \"11.0.4\" 2019-07-16; OpenJDK Runtime Environment (build 11.0.4+11-post-Ubuntu-1ubuntu218.04.3); OpenJDK 64-Bit Server VM (build 11.0.4+11-post-Ubuntu-1ubuntu218.04.3, mixed mode, sharing)\n",
            "  Starting server from /usr/local/lib/python3.6/dist-packages/h2o/backend/bin/h2o.jar\n",
            "  Ice root: /tmp/tmpgfhkhovu\n",
            "  JVM stdout: /tmp/tmpgfhkhovu/h2o_unknownUser_started_from_python.out\n",
            "  JVM stderr: /tmp/tmpgfhkhovu/h2o_unknownUser_started_from_python.err\n",
            "  Server is running at http://127.0.0.1:54321\n",
            "Connecting to H2O server at http://127.0.0.1:54321 ... successful.\n"
          ],
          "name": "stdout"
        },
        {
          "output_type": "display_data",
          "data": {
            "text/html": [
              "<div style=\"overflow:auto\"><table style=\"width:50%\"><tr><td>H2O cluster uptime:</td>\n",
              "<td>02 secs</td></tr>\n",
              "<tr><td>H2O cluster timezone:</td>\n",
              "<td>Etc/UTC</td></tr>\n",
              "<tr><td>H2O data parsing timezone:</td>\n",
              "<td>UTC</td></tr>\n",
              "<tr><td>H2O cluster version:</td>\n",
              "<td>3.26.0.8</td></tr>\n",
              "<tr><td>H2O cluster version age:</td>\n",
              "<td>8 days </td></tr>\n",
              "<tr><td>H2O cluster name:</td>\n",
              "<td>H2O_from_python_unknownUser_lkyyjz</td></tr>\n",
              "<tr><td>H2O cluster total nodes:</td>\n",
              "<td>1</td></tr>\n",
              "<tr><td>H2O cluster free memory:</td>\n",
              "<td>2.938 Gb</td></tr>\n",
              "<tr><td>H2O cluster total cores:</td>\n",
              "<td>2</td></tr>\n",
              "<tr><td>H2O cluster allowed cores:</td>\n",
              "<td>2</td></tr>\n",
              "<tr><td>H2O cluster status:</td>\n",
              "<td>accepting new members, healthy</td></tr>\n",
              "<tr><td>H2O connection url:</td>\n",
              "<td>http://127.0.0.1:54321</td></tr>\n",
              "<tr><td>H2O connection proxy:</td>\n",
              "<td>{'http': None, 'https': None}</td></tr>\n",
              "<tr><td>H2O internal security:</td>\n",
              "<td>False</td></tr>\n",
              "<tr><td>H2O API Extensions:</td>\n",
              "<td>Amazon S3, XGBoost, Algos, AutoML, Core V3, TargetEncoder, Core V4</td></tr>\n",
              "<tr><td>Python version:</td>\n",
              "<td>3.6.8 final</td></tr></table></div>"
            ],
            "text/plain": [
              "--------------------------  ------------------------------------------------------------------\n",
              "H2O cluster uptime:         02 secs\n",
              "H2O cluster timezone:       Etc/UTC\n",
              "H2O data parsing timezone:  UTC\n",
              "H2O cluster version:        3.26.0.8\n",
              "H2O cluster version age:    8 days\n",
              "H2O cluster name:           H2O_from_python_unknownUser_lkyyjz\n",
              "H2O cluster total nodes:    1\n",
              "H2O cluster free memory:    2.938 Gb\n",
              "H2O cluster total cores:    2\n",
              "H2O cluster allowed cores:  2\n",
              "H2O cluster status:         accepting new members, healthy\n",
              "H2O connection url:         http://127.0.0.1:54321\n",
              "H2O connection proxy:       {'http': None, 'https': None}\n",
              "H2O internal security:      False\n",
              "H2O API Extensions:         Amazon S3, XGBoost, Algos, AutoML, Core V3, TargetEncoder, Core V4\n",
              "Python version:             3.6.8 final\n",
              "--------------------------  ------------------------------------------------------------------"
            ]
          },
          "metadata": {
            "tags": []
          }
        }
      ]
    },
    {
      "cell_type": "code",
      "metadata": {
        "id": "I3VuRfzoboAA",
        "colab_type": "code",
        "colab": {}
      },
      "source": [
        "# Importing matplotlib to make plots\n",
        "import pandas as pd\n",
        "import matplotlib.pyplot as plt\n",
        "import datetime as dt\n",
        "%matplotlib inline"
      ],
      "execution_count": 0,
      "outputs": []
    },
    {
      "cell_type": "code",
      "metadata": {
        "id": "w7a24sB0b3KV",
        "colab_type": "code",
        "outputId": "ad08a77f-8be4-4857-bdee-9dcd11802807",
        "colab": {
          "base_uri": "https://localhost:8080/",
          "height": 34
        }
      },
      "source": [
        "# Importing the data file\n",
        "df_h2o = h2o.import_file(\"http://coursera.h2o.ai/house_data.3487.csv\")"
      ],
      "execution_count": 0,
      "outputs": [
        {
          "output_type": "stream",
          "text": [
            "Parse progress: |█████████████████████████████████████████████████████████| 100%\n"
          ],
          "name": "stdout"
        }
      ]
    },
    {
      "cell_type": "code",
      "metadata": {
        "id": "PeYI3ivHcB7e",
        "colab_type": "code",
        "colab": {}
      },
      "source": [
        "# Converting the h2o frame to pandas data frame\n",
        "df_pd = df_h2o.as_data_frame(use_pandas = True)"
      ],
      "execution_count": 0,
      "outputs": []
    },
    {
      "cell_type": "code",
      "metadata": {
        "id": "BVoE8WJqhhBc",
        "colab_type": "code",
        "outputId": "540cf80a-2023-43e4-cb1c-121de2854658",
        "colab": {
          "base_uri": "https://localhost:8080/",
          "height": 224
        }
      },
      "source": [
        "df_pd.head(5)"
      ],
      "execution_count": 0,
      "outputs": [
        {
          "output_type": "execute_result",
          "data": {
            "text/html": [
              "<div>\n",
              "<style scoped>\n",
              "    .dataframe tbody tr th:only-of-type {\n",
              "        vertical-align: middle;\n",
              "    }\n",
              "\n",
              "    .dataframe tbody tr th {\n",
              "        vertical-align: top;\n",
              "    }\n",
              "\n",
              "    .dataframe thead th {\n",
              "        text-align: right;\n",
              "    }\n",
              "</style>\n",
              "<table border=\"1\" class=\"dataframe\">\n",
              "  <thead>\n",
              "    <tr style=\"text-align: right;\">\n",
              "      <th></th>\n",
              "      <th>id</th>\n",
              "      <th>date</th>\n",
              "      <th>price</th>\n",
              "      <th>bedrooms</th>\n",
              "      <th>bathrooms</th>\n",
              "      <th>sqft_living</th>\n",
              "      <th>sqft_lot</th>\n",
              "      <th>floors</th>\n",
              "      <th>waterfront</th>\n",
              "      <th>view</th>\n",
              "      <th>condition</th>\n",
              "      <th>grade</th>\n",
              "      <th>sqft_above</th>\n",
              "      <th>sqft_basement</th>\n",
              "      <th>yr_built</th>\n",
              "      <th>yr_renovated</th>\n",
              "      <th>zipcode</th>\n",
              "      <th>lat</th>\n",
              "      <th>long</th>\n",
              "      <th>sqft_living15</th>\n",
              "      <th>sqft_lot15</th>\n",
              "    </tr>\n",
              "  </thead>\n",
              "  <tbody>\n",
              "    <tr>\n",
              "      <th>0</th>\n",
              "      <td>7129300520</td>\n",
              "      <td>20141013T000000</td>\n",
              "      <td>221900</td>\n",
              "      <td>3</td>\n",
              "      <td>1.00</td>\n",
              "      <td>1180</td>\n",
              "      <td>5650</td>\n",
              "      <td>1.0</td>\n",
              "      <td>0</td>\n",
              "      <td>0</td>\n",
              "      <td>3</td>\n",
              "      <td>7</td>\n",
              "      <td>1180</td>\n",
              "      <td>0</td>\n",
              "      <td>1955</td>\n",
              "      <td>0</td>\n",
              "      <td>98178</td>\n",
              "      <td>47.5112</td>\n",
              "      <td>-122.257</td>\n",
              "      <td>1340</td>\n",
              "      <td>5650</td>\n",
              "    </tr>\n",
              "    <tr>\n",
              "      <th>1</th>\n",
              "      <td>6414100192</td>\n",
              "      <td>20141209T000000</td>\n",
              "      <td>538000</td>\n",
              "      <td>3</td>\n",
              "      <td>2.25</td>\n",
              "      <td>2570</td>\n",
              "      <td>7242</td>\n",
              "      <td>2.0</td>\n",
              "      <td>0</td>\n",
              "      <td>0</td>\n",
              "      <td>3</td>\n",
              "      <td>7</td>\n",
              "      <td>2170</td>\n",
              "      <td>400</td>\n",
              "      <td>1951</td>\n",
              "      <td>1991</td>\n",
              "      <td>98125</td>\n",
              "      <td>47.7210</td>\n",
              "      <td>-122.319</td>\n",
              "      <td>1690</td>\n",
              "      <td>7639</td>\n",
              "    </tr>\n",
              "    <tr>\n",
              "      <th>2</th>\n",
              "      <td>5631500400</td>\n",
              "      <td>20150225T000000</td>\n",
              "      <td>180000</td>\n",
              "      <td>2</td>\n",
              "      <td>1.00</td>\n",
              "      <td>770</td>\n",
              "      <td>10000</td>\n",
              "      <td>1.0</td>\n",
              "      <td>0</td>\n",
              "      <td>0</td>\n",
              "      <td>3</td>\n",
              "      <td>6</td>\n",
              "      <td>770</td>\n",
              "      <td>0</td>\n",
              "      <td>1933</td>\n",
              "      <td>0</td>\n",
              "      <td>98028</td>\n",
              "      <td>47.7379</td>\n",
              "      <td>-122.233</td>\n",
              "      <td>2720</td>\n",
              "      <td>8062</td>\n",
              "    </tr>\n",
              "    <tr>\n",
              "      <th>3</th>\n",
              "      <td>2487200875</td>\n",
              "      <td>20141209T000000</td>\n",
              "      <td>604000</td>\n",
              "      <td>4</td>\n",
              "      <td>3.00</td>\n",
              "      <td>1960</td>\n",
              "      <td>5000</td>\n",
              "      <td>1.0</td>\n",
              "      <td>0</td>\n",
              "      <td>0</td>\n",
              "      <td>5</td>\n",
              "      <td>7</td>\n",
              "      <td>1050</td>\n",
              "      <td>910</td>\n",
              "      <td>1965</td>\n",
              "      <td>0</td>\n",
              "      <td>98136</td>\n",
              "      <td>47.5208</td>\n",
              "      <td>-122.393</td>\n",
              "      <td>1360</td>\n",
              "      <td>5000</td>\n",
              "    </tr>\n",
              "    <tr>\n",
              "      <th>4</th>\n",
              "      <td>1954400510</td>\n",
              "      <td>20150218T000000</td>\n",
              "      <td>510000</td>\n",
              "      <td>3</td>\n",
              "      <td>2.00</td>\n",
              "      <td>1680</td>\n",
              "      <td>8080</td>\n",
              "      <td>1.0</td>\n",
              "      <td>0</td>\n",
              "      <td>0</td>\n",
              "      <td>3</td>\n",
              "      <td>8</td>\n",
              "      <td>1680</td>\n",
              "      <td>0</td>\n",
              "      <td>1987</td>\n",
              "      <td>0</td>\n",
              "      <td>98074</td>\n",
              "      <td>47.6168</td>\n",
              "      <td>-122.045</td>\n",
              "      <td>1800</td>\n",
              "      <td>7503</td>\n",
              "    </tr>\n",
              "  </tbody>\n",
              "</table>\n",
              "</div>"
            ],
            "text/plain": [
              "           id             date   price  ...     long  sqft_living15  sqft_lot15\n",
              "0  7129300520  20141013T000000  221900  ... -122.257           1340        5650\n",
              "1  6414100192  20141209T000000  538000  ... -122.319           1690        7639\n",
              "2  5631500400  20150225T000000  180000  ... -122.233           2720        8062\n",
              "3  2487200875  20141209T000000  604000  ... -122.393           1360        5000\n",
              "4  1954400510  20150218T000000  510000  ... -122.045           1800        7503\n",
              "\n",
              "[5 rows x 21 columns]"
            ]
          },
          "metadata": {
            "tags": []
          },
          "execution_count": 6
        }
      ]
    },
    {
      "cell_type": "code",
      "metadata": {
        "id": "AExxD-gsdy1z",
        "colab_type": "code",
        "outputId": "8022c1b4-8c96-448e-f3cf-76074daf540b",
        "colab": {
          "base_uri": "https://localhost:8080/",
          "height": 224
        }
      },
      "source": [
        "# Splitting the date column into Date and Time at \"T\"\n",
        "new = df_pd['date'].str.split(\"T\", n=1, expand =True)\n",
        "df_pd[\"Date\"]= new[0]\n",
        "df_pd[\"Time\"] = new[1]\n",
        "\n",
        "# Dropping the original Date column\n",
        "df_pd.drop(columns =[\"date\"], inplace = True)\n",
        "\n",
        "df_pd.head(5)"
      ],
      "execution_count": 0,
      "outputs": [
        {
          "output_type": "execute_result",
          "data": {
            "text/html": [
              "<div>\n",
              "<style scoped>\n",
              "    .dataframe tbody tr th:only-of-type {\n",
              "        vertical-align: middle;\n",
              "    }\n",
              "\n",
              "    .dataframe tbody tr th {\n",
              "        vertical-align: top;\n",
              "    }\n",
              "\n",
              "    .dataframe thead th {\n",
              "        text-align: right;\n",
              "    }\n",
              "</style>\n",
              "<table border=\"1\" class=\"dataframe\">\n",
              "  <thead>\n",
              "    <tr style=\"text-align: right;\">\n",
              "      <th></th>\n",
              "      <th>id</th>\n",
              "      <th>price</th>\n",
              "      <th>bedrooms</th>\n",
              "      <th>bathrooms</th>\n",
              "      <th>sqft_living</th>\n",
              "      <th>sqft_lot</th>\n",
              "      <th>floors</th>\n",
              "      <th>waterfront</th>\n",
              "      <th>view</th>\n",
              "      <th>condition</th>\n",
              "      <th>grade</th>\n",
              "      <th>sqft_above</th>\n",
              "      <th>sqft_basement</th>\n",
              "      <th>yr_built</th>\n",
              "      <th>yr_renovated</th>\n",
              "      <th>zipcode</th>\n",
              "      <th>lat</th>\n",
              "      <th>long</th>\n",
              "      <th>sqft_living15</th>\n",
              "      <th>sqft_lot15</th>\n",
              "      <th>Date</th>\n",
              "      <th>Time</th>\n",
              "    </tr>\n",
              "  </thead>\n",
              "  <tbody>\n",
              "    <tr>\n",
              "      <th>0</th>\n",
              "      <td>7129300520</td>\n",
              "      <td>221900</td>\n",
              "      <td>3</td>\n",
              "      <td>1.00</td>\n",
              "      <td>1180</td>\n",
              "      <td>5650</td>\n",
              "      <td>1.0</td>\n",
              "      <td>0</td>\n",
              "      <td>0</td>\n",
              "      <td>3</td>\n",
              "      <td>7</td>\n",
              "      <td>1180</td>\n",
              "      <td>0</td>\n",
              "      <td>1955</td>\n",
              "      <td>0</td>\n",
              "      <td>98178</td>\n",
              "      <td>47.5112</td>\n",
              "      <td>-122.257</td>\n",
              "      <td>1340</td>\n",
              "      <td>5650</td>\n",
              "      <td>20141013</td>\n",
              "      <td>000000</td>\n",
              "    </tr>\n",
              "    <tr>\n",
              "      <th>1</th>\n",
              "      <td>6414100192</td>\n",
              "      <td>538000</td>\n",
              "      <td>3</td>\n",
              "      <td>2.25</td>\n",
              "      <td>2570</td>\n",
              "      <td>7242</td>\n",
              "      <td>2.0</td>\n",
              "      <td>0</td>\n",
              "      <td>0</td>\n",
              "      <td>3</td>\n",
              "      <td>7</td>\n",
              "      <td>2170</td>\n",
              "      <td>400</td>\n",
              "      <td>1951</td>\n",
              "      <td>1991</td>\n",
              "      <td>98125</td>\n",
              "      <td>47.7210</td>\n",
              "      <td>-122.319</td>\n",
              "      <td>1690</td>\n",
              "      <td>7639</td>\n",
              "      <td>20141209</td>\n",
              "      <td>000000</td>\n",
              "    </tr>\n",
              "    <tr>\n",
              "      <th>2</th>\n",
              "      <td>5631500400</td>\n",
              "      <td>180000</td>\n",
              "      <td>2</td>\n",
              "      <td>1.00</td>\n",
              "      <td>770</td>\n",
              "      <td>10000</td>\n",
              "      <td>1.0</td>\n",
              "      <td>0</td>\n",
              "      <td>0</td>\n",
              "      <td>3</td>\n",
              "      <td>6</td>\n",
              "      <td>770</td>\n",
              "      <td>0</td>\n",
              "      <td>1933</td>\n",
              "      <td>0</td>\n",
              "      <td>98028</td>\n",
              "      <td>47.7379</td>\n",
              "      <td>-122.233</td>\n",
              "      <td>2720</td>\n",
              "      <td>8062</td>\n",
              "      <td>20150225</td>\n",
              "      <td>000000</td>\n",
              "    </tr>\n",
              "    <tr>\n",
              "      <th>3</th>\n",
              "      <td>2487200875</td>\n",
              "      <td>604000</td>\n",
              "      <td>4</td>\n",
              "      <td>3.00</td>\n",
              "      <td>1960</td>\n",
              "      <td>5000</td>\n",
              "      <td>1.0</td>\n",
              "      <td>0</td>\n",
              "      <td>0</td>\n",
              "      <td>5</td>\n",
              "      <td>7</td>\n",
              "      <td>1050</td>\n",
              "      <td>910</td>\n",
              "      <td>1965</td>\n",
              "      <td>0</td>\n",
              "      <td>98136</td>\n",
              "      <td>47.5208</td>\n",
              "      <td>-122.393</td>\n",
              "      <td>1360</td>\n",
              "      <td>5000</td>\n",
              "      <td>20141209</td>\n",
              "      <td>000000</td>\n",
              "    </tr>\n",
              "    <tr>\n",
              "      <th>4</th>\n",
              "      <td>1954400510</td>\n",
              "      <td>510000</td>\n",
              "      <td>3</td>\n",
              "      <td>2.00</td>\n",
              "      <td>1680</td>\n",
              "      <td>8080</td>\n",
              "      <td>1.0</td>\n",
              "      <td>0</td>\n",
              "      <td>0</td>\n",
              "      <td>3</td>\n",
              "      <td>8</td>\n",
              "      <td>1680</td>\n",
              "      <td>0</td>\n",
              "      <td>1987</td>\n",
              "      <td>0</td>\n",
              "      <td>98074</td>\n",
              "      <td>47.6168</td>\n",
              "      <td>-122.045</td>\n",
              "      <td>1800</td>\n",
              "      <td>7503</td>\n",
              "      <td>20150218</td>\n",
              "      <td>000000</td>\n",
              "    </tr>\n",
              "  </tbody>\n",
              "</table>\n",
              "</div>"
            ],
            "text/plain": [
              "           id   price  bedrooms  ...  sqft_lot15      Date    Time\n",
              "0  7129300520  221900         3  ...        5650  20141013  000000\n",
              "1  6414100192  538000         3  ...        7639  20141209  000000\n",
              "2  5631500400  180000         2  ...        8062  20150225  000000\n",
              "3  2487200875  604000         4  ...        5000  20141209  000000\n",
              "4  1954400510  510000         3  ...        7503  20150218  000000\n",
              "\n",
              "[5 rows x 22 columns]"
            ]
          },
          "metadata": {
            "tags": []
          },
          "execution_count": 7
        }
      ]
    },
    {
      "cell_type": "code",
      "metadata": {
        "id": "k9Z6REAxd0es",
        "colab_type": "code",
        "colab": {}
      },
      "source": [
        "# Converting the new Date column to month and year\n",
        "\n",
        "from datetime import datetime\n",
        "date_format = df_pd['Date']\n",
        "df_pd['date1'] = df_pd['Date'].apply(lambda x: datetime.strptime(x, '%Y%m%d'))\n",
        "\n",
        "df_pd[\"month\"] = df_pd['date1'].map(lambda x: x.month)\n",
        "df_pd[\"year\"] = df_pd['date1'].map(lambda x: x.year)\n",
        "\n",
        "\n",
        "\n",
        "df_pd.drop(columns =[\"Date\", \"Time\", \"date1\"], inplace = True)\n",
        "\n"
      ],
      "execution_count": 0,
      "outputs": []
    },
    {
      "cell_type": "code",
      "metadata": {
        "id": "3_mtqGMGAWd1",
        "colab_type": "code",
        "outputId": "d0525e64-b65c-4e94-cf7d-f29cb399fb8c",
        "colab": {
          "base_uri": "https://localhost:8080/",
          "height": 34
        }
      },
      "source": [
        "# Converting the pandas data frame back to h2o frame\n",
        "\n",
        "hf = h2o.H2OFrame(df_pd)"
      ],
      "execution_count": 0,
      "outputs": [
        {
          "output_type": "stream",
          "text": [
            "Parse progress: |█████████████████████████████████████████████████████████| 100%\n"
          ],
          "name": "stdout"
        }
      ]
    },
    {
      "cell_type": "code",
      "metadata": {
        "id": "95X1SAHzFatC",
        "colab_type": "code",
        "outputId": "12aa2705-b9f7-4926-cb36-0f3cb90324d7",
        "colab": {
          "base_uri": "https://localhost:8080/",
          "height": 145
        }
      },
      "source": [
        "hf.head(5)"
      ],
      "execution_count": 0,
      "outputs": [
        {
          "output_type": "display_data",
          "data": {
            "text/html": [
              "<table>\n",
              "<thead>\n",
              "<tr><th style=\"text-align: right;\">        id</th><th style=\"text-align: right;\">  price</th><th style=\"text-align: right;\">  bedrooms</th><th style=\"text-align: right;\">  bathrooms</th><th style=\"text-align: right;\">  sqft_living</th><th style=\"text-align: right;\">  sqft_lot</th><th style=\"text-align: right;\">  floors</th><th style=\"text-align: right;\">  waterfront</th><th style=\"text-align: right;\">  view</th><th style=\"text-align: right;\">  condition</th><th style=\"text-align: right;\">  grade</th><th style=\"text-align: right;\">  sqft_above</th><th style=\"text-align: right;\">  sqft_basement</th><th style=\"text-align: right;\">  yr_built</th><th style=\"text-align: right;\">  yr_renovated</th><th style=\"text-align: right;\">  zipcode</th><th style=\"text-align: right;\">    lat</th><th style=\"text-align: right;\">    long</th><th style=\"text-align: right;\">  sqft_living15</th><th style=\"text-align: right;\">  sqft_lot15</th><th style=\"text-align: right;\">  month</th><th style=\"text-align: right;\">  year</th></tr>\n",
              "</thead>\n",
              "<tbody>\n",
              "<tr><td style=\"text-align: right;\">7.1293e+09</td><td style=\"text-align: right;\"> 221900</td><td style=\"text-align: right;\">         3</td><td style=\"text-align: right;\">       1   </td><td style=\"text-align: right;\">         1180</td><td style=\"text-align: right;\">      5650</td><td style=\"text-align: right;\">       1</td><td style=\"text-align: right;\">           0</td><td style=\"text-align: right;\">     0</td><td style=\"text-align: right;\">          3</td><td style=\"text-align: right;\">      7</td><td style=\"text-align: right;\">        1180</td><td style=\"text-align: right;\">              0</td><td style=\"text-align: right;\">      1955</td><td style=\"text-align: right;\">             0</td><td style=\"text-align: right;\">    98178</td><td style=\"text-align: right;\">47.5112</td><td style=\"text-align: right;\">-122.257</td><td style=\"text-align: right;\">           1340</td><td style=\"text-align: right;\">        5650</td><td style=\"text-align: right;\">     10</td><td style=\"text-align: right;\">  2014</td></tr>\n",
              "<tr><td style=\"text-align: right;\">6.4141e+09</td><td style=\"text-align: right;\"> 538000</td><td style=\"text-align: right;\">         3</td><td style=\"text-align: right;\">       2.25</td><td style=\"text-align: right;\">         2570</td><td style=\"text-align: right;\">      7242</td><td style=\"text-align: right;\">       2</td><td style=\"text-align: right;\">           0</td><td style=\"text-align: right;\">     0</td><td style=\"text-align: right;\">          3</td><td style=\"text-align: right;\">      7</td><td style=\"text-align: right;\">        2170</td><td style=\"text-align: right;\">            400</td><td style=\"text-align: right;\">      1951</td><td style=\"text-align: right;\">          1991</td><td style=\"text-align: right;\">    98125</td><td style=\"text-align: right;\">47.721 </td><td style=\"text-align: right;\">-122.319</td><td style=\"text-align: right;\">           1690</td><td style=\"text-align: right;\">        7639</td><td style=\"text-align: right;\">     12</td><td style=\"text-align: right;\">  2014</td></tr>\n",
              "<tr><td style=\"text-align: right;\">5.6315e+09</td><td style=\"text-align: right;\"> 180000</td><td style=\"text-align: right;\">         2</td><td style=\"text-align: right;\">       1   </td><td style=\"text-align: right;\">          770</td><td style=\"text-align: right;\">     10000</td><td style=\"text-align: right;\">       1</td><td style=\"text-align: right;\">           0</td><td style=\"text-align: right;\">     0</td><td style=\"text-align: right;\">          3</td><td style=\"text-align: right;\">      6</td><td style=\"text-align: right;\">         770</td><td style=\"text-align: right;\">              0</td><td style=\"text-align: right;\">      1933</td><td style=\"text-align: right;\">             0</td><td style=\"text-align: right;\">    98028</td><td style=\"text-align: right;\">47.7379</td><td style=\"text-align: right;\">-122.233</td><td style=\"text-align: right;\">           2720</td><td style=\"text-align: right;\">        8062</td><td style=\"text-align: right;\">      2</td><td style=\"text-align: right;\">  2015</td></tr>\n",
              "<tr><td style=\"text-align: right;\">2.4872e+09</td><td style=\"text-align: right;\"> 604000</td><td style=\"text-align: right;\">         4</td><td style=\"text-align: right;\">       3   </td><td style=\"text-align: right;\">         1960</td><td style=\"text-align: right;\">      5000</td><td style=\"text-align: right;\">       1</td><td style=\"text-align: right;\">           0</td><td style=\"text-align: right;\">     0</td><td style=\"text-align: right;\">          5</td><td style=\"text-align: right;\">      7</td><td style=\"text-align: right;\">        1050</td><td style=\"text-align: right;\">            910</td><td style=\"text-align: right;\">      1965</td><td style=\"text-align: right;\">             0</td><td style=\"text-align: right;\">    98136</td><td style=\"text-align: right;\">47.5208</td><td style=\"text-align: right;\">-122.393</td><td style=\"text-align: right;\">           1360</td><td style=\"text-align: right;\">        5000</td><td style=\"text-align: right;\">     12</td><td style=\"text-align: right;\">  2014</td></tr>\n",
              "<tr><td style=\"text-align: right;\">1.9544e+09</td><td style=\"text-align: right;\"> 510000</td><td style=\"text-align: right;\">         3</td><td style=\"text-align: right;\">       2   </td><td style=\"text-align: right;\">         1680</td><td style=\"text-align: right;\">      8080</td><td style=\"text-align: right;\">       1</td><td style=\"text-align: right;\">           0</td><td style=\"text-align: right;\">     0</td><td style=\"text-align: right;\">          3</td><td style=\"text-align: right;\">      8</td><td style=\"text-align: right;\">        1680</td><td style=\"text-align: right;\">              0</td><td style=\"text-align: right;\">      1987</td><td style=\"text-align: right;\">             0</td><td style=\"text-align: right;\">    98074</td><td style=\"text-align: right;\">47.6168</td><td style=\"text-align: right;\">-122.045</td><td style=\"text-align: right;\">           1800</td><td style=\"text-align: right;\">        7503</td><td style=\"text-align: right;\">      2</td><td style=\"text-align: right;\">  2015</td></tr>\n",
              "</tbody>\n",
              "</table>"
            ]
          },
          "metadata": {
            "tags": []
          }
        },
        {
          "output_type": "execute_result",
          "data": {
            "text/plain": [
              ""
            ]
          },
          "metadata": {
            "tags": []
          },
          "execution_count": 10
        }
      ]
    },
    {
      "cell_type": "markdown",
      "metadata": {
        "id": "fqyjl56d-mUZ",
        "colab_type": "text"
      },
      "source": [
        "## Data Preparation"
      ]
    },
    {
      "cell_type": "code",
      "metadata": {
        "id": "8M_xgZooeiAB",
        "colab_type": "code",
        "colab": {}
      },
      "source": [
        "# Splitting the data to train, validation & test\n",
        "train,test = hf.split_frame([0.9] , seed = 123)"
      ],
      "execution_count": 0,
      "outputs": []
    },
    {
      "cell_type": "code",
      "metadata": {
        "id": "dkWf4CHy_Amx",
        "colab_type": "code",
        "outputId": "a3f7b916-e8a8-47d4-e14a-146cf93a49af",
        "colab": {
          "base_uri": "https://localhost:8080/",
          "height": 51
        }
      },
      "source": [
        "print(train.nrows)\n",
        "print(test.nrows)"
      ],
      "execution_count": 0,
      "outputs": [
        {
          "output_type": "stream",
          "text": [
            "19462\n",
            "2151\n"
          ],
          "name": "stdout"
        }
      ]
    },
    {
      "cell_type": "code",
      "metadata": {
        "id": "xs_ccnq9d8mD",
        "colab_type": "code",
        "colab": {}
      },
      "source": [
        "# Setting the model parameters\n",
        "ignoreFields = [\n",
        "    \"id\" , \"zipcode\", \"price\"\n",
        "    ]\n",
        "\n",
        "x =[i for i in train.names if i not in ignoreFields]\n",
        "\n",
        "y = \"price\"\n"
      ],
      "execution_count": 0,
      "outputs": []
    },
    {
      "cell_type": "code",
      "metadata": {
        "id": "Vj4d5ymgeSXL",
        "colab_type": "code",
        "outputId": "2621723c-bbf0-4c69-bc4f-d2f2ab017a71",
        "colab": {
          "base_uri": "https://localhost:8080/",
          "height": 71
        }
      },
      "source": [
        "print(\"Response = \" + y)\n",
        "print(\"Predictors = \" + str(x))"
      ],
      "execution_count": 0,
      "outputs": [
        {
          "output_type": "stream",
          "text": [
            "Response = price\n",
            "Predictors = ['bedrooms', 'bathrooms', 'sqft_living', 'sqft_lot', 'floors', 'waterfront', 'view', 'condition', 'grade', 'sqft_above', 'sqft_basement', 'yr_built', 'yr_renovated', 'lat', 'long', 'sqft_living15', 'sqft_lot15', 'month', 'year']\n"
          ],
          "name": "stdout"
        }
      ]
    },
    {
      "cell_type": "markdown",
      "metadata": {
        "id": "C4q8EiE5ex8u",
        "colab_type": "text"
      },
      "source": [
        "## Modelling / Analysis"
      ]
    },
    {
      "cell_type": "code",
      "metadata": {
        "id": "6S1Pvox7ewSk",
        "colab_type": "code",
        "colab": {}
      },
      "source": [
        "# Importing all the necessary model parameters\n",
        "from h2o.estimators.random_forest import H2ORandomForestEstimator\n",
        "from h2o.estimators.gbm import H2OGradientBoostingEstimator\n",
        "from h2o.estimators.glm import H2OGeneralizedLinearEstimator\n",
        "from h2o.estimators.deeplearning import H2ODeepLearningEstimator\n",
        "from h2o.estimators.stackedensemble import H2OStackedEnsembleEstimator\n",
        "from h2o.grid.grid_search import H2OGridSearch"
      ],
      "execution_count": 0,
      "outputs": []
    },
    {
      "cell_type": "code",
      "metadata": {
        "id": "Lnrzqq6He2BJ",
        "colab_type": "code",
        "colab": {}
      },
      "source": [
        "# defining the model and setting the parameters\n",
        "nfolds = 5"
      ],
      "execution_count": 0,
      "outputs": []
    },
    {
      "cell_type": "markdown",
      "metadata": {
        "id": "MT9RQhCtkBno",
        "colab_type": "text"
      },
      "source": [
        "The main aim of the experiment is to predict the price of the house using different models and the aim is to bring the RMSE value below 123,000. "
      ]
    },
    {
      "cell_type": "markdown",
      "metadata": {
        "id": "lFe1zj4UDkrg",
        "colab_type": "text"
      },
      "source": [
        "### GLM Model"
      ]
    },
    {
      "cell_type": "code",
      "metadata": {
        "id": "YyT-AEyFe3wZ",
        "colab_type": "code",
        "outputId": "bdc701d3-8613-4463-97f2-622772f69c34",
        "colab": {
          "base_uri": "https://localhost:8080/",
          "height": 34
        }
      },
      "source": [
        "# GLM Model\n",
        "m_GLM = H2OGeneralizedLinearEstimator(\n",
        "    model_id = \"glm_def\", \n",
        "    nfolds = nfolds,\n",
        "    fold_assignment = \"Modulo\",\n",
        "    keep_cross_validation_predictions = True\n",
        "  )\n",
        "m_GLM.train(x, y, training_frame = train)"
      ],
      "execution_count": 0,
      "outputs": [
        {
          "output_type": "stream",
          "text": [
            "glm Model Build progress: |███████████████████████████████████████████████| 100%\n"
          ],
          "name": "stdout"
        }
      ]
    },
    {
      "cell_type": "code",
      "metadata": {
        "id": "sEY79V4rAGQ6",
        "colab_type": "code",
        "outputId": "ba10b2f9-5bfc-4b96-d2f9-24219cc7af07",
        "colab": {
          "base_uri": "https://localhost:8080/",
          "height": 1000
        }
      },
      "source": [
        "m_GLM"
      ],
      "execution_count": 0,
      "outputs": [
        {
          "output_type": "stream",
          "text": [
            "Model Details\n",
            "=============\n",
            "H2OGeneralizedLinearEstimator :  Generalized Linear Modeling\n",
            "Model Key:  glm_def\n",
            "\n",
            "\n",
            "GLM Model: summary\n"
          ],
          "name": "stdout"
        },
        {
          "output_type": "display_data",
          "data": {
            "text/html": [
              "<div>\n",
              "<style scoped>\n",
              "    .dataframe tbody tr th:only-of-type {\n",
              "        vertical-align: middle;\n",
              "    }\n",
              "\n",
              "    .dataframe tbody tr th {\n",
              "        vertical-align: top;\n",
              "    }\n",
              "\n",
              "    .dataframe thead th {\n",
              "        text-align: right;\n",
              "    }\n",
              "</style>\n",
              "<table border=\"1\" class=\"dataframe\">\n",
              "  <thead>\n",
              "    <tr style=\"text-align: right;\">\n",
              "      <th></th>\n",
              "      <th></th>\n",
              "      <th>family</th>\n",
              "      <th>link</th>\n",
              "      <th>regularization</th>\n",
              "      <th>number_of_predictors_total</th>\n",
              "      <th>number_of_active_predictors</th>\n",
              "      <th>number_of_iterations</th>\n",
              "      <th>training_frame</th>\n",
              "    </tr>\n",
              "  </thead>\n",
              "  <tbody>\n",
              "    <tr>\n",
              "      <th>0</th>\n",
              "      <td></td>\n",
              "      <td>gaussian</td>\n",
              "      <td>identity</td>\n",
              "      <td>Elastic Net (alpha = 0.5, lambda = 515.21 )</td>\n",
              "      <td>19</td>\n",
              "      <td>19</td>\n",
              "      <td>1</td>\n",
              "      <td>py_4_sid_97c4</td>\n",
              "    </tr>\n",
              "  </tbody>\n",
              "</table>\n",
              "</div>"
            ],
            "text/plain": [
              "       family  ... number_of_iterations training_frame\n",
              "0    gaussian  ...                    1  py_4_sid_97c4\n",
              "\n",
              "[1 rows x 8 columns]"
            ]
          },
          "metadata": {
            "tags": []
          }
        },
        {
          "output_type": "stream",
          "text": [
            "\n",
            "\n",
            "ModelMetricsRegressionGLM: glm\n",
            "** Reported on train data. **\n",
            "\n",
            "MSE: 132394522442.04964\n",
            "RMSE: 363860.58105000824\n",
            "MAE: 230692.2794816973\n",
            "RMSLE: 0.540677127127496\n",
            "R^2: 0.01915498238848845\n",
            "Mean Residual Deviance: 132394522442.04964\n",
            "Null degrees of freedom: 19461\n",
            "Residual degrees of freedom: 19442\n",
            "Null deviance: 2626981989511147.5\n",
            "Residual deviance: 2576662195767170.0\n",
            "AIC: 553676.1355983858\n",
            "\n",
            "ModelMetricsRegressionGLM: glm\n",
            "** Reported on cross-validation data. **\n",
            "\n",
            "MSE: 132917725402.59248\n",
            "RMSE: 364578.8329053025\n",
            "MAE: 231261.72157556852\n",
            "RMSLE: 0.5419978801831691\n",
            "R^2: 0.015278832472447434\n",
            "Mean Residual Deviance: 132917725402.59248\n",
            "Null degrees of freedom: 19461\n",
            "Residual degrees of freedom: 19442\n",
            "Null deviance: 2627276624027082.0\n",
            "Residual deviance: 2586844771785255.0\n",
            "AIC: 553752.8948833451\n",
            "\n",
            "Cross-Validation Metrics Summary: \n"
          ],
          "name": "stdout"
        },
        {
          "output_type": "display_data",
          "data": {
            "text/html": [
              "<div>\n",
              "<style scoped>\n",
              "    .dataframe tbody tr th:only-of-type {\n",
              "        vertical-align: middle;\n",
              "    }\n",
              "\n",
              "    .dataframe tbody tr th {\n",
              "        vertical-align: top;\n",
              "    }\n",
              "\n",
              "    .dataframe thead th {\n",
              "        text-align: right;\n",
              "    }\n",
              "</style>\n",
              "<table border=\"1\" class=\"dataframe\">\n",
              "  <thead>\n",
              "    <tr style=\"text-align: right;\">\n",
              "      <th></th>\n",
              "      <th></th>\n",
              "      <th>mean</th>\n",
              "      <th>sd</th>\n",
              "      <th>cv_1_valid</th>\n",
              "      <th>cv_2_valid</th>\n",
              "      <th>cv_3_valid</th>\n",
              "      <th>cv_4_valid</th>\n",
              "      <th>cv_5_valid</th>\n",
              "    </tr>\n",
              "  </thead>\n",
              "  <tbody>\n",
              "    <tr>\n",
              "      <th>0</th>\n",
              "      <td>mae</td>\n",
              "      <td>231261.72</td>\n",
              "      <td>1131.9391</td>\n",
              "      <td>230450.4</td>\n",
              "      <td>232183.88</td>\n",
              "      <td>229698.61</td>\n",
              "      <td>231744.22</td>\n",
              "      <td>232231.47</td>\n",
              "    </tr>\n",
              "    <tr>\n",
              "      <th>1</th>\n",
              "      <td>mean_residual_deviance</td>\n",
              "      <td>1.32917166E11</td>\n",
              "      <td>7.2611118E9</td>\n",
              "      <td>1.3414214E11</td>\n",
              "      <td>1.42621213E11</td>\n",
              "      <td>1.32479885E11</td>\n",
              "      <td>1.33148361E11</td>\n",
              "      <td>1.22194231E11</td>\n",
              "    </tr>\n",
              "    <tr>\n",
              "      <th>2</th>\n",
              "      <td>mse</td>\n",
              "      <td>1.32917166E11</td>\n",
              "      <td>7.2611118E9</td>\n",
              "      <td>1.3414214E11</td>\n",
              "      <td>1.42621213E11</td>\n",
              "      <td>1.32479885E11</td>\n",
              "      <td>1.33148361E11</td>\n",
              "      <td>1.22194231E11</td>\n",
              "    </tr>\n",
              "    <tr>\n",
              "      <th>3</th>\n",
              "      <td>null_deviance</td>\n",
              "      <td>5.25455325E14</td>\n",
              "      <td>2.85924508E13</td>\n",
              "      <td>5.3056184E14</td>\n",
              "      <td>5.636807E14</td>\n",
              "      <td>5.23549568E14</td>\n",
              "      <td>5.26203388E14</td>\n",
              "      <td>4.83281095E14</td>\n",
              "    </tr>\n",
              "    <tr>\n",
              "      <th>4</th>\n",
              "      <td>r2</td>\n",
              "      <td>0.015090036</td>\n",
              "      <td>5.7722244E-4</td>\n",
              "      <td>0.01568818</td>\n",
              "      <td>0.0149494065</td>\n",
              "      <td>0.014232477</td>\n",
              "      <td>0.015025707</td>\n",
              "      <td>0.0155544095</td>\n",
              "    </tr>\n",
              "    <tr>\n",
              "      <th>5</th>\n",
              "      <td>residual_deviance</td>\n",
              "      <td>5.17368942E14</td>\n",
              "      <td>2.83136072E13</td>\n",
              "      <td>5.22215343E14</td>\n",
              "      <td>5.55224347E14</td>\n",
              "      <td>5.15611696E14</td>\n",
              "      <td>5.18213406E14</td>\n",
              "      <td>4.7557995E14</td>\n",
              "    </tr>\n",
              "    <tr>\n",
              "      <th>6</th>\n",
              "      <td>rmse</td>\n",
              "      <td>364468.44</td>\n",
              "      <td>9994.981</td>\n",
              "      <td>366254.2</td>\n",
              "      <td>377652.22</td>\n",
              "      <td>363977.88</td>\n",
              "      <td>364895.0</td>\n",
              "      <td>349562.9</td>\n",
              "    </tr>\n",
              "    <tr>\n",
              "      <th>7</th>\n",
              "      <td>rmsle</td>\n",
              "      <td>0.5419561</td>\n",
              "      <td>0.0075033545</td>\n",
              "      <td>0.5456499</td>\n",
              "      <td>0.5417851</td>\n",
              "      <td>0.5303622</td>\n",
              "      <td>0.5412729</td>\n",
              "      <td>0.5507107</td>\n",
              "    </tr>\n",
              "  </tbody>\n",
              "</table>\n",
              "</div>"
            ],
            "text/plain": [
              "                                    mean  ...     cv_4_valid     cv_5_valid\n",
              "0                     mae      231261.72  ...      231744.22      232231.47\n",
              "1  mean_residual_deviance  1.32917166E11  ...  1.33148361E11  1.22194231E11\n",
              "2                     mse  1.32917166E11  ...  1.33148361E11  1.22194231E11\n",
              "3           null_deviance  5.25455325E14  ...  5.26203388E14  4.83281095E14\n",
              "4                      r2    0.015090036  ...    0.015025707   0.0155544095\n",
              "5       residual_deviance  5.17368942E14  ...  5.18213406E14   4.7557995E14\n",
              "6                    rmse      364468.44  ...       364895.0       349562.9\n",
              "7                   rmsle      0.5419561  ...      0.5412729      0.5507107\n",
              "\n",
              "[8 rows x 8 columns]"
            ]
          },
          "metadata": {
            "tags": []
          }
        },
        {
          "output_type": "stream",
          "text": [
            "\n",
            "Scoring History: \n"
          ],
          "name": "stdout"
        },
        {
          "output_type": "display_data",
          "data": {
            "text/html": [
              "<div>\n",
              "<style scoped>\n",
              "    .dataframe tbody tr th:only-of-type {\n",
              "        vertical-align: middle;\n",
              "    }\n",
              "\n",
              "    .dataframe tbody tr th {\n",
              "        vertical-align: top;\n",
              "    }\n",
              "\n",
              "    .dataframe thead th {\n",
              "        text-align: right;\n",
              "    }\n",
              "</style>\n",
              "<table border=\"1\" class=\"dataframe\">\n",
              "  <thead>\n",
              "    <tr style=\"text-align: right;\">\n",
              "      <th></th>\n",
              "      <th></th>\n",
              "      <th>timestamp</th>\n",
              "      <th>duration</th>\n",
              "      <th>iterations</th>\n",
              "      <th>negative_log_likelihood</th>\n",
              "      <th>objective</th>\n",
              "    </tr>\n",
              "  </thead>\n",
              "  <tbody>\n",
              "    <tr>\n",
              "      <th>0</th>\n",
              "      <td></td>\n",
              "      <td>2019-10-26 20:20:52</td>\n",
              "      <td>0.000 sec</td>\n",
              "      <td>0</td>\n",
              "      <td>2.626982e+15</td>\n",
              "      <td>1.349801e+11</td>\n",
              "    </tr>\n",
              "  </tbody>\n",
              "</table>\n",
              "</div>"
            ],
            "text/plain": [
              "               timestamp  ... negative_log_likelihood     objective\n",
              "0    2019-10-26 20:20:52  ...            2.626982e+15  1.349801e+11\n",
              "\n",
              "[1 rows x 6 columns]"
            ]
          },
          "metadata": {
            "tags": []
          }
        },
        {
          "output_type": "execute_result",
          "data": {
            "text/plain": [
              ""
            ]
          },
          "metadata": {
            "tags": []
          },
          "execution_count": 18
        }
      ]
    },
    {
      "cell_type": "markdown",
      "metadata": {
        "id": "FHvad2HBilQF",
        "colab_type": "text"
      },
      "source": [
        "As we can see from the above model, that RMSE is 363860.58 on Training data and 364578.83 on Test data. Hence we can say that the GLM model does not perform as good."
      ]
    },
    {
      "cell_type": "markdown",
      "metadata": {
        "id": "Sk36EQA-D7NF",
        "colab_type": "text"
      },
      "source": [
        "### GBM Model"
      ]
    },
    {
      "cell_type": "code",
      "metadata": {
        "id": "pgbOtoa5fVfK",
        "colab_type": "code",
        "outputId": "93b7769d-7617-4183-baa7-7651d7513d22",
        "colab": {
          "base_uri": "https://localhost:8080/",
          "height": 34
        }
      },
      "source": [
        "# GBM Model\n",
        "m_GBM = H2OGradientBoostingEstimator( \n",
        "    model_id = \"gbm_def\", \n",
        "    nfolds = nfolds,\n",
        "    fold_assignment = \"Modulo\",\n",
        "    keep_cross_validation_predictions = True\n",
        "  )\n",
        "\n",
        "m_GBM.train(x, y, training_frame = train)"
      ],
      "execution_count": 0,
      "outputs": [
        {
          "output_type": "stream",
          "text": [
            "gbm Model Build progress: |███████████████████████████████████████████████| 100%\n"
          ],
          "name": "stdout"
        }
      ]
    },
    {
      "cell_type": "code",
      "metadata": {
        "id": "940mnWZOwo5n",
        "colab_type": "code",
        "outputId": "0233ffe8-a534-4da2-859c-616023a8f27f",
        "colab": {
          "base_uri": "https://localhost:8080/",
          "height": 1000
        }
      },
      "source": [
        "m_GBM"
      ],
      "execution_count": 0,
      "outputs": [
        {
          "output_type": "stream",
          "text": [
            "Model Details\n",
            "=============\n",
            "H2OGradientBoostingEstimator :  Gradient Boosting Machine\n",
            "Model Key:  gbm_def\n",
            "\n",
            "\n",
            "Model Summary: \n"
          ],
          "name": "stdout"
        },
        {
          "output_type": "display_data",
          "data": {
            "text/html": [
              "<div>\n",
              "<style scoped>\n",
              "    .dataframe tbody tr th:only-of-type {\n",
              "        vertical-align: middle;\n",
              "    }\n",
              "\n",
              "    .dataframe tbody tr th {\n",
              "        vertical-align: top;\n",
              "    }\n",
              "\n",
              "    .dataframe thead th {\n",
              "        text-align: right;\n",
              "    }\n",
              "</style>\n",
              "<table border=\"1\" class=\"dataframe\">\n",
              "  <thead>\n",
              "    <tr style=\"text-align: right;\">\n",
              "      <th></th>\n",
              "      <th></th>\n",
              "      <th>number_of_trees</th>\n",
              "      <th>number_of_internal_trees</th>\n",
              "      <th>model_size_in_bytes</th>\n",
              "      <th>min_depth</th>\n",
              "      <th>max_depth</th>\n",
              "      <th>mean_depth</th>\n",
              "      <th>min_leaves</th>\n",
              "      <th>max_leaves</th>\n",
              "      <th>mean_leaves</th>\n",
              "    </tr>\n",
              "  </thead>\n",
              "  <tbody>\n",
              "    <tr>\n",
              "      <th>0</th>\n",
              "      <td></td>\n",
              "      <td>50.0</td>\n",
              "      <td>50.0</td>\n",
              "      <td>19602.0</td>\n",
              "      <td>5.0</td>\n",
              "      <td>5.0</td>\n",
              "      <td>5.0</td>\n",
              "      <td>7.0</td>\n",
              "      <td>31.0</td>\n",
              "      <td>26.46</td>\n",
              "    </tr>\n",
              "  </tbody>\n",
              "</table>\n",
              "</div>"
            ],
            "text/plain": [
              "     number_of_trees  ...  max_leaves  mean_leaves\n",
              "0               50.0  ...        31.0        26.46\n",
              "\n",
              "[1 rows x 10 columns]"
            ]
          },
          "metadata": {
            "tags": []
          }
        },
        {
          "output_type": "stream",
          "text": [
            "\n",
            "\n",
            "ModelMetricsRegression: gbm\n",
            "** Reported on train data. **\n",
            "\n",
            "MSE: 11678437596.824286\n",
            "RMSE: 108066.82005511352\n",
            "MAE: 67662.44394284375\n",
            "RMSLE: 0.17619086287094732\n",
            "Mean Residual Deviance: 11678437596.824286\n",
            "\n",
            "ModelMetricsRegression: gbm\n",
            "** Reported on cross-validation data. **\n",
            "\n",
            "MSE: 17063623560.686049\n",
            "RMSE: 130627.80546532215\n",
            "MAE: 74189.4899406734\n",
            "RMSLE: 0.18637404579733474\n",
            "Mean Residual Deviance: 17063623560.686049\n",
            "\n",
            "Cross-Validation Metrics Summary: \n"
          ],
          "name": "stdout"
        },
        {
          "output_type": "display_data",
          "data": {
            "text/html": [
              "<div>\n",
              "<style scoped>\n",
              "    .dataframe tbody tr th:only-of-type {\n",
              "        vertical-align: middle;\n",
              "    }\n",
              "\n",
              "    .dataframe tbody tr th {\n",
              "        vertical-align: top;\n",
              "    }\n",
              "\n",
              "    .dataframe thead th {\n",
              "        text-align: right;\n",
              "    }\n",
              "</style>\n",
              "<table border=\"1\" class=\"dataframe\">\n",
              "  <thead>\n",
              "    <tr style=\"text-align: right;\">\n",
              "      <th></th>\n",
              "      <th></th>\n",
              "      <th>mean</th>\n",
              "      <th>sd</th>\n",
              "      <th>cv_1_valid</th>\n",
              "      <th>cv_2_valid</th>\n",
              "      <th>cv_3_valid</th>\n",
              "      <th>cv_4_valid</th>\n",
              "      <th>cv_5_valid</th>\n",
              "    </tr>\n",
              "  </thead>\n",
              "  <tbody>\n",
              "    <tr>\n",
              "      <th>0</th>\n",
              "      <td>mae</td>\n",
              "      <td>74189.28</td>\n",
              "      <td>1927.7539</td>\n",
              "      <td>75726.36</td>\n",
              "      <td>76765.93</td>\n",
              "      <td>73191.914</td>\n",
              "      <td>72551.8</td>\n",
              "      <td>72710.39</td>\n",
              "    </tr>\n",
              "    <tr>\n",
              "      <th>1</th>\n",
              "      <td>mean_residual_deviance</td>\n",
              "      <td>1.70634598E10</td>\n",
              "      <td>2.46104448E9</td>\n",
              "      <td>1.61911429E10</td>\n",
              "      <td>2.11296645E10</td>\n",
              "      <td>1.5906902E10</td>\n",
              "      <td>1.73712609E10</td>\n",
              "      <td>1.47183278E10</td>\n",
              "    </tr>\n",
              "    <tr>\n",
              "      <th>2</th>\n",
              "      <td>mse</td>\n",
              "      <td>1.70634598E10</td>\n",
              "      <td>2.46104448E9</td>\n",
              "      <td>1.61911429E10</td>\n",
              "      <td>2.11296645E10</td>\n",
              "      <td>1.5906902E10</td>\n",
              "      <td>1.73712609E10</td>\n",
              "      <td>1.47183278E10</td>\n",
              "    </tr>\n",
              "    <tr>\n",
              "      <th>3</th>\n",
              "      <td>r2</td>\n",
              "      <td>0.8739623</td>\n",
              "      <td>0.011926381</td>\n",
              "      <td>0.8811922</td>\n",
              "      <td>0.85406244</td>\n",
              "      <td>0.8816386</td>\n",
              "      <td>0.8714949</td>\n",
              "      <td>0.8814233</td>\n",
              "    </tr>\n",
              "    <tr>\n",
              "      <th>4</th>\n",
              "      <td>residual_deviance</td>\n",
              "      <td>1.70634598E10</td>\n",
              "      <td>2.46104448E9</td>\n",
              "      <td>1.61911429E10</td>\n",
              "      <td>2.11296645E10</td>\n",
              "      <td>1.5906902E10</td>\n",
              "      <td>1.73712609E10</td>\n",
              "      <td>1.47183278E10</td>\n",
              "    </tr>\n",
              "    <tr>\n",
              "      <th>5</th>\n",
              "      <td>rmse</td>\n",
              "      <td>130369.33</td>\n",
              "      <td>9171.798</td>\n",
              "      <td>127244.42</td>\n",
              "      <td>145360.45</td>\n",
              "      <td>126122.57</td>\n",
              "      <td>131800.08</td>\n",
              "      <td>121319.12</td>\n",
              "    </tr>\n",
              "    <tr>\n",
              "      <th>6</th>\n",
              "      <td>rmsle</td>\n",
              "      <td>0.18632275</td>\n",
              "      <td>0.0048659313</td>\n",
              "      <td>0.19010493</td>\n",
              "      <td>0.19169924</td>\n",
              "      <td>0.1793293</td>\n",
              "      <td>0.18489002</td>\n",
              "      <td>0.18559027</td>\n",
              "    </tr>\n",
              "  </tbody>\n",
              "</table>\n",
              "</div>"
            ],
            "text/plain": [
              "                                    mean  ...     cv_4_valid     cv_5_valid\n",
              "0                     mae       74189.28  ...        72551.8       72710.39\n",
              "1  mean_residual_deviance  1.70634598E10  ...  1.73712609E10  1.47183278E10\n",
              "2                     mse  1.70634598E10  ...  1.73712609E10  1.47183278E10\n",
              "3                      r2      0.8739623  ...      0.8714949      0.8814233\n",
              "4       residual_deviance  1.70634598E10  ...  1.73712609E10  1.47183278E10\n",
              "5                    rmse      130369.33  ...      131800.08      121319.12\n",
              "6                   rmsle     0.18632275  ...     0.18489002     0.18559027\n",
              "\n",
              "[7 rows x 8 columns]"
            ]
          },
          "metadata": {
            "tags": []
          }
        },
        {
          "output_type": "stream",
          "text": [
            "\n",
            "Scoring History: \n"
          ],
          "name": "stdout"
        },
        {
          "output_type": "display_data",
          "data": {
            "text/html": [
              "<div>\n",
              "<style scoped>\n",
              "    .dataframe tbody tr th:only-of-type {\n",
              "        vertical-align: middle;\n",
              "    }\n",
              "\n",
              "    .dataframe tbody tr th {\n",
              "        vertical-align: top;\n",
              "    }\n",
              "\n",
              "    .dataframe thead th {\n",
              "        text-align: right;\n",
              "    }\n",
              "</style>\n",
              "<table border=\"1\" class=\"dataframe\">\n",
              "  <thead>\n",
              "    <tr style=\"text-align: right;\">\n",
              "      <th></th>\n",
              "      <th></th>\n",
              "      <th>timestamp</th>\n",
              "      <th>duration</th>\n",
              "      <th>number_of_trees</th>\n",
              "      <th>training_rmse</th>\n",
              "      <th>training_mae</th>\n",
              "      <th>training_deviance</th>\n",
              "    </tr>\n",
              "  </thead>\n",
              "  <tbody>\n",
              "    <tr>\n",
              "      <th>0</th>\n",
              "      <td></td>\n",
              "      <td>2019-10-26 20:21:10</td>\n",
              "      <td>16.439 sec</td>\n",
              "      <td>0.0</td>\n",
              "      <td>367396.329833</td>\n",
              "      <td>233426.255360</td>\n",
              "      <td>1.349801e+11</td>\n",
              "    </tr>\n",
              "    <tr>\n",
              "      <th>1</th>\n",
              "      <td></td>\n",
              "      <td>2019-10-26 20:21:10</td>\n",
              "      <td>16.553 sec</td>\n",
              "      <td>1.0</td>\n",
              "      <td>340650.721090</td>\n",
              "      <td>215267.599598</td>\n",
              "      <td>1.160429e+11</td>\n",
              "    </tr>\n",
              "    <tr>\n",
              "      <th>2</th>\n",
              "      <td></td>\n",
              "      <td>2019-10-26 20:21:10</td>\n",
              "      <td>16.610 sec</td>\n",
              "      <td>2.0</td>\n",
              "      <td>316839.574081</td>\n",
              "      <td>199406.066612</td>\n",
              "      <td>1.003873e+11</td>\n",
              "    </tr>\n",
              "    <tr>\n",
              "      <th>3</th>\n",
              "      <td></td>\n",
              "      <td>2019-10-26 20:21:10</td>\n",
              "      <td>16.670 sec</td>\n",
              "      <td>3.0</td>\n",
              "      <td>295441.186549</td>\n",
              "      <td>184701.101125</td>\n",
              "      <td>8.728549e+10</td>\n",
              "    </tr>\n",
              "    <tr>\n",
              "      <th>4</th>\n",
              "      <td></td>\n",
              "      <td>2019-10-26 20:21:10</td>\n",
              "      <td>16.732 sec</td>\n",
              "      <td>4.0</td>\n",
              "      <td>276240.574039</td>\n",
              "      <td>172075.276646</td>\n",
              "      <td>7.630885e+10</td>\n",
              "    </tr>\n",
              "    <tr>\n",
              "      <th>5</th>\n",
              "      <td></td>\n",
              "      <td>2019-10-26 20:21:10</td>\n",
              "      <td>16.805 sec</td>\n",
              "      <td>5.0</td>\n",
              "      <td>259405.150916</td>\n",
              "      <td>160860.229147</td>\n",
              "      <td>6.729103e+10</td>\n",
              "    </tr>\n",
              "    <tr>\n",
              "      <th>6</th>\n",
              "      <td></td>\n",
              "      <td>2019-10-26 20:21:10</td>\n",
              "      <td>16.854 sec</td>\n",
              "      <td>6.0</td>\n",
              "      <td>243715.201842</td>\n",
              "      <td>150577.599455</td>\n",
              "      <td>5.939710e+10</td>\n",
              "    </tr>\n",
              "    <tr>\n",
              "      <th>7</th>\n",
              "      <td></td>\n",
              "      <td>2019-10-26 20:21:11</td>\n",
              "      <td>16.911 sec</td>\n",
              "      <td>7.0</td>\n",
              "      <td>230207.604738</td>\n",
              "      <td>141987.154641</td>\n",
              "      <td>5.299554e+10</td>\n",
              "    </tr>\n",
              "    <tr>\n",
              "      <th>8</th>\n",
              "      <td></td>\n",
              "      <td>2019-10-26 20:21:11</td>\n",
              "      <td>16.977 sec</td>\n",
              "      <td>8.0</td>\n",
              "      <td>217745.977101</td>\n",
              "      <td>133911.266865</td>\n",
              "      <td>4.741331e+10</td>\n",
              "    </tr>\n",
              "    <tr>\n",
              "      <th>9</th>\n",
              "      <td></td>\n",
              "      <td>2019-10-26 20:21:11</td>\n",
              "      <td>17.011 sec</td>\n",
              "      <td>9.0</td>\n",
              "      <td>207052.272177</td>\n",
              "      <td>127018.605815</td>\n",
              "      <td>4.287064e+10</td>\n",
              "    </tr>\n",
              "    <tr>\n",
              "      <th>10</th>\n",
              "      <td></td>\n",
              "      <td>2019-10-26 20:21:11</td>\n",
              "      <td>17.054 sec</td>\n",
              "      <td>10.0</td>\n",
              "      <td>197358.034952</td>\n",
              "      <td>120725.930562</td>\n",
              "      <td>3.895019e+10</td>\n",
              "    </tr>\n",
              "    <tr>\n",
              "      <th>11</th>\n",
              "      <td></td>\n",
              "      <td>2019-10-26 20:21:11</td>\n",
              "      <td>17.105 sec</td>\n",
              "      <td>11.0</td>\n",
              "      <td>188629.964869</td>\n",
              "      <td>115230.898398</td>\n",
              "      <td>3.558126e+10</td>\n",
              "    </tr>\n",
              "    <tr>\n",
              "      <th>12</th>\n",
              "      <td></td>\n",
              "      <td>2019-10-26 20:21:11</td>\n",
              "      <td>17.151 sec</td>\n",
              "      <td>12.0</td>\n",
              "      <td>181339.531854</td>\n",
              "      <td>110522.917130</td>\n",
              "      <td>3.288403e+10</td>\n",
              "    </tr>\n",
              "    <tr>\n",
              "      <th>13</th>\n",
              "      <td></td>\n",
              "      <td>2019-10-26 20:21:11</td>\n",
              "      <td>17.202 sec</td>\n",
              "      <td>13.0</td>\n",
              "      <td>174449.721246</td>\n",
              "      <td>106063.734505</td>\n",
              "      <td>3.043271e+10</td>\n",
              "    </tr>\n",
              "    <tr>\n",
              "      <th>14</th>\n",
              "      <td></td>\n",
              "      <td>2019-10-26 20:21:11</td>\n",
              "      <td>17.240 sec</td>\n",
              "      <td>14.0</td>\n",
              "      <td>168514.136861</td>\n",
              "      <td>102504.320965</td>\n",
              "      <td>2.839701e+10</td>\n",
              "    </tr>\n",
              "    <tr>\n",
              "      <th>15</th>\n",
              "      <td></td>\n",
              "      <td>2019-10-26 20:21:11</td>\n",
              "      <td>17.274 sec</td>\n",
              "      <td>15.0</td>\n",
              "      <td>163001.265782</td>\n",
              "      <td>99010.240891</td>\n",
              "      <td>2.656941e+10</td>\n",
              "    </tr>\n",
              "    <tr>\n",
              "      <th>16</th>\n",
              "      <td></td>\n",
              "      <td>2019-10-26 20:21:11</td>\n",
              "      <td>17.312 sec</td>\n",
              "      <td>16.0</td>\n",
              "      <td>158379.822422</td>\n",
              "      <td>96077.138414</td>\n",
              "      <td>2.508417e+10</td>\n",
              "    </tr>\n",
              "    <tr>\n",
              "      <th>17</th>\n",
              "      <td></td>\n",
              "      <td>2019-10-26 20:21:11</td>\n",
              "      <td>17.347 sec</td>\n",
              "      <td>17.0</td>\n",
              "      <td>153986.088012</td>\n",
              "      <td>93267.179817</td>\n",
              "      <td>2.371172e+10</td>\n",
              "    </tr>\n",
              "    <tr>\n",
              "      <th>18</th>\n",
              "      <td></td>\n",
              "      <td>2019-10-26 20:21:11</td>\n",
              "      <td>17.389 sec</td>\n",
              "      <td>18.0</td>\n",
              "      <td>149938.250062</td>\n",
              "      <td>91058.268649</td>\n",
              "      <td>2.248148e+10</td>\n",
              "    </tr>\n",
              "    <tr>\n",
              "      <th>19</th>\n",
              "      <td></td>\n",
              "      <td>2019-10-26 20:21:11</td>\n",
              "      <td>17.431 sec</td>\n",
              "      <td>19.0</td>\n",
              "      <td>146606.108658</td>\n",
              "      <td>88864.956629</td>\n",
              "      <td>2.149335e+10</td>\n",
              "    </tr>\n",
              "  </tbody>\n",
              "</table>\n",
              "</div>"
            ],
            "text/plain": [
              "                timestamp  ...   training_mae  training_deviance\n",
              "0     2019-10-26 20:21:10  ...  233426.255360       1.349801e+11\n",
              "1     2019-10-26 20:21:10  ...  215267.599598       1.160429e+11\n",
              "2     2019-10-26 20:21:10  ...  199406.066612       1.003873e+11\n",
              "3     2019-10-26 20:21:10  ...  184701.101125       8.728549e+10\n",
              "4     2019-10-26 20:21:10  ...  172075.276646       7.630885e+10\n",
              "5     2019-10-26 20:21:10  ...  160860.229147       6.729103e+10\n",
              "6     2019-10-26 20:21:10  ...  150577.599455       5.939710e+10\n",
              "7     2019-10-26 20:21:11  ...  141987.154641       5.299554e+10\n",
              "8     2019-10-26 20:21:11  ...  133911.266865       4.741331e+10\n",
              "9     2019-10-26 20:21:11  ...  127018.605815       4.287064e+10\n",
              "10    2019-10-26 20:21:11  ...  120725.930562       3.895019e+10\n",
              "11    2019-10-26 20:21:11  ...  115230.898398       3.558126e+10\n",
              "12    2019-10-26 20:21:11  ...  110522.917130       3.288403e+10\n",
              "13    2019-10-26 20:21:11  ...  106063.734505       3.043271e+10\n",
              "14    2019-10-26 20:21:11  ...  102504.320965       2.839701e+10\n",
              "15    2019-10-26 20:21:11  ...   99010.240891       2.656941e+10\n",
              "16    2019-10-26 20:21:11  ...   96077.138414       2.508417e+10\n",
              "17    2019-10-26 20:21:11  ...   93267.179817       2.371172e+10\n",
              "18    2019-10-26 20:21:11  ...   91058.268649       2.248148e+10\n",
              "19    2019-10-26 20:21:11  ...   88864.956629       2.149335e+10\n",
              "\n",
              "[20 rows x 7 columns]"
            ]
          },
          "metadata": {
            "tags": []
          }
        },
        {
          "output_type": "stream",
          "text": [
            "\n",
            "See the whole table with table.as_data_frame()\n",
            "\n",
            "Variable Importances: \n"
          ],
          "name": "stdout"
        },
        {
          "output_type": "display_data",
          "data": {
            "text/html": [
              "<div>\n",
              "<style scoped>\n",
              "    .dataframe tbody tr th:only-of-type {\n",
              "        vertical-align: middle;\n",
              "    }\n",
              "\n",
              "    .dataframe tbody tr th {\n",
              "        vertical-align: top;\n",
              "    }\n",
              "\n",
              "    .dataframe thead th {\n",
              "        text-align: right;\n",
              "    }\n",
              "</style>\n",
              "<table border=\"1\" class=\"dataframe\">\n",
              "  <thead>\n",
              "    <tr style=\"text-align: right;\">\n",
              "      <th></th>\n",
              "      <th>variable</th>\n",
              "      <th>relative_importance</th>\n",
              "      <th>scaled_importance</th>\n",
              "      <th>percentage</th>\n",
              "    </tr>\n",
              "  </thead>\n",
              "  <tbody>\n",
              "    <tr>\n",
              "      <th>0</th>\n",
              "      <td>grade</td>\n",
              "      <td>4.320886e+15</td>\n",
              "      <td>1.000000</td>\n",
              "      <td>0.342115</td>\n",
              "    </tr>\n",
              "    <tr>\n",
              "      <th>1</th>\n",
              "      <td>sqft_living</td>\n",
              "      <td>3.445133e+15</td>\n",
              "      <td>0.797321</td>\n",
              "      <td>0.272775</td>\n",
              "    </tr>\n",
              "    <tr>\n",
              "      <th>2</th>\n",
              "      <td>lat</td>\n",
              "      <td>2.057736e+15</td>\n",
              "      <td>0.476230</td>\n",
              "      <td>0.162925</td>\n",
              "    </tr>\n",
              "    <tr>\n",
              "      <th>3</th>\n",
              "      <td>long</td>\n",
              "      <td>9.996391e+14</td>\n",
              "      <td>0.231351</td>\n",
              "      <td>0.079148</td>\n",
              "    </tr>\n",
              "    <tr>\n",
              "      <th>4</th>\n",
              "      <td>waterfront</td>\n",
              "      <td>4.133098e+14</td>\n",
              "      <td>0.095654</td>\n",
              "      <td>0.032725</td>\n",
              "    </tr>\n",
              "    <tr>\n",
              "      <th>5</th>\n",
              "      <td>sqft_living15</td>\n",
              "      <td>3.923390e+14</td>\n",
              "      <td>0.090801</td>\n",
              "      <td>0.031064</td>\n",
              "    </tr>\n",
              "    <tr>\n",
              "      <th>6</th>\n",
              "      <td>yr_built</td>\n",
              "      <td>3.214826e+14</td>\n",
              "      <td>0.074402</td>\n",
              "      <td>0.025454</td>\n",
              "    </tr>\n",
              "    <tr>\n",
              "      <th>7</th>\n",
              "      <td>view</td>\n",
              "      <td>2.317232e+14</td>\n",
              "      <td>0.053629</td>\n",
              "      <td>0.018347</td>\n",
              "    </tr>\n",
              "    <tr>\n",
              "      <th>8</th>\n",
              "      <td>sqft_above</td>\n",
              "      <td>2.014532e+14</td>\n",
              "      <td>0.046623</td>\n",
              "      <td>0.015950</td>\n",
              "    </tr>\n",
              "    <tr>\n",
              "      <th>9</th>\n",
              "      <td>sqft_lot</td>\n",
              "      <td>6.082480e+13</td>\n",
              "      <td>0.014077</td>\n",
              "      <td>0.004816</td>\n",
              "    </tr>\n",
              "    <tr>\n",
              "      <th>10</th>\n",
              "      <td>bathrooms</td>\n",
              "      <td>5.027807e+13</td>\n",
              "      <td>0.011636</td>\n",
              "      <td>0.003981</td>\n",
              "    </tr>\n",
              "    <tr>\n",
              "      <th>11</th>\n",
              "      <td>sqft_lot15</td>\n",
              "      <td>3.881067e+13</td>\n",
              "      <td>0.008982</td>\n",
              "      <td>0.003073</td>\n",
              "    </tr>\n",
              "    <tr>\n",
              "      <th>12</th>\n",
              "      <td>condition</td>\n",
              "      <td>3.019198e+13</td>\n",
              "      <td>0.006987</td>\n",
              "      <td>0.002391</td>\n",
              "    </tr>\n",
              "    <tr>\n",
              "      <th>13</th>\n",
              "      <td>sqft_basement</td>\n",
              "      <td>2.123633e+13</td>\n",
              "      <td>0.004915</td>\n",
              "      <td>0.001681</td>\n",
              "    </tr>\n",
              "    <tr>\n",
              "      <th>14</th>\n",
              "      <td>year</td>\n",
              "      <td>1.261404e+13</td>\n",
              "      <td>0.002919</td>\n",
              "      <td>0.000999</td>\n",
              "    </tr>\n",
              "    <tr>\n",
              "      <th>15</th>\n",
              "      <td>yr_renovated</td>\n",
              "      <td>1.079940e+13</td>\n",
              "      <td>0.002499</td>\n",
              "      <td>0.000855</td>\n",
              "    </tr>\n",
              "    <tr>\n",
              "      <th>16</th>\n",
              "      <td>floors</td>\n",
              "      <td>1.007999e+13</td>\n",
              "      <td>0.002333</td>\n",
              "      <td>0.000798</td>\n",
              "    </tr>\n",
              "    <tr>\n",
              "      <th>17</th>\n",
              "      <td>month</td>\n",
              "      <td>8.656172e+12</td>\n",
              "      <td>0.002003</td>\n",
              "      <td>0.000685</td>\n",
              "    </tr>\n",
              "    <tr>\n",
              "      <th>18</th>\n",
              "      <td>bedrooms</td>\n",
              "      <td>2.730922e+12</td>\n",
              "      <td>0.000632</td>\n",
              "      <td>0.000216</td>\n",
              "    </tr>\n",
              "  </tbody>\n",
              "</table>\n",
              "</div>"
            ],
            "text/plain": [
              "         variable  relative_importance  scaled_importance  percentage\n",
              "0           grade         4.320886e+15           1.000000    0.342115\n",
              "1     sqft_living         3.445133e+15           0.797321    0.272775\n",
              "2             lat         2.057736e+15           0.476230    0.162925\n",
              "3            long         9.996391e+14           0.231351    0.079148\n",
              "4      waterfront         4.133098e+14           0.095654    0.032725\n",
              "5   sqft_living15         3.923390e+14           0.090801    0.031064\n",
              "6        yr_built         3.214826e+14           0.074402    0.025454\n",
              "7            view         2.317232e+14           0.053629    0.018347\n",
              "8      sqft_above         2.014532e+14           0.046623    0.015950\n",
              "9        sqft_lot         6.082480e+13           0.014077    0.004816\n",
              "10      bathrooms         5.027807e+13           0.011636    0.003981\n",
              "11     sqft_lot15         3.881067e+13           0.008982    0.003073\n",
              "12      condition         3.019198e+13           0.006987    0.002391\n",
              "13  sqft_basement         2.123633e+13           0.004915    0.001681\n",
              "14           year         1.261404e+13           0.002919    0.000999\n",
              "15   yr_renovated         1.079940e+13           0.002499    0.000855\n",
              "16         floors         1.007999e+13           0.002333    0.000798\n",
              "17          month         8.656172e+12           0.002003    0.000685\n",
              "18       bedrooms         2.730922e+12           0.000632    0.000216"
            ]
          },
          "metadata": {
            "tags": []
          }
        },
        {
          "output_type": "execute_result",
          "data": {
            "text/plain": [
              ""
            ]
          },
          "metadata": {
            "tags": []
          },
          "execution_count": 20
        }
      ]
    },
    {
      "cell_type": "markdown",
      "metadata": {
        "id": "yfn2rdsyjSyy",
        "colab_type": "text"
      },
      "source": [
        "As we can see from the above model that RMSE value for both the training and the Cross validation set is above the required value. From all the Cross-validation results, only CV5 is below the required value. overall the model is better than the GLM Model."
      ]
    },
    {
      "cell_type": "markdown",
      "metadata": {
        "id": "CfuGGYxRD-bK",
        "colab_type": "text"
      },
      "source": [
        "### Random Forest Model"
      ]
    },
    {
      "cell_type": "code",
      "metadata": {
        "id": "AEdAC1HKv-t5",
        "colab_type": "code",
        "outputId": "f5bb57ce-5b6a-4737-a713-2ffa8039e7d6",
        "colab": {
          "base_uri": "https://localhost:8080/",
          "height": 34
        }
      },
      "source": [
        "# RF Model\n",
        "m_RF = H2ORandomForestEstimator( \n",
        "    model_id = \"rf_def\", \n",
        "    nfolds = nfolds,\n",
        "    fold_assignment = \"Modulo\",\n",
        "    keep_cross_validation_predictions = True\n",
        "  )\n",
        "\n",
        "m_RF.train(x, y, training_frame = train)"
      ],
      "execution_count": 0,
      "outputs": [
        {
          "output_type": "stream",
          "text": [
            "drf Model Build progress: |███████████████████████████████████████████████| 100%\n"
          ],
          "name": "stdout"
        }
      ]
    },
    {
      "cell_type": "code",
      "metadata": {
        "id": "y6A0slJ3wvun",
        "colab_type": "code",
        "outputId": "72f57def-e7a4-47c5-9218-bc8ad7d191f7",
        "colab": {
          "base_uri": "https://localhost:8080/",
          "height": 1000
        }
      },
      "source": [
        "m_RF"
      ],
      "execution_count": 0,
      "outputs": [
        {
          "output_type": "stream",
          "text": [
            "Model Details\n",
            "=============\n",
            "H2ORandomForestEstimator :  Distributed Random Forest\n",
            "Model Key:  rf_def\n",
            "\n",
            "\n",
            "Model Summary: \n"
          ],
          "name": "stdout"
        },
        {
          "output_type": "display_data",
          "data": {
            "text/html": [
              "<div>\n",
              "<style scoped>\n",
              "    .dataframe tbody tr th:only-of-type {\n",
              "        vertical-align: middle;\n",
              "    }\n",
              "\n",
              "    .dataframe tbody tr th {\n",
              "        vertical-align: top;\n",
              "    }\n",
              "\n",
              "    .dataframe thead th {\n",
              "        text-align: right;\n",
              "    }\n",
              "</style>\n",
              "<table border=\"1\" class=\"dataframe\">\n",
              "  <thead>\n",
              "    <tr style=\"text-align: right;\">\n",
              "      <th></th>\n",
              "      <th></th>\n",
              "      <th>number_of_trees</th>\n",
              "      <th>number_of_internal_trees</th>\n",
              "      <th>model_size_in_bytes</th>\n",
              "      <th>min_depth</th>\n",
              "      <th>max_depth</th>\n",
              "      <th>mean_depth</th>\n",
              "      <th>min_leaves</th>\n",
              "      <th>max_leaves</th>\n",
              "      <th>mean_leaves</th>\n",
              "    </tr>\n",
              "  </thead>\n",
              "  <tbody>\n",
              "    <tr>\n",
              "      <th>0</th>\n",
              "      <td></td>\n",
              "      <td>50.0</td>\n",
              "      <td>50.0</td>\n",
              "      <td>5634294.0</td>\n",
              "      <td>20.0</td>\n",
              "      <td>20.0</td>\n",
              "      <td>20.0</td>\n",
              "      <td>8393.0</td>\n",
              "      <td>9816.0</td>\n",
              "      <td>8962.26</td>\n",
              "    </tr>\n",
              "  </tbody>\n",
              "</table>\n",
              "</div>"
            ],
            "text/plain": [
              "     number_of_trees  ...  max_leaves  mean_leaves\n",
              "0               50.0  ...      9816.0      8962.26\n",
              "\n",
              "[1 rows x 10 columns]"
            ]
          },
          "metadata": {
            "tags": []
          }
        },
        {
          "output_type": "stream",
          "text": [
            "\n",
            "\n",
            "ModelMetricsRegression: drf\n",
            "** Reported on train data. **\n",
            "\n",
            "MSE: 17924626859.477493\n",
            "RMSE: 133882.8848638895\n",
            "MAE: 72708.06608446881\n",
            "RMSLE: 0.18228542377203544\n",
            "Mean Residual Deviance: 17924626859.477493\n",
            "\n",
            "ModelMetricsRegression: drf\n",
            "** Reported on cross-validation data. **\n",
            "\n",
            "MSE: 17655253706.369812\n",
            "RMSE: 132873.07366946025\n",
            "MAE: 71782.93647892366\n",
            "RMSLE: 0.1808673346909977\n",
            "Mean Residual Deviance: 17655253706.369812\n",
            "\n",
            "Cross-Validation Metrics Summary: \n"
          ],
          "name": "stdout"
        },
        {
          "output_type": "display_data",
          "data": {
            "text/html": [
              "<div>\n",
              "<style scoped>\n",
              "    .dataframe tbody tr th:only-of-type {\n",
              "        vertical-align: middle;\n",
              "    }\n",
              "\n",
              "    .dataframe tbody tr th {\n",
              "        vertical-align: top;\n",
              "    }\n",
              "\n",
              "    .dataframe thead th {\n",
              "        text-align: right;\n",
              "    }\n",
              "</style>\n",
              "<table border=\"1\" class=\"dataframe\">\n",
              "  <thead>\n",
              "    <tr style=\"text-align: right;\">\n",
              "      <th></th>\n",
              "      <th></th>\n",
              "      <th>mean</th>\n",
              "      <th>sd</th>\n",
              "      <th>cv_1_valid</th>\n",
              "      <th>cv_2_valid</th>\n",
              "      <th>cv_3_valid</th>\n",
              "      <th>cv_4_valid</th>\n",
              "      <th>cv_5_valid</th>\n",
              "    </tr>\n",
              "  </thead>\n",
              "  <tbody>\n",
              "    <tr>\n",
              "      <th>0</th>\n",
              "      <td>mae</td>\n",
              "      <td>71782.71</td>\n",
              "      <td>2274.259</td>\n",
              "      <td>72977.81</td>\n",
              "      <td>75038.78</td>\n",
              "      <td>71217.23</td>\n",
              "      <td>70468.19</td>\n",
              "      <td>69211.52</td>\n",
              "    </tr>\n",
              "    <tr>\n",
              "      <th>1</th>\n",
              "      <td>mean_residual_deviance</td>\n",
              "      <td>1.76550216E10</td>\n",
              "      <td>2.87712E9</td>\n",
              "      <td>1.72447416E10</td>\n",
              "      <td>2.25917215E10</td>\n",
              "      <td>1.6629506E10</td>\n",
              "      <td>1.67388621E10</td>\n",
              "      <td>1.50702746E10</td>\n",
              "    </tr>\n",
              "    <tr>\n",
              "      <th>2</th>\n",
              "      <td>mse</td>\n",
              "      <td>1.76550216E10</td>\n",
              "      <td>2.87712E9</td>\n",
              "      <td>1.72447416E10</td>\n",
              "      <td>2.25917215E10</td>\n",
              "      <td>1.6629506E10</td>\n",
              "      <td>1.67388621E10</td>\n",
              "      <td>1.50702746E10</td>\n",
              "    </tr>\n",
              "    <tr>\n",
              "      <th>3</th>\n",
              "      <td>r2</td>\n",
              "      <td>0.86968964</td>\n",
              "      <td>0.014494986</td>\n",
              "      <td>0.87346107</td>\n",
              "      <td>0.8439644</td>\n",
              "      <td>0.8762618</td>\n",
              "      <td>0.8761731</td>\n",
              "      <td>0.87858784</td>\n",
              "    </tr>\n",
              "    <tr>\n",
              "      <th>4</th>\n",
              "      <td>residual_deviance</td>\n",
              "      <td>1.76550216E10</td>\n",
              "      <td>2.87712E9</td>\n",
              "      <td>1.72447416E10</td>\n",
              "      <td>2.25917215E10</td>\n",
              "      <td>1.6629506E10</td>\n",
              "      <td>1.67388621E10</td>\n",
              "      <td>1.50702746E10</td>\n",
              "    </tr>\n",
              "    <tr>\n",
              "      <th>5</th>\n",
              "      <td>rmse</td>\n",
              "      <td>132543.98</td>\n",
              "      <td>10435.169</td>\n",
              "      <td>131319.23</td>\n",
              "      <td>150305.42</td>\n",
              "      <td>128955.44</td>\n",
              "      <td>129378.75</td>\n",
              "      <td>122761.05</td>\n",
              "    </tr>\n",
              "    <tr>\n",
              "      <th>6</th>\n",
              "      <td>rmsle</td>\n",
              "      <td>0.18083099</td>\n",
              "      <td>0.0040326156</td>\n",
              "      <td>0.18381405</td>\n",
              "      <td>0.18526675</td>\n",
              "      <td>0.1754136</td>\n",
              "      <td>0.18143064</td>\n",
              "      <td>0.1782299</td>\n",
              "    </tr>\n",
              "  </tbody>\n",
              "</table>\n",
              "</div>"
            ],
            "text/plain": [
              "                                    mean  ...     cv_4_valid     cv_5_valid\n",
              "0                     mae       71782.71  ...       70468.19       69211.52\n",
              "1  mean_residual_deviance  1.76550216E10  ...  1.67388621E10  1.50702746E10\n",
              "2                     mse  1.76550216E10  ...  1.67388621E10  1.50702746E10\n",
              "3                      r2     0.86968964  ...      0.8761731     0.87858784\n",
              "4       residual_deviance  1.76550216E10  ...  1.67388621E10  1.50702746E10\n",
              "5                    rmse      132543.98  ...      129378.75      122761.05\n",
              "6                   rmsle     0.18083099  ...     0.18143064      0.1782299\n",
              "\n",
              "[7 rows x 8 columns]"
            ]
          },
          "metadata": {
            "tags": []
          }
        },
        {
          "output_type": "stream",
          "text": [
            "\n",
            "Scoring History: \n"
          ],
          "name": "stdout"
        },
        {
          "output_type": "display_data",
          "data": {
            "text/html": [
              "<div>\n",
              "<style scoped>\n",
              "    .dataframe tbody tr th:only-of-type {\n",
              "        vertical-align: middle;\n",
              "    }\n",
              "\n",
              "    .dataframe tbody tr th {\n",
              "        vertical-align: top;\n",
              "    }\n",
              "\n",
              "    .dataframe thead th {\n",
              "        text-align: right;\n",
              "    }\n",
              "</style>\n",
              "<table border=\"1\" class=\"dataframe\">\n",
              "  <thead>\n",
              "    <tr style=\"text-align: right;\">\n",
              "      <th></th>\n",
              "      <th></th>\n",
              "      <th>timestamp</th>\n",
              "      <th>duration</th>\n",
              "      <th>number_of_trees</th>\n",
              "      <th>training_rmse</th>\n",
              "      <th>training_mae</th>\n",
              "      <th>training_deviance</th>\n",
              "    </tr>\n",
              "  </thead>\n",
              "  <tbody>\n",
              "    <tr>\n",
              "      <th>0</th>\n",
              "      <td></td>\n",
              "      <td>2019-10-26 20:22:04</td>\n",
              "      <td>50.516 sec</td>\n",
              "      <td>0.0</td>\n",
              "      <td>NaN</td>\n",
              "      <td>NaN</td>\n",
              "      <td>NaN</td>\n",
              "    </tr>\n",
              "    <tr>\n",
              "      <th>1</th>\n",
              "      <td></td>\n",
              "      <td>2019-10-26 20:22:04</td>\n",
              "      <td>50.722 sec</td>\n",
              "      <td>1.0</td>\n",
              "      <td>211108.145030</td>\n",
              "      <td>112653.976359</td>\n",
              "      <td>4.456665e+10</td>\n",
              "    </tr>\n",
              "    <tr>\n",
              "      <th>2</th>\n",
              "      <td></td>\n",
              "      <td>2019-10-26 20:22:04</td>\n",
              "      <td>50.910 sec</td>\n",
              "      <td>2.0</td>\n",
              "      <td>196104.610530</td>\n",
              "      <td>107181.227473</td>\n",
              "      <td>3.845702e+10</td>\n",
              "    </tr>\n",
              "    <tr>\n",
              "      <th>3</th>\n",
              "      <td></td>\n",
              "      <td>2019-10-26 20:22:05</td>\n",
              "      <td>51.159 sec</td>\n",
              "      <td>3.0</td>\n",
              "      <td>187981.903972</td>\n",
              "      <td>102173.218939</td>\n",
              "      <td>3.533720e+10</td>\n",
              "    </tr>\n",
              "    <tr>\n",
              "      <th>4</th>\n",
              "      <td></td>\n",
              "      <td>2019-10-26 20:22:05</td>\n",
              "      <td>51.390 sec</td>\n",
              "      <td>4.0</td>\n",
              "      <td>178998.407598</td>\n",
              "      <td>98474.811347</td>\n",
              "      <td>3.204043e+10</td>\n",
              "    </tr>\n",
              "    <tr>\n",
              "      <th>5</th>\n",
              "      <td></td>\n",
              "      <td>2019-10-26 20:22:05</td>\n",
              "      <td>51.633 sec</td>\n",
              "      <td>5.0</td>\n",
              "      <td>175663.508381</td>\n",
              "      <td>95850.260158</td>\n",
              "      <td>3.085767e+10</td>\n",
              "    </tr>\n",
              "    <tr>\n",
              "      <th>6</th>\n",
              "      <td></td>\n",
              "      <td>2019-10-26 20:22:05</td>\n",
              "      <td>51.829 sec</td>\n",
              "      <td>6.0</td>\n",
              "      <td>170460.818211</td>\n",
              "      <td>93188.065481</td>\n",
              "      <td>2.905689e+10</td>\n",
              "    </tr>\n",
              "    <tr>\n",
              "      <th>7</th>\n",
              "      <td></td>\n",
              "      <td>2019-10-26 20:22:05</td>\n",
              "      <td>52.023 sec</td>\n",
              "      <td>7.0</td>\n",
              "      <td>167013.099525</td>\n",
              "      <td>91312.044748</td>\n",
              "      <td>2.789338e+10</td>\n",
              "    </tr>\n",
              "    <tr>\n",
              "      <th>8</th>\n",
              "      <td></td>\n",
              "      <td>2019-10-26 20:22:06</td>\n",
              "      <td>52.207 sec</td>\n",
              "      <td>8.0</td>\n",
              "      <td>163622.040522</td>\n",
              "      <td>89628.402530</td>\n",
              "      <td>2.677217e+10</td>\n",
              "    </tr>\n",
              "    <tr>\n",
              "      <th>9</th>\n",
              "      <td></td>\n",
              "      <td>2019-10-26 20:22:06</td>\n",
              "      <td>52.386 sec</td>\n",
              "      <td>9.0</td>\n",
              "      <td>161244.595728</td>\n",
              "      <td>88203.798068</td>\n",
              "      <td>2.599982e+10</td>\n",
              "    </tr>\n",
              "    <tr>\n",
              "      <th>10</th>\n",
              "      <td></td>\n",
              "      <td>2019-10-26 20:22:06</td>\n",
              "      <td>52.568 sec</td>\n",
              "      <td>10.0</td>\n",
              "      <td>160370.845738</td>\n",
              "      <td>87088.348050</td>\n",
              "      <td>2.571881e+10</td>\n",
              "    </tr>\n",
              "    <tr>\n",
              "      <th>11</th>\n",
              "      <td></td>\n",
              "      <td>2019-10-26 20:22:06</td>\n",
              "      <td>52.768 sec</td>\n",
              "      <td>11.0</td>\n",
              "      <td>156035.559246</td>\n",
              "      <td>85343.472943</td>\n",
              "      <td>2.434710e+10</td>\n",
              "    </tr>\n",
              "    <tr>\n",
              "      <th>12</th>\n",
              "      <td></td>\n",
              "      <td>2019-10-26 20:22:06</td>\n",
              "      <td>52.937 sec</td>\n",
              "      <td>12.0</td>\n",
              "      <td>151997.092557</td>\n",
              "      <td>83996.166934</td>\n",
              "      <td>2.310312e+10</td>\n",
              "    </tr>\n",
              "    <tr>\n",
              "      <th>13</th>\n",
              "      <td></td>\n",
              "      <td>2019-10-26 20:22:07</td>\n",
              "      <td>53.116 sec</td>\n",
              "      <td>13.0</td>\n",
              "      <td>149322.012600</td>\n",
              "      <td>82762.794492</td>\n",
              "      <td>2.229706e+10</td>\n",
              "    </tr>\n",
              "    <tr>\n",
              "      <th>14</th>\n",
              "      <td></td>\n",
              "      <td>2019-10-26 20:22:07</td>\n",
              "      <td>53.290 sec</td>\n",
              "      <td>14.0</td>\n",
              "      <td>147828.858703</td>\n",
              "      <td>81811.833443</td>\n",
              "      <td>2.185337e+10</td>\n",
              "    </tr>\n",
              "    <tr>\n",
              "      <th>15</th>\n",
              "      <td></td>\n",
              "      <td>2019-10-26 20:22:07</td>\n",
              "      <td>53.471 sec</td>\n",
              "      <td>15.0</td>\n",
              "      <td>146716.069905</td>\n",
              "      <td>80919.969458</td>\n",
              "      <td>2.152561e+10</td>\n",
              "    </tr>\n",
              "    <tr>\n",
              "      <th>16</th>\n",
              "      <td></td>\n",
              "      <td>2019-10-26 20:22:07</td>\n",
              "      <td>53.667 sec</td>\n",
              "      <td>16.0</td>\n",
              "      <td>145446.173485</td>\n",
              "      <td>80231.993958</td>\n",
              "      <td>2.115459e+10</td>\n",
              "    </tr>\n",
              "    <tr>\n",
              "      <th>17</th>\n",
              "      <td></td>\n",
              "      <td>2019-10-26 20:22:07</td>\n",
              "      <td>53.848 sec</td>\n",
              "      <td>17.0</td>\n",
              "      <td>145415.217159</td>\n",
              "      <td>79642.951720</td>\n",
              "      <td>2.114559e+10</td>\n",
              "    </tr>\n",
              "    <tr>\n",
              "      <th>18</th>\n",
              "      <td></td>\n",
              "      <td>2019-10-26 20:22:07</td>\n",
              "      <td>54.026 sec</td>\n",
              "      <td>18.0</td>\n",
              "      <td>143155.072790</td>\n",
              "      <td>78699.947313</td>\n",
              "      <td>2.049337e+10</td>\n",
              "    </tr>\n",
              "    <tr>\n",
              "      <th>19</th>\n",
              "      <td></td>\n",
              "      <td>2019-10-26 20:22:08</td>\n",
              "      <td>54.223 sec</td>\n",
              "      <td>19.0</td>\n",
              "      <td>142359.240062</td>\n",
              "      <td>78111.837231</td>\n",
              "      <td>2.026615e+10</td>\n",
              "    </tr>\n",
              "  </tbody>\n",
              "</table>\n",
              "</div>"
            ],
            "text/plain": [
              "                timestamp  ...   training_mae  training_deviance\n",
              "0     2019-10-26 20:22:04  ...            NaN                NaN\n",
              "1     2019-10-26 20:22:04  ...  112653.976359       4.456665e+10\n",
              "2     2019-10-26 20:22:04  ...  107181.227473       3.845702e+10\n",
              "3     2019-10-26 20:22:05  ...  102173.218939       3.533720e+10\n",
              "4     2019-10-26 20:22:05  ...   98474.811347       3.204043e+10\n",
              "5     2019-10-26 20:22:05  ...   95850.260158       3.085767e+10\n",
              "6     2019-10-26 20:22:05  ...   93188.065481       2.905689e+10\n",
              "7     2019-10-26 20:22:05  ...   91312.044748       2.789338e+10\n",
              "8     2019-10-26 20:22:06  ...   89628.402530       2.677217e+10\n",
              "9     2019-10-26 20:22:06  ...   88203.798068       2.599982e+10\n",
              "10    2019-10-26 20:22:06  ...   87088.348050       2.571881e+10\n",
              "11    2019-10-26 20:22:06  ...   85343.472943       2.434710e+10\n",
              "12    2019-10-26 20:22:06  ...   83996.166934       2.310312e+10\n",
              "13    2019-10-26 20:22:07  ...   82762.794492       2.229706e+10\n",
              "14    2019-10-26 20:22:07  ...   81811.833443       2.185337e+10\n",
              "15    2019-10-26 20:22:07  ...   80919.969458       2.152561e+10\n",
              "16    2019-10-26 20:22:07  ...   80231.993958       2.115459e+10\n",
              "17    2019-10-26 20:22:07  ...   79642.951720       2.114559e+10\n",
              "18    2019-10-26 20:22:07  ...   78699.947313       2.049337e+10\n",
              "19    2019-10-26 20:22:08  ...   78111.837231       2.026615e+10\n",
              "\n",
              "[20 rows x 7 columns]"
            ]
          },
          "metadata": {
            "tags": []
          }
        },
        {
          "output_type": "stream",
          "text": [
            "\n",
            "See the whole table with table.as_data_frame()\n",
            "\n",
            "Variable Importances: \n"
          ],
          "name": "stdout"
        },
        {
          "output_type": "display_data",
          "data": {
            "text/html": [
              "<div>\n",
              "<style scoped>\n",
              "    .dataframe tbody tr th:only-of-type {\n",
              "        vertical-align: middle;\n",
              "    }\n",
              "\n",
              "    .dataframe tbody tr th {\n",
              "        vertical-align: top;\n",
              "    }\n",
              "\n",
              "    .dataframe thead th {\n",
              "        text-align: right;\n",
              "    }\n",
              "</style>\n",
              "<table border=\"1\" class=\"dataframe\">\n",
              "  <thead>\n",
              "    <tr style=\"text-align: right;\">\n",
              "      <th></th>\n",
              "      <th>variable</th>\n",
              "      <th>relative_importance</th>\n",
              "      <th>scaled_importance</th>\n",
              "      <th>percentage</th>\n",
              "    </tr>\n",
              "  </thead>\n",
              "  <tbody>\n",
              "    <tr>\n",
              "      <th>0</th>\n",
              "      <td>grade</td>\n",
              "      <td>2.365917e+16</td>\n",
              "      <td>1.000000</td>\n",
              "      <td>0.245299</td>\n",
              "    </tr>\n",
              "    <tr>\n",
              "      <th>1</th>\n",
              "      <td>sqft_living</td>\n",
              "      <td>2.214670e+16</td>\n",
              "      <td>0.936072</td>\n",
              "      <td>0.229618</td>\n",
              "    </tr>\n",
              "    <tr>\n",
              "      <th>2</th>\n",
              "      <td>lat</td>\n",
              "      <td>1.235343e+16</td>\n",
              "      <td>0.522141</td>\n",
              "      <td>0.128081</td>\n",
              "    </tr>\n",
              "    <tr>\n",
              "      <th>3</th>\n",
              "      <td>sqft_above</td>\n",
              "      <td>8.658763e+15</td>\n",
              "      <td>0.365979</td>\n",
              "      <td>0.089774</td>\n",
              "    </tr>\n",
              "    <tr>\n",
              "      <th>4</th>\n",
              "      <td>sqft_living15</td>\n",
              "      <td>7.087009e+15</td>\n",
              "      <td>0.299546</td>\n",
              "      <td>0.073478</td>\n",
              "    </tr>\n",
              "    <tr>\n",
              "      <th>5</th>\n",
              "      <td>long</td>\n",
              "      <td>5.378614e+15</td>\n",
              "      <td>0.227337</td>\n",
              "      <td>0.055766</td>\n",
              "    </tr>\n",
              "    <tr>\n",
              "      <th>6</th>\n",
              "      <td>bathrooms</td>\n",
              "      <td>3.253917e+15</td>\n",
              "      <td>0.137533</td>\n",
              "      <td>0.033737</td>\n",
              "    </tr>\n",
              "    <tr>\n",
              "      <th>7</th>\n",
              "      <td>yr_built</td>\n",
              "      <td>3.005582e+15</td>\n",
              "      <td>0.127037</td>\n",
              "      <td>0.031162</td>\n",
              "    </tr>\n",
              "    <tr>\n",
              "      <th>8</th>\n",
              "      <td>waterfront</td>\n",
              "      <td>2.269444e+15</td>\n",
              "      <td>0.095922</td>\n",
              "      <td>0.023530</td>\n",
              "    </tr>\n",
              "    <tr>\n",
              "      <th>9</th>\n",
              "      <td>view</td>\n",
              "      <td>2.120620e+15</td>\n",
              "      <td>0.089632</td>\n",
              "      <td>0.021987</td>\n",
              "    </tr>\n",
              "    <tr>\n",
              "      <th>10</th>\n",
              "      <td>sqft_basement</td>\n",
              "      <td>1.533520e+15</td>\n",
              "      <td>0.064817</td>\n",
              "      <td>0.015900</td>\n",
              "    </tr>\n",
              "    <tr>\n",
              "      <th>11</th>\n",
              "      <td>sqft_lot</td>\n",
              "      <td>9.614498e+14</td>\n",
              "      <td>0.040638</td>\n",
              "      <td>0.009968</td>\n",
              "    </tr>\n",
              "    <tr>\n",
              "      <th>12</th>\n",
              "      <td>sqft_lot15</td>\n",
              "      <td>9.449252e+14</td>\n",
              "      <td>0.039939</td>\n",
              "      <td>0.009797</td>\n",
              "    </tr>\n",
              "    <tr>\n",
              "      <th>13</th>\n",
              "      <td>month</td>\n",
              "      <td>7.874878e+14</td>\n",
              "      <td>0.033285</td>\n",
              "      <td>0.008165</td>\n",
              "    </tr>\n",
              "    <tr>\n",
              "      <th>14</th>\n",
              "      <td>bedrooms</td>\n",
              "      <td>6.845079e+14</td>\n",
              "      <td>0.028932</td>\n",
              "      <td>0.007097</td>\n",
              "    </tr>\n",
              "    <tr>\n",
              "      <th>15</th>\n",
              "      <td>floors</td>\n",
              "      <td>5.715890e+14</td>\n",
              "      <td>0.024159</td>\n",
              "      <td>0.005926</td>\n",
              "    </tr>\n",
              "    <tr>\n",
              "      <th>16</th>\n",
              "      <td>condition</td>\n",
              "      <td>5.191022e+14</td>\n",
              "      <td>0.021941</td>\n",
              "      <td>0.005382</td>\n",
              "    </tr>\n",
              "    <tr>\n",
              "      <th>17</th>\n",
              "      <td>yr_renovated</td>\n",
              "      <td>3.322269e+14</td>\n",
              "      <td>0.014042</td>\n",
              "      <td>0.003445</td>\n",
              "    </tr>\n",
              "    <tr>\n",
              "      <th>18</th>\n",
              "      <td>year</td>\n",
              "      <td>1.821733e+14</td>\n",
              "      <td>0.007700</td>\n",
              "      <td>0.001889</td>\n",
              "    </tr>\n",
              "  </tbody>\n",
              "</table>\n",
              "</div>"
            ],
            "text/plain": [
              "         variable  relative_importance  scaled_importance  percentage\n",
              "0           grade         2.365917e+16           1.000000    0.245299\n",
              "1     sqft_living         2.214670e+16           0.936072    0.229618\n",
              "2             lat         1.235343e+16           0.522141    0.128081\n",
              "3      sqft_above         8.658763e+15           0.365979    0.089774\n",
              "4   sqft_living15         7.087009e+15           0.299546    0.073478\n",
              "5            long         5.378614e+15           0.227337    0.055766\n",
              "6       bathrooms         3.253917e+15           0.137533    0.033737\n",
              "7        yr_built         3.005582e+15           0.127037    0.031162\n",
              "8      waterfront         2.269444e+15           0.095922    0.023530\n",
              "9            view         2.120620e+15           0.089632    0.021987\n",
              "10  sqft_basement         1.533520e+15           0.064817    0.015900\n",
              "11       sqft_lot         9.614498e+14           0.040638    0.009968\n",
              "12     sqft_lot15         9.449252e+14           0.039939    0.009797\n",
              "13          month         7.874878e+14           0.033285    0.008165\n",
              "14       bedrooms         6.845079e+14           0.028932    0.007097\n",
              "15         floors         5.715890e+14           0.024159    0.005926\n",
              "16      condition         5.191022e+14           0.021941    0.005382\n",
              "17   yr_renovated         3.322269e+14           0.014042    0.003445\n",
              "18           year         1.821733e+14           0.007700    0.001889"
            ]
          },
          "metadata": {
            "tags": []
          }
        },
        {
          "output_type": "execute_result",
          "data": {
            "text/plain": [
              ""
            ]
          },
          "metadata": {
            "tags": []
          },
          "execution_count": 22
        }
      ]
    },
    {
      "cell_type": "markdown",
      "metadata": {
        "id": "wveKLfwlkxpb",
        "colab_type": "text"
      },
      "source": [
        "As we see from the Random Forest Model that the RMSE on both the train and cross-validation set is above the required range."
      ]
    },
    {
      "cell_type": "markdown",
      "metadata": {
        "id": "3KSwSiQ7ECFi",
        "colab_type": "text"
      },
      "source": [
        "### Deep Learning Model"
      ]
    },
    {
      "cell_type": "code",
      "metadata": {
        "id": "9RAvp3aXw14e",
        "colab_type": "code",
        "outputId": "93726e3f-48c6-4d26-f333-6edb38182fcc",
        "colab": {
          "base_uri": "https://localhost:8080/",
          "height": 34
        }
      },
      "source": [
        "# Deep Learning Model\n",
        "m_DL = H2ODeepLearningEstimator(\n",
        "    model_id =\"dl_def\", \n",
        "    nfolds = nfolds,\n",
        "    fold_assignment = \"Modulo\",\n",
        "    keep_cross_validation_predictions = True\n",
        "  )\n",
        "\n",
        "m_DL.train(x, y, training_frame = train)"
      ],
      "execution_count": 0,
      "outputs": [
        {
          "output_type": "stream",
          "text": [
            "deeplearning Model Build progress: |██████████████████████████████████████| 100%\n"
          ],
          "name": "stdout"
        }
      ]
    },
    {
      "cell_type": "code",
      "metadata": {
        "id": "NaQf1sZcxaWT",
        "colab_type": "code",
        "outputId": "90f35d01-f174-4605-80d3-ca43e8431f04",
        "colab": {
          "base_uri": "https://localhost:8080/",
          "height": 1000
        }
      },
      "source": [
        "m_DL"
      ],
      "execution_count": 0,
      "outputs": [
        {
          "output_type": "stream",
          "text": [
            "Model Details\n",
            "=============\n",
            "H2ODeepLearningEstimator :  Deep Learning\n",
            "Model Key:  dl_def\n",
            "\n",
            "\n",
            "Status of Neuron Layers: predicting price, regression, gaussian distribution, Quadratic loss, 44,401 weights/biases, 530.3 KB, 201,589 training samples, mini-batch size 1\n"
          ],
          "name": "stdout"
        },
        {
          "output_type": "display_data",
          "data": {
            "text/html": [
              "<div>\n",
              "<style scoped>\n",
              "    .dataframe tbody tr th:only-of-type {\n",
              "        vertical-align: middle;\n",
              "    }\n",
              "\n",
              "    .dataframe tbody tr th {\n",
              "        vertical-align: top;\n",
              "    }\n",
              "\n",
              "    .dataframe thead th {\n",
              "        text-align: right;\n",
              "    }\n",
              "</style>\n",
              "<table border=\"1\" class=\"dataframe\">\n",
              "  <thead>\n",
              "    <tr style=\"text-align: right;\">\n",
              "      <th></th>\n",
              "      <th></th>\n",
              "      <th>layer</th>\n",
              "      <th>units</th>\n",
              "      <th>type</th>\n",
              "      <th>dropout</th>\n",
              "      <th>l1</th>\n",
              "      <th>l2</th>\n",
              "      <th>mean_rate</th>\n",
              "      <th>rate_rms</th>\n",
              "      <th>momentum</th>\n",
              "      <th>mean_weight</th>\n",
              "      <th>weight_rms</th>\n",
              "      <th>mean_bias</th>\n",
              "      <th>bias_rms</th>\n",
              "    </tr>\n",
              "  </thead>\n",
              "  <tbody>\n",
              "    <tr>\n",
              "      <th>0</th>\n",
              "      <td></td>\n",
              "      <td>1</td>\n",
              "      <td>19</td>\n",
              "      <td>Input</td>\n",
              "      <td>0</td>\n",
              "      <td></td>\n",
              "      <td></td>\n",
              "      <td></td>\n",
              "      <td></td>\n",
              "      <td></td>\n",
              "      <td></td>\n",
              "      <td></td>\n",
              "      <td></td>\n",
              "      <td></td>\n",
              "    </tr>\n",
              "    <tr>\n",
              "      <th>1</th>\n",
              "      <td></td>\n",
              "      <td>2</td>\n",
              "      <td>200</td>\n",
              "      <td>Rectifier</td>\n",
              "      <td>0</td>\n",
              "      <td>0</td>\n",
              "      <td>0</td>\n",
              "      <td>0.00486672</td>\n",
              "      <td>0.00644595</td>\n",
              "      <td>0</td>\n",
              "      <td>0.0010875</td>\n",
              "      <td>0.130017</td>\n",
              "      <td>0.443833</td>\n",
              "      <td>0.0872253</td>\n",
              "    </tr>\n",
              "    <tr>\n",
              "      <th>2</th>\n",
              "      <td></td>\n",
              "      <td>3</td>\n",
              "      <td>200</td>\n",
              "      <td>Rectifier</td>\n",
              "      <td>0</td>\n",
              "      <td>0</td>\n",
              "      <td>0</td>\n",
              "      <td>0.109532</td>\n",
              "      <td>0.172099</td>\n",
              "      <td>0</td>\n",
              "      <td>-0.0210937</td>\n",
              "      <td>0.0865518</td>\n",
              "      <td>0.963565</td>\n",
              "      <td>0.0263995</td>\n",
              "    </tr>\n",
              "    <tr>\n",
              "      <th>3</th>\n",
              "      <td></td>\n",
              "      <td>4</td>\n",
              "      <td>1</td>\n",
              "      <td>Linear</td>\n",
              "      <td></td>\n",
              "      <td>0</td>\n",
              "      <td>0</td>\n",
              "      <td>0.00109482</td>\n",
              "      <td>0.00146264</td>\n",
              "      <td>0</td>\n",
              "      <td>0.0116019</td>\n",
              "      <td>0.0727976</td>\n",
              "      <td>0.0612793</td>\n",
              "      <td>1.09713e-154</td>\n",
              "    </tr>\n",
              "  </tbody>\n",
              "</table>\n",
              "</div>"
            ],
            "text/plain": [
              "     layer  units       type  ... mean_weight weight_rms  mean_bias      bias_rms\n",
              "0        1     19      Input  ...                                                \n",
              "1        2    200  Rectifier  ...   0.0010875   0.130017   0.443833     0.0872253\n",
              "2        3    200  Rectifier  ...  -0.0210937  0.0865518   0.963565     0.0263995\n",
              "3        4      1     Linear  ...   0.0116019  0.0727976  0.0612793  1.09713e-154\n",
              "\n",
              "[4 rows x 14 columns]"
            ]
          },
          "metadata": {
            "tags": []
          }
        },
        {
          "output_type": "stream",
          "text": [
            "\n",
            "\n",
            "ModelMetricsRegression: deeplearning\n",
            "** Reported on train data. **\n",
            "\n",
            "MSE: 12832674068.281149\n",
            "RMSE: 113281.39330128822\n",
            "MAE: 69033.53196619314\n",
            "RMSLE: 0.1787971876990994\n",
            "Mean Residual Deviance: 12832674068.281149\n",
            "\n",
            "ModelMetricsRegression: deeplearning\n",
            "** Reported on cross-validation data. **\n",
            "\n",
            "MSE: 15369154238.018976\n",
            "RMSE: 123972.39304788376\n",
            "MAE: 71954.90968878994\n",
            "RMSLE: 0.1820919909045422\n",
            "Mean Residual Deviance: 15369154238.018976\n",
            "\n",
            "Cross-Validation Metrics Summary: \n"
          ],
          "name": "stdout"
        },
        {
          "output_type": "display_data",
          "data": {
            "text/html": [
              "<div>\n",
              "<style scoped>\n",
              "    .dataframe tbody tr th:only-of-type {\n",
              "        vertical-align: middle;\n",
              "    }\n",
              "\n",
              "    .dataframe tbody tr th {\n",
              "        vertical-align: top;\n",
              "    }\n",
              "\n",
              "    .dataframe thead th {\n",
              "        text-align: right;\n",
              "    }\n",
              "</style>\n",
              "<table border=\"1\" class=\"dataframe\">\n",
              "  <thead>\n",
              "    <tr style=\"text-align: right;\">\n",
              "      <th></th>\n",
              "      <th></th>\n",
              "      <th>mean</th>\n",
              "      <th>sd</th>\n",
              "      <th>cv_1_valid</th>\n",
              "      <th>cv_2_valid</th>\n",
              "      <th>cv_3_valid</th>\n",
              "      <th>cv_4_valid</th>\n",
              "      <th>cv_5_valid</th>\n",
              "    </tr>\n",
              "  </thead>\n",
              "  <tbody>\n",
              "    <tr>\n",
              "      <th>0</th>\n",
              "      <td>mae</td>\n",
              "      <td>71954.875</td>\n",
              "      <td>720.83026</td>\n",
              "      <td>71660.51</td>\n",
              "      <td>72923.04</td>\n",
              "      <td>72451.24</td>\n",
              "      <td>71618.15</td>\n",
              "      <td>71121.44</td>\n",
              "    </tr>\n",
              "    <tr>\n",
              "      <th>1</th>\n",
              "      <td>mean_residual_deviance</td>\n",
              "      <td>1.53690962E10</td>\n",
              "      <td>1.53001037E9</td>\n",
              "      <td>1.42341151E10</td>\n",
              "      <td>1.76330793E10</td>\n",
              "      <td>1.54884239E10</td>\n",
              "      <td>1.57833257E10</td>\n",
              "      <td>1.3706538E10</td>\n",
              "    </tr>\n",
              "    <tr>\n",
              "      <th>2</th>\n",
              "      <td>mse</td>\n",
              "      <td>1.53690962E10</td>\n",
              "      <td>1.53001037E9</td>\n",
              "      <td>1.42341151E10</td>\n",
              "      <td>1.76330793E10</td>\n",
              "      <td>1.54884239E10</td>\n",
              "      <td>1.57833257E10</td>\n",
              "      <td>1.3706538E10</td>\n",
              "    </tr>\n",
              "    <tr>\n",
              "      <th>3</th>\n",
              "      <td>r2</td>\n",
              "      <td>0.88626677</td>\n",
              "      <td>0.006585629</td>\n",
              "      <td>0.8955525</td>\n",
              "      <td>0.8782125</td>\n",
              "      <td>0.88475245</td>\n",
              "      <td>0.8832417</td>\n",
              "      <td>0.88957465</td>\n",
              "    </tr>\n",
              "    <tr>\n",
              "      <th>4</th>\n",
              "      <td>residual_deviance</td>\n",
              "      <td>1.53690962E10</td>\n",
              "      <td>1.53001037E9</td>\n",
              "      <td>1.42341151E10</td>\n",
              "      <td>1.76330793E10</td>\n",
              "      <td>1.54884239E10</td>\n",
              "      <td>1.57833257E10</td>\n",
              "      <td>1.3706538E10</td>\n",
              "    </tr>\n",
              "    <tr>\n",
              "      <th>5</th>\n",
              "      <td>rmse</td>\n",
              "      <td>123851.11</td>\n",
              "      <td>6123.6475</td>\n",
              "      <td>119306.81</td>\n",
              "      <td>132789.61</td>\n",
              "      <td>124452.49</td>\n",
              "      <td>125631.71</td>\n",
              "      <td>117074.92</td>\n",
              "    </tr>\n",
              "    <tr>\n",
              "      <th>6</th>\n",
              "      <td>rmsle</td>\n",
              "      <td>0.18208386</td>\n",
              "      <td>0.0019064293</td>\n",
              "      <td>0.18307778</td>\n",
              "      <td>0.18390074</td>\n",
              "      <td>0.17952992</td>\n",
              "      <td>0.18331435</td>\n",
              "      <td>0.18059652</td>\n",
              "    </tr>\n",
              "  </tbody>\n",
              "</table>\n",
              "</div>"
            ],
            "text/plain": [
              "                                    mean  ...     cv_4_valid    cv_5_valid\n",
              "0                     mae      71954.875  ...       71618.15      71121.44\n",
              "1  mean_residual_deviance  1.53690962E10  ...  1.57833257E10  1.3706538E10\n",
              "2                     mse  1.53690962E10  ...  1.57833257E10  1.3706538E10\n",
              "3                      r2     0.88626677  ...      0.8832417    0.88957465\n",
              "4       residual_deviance  1.53690962E10  ...  1.57833257E10  1.3706538E10\n",
              "5                    rmse      123851.11  ...      125631.71     117074.92\n",
              "6                   rmsle     0.18208386  ...     0.18331435    0.18059652\n",
              "\n",
              "[7 rows x 8 columns]"
            ]
          },
          "metadata": {
            "tags": []
          }
        },
        {
          "output_type": "stream",
          "text": [
            "\n",
            "Scoring History: \n"
          ],
          "name": "stdout"
        },
        {
          "output_type": "display_data",
          "data": {
            "text/html": [
              "<div>\n",
              "<style scoped>\n",
              "    .dataframe tbody tr th:only-of-type {\n",
              "        vertical-align: middle;\n",
              "    }\n",
              "\n",
              "    .dataframe tbody tr th {\n",
              "        vertical-align: top;\n",
              "    }\n",
              "\n",
              "    .dataframe thead th {\n",
              "        text-align: right;\n",
              "    }\n",
              "</style>\n",
              "<table border=\"1\" class=\"dataframe\">\n",
              "  <thead>\n",
              "    <tr style=\"text-align: right;\">\n",
              "      <th></th>\n",
              "      <th></th>\n",
              "      <th>timestamp</th>\n",
              "      <th>duration</th>\n",
              "      <th>training_speed</th>\n",
              "      <th>epochs</th>\n",
              "      <th>iterations</th>\n",
              "      <th>samples</th>\n",
              "      <th>training_rmse</th>\n",
              "      <th>training_deviance</th>\n",
              "      <th>training_mae</th>\n",
              "      <th>training_r2</th>\n",
              "    </tr>\n",
              "  </thead>\n",
              "  <tbody>\n",
              "    <tr>\n",
              "      <th>0</th>\n",
              "      <td></td>\n",
              "      <td>2019-10-26 20:25:00</td>\n",
              "      <td>0.000 sec</td>\n",
              "      <td>None</td>\n",
              "      <td>0.000000</td>\n",
              "      <td>0</td>\n",
              "      <td>0.0</td>\n",
              "      <td>NaN</td>\n",
              "      <td>NaN</td>\n",
              "      <td>NaN</td>\n",
              "      <td>NaN</td>\n",
              "    </tr>\n",
              "    <tr>\n",
              "      <th>1</th>\n",
              "      <td></td>\n",
              "      <td>2019-10-26 20:25:06</td>\n",
              "      <td>2 min 52.545 sec</td>\n",
              "      <td>1722 obs/sec</td>\n",
              "      <td>0.576508</td>\n",
              "      <td>1</td>\n",
              "      <td>11220.0</td>\n",
              "      <td>171008.215261</td>\n",
              "      <td>2.924381e+10</td>\n",
              "      <td>110111.292725</td>\n",
              "      <td>0.784365</td>\n",
              "    </tr>\n",
              "    <tr>\n",
              "      <th>2</th>\n",
              "      <td></td>\n",
              "      <td>2019-10-26 20:25:14</td>\n",
              "      <td>2 min 59.843 sec</td>\n",
              "      <td>2483 obs/sec</td>\n",
              "      <td>1.718426</td>\n",
              "      <td>3</td>\n",
              "      <td>33444.0</td>\n",
              "      <td>135680.363912</td>\n",
              "      <td>1.840916e+10</td>\n",
              "      <td>80005.818598</td>\n",
              "      <td>0.864257</td>\n",
              "    </tr>\n",
              "    <tr>\n",
              "      <th>3</th>\n",
              "      <td></td>\n",
              "      <td>2019-10-26 20:25:20</td>\n",
              "      <td>3 min  6.171 sec</td>\n",
              "      <td>3464 obs/sec</td>\n",
              "      <td>3.435361</td>\n",
              "      <td>6</td>\n",
              "      <td>66859.0</td>\n",
              "      <td>138263.433560</td>\n",
              "      <td>1.911678e+10</td>\n",
              "      <td>91206.693009</td>\n",
              "      <td>0.859039</td>\n",
              "    </tr>\n",
              "    <tr>\n",
              "      <th>4</th>\n",
              "      <td></td>\n",
              "      <td>2019-10-26 20:25:26</td>\n",
              "      <td>3 min 12.378 sec</td>\n",
              "      <td>3994 obs/sec</td>\n",
              "      <td>5.166941</td>\n",
              "      <td>9</td>\n",
              "      <td>100559.0</td>\n",
              "      <td>120525.060259</td>\n",
              "      <td>1.452629e+10</td>\n",
              "      <td>72348.891972</td>\n",
              "      <td>0.892888</td>\n",
              "    </tr>\n",
              "    <tr>\n",
              "      <th>5</th>\n",
              "      <td></td>\n",
              "      <td>2019-10-26 20:25:33</td>\n",
              "      <td>3 min 18.677 sec</td>\n",
              "      <td>4669 obs/sec</td>\n",
              "      <td>7.472613</td>\n",
              "      <td>13</td>\n",
              "      <td>145432.0</td>\n",
              "      <td>119760.353066</td>\n",
              "      <td>1.434254e+10</td>\n",
              "      <td>75307.181723</td>\n",
              "      <td>0.894243</td>\n",
              "    </tr>\n",
              "    <tr>\n",
              "      <th>6</th>\n",
              "      <td></td>\n",
              "      <td>2019-10-26 20:25:39</td>\n",
              "      <td>3 min 24.719 sec</td>\n",
              "      <td>5164 obs/sec</td>\n",
              "      <td>9.777207</td>\n",
              "      <td>17</td>\n",
              "      <td>190284.0</td>\n",
              "      <td>113445.523868</td>\n",
              "      <td>1.286989e+10</td>\n",
              "      <td>70562.432247</td>\n",
              "      <td>0.905102</td>\n",
              "    </tr>\n",
              "    <tr>\n",
              "      <th>7</th>\n",
              "      <td></td>\n",
              "      <td>2019-10-26 20:25:41</td>\n",
              "      <td>3 min 26.714 sec</td>\n",
              "      <td>5236 obs/sec</td>\n",
              "      <td>10.358082</td>\n",
              "      <td>18</td>\n",
              "      <td>201589.0</td>\n",
              "      <td>113281.393301</td>\n",
              "      <td>1.283267e+10</td>\n",
              "      <td>69033.531966</td>\n",
              "      <td>0.905376</td>\n",
              "    </tr>\n",
              "  </tbody>\n",
              "</table>\n",
              "</div>"
            ],
            "text/plain": [
              "               timestamp  ...   training_mae training_r2\n",
              "0    2019-10-26 20:25:00  ...            NaN         NaN\n",
              "1    2019-10-26 20:25:06  ...  110111.292725    0.784365\n",
              "2    2019-10-26 20:25:14  ...   80005.818598    0.864257\n",
              "3    2019-10-26 20:25:20  ...   91206.693009    0.859039\n",
              "4    2019-10-26 20:25:26  ...   72348.891972    0.892888\n",
              "5    2019-10-26 20:25:33  ...   75307.181723    0.894243\n",
              "6    2019-10-26 20:25:39  ...   70562.432247    0.905102\n",
              "7    2019-10-26 20:25:41  ...   69033.531966    0.905376\n",
              "\n",
              "[8 rows x 11 columns]"
            ]
          },
          "metadata": {
            "tags": []
          }
        },
        {
          "output_type": "stream",
          "text": [
            "\n",
            "Variable Importances: \n"
          ],
          "name": "stdout"
        },
        {
          "output_type": "display_data",
          "data": {
            "text/html": [
              "<div>\n",
              "<style scoped>\n",
              "    .dataframe tbody tr th:only-of-type {\n",
              "        vertical-align: middle;\n",
              "    }\n",
              "\n",
              "    .dataframe tbody tr th {\n",
              "        vertical-align: top;\n",
              "    }\n",
              "\n",
              "    .dataframe thead th {\n",
              "        text-align: right;\n",
              "    }\n",
              "</style>\n",
              "<table border=\"1\" class=\"dataframe\">\n",
              "  <thead>\n",
              "    <tr style=\"text-align: right;\">\n",
              "      <th></th>\n",
              "      <th>variable</th>\n",
              "      <th>relative_importance</th>\n",
              "      <th>scaled_importance</th>\n",
              "      <th>percentage</th>\n",
              "    </tr>\n",
              "  </thead>\n",
              "  <tbody>\n",
              "    <tr>\n",
              "      <th>0</th>\n",
              "      <td>lat</td>\n",
              "      <td>1.000000</td>\n",
              "      <td>1.000000</td>\n",
              "      <td>0.139329</td>\n",
              "    </tr>\n",
              "    <tr>\n",
              "      <th>1</th>\n",
              "      <td>long</td>\n",
              "      <td>0.885940</td>\n",
              "      <td>0.885940</td>\n",
              "      <td>0.123437</td>\n",
              "    </tr>\n",
              "    <tr>\n",
              "      <th>2</th>\n",
              "      <td>yr_built</td>\n",
              "      <td>0.381632</td>\n",
              "      <td>0.381632</td>\n",
              "      <td>0.053172</td>\n",
              "    </tr>\n",
              "    <tr>\n",
              "      <th>3</th>\n",
              "      <td>sqft_lot</td>\n",
              "      <td>0.366994</td>\n",
              "      <td>0.366994</td>\n",
              "      <td>0.051133</td>\n",
              "    </tr>\n",
              "    <tr>\n",
              "      <th>4</th>\n",
              "      <td>sqft_lot15</td>\n",
              "      <td>0.363674</td>\n",
              "      <td>0.363674</td>\n",
              "      <td>0.050670</td>\n",
              "    </tr>\n",
              "    <tr>\n",
              "      <th>5</th>\n",
              "      <td>sqft_living15</td>\n",
              "      <td>0.349313</td>\n",
              "      <td>0.349313</td>\n",
              "      <td>0.048669</td>\n",
              "    </tr>\n",
              "    <tr>\n",
              "      <th>6</th>\n",
              "      <td>grade</td>\n",
              "      <td>0.349002</td>\n",
              "      <td>0.349002</td>\n",
              "      <td>0.048626</td>\n",
              "    </tr>\n",
              "    <tr>\n",
              "      <th>7</th>\n",
              "      <td>sqft_living</td>\n",
              "      <td>0.343475</td>\n",
              "      <td>0.343475</td>\n",
              "      <td>0.047856</td>\n",
              "    </tr>\n",
              "    <tr>\n",
              "      <th>8</th>\n",
              "      <td>sqft_above</td>\n",
              "      <td>0.324302</td>\n",
              "      <td>0.324302</td>\n",
              "      <td>0.045185</td>\n",
              "    </tr>\n",
              "    <tr>\n",
              "      <th>9</th>\n",
              "      <td>floors</td>\n",
              "      <td>0.297282</td>\n",
              "      <td>0.297282</td>\n",
              "      <td>0.041420</td>\n",
              "    </tr>\n",
              "    <tr>\n",
              "      <th>10</th>\n",
              "      <td>condition</td>\n",
              "      <td>0.296009</td>\n",
              "      <td>0.296009</td>\n",
              "      <td>0.041243</td>\n",
              "    </tr>\n",
              "    <tr>\n",
              "      <th>11</th>\n",
              "      <td>month</td>\n",
              "      <td>0.295436</td>\n",
              "      <td>0.295436</td>\n",
              "      <td>0.041163</td>\n",
              "    </tr>\n",
              "    <tr>\n",
              "      <th>12</th>\n",
              "      <td>bedrooms</td>\n",
              "      <td>0.294786</td>\n",
              "      <td>0.294786</td>\n",
              "      <td>0.041072</td>\n",
              "    </tr>\n",
              "    <tr>\n",
              "      <th>13</th>\n",
              "      <td>year</td>\n",
              "      <td>0.293721</td>\n",
              "      <td>0.293721</td>\n",
              "      <td>0.040924</td>\n",
              "    </tr>\n",
              "    <tr>\n",
              "      <th>14</th>\n",
              "      <td>waterfront</td>\n",
              "      <td>0.292103</td>\n",
              "      <td>0.292103</td>\n",
              "      <td>0.040698</td>\n",
              "    </tr>\n",
              "    <tr>\n",
              "      <th>15</th>\n",
              "      <td>bathrooms</td>\n",
              "      <td>0.271149</td>\n",
              "      <td>0.271149</td>\n",
              "      <td>0.037779</td>\n",
              "    </tr>\n",
              "    <tr>\n",
              "      <th>16</th>\n",
              "      <td>sqft_basement</td>\n",
              "      <td>0.270581</td>\n",
              "      <td>0.270581</td>\n",
              "      <td>0.037700</td>\n",
              "    </tr>\n",
              "    <tr>\n",
              "      <th>17</th>\n",
              "      <td>yr_renovated</td>\n",
              "      <td>0.260643</td>\n",
              "      <td>0.260643</td>\n",
              "      <td>0.036315</td>\n",
              "    </tr>\n",
              "    <tr>\n",
              "      <th>18</th>\n",
              "      <td>view</td>\n",
              "      <td>0.241232</td>\n",
              "      <td>0.241232</td>\n",
              "      <td>0.033611</td>\n",
              "    </tr>\n",
              "  </tbody>\n",
              "</table>\n",
              "</div>"
            ],
            "text/plain": [
              "         variable  relative_importance  scaled_importance  percentage\n",
              "0             lat             1.000000           1.000000    0.139329\n",
              "1            long             0.885940           0.885940    0.123437\n",
              "2        yr_built             0.381632           0.381632    0.053172\n",
              "3        sqft_lot             0.366994           0.366994    0.051133\n",
              "4      sqft_lot15             0.363674           0.363674    0.050670\n",
              "5   sqft_living15             0.349313           0.349313    0.048669\n",
              "6           grade             0.349002           0.349002    0.048626\n",
              "7     sqft_living             0.343475           0.343475    0.047856\n",
              "8      sqft_above             0.324302           0.324302    0.045185\n",
              "9          floors             0.297282           0.297282    0.041420\n",
              "10      condition             0.296009           0.296009    0.041243\n",
              "11          month             0.295436           0.295436    0.041163\n",
              "12       bedrooms             0.294786           0.294786    0.041072\n",
              "13           year             0.293721           0.293721    0.040924\n",
              "14     waterfront             0.292103           0.292103    0.040698\n",
              "15      bathrooms             0.271149           0.271149    0.037779\n",
              "16  sqft_basement             0.270581           0.270581    0.037700\n",
              "17   yr_renovated             0.260643           0.260643    0.036315\n",
              "18           view             0.241232           0.241232    0.033611"
            ]
          },
          "metadata": {
            "tags": []
          }
        },
        {
          "output_type": "execute_result",
          "data": {
            "text/plain": [
              ""
            ]
          },
          "metadata": {
            "tags": []
          },
          "execution_count": 24
        }
      ]
    },
    {
      "cell_type": "markdown",
      "metadata": {
        "id": "iFogWY9Yk-nR",
        "colab_type": "text"
      },
      "source": [
        "We see from all the above models that Random Forest model performs the best among all. The RMSE for Training set is 115284.27 while on cross-validation set is 125447.43. We get the RMSE value below the required range on the test set but not on the CV set. Hence, we decide to move forward with Stacked Ensemble."
      ]
    },
    {
      "cell_type": "markdown",
      "metadata": {
        "id": "k12OiQpExjd_",
        "colab_type": "text"
      },
      "source": [
        "### Stacked Ensemble"
      ]
    },
    {
      "cell_type": "code",
      "metadata": {
        "id": "9JUJ1QJxxiXb",
        "colab_type": "code",
        "colab": {}
      },
      "source": [
        "# we create a list of 3 model ids\n",
        "models = [m_GBM.model_id, m_RF.model_id, m_DL.model_id]"
      ],
      "execution_count": 0,
      "outputs": []
    },
    {
      "cell_type": "code",
      "metadata": {
        "id": "jV6Bxg3Zx2UL",
        "colab_type": "code",
        "outputId": "d5f22f04-7326-4aa9-cb86-336f35e3e629",
        "colab": {
          "base_uri": "https://localhost:8080/",
          "height": 34
        }
      },
      "source": [
        "m_SE = H2OStackedEnsembleEstimator(model_id = \"SE_models\",\n",
        "                           base_models = models)\n",
        "m_SE.train(x, y, train)"
      ],
      "execution_count": 0,
      "outputs": [
        {
          "output_type": "stream",
          "text": [
            "stackedensemble Model Build progress: |███████████████████████████████████| 100%\n"
          ],
          "name": "stdout"
        }
      ]
    },
    {
      "cell_type": "code",
      "metadata": {
        "id": "U_TnhT7GEVaT",
        "colab_type": "code",
        "outputId": "3cc3d71b-d8f4-4655-90c4-643e2448210c",
        "colab": {
          "base_uri": "https://localhost:8080/",
          "height": 374
        }
      },
      "source": [
        "m_SE"
      ],
      "execution_count": 0,
      "outputs": [
        {
          "output_type": "stream",
          "text": [
            "Model Details\n",
            "=============\n",
            "H2OStackedEnsembleEstimator :  Stacked Ensemble\n",
            "Model Key:  SE_models\n",
            "\n",
            "No model summary for this model\n",
            "\n",
            "ModelMetricsRegressionGLM: stackedensemble\n",
            "** Reported on train data. **\n",
            "\n",
            "MSE: 8370660436.407039\n",
            "RMSE: 91491.31344781886\n",
            "MAE: 56502.960833979\n",
            "RMSLE: 0.1471052124374389\n",
            "R^2: 0.937985949632007\n",
            "Mean Residual Deviance: 8370660436.407039\n",
            "Null degrees of freedom: 19461\n",
            "Residual degrees of freedom: 19458\n",
            "Null deviance: 2626981989511147.5\n",
            "Residual deviance: 162909793413353.78\n",
            "AIC: 499908.51267742383\n"
          ],
          "name": "stdout"
        },
        {
          "output_type": "execute_result",
          "data": {
            "text/plain": [
              ""
            ]
          },
          "metadata": {
            "tags": []
          },
          "execution_count": 27
        }
      ]
    },
    {
      "cell_type": "code",
      "metadata": {
        "id": "_EII9ILHx1x6",
        "colab_type": "code",
        "colab": {}
      },
      "source": [
        "all_models = [m_GBM, m_RF,m_DL, m_SE]\n",
        "names = [\"GBM\", \"RF\", \"DL\", \"SE\"]"
      ],
      "execution_count": 0,
      "outputs": []
    },
    {
      "cell_type": "code",
      "metadata": {
        "id": "zoglwayAzaQW",
        "colab_type": "code",
        "outputId": "da300ea5-fc9d-439d-fad2-ad5c2015fed9",
        "colab": {
          "base_uri": "https://localhost:8080/",
          "height": 102
        }
      },
      "source": [
        "pd.Series(map(lambda x: x.rmse(), all_models), names)"
      ],
      "execution_count": 0,
      "outputs": [
        {
          "output_type": "execute_result",
          "data": {
            "text/plain": [
              "GBM    108066.820055\n",
              "RF     133882.884864\n",
              "DL     113281.393301\n",
              "SE      91491.313448\n",
              "dtype: float64"
            ]
          },
          "metadata": {
            "tags": []
          },
          "execution_count": 29
        }
      ]
    },
    {
      "cell_type": "markdown",
      "metadata": {
        "id": "PNNyooVgl26l",
        "colab_type": "text"
      },
      "source": [
        "As we can see from the above results, the Stacked Ensemble performs the best with RMSE of 93072.63 which is way below the required range. Our Stacked Ensemble Model outperforms all the other models. "
      ]
    },
    {
      "cell_type": "markdown",
      "metadata": {
        "id": "xj4dDF6dEbBR",
        "colab_type": "text"
      },
      "source": [
        "### Checking the performance on test data "
      ]
    },
    {
      "cell_type": "code",
      "metadata": {
        "id": "lxk25MFfz1Up",
        "colab_type": "code",
        "outputId": "c6fc07ca-f4ac-400c-8876-151b3a016367",
        "colab": {
          "base_uri": "https://localhost:8080/",
          "height": 272
        }
      },
      "source": [
        "m_GLM.model_performance(test)"
      ],
      "execution_count": 0,
      "outputs": [
        {
          "output_type": "stream",
          "text": [
            "\n",
            "ModelMetricsRegressionGLM: glm\n",
            "** Reported on test data. **\n",
            "\n",
            "MSE: 130259499571.50009\n",
            "RMSE: 360914.80929923075\n",
            "MAE: 235461.0434662482\n",
            "RMSLE: 0.5493152576219195\n",
            "R^2: 0.020090090321806087\n",
            "Mean Residual Deviance: 130259499571.50009\n",
            "Null degrees of freedom: 2150\n",
            "Residual degrees of freedom: 2131\n",
            "Null deviance: 285935013037402.56\n",
            "Residual deviance: 280188183578296.7\n",
            "AIC: 61196.374428120056\n"
          ],
          "name": "stdout"
        },
        {
          "output_type": "execute_result",
          "data": {
            "text/plain": [
              ""
            ]
          },
          "metadata": {
            "tags": []
          },
          "execution_count": 30
        }
      ]
    },
    {
      "cell_type": "code",
      "metadata": {
        "id": "TErDXB-tF0lO",
        "colab_type": "code",
        "outputId": "10050519-07af-446d-badb-3be822c81e0f",
        "colab": {
          "base_uri": "https://localhost:8080/",
          "height": 170
        }
      },
      "source": [
        "m_GBM.model_performance(test)"
      ],
      "execution_count": 0,
      "outputs": [
        {
          "output_type": "stream",
          "text": [
            "\n",
            "ModelMetricsRegression: gbm\n",
            "** Reported on test data. **\n",
            "\n",
            "MSE: 17840789803.042454\n",
            "RMSE: 133569.41941568232\n",
            "MAE: 74849.92191914232\n",
            "RMSLE: 0.18370543141484513\n",
            "Mean Residual Deviance: 17840789803.042454\n"
          ],
          "name": "stdout"
        },
        {
          "output_type": "execute_result",
          "data": {
            "text/plain": [
              ""
            ]
          },
          "metadata": {
            "tags": []
          },
          "execution_count": 31
        }
      ]
    },
    {
      "cell_type": "code",
      "metadata": {
        "id": "TccQLmsqGFO7",
        "colab_type": "code",
        "outputId": "fe553f76-7818-4f9d-9e68-5c0f7188bebc",
        "colab": {
          "base_uri": "https://localhost:8080/",
          "height": 170
        }
      },
      "source": [
        "m_RF.model_performance(test)"
      ],
      "execution_count": 0,
      "outputs": [
        {
          "output_type": "stream",
          "text": [
            "\n",
            "ModelMetricsRegression: drf\n",
            "** Reported on test data. **\n",
            "\n",
            "MSE: 17222346237.15325\n",
            "RMSE: 131233.93706337264\n",
            "MAE: 71596.07334415679\n",
            "RMSLE: 0.1768392780064867\n",
            "Mean Residual Deviance: 17222346237.15325\n"
          ],
          "name": "stdout"
        },
        {
          "output_type": "execute_result",
          "data": {
            "text/plain": [
              ""
            ]
          },
          "metadata": {
            "tags": []
          },
          "execution_count": 32
        }
      ]
    },
    {
      "cell_type": "code",
      "metadata": {
        "id": "fYZ23Rk7GKjt",
        "colab_type": "code",
        "outputId": "9feaecce-f832-436d-be7d-647aa47d34cd",
        "colab": {
          "base_uri": "https://localhost:8080/",
          "height": 170
        }
      },
      "source": [
        "m_DL.model_performance(test)"
      ],
      "execution_count": 0,
      "outputs": [
        {
          "output_type": "stream",
          "text": [
            "\n",
            "ModelMetricsRegression: deeplearning\n",
            "** Reported on test data. **\n",
            "\n",
            "MSE: 15866073096.986208\n",
            "RMSE: 125960.60136799207\n",
            "MAE: 73501.66422579202\n",
            "RMSLE: 0.18632793700343367\n",
            "Mean Residual Deviance: 15866073096.986208\n"
          ],
          "name": "stdout"
        },
        {
          "output_type": "execute_result",
          "data": {
            "text/plain": [
              ""
            ]
          },
          "metadata": {
            "tags": []
          },
          "execution_count": 33
        }
      ]
    },
    {
      "cell_type": "code",
      "metadata": {
        "id": "Y9AKmcoBGPA9",
        "colab_type": "code",
        "outputId": "98cbc36d-1990-400c-da83-8e19eaf368a3",
        "colab": {
          "base_uri": "https://localhost:8080/",
          "height": 272
        }
      },
      "source": [
        "m_SE.model_performance(test)"
      ],
      "execution_count": 0,
      "outputs": [
        {
          "output_type": "stream",
          "text": [
            "\n",
            "ModelMetricsRegressionGLM: stackedensemble\n",
            "** Reported on test data. **\n",
            "\n",
            "MSE: 14948081525.550259\n",
            "RMSE: 122262.34712923787\n",
            "MAE: 68938.95048658423\n",
            "RMSLE: 0.17220282596881048\n",
            "R^2: 0.8875492899500662\n",
            "Mean Residual Deviance: 14948081525.550259\n",
            "Null degrees of freedom: 2150\n",
            "Residual degrees of freedom: 2147\n",
            "Null deviance: 285935013037402.56\n",
            "Residual deviance: 32153323361458.605\n",
            "AIC: 56507.5763440207\n"
          ],
          "name": "stdout"
        },
        {
          "output_type": "execute_result",
          "data": {
            "text/plain": [
              ""
            ]
          },
          "metadata": {
            "tags": []
          },
          "execution_count": 34
        }
      ]
    },
    {
      "cell_type": "markdown",
      "metadata": {
        "id": "DIlK7Y3hmKXt",
        "colab_type": "text"
      },
      "source": [
        "When we check individual model performance on the test data, we see that Stacked Ensemble Model performs as expected giving us RMSE below the target value."
      ]
    },
    {
      "cell_type": "code",
      "metadata": {
        "id": "CIQyuYYxmguY",
        "colab_type": "code",
        "colab": {}
      },
      "source": [
        "# Saving the SE Model\n",
        "\n",
        "# save the model\n",
        "model_path = h2o.save_model(model=m_SE, path=\"C:/Users/bkhandhadia2/OneDrive - DXC Production/H2O_course/Models\", force=True)"
      ],
      "execution_count": 0,
      "outputs": []
    },
    {
      "cell_type": "code",
      "metadata": {
        "id": "ID3xKd-cpLLe",
        "colab_type": "code",
        "outputId": "c90f4398-0b1b-40f2-cd24-6217b818f067",
        "colab": {
          "base_uri": "https://localhost:8080/",
          "height": 34
        }
      },
      "source": [
        "print (model_path)"
      ],
      "execution_count": 0,
      "outputs": [
        {
          "output_type": "stream",
          "text": [
            "/content/C:/Users/bkhandhadia2/OneDrive - DXC Production/H2O_course/Models/SE_models\n"
          ],
          "name": "stdout"
        }
      ]
    },
    {
      "cell_type": "code",
      "metadata": {
        "id": "WqtVK8hlpWpZ",
        "colab_type": "code",
        "outputId": "7e396c18-9a79-4493-be6e-81fe23229f08",
        "colab": {
          "base_uri": "https://localhost:8080/",
          "height": 85
        }
      },
      "source": [
        "h2o.shutdown()"
      ],
      "execution_count": 0,
      "outputs": [
        {
          "output_type": "stream",
          "text": [
            "[WARNING] in <ipython-input-37-1edf85295eae> line 1:\n",
            "    >>> h2o.shutdown()\n",
            "        ^^^^ Deprecated, use ``h2o.cluster().shutdown()``.\n",
            "H2O session _sid_97c4 closed.\n"
          ],
          "name": "stdout"
        }
      ]
    }
  ]
}