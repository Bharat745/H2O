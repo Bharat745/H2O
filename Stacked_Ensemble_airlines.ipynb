{
  "nbformat": 4,
  "nbformat_minor": 0,
  "metadata": {
    "colab": {
      "name": "Stacked Ensemble_airlines.ipynb",
      "version": "0.3.2",
      "provenance": [],
      "collapsed_sections": [],
      "include_colab_link": true
    },
    "kernelspec": {
      "name": "python3",
      "display_name": "Python 3"
    },
    "accelerator": "GPU"
  },
  "cells": [
    {
      "cell_type": "markdown",
      "metadata": {
        "id": "view-in-github",
        "colab_type": "text"
      },
      "source": [
        "<a href=\"https://colab.research.google.com/github/Bharat745/H2O/blob/master/Stacked_Ensemble_airlines.ipynb\" target=\"_parent\"><img src=\"https://colab.research.google.com/assets/colab-badge.svg\" alt=\"Open In Colab\"/></a>"
      ]
    },
    {
      "cell_type": "markdown",
      "metadata": {
        "id": "Kc_111Bipfbp",
        "colab_type": "text"
      },
      "source": [
        "# Stacked Ensemble "
      ]
    },
    {
      "cell_type": "markdown",
      "metadata": {
        "id": "Ibi6lSFtzILQ",
        "colab_type": "text"
      },
      "source": [
        "## Installation and Imports"
      ]
    },
    {
      "cell_type": "code",
      "metadata": {
        "id": "Wrt4vQUyn-dh",
        "colab_type": "code",
        "colab": {
          "base_uri": "https://localhost:8080/",
          "height": 204
        },
        "outputId": "cefba7dd-5762-42d0-bf80-e52f389b9076"
      },
      "source": [
        "# Installing java version for running H2O on colab\n",
        "! apt-get install default-jre\n",
        "!java -version"
      ],
      "execution_count": 1,
      "outputs": [
        {
          "output_type": "stream",
          "text": [
            "Reading package lists... Done\n",
            "Building dependency tree       \n",
            "Reading state information... Done\n",
            "default-jre is already the newest version (2:1.11-68ubuntu1~18.04.1).\n",
            "The following package was automatically installed and is no longer required:\n",
            "  libnvidia-common-410\n",
            "Use 'apt autoremove' to remove it.\n",
            "0 upgraded, 0 newly installed, 0 to remove and 4 not upgraded.\n",
            "openjdk version \"11.0.3\" 2019-04-16\n",
            "OpenJDK Runtime Environment (build 11.0.3+7-Ubuntu-1ubuntu218.04.1)\n",
            "OpenJDK 64-Bit Server VM (build 11.0.3+7-Ubuntu-1ubuntu218.04.1, mixed mode, sharing)\n"
          ],
          "name": "stdout"
        }
      ]
    },
    {
      "cell_type": "code",
      "metadata": {
        "id": "UNr-r_PDzBsC",
        "colab_type": "code",
        "colab": {
          "base_uri": "https://localhost:8080/",
          "height": 525
        },
        "outputId": "1600e501-b60b-493f-db0d-51e73faee15b"
      },
      "source": [
        "# Start and connect to local H2O cluster\n",
        "# Importing matplotlib to make plots\n",
        "! pip install h2o\n",
        "import h2o\n",
        "h2o.init(nthreads = -1)"
      ],
      "execution_count": 2,
      "outputs": [
        {
          "output_type": "stream",
          "text": [
            "Requirement already satisfied: h2o in /usr/local/lib/python3.6/dist-packages (3.26.0.1)\n",
            "Requirement already satisfied: future in /usr/local/lib/python3.6/dist-packages (from h2o) (0.16.0)\n",
            "Requirement already satisfied: requests in /usr/local/lib/python3.6/dist-packages (from h2o) (2.21.0)\n",
            "Requirement already satisfied: tabulate in /usr/local/lib/python3.6/dist-packages (from h2o) (0.8.3)\n",
            "Requirement already satisfied: colorama>=0.3.8 in /usr/local/lib/python3.6/dist-packages (from h2o) (0.4.1)\n",
            "Requirement already satisfied: certifi>=2017.4.17 in /usr/local/lib/python3.6/dist-packages (from requests->h2o) (2019.6.16)\n",
            "Requirement already satisfied: chardet<3.1.0,>=3.0.2 in /usr/local/lib/python3.6/dist-packages (from requests->h2o) (3.0.4)\n",
            "Requirement already satisfied: urllib3<1.25,>=1.21.1 in /usr/local/lib/python3.6/dist-packages (from requests->h2o) (1.24.3)\n",
            "Requirement already satisfied: idna<2.9,>=2.5 in /usr/local/lib/python3.6/dist-packages (from requests->h2o) (2.8)\n",
            "Checking whether there is an H2O instance running at http://localhost:54321 . connected.\n"
          ],
          "name": "stdout"
        },
        {
          "output_type": "display_data",
          "data": {
            "text/html": [
              "<div style=\"overflow:auto\"><table style=\"width:50%\"><tr><td>H2O cluster uptime:</td>\n",
              "<td>1 hour 9 mins</td></tr>\n",
              "<tr><td>H2O cluster timezone:</td>\n",
              "<td>Etc/UTC</td></tr>\n",
              "<tr><td>H2O data parsing timezone:</td>\n",
              "<td>UTC</td></tr>\n",
              "<tr><td>H2O cluster version:</td>\n",
              "<td>3.26.0.1</td></tr>\n",
              "<tr><td>H2O cluster version age:</td>\n",
              "<td>2 days </td></tr>\n",
              "<tr><td>H2O cluster name:</td>\n",
              "<td>H2O_from_python_unknownUser_8y79te</td></tr>\n",
              "<tr><td>H2O cluster total nodes:</td>\n",
              "<td>1</td></tr>\n",
              "<tr><td>H2O cluster free memory:</td>\n",
              "<td>2.937 Gb</td></tr>\n",
              "<tr><td>H2O cluster total cores:</td>\n",
              "<td>2</td></tr>\n",
              "<tr><td>H2O cluster allowed cores:</td>\n",
              "<td>2</td></tr>\n",
              "<tr><td>H2O cluster status:</td>\n",
              "<td>locked, healthy</td></tr>\n",
              "<tr><td>H2O connection url:</td>\n",
              "<td>http://localhost:54321</td></tr>\n",
              "<tr><td>H2O connection proxy:</td>\n",
              "<td>None</td></tr>\n",
              "<tr><td>H2O internal security:</td>\n",
              "<td>False</td></tr>\n",
              "<tr><td>H2O API Extensions:</td>\n",
              "<td>Amazon S3, XGBoost, Algos, AutoML, Core V3, Core V4</td></tr>\n",
              "<tr><td>Python version:</td>\n",
              "<td>3.6.8 final</td></tr></table></div>"
            ],
            "text/plain": [
              "--------------------------  ---------------------------------------------------\n",
              "H2O cluster uptime:         1 hour 9 mins\n",
              "H2O cluster timezone:       Etc/UTC\n",
              "H2O data parsing timezone:  UTC\n",
              "H2O cluster version:        3.26.0.1\n",
              "H2O cluster version age:    2 days\n",
              "H2O cluster name:           H2O_from_python_unknownUser_8y79te\n",
              "H2O cluster total nodes:    1\n",
              "H2O cluster free memory:    2.937 Gb\n",
              "H2O cluster total cores:    2\n",
              "H2O cluster allowed cores:  2\n",
              "H2O cluster status:         locked, healthy\n",
              "H2O connection url:         http://localhost:54321\n",
              "H2O connection proxy:\n",
              "H2O internal security:      False\n",
              "H2O API Extensions:         Amazon S3, XGBoost, Algos, AutoML, Core V3, Core V4\n",
              "Python version:             3.6.8 final\n",
              "--------------------------  ---------------------------------------------------"
            ]
          },
          "metadata": {
            "tags": []
          }
        }
      ]
    },
    {
      "cell_type": "code",
      "metadata": {
        "id": "nMNI3vWYzQRW",
        "colab_type": "code",
        "colab": {}
      },
      "source": [
        "import matplotlib.pyplot as plt\n",
        "%matplotlib inline"
      ],
      "execution_count": 0,
      "outputs": []
    },
    {
      "cell_type": "code",
      "metadata": {
        "id": "_tfcIPELzVAk",
        "colab_type": "code",
        "colab": {
          "base_uri": "https://localhost:8080/",
          "height": 34
        },
        "outputId": "89d9f8a6-560e-44fe-b060-a182e0dd6ff8"
      },
      "source": [
        "# Importing the data file\n",
        "data = h2o.import_file(\"http://h2o-public-test-data.s3.amazonaws.com/smalldata/airlines/allyears2k_headers.zip\")"
      ],
      "execution_count": 4,
      "outputs": [
        {
          "output_type": "stream",
          "text": [
            "Parse progress: |█████████████████████████████████████████████████████████| 100%\n"
          ],
          "name": "stdout"
        }
      ]
    },
    {
      "cell_type": "markdown",
      "metadata": {
        "id": "9jjzn2U-zq3S",
        "colab_type": "text"
      },
      "source": [
        "## Modelling / Analysis"
      ]
    },
    {
      "cell_type": "code",
      "metadata": {
        "id": "MHUjMjctzfZX",
        "colab_type": "code",
        "colab": {}
      },
      "source": [
        "# Splitting the data to train, validation & test\n",
        "train, valid, test = data.split_frame([0.8, 0.1] , seed = 69)"
      ],
      "execution_count": 0,
      "outputs": []
    },
    {
      "cell_type": "code",
      "metadata": {
        "id": "mMapeORvzvOf",
        "colab_type": "code",
        "colab": {
          "base_uri": "https://localhost:8080/",
          "height": 34
        },
        "outputId": "a21f7058-01ef-419a-e421-2c55aa8428e5"
      },
      "source": [
        "print(\"%d/%d/%d\" % (train.nrows, valid.nrows, test.nrows))"
      ],
      "execution_count": 6,
      "outputs": [
        {
          "output_type": "stream",
          "text": [
            "35255/4272/4451\n"
          ],
          "name": "stdout"
        }
      ]
    },
    {
      "cell_type": "code",
      "metadata": {
        "id": "kHo-b901zy60",
        "colab_type": "code",
        "colab": {}
      },
      "source": [
        "# Setting the model parameters\n",
        "y = \"IsArrDelayed\"\n",
        "ignoreFields = [\n",
        "    \"ArrDelay\" , \"DepDelay\", \n",
        "    \"CarrierDelay\" , \"WeatherDelay\", \n",
        "    \"NASDelay\" , \"SecurityDelay\", \n",
        "    \"LateAircraftDelay\" , \n",
        "    \"IsDepDelayed\" , \"IsArrDelayed\" , \n",
        "    \"ActualElapsedTime\" ,  #But CRSElapsedTime is fine\n",
        "    \"ArrTime\"\n",
        "]\n",
        "\n",
        "x =[i for i in train.names if i not in ignoreFields]"
      ],
      "execution_count": 0,
      "outputs": []
    },
    {
      "cell_type": "code",
      "metadata": {
        "id": "KzLZijg30I1U",
        "colab_type": "code",
        "colab": {}
      },
      "source": [
        "# defining the model and setting the parameters\n",
        "nfolds = 5\n",
        "train2 = train.rbind(valid)"
      ],
      "execution_count": 0,
      "outputs": []
    },
    {
      "cell_type": "code",
      "metadata": {
        "id": "BGUTFFWw0bpw",
        "colab_type": "code",
        "colab": {
          "base_uri": "https://localhost:8080/",
          "height": 34
        },
        "outputId": "398df7d8-a5de-4dd5-ec54-6cae020a65c0"
      },
      "source": [
        "train2.nrows"
      ],
      "execution_count": 9,
      "outputs": [
        {
          "output_type": "execute_result",
          "data": {
            "text/plain": [
              "39527"
            ]
          },
          "metadata": {
            "tags": []
          },
          "execution_count": 9
        }
      ]
    },
    {
      "cell_type": "code",
      "metadata": {
        "id": "zZiiKKdu0d6Q",
        "colab_type": "code",
        "colab": {}
      },
      "source": [
        "# Importing all the necessary model parameters\n",
        "from h2o.estimators.random_forest import H2ORandomForestEstimator\n",
        "from h2o.estimators.gbm import H2OGradientBoostingEstimator\n",
        "from h2o.estimators.glm import H2OGeneralizedLinearEstimator\n",
        "from h2o.estimators.stackedensemble import H2OStackedEnsembleEstimator\n",
        "\n"
      ],
      "execution_count": 0,
      "outputs": []
    },
    {
      "cell_type": "markdown",
      "metadata": {
        "id": "0X1ZKG4N1OCO",
        "colab_type": "text"
      },
      "source": [
        "### All Models"
      ]
    },
    {
      "cell_type": "code",
      "metadata": {
        "id": "JiO3O1-n0-5s",
        "colab_type": "code",
        "colab": {
          "base_uri": "https://localhost:8080/",
          "height": 34
        },
        "outputId": "e730527a-4a9e-4976-9f37-430293e50a4a"
      },
      "source": [
        "# GLM Model\n",
        "m_GLM = H2OGeneralizedLinearEstimator(\n",
        "    family = \"binomial\", \n",
        "    model_id = \"glm_def\", \n",
        "    nfolds = nfolds,\n",
        "    fold_assignment = \"Modulo\",\n",
        "    keep_cross_validation_predictions = True\n",
        "  )\n",
        "\n",
        "m_GLM.train(x, y, train2)"
      ],
      "execution_count": 14,
      "outputs": [
        {
          "output_type": "stream",
          "text": [
            "glm Model Build progress: |███████████████████████████████████████████████| 100%\n"
          ],
          "name": "stdout"
        }
      ]
    },
    {
      "cell_type": "code",
      "metadata": {
        "id": "PWb5hCrm2GFP",
        "colab_type": "code",
        "colab": {
          "base_uri": "https://localhost:8080/",
          "height": 34
        },
        "outputId": "3d368697-0636-4b12-a745-8ff4f93d6ac0"
      },
      "source": [
        "# GBM Model\n",
        "m_GBM = H2OGradientBoostingEstimator( \n",
        "    model_id = \"gbm_def\", \n",
        "    nfolds = nfolds,\n",
        "    fold_assignment = \"Modulo\",\n",
        "    keep_cross_validation_predictions = True\n",
        "  )\n",
        "\n",
        "m_GBM.train(x, y, train2)"
      ],
      "execution_count": 15,
      "outputs": [
        {
          "output_type": "stream",
          "text": [
            "gbm Model Build progress: |███████████████████████████████████████████████| 100%\n"
          ],
          "name": "stdout"
        }
      ]
    },
    {
      "cell_type": "code",
      "metadata": {
        "id": "q1snW6In2a4q",
        "colab_type": "code",
        "colab": {
          "base_uri": "https://localhost:8080/",
          "height": 34
        },
        "outputId": "cd93b49e-84f1-4569-fa8a-27f6cc69a177"
      },
      "source": [
        "# GBM Model\n",
        "m_RF = H2ORandomForestEstimator( \n",
        "    model_id = \"rf_def\", \n",
        "    nfolds = nfolds,\n",
        "    fold_assignment = \"Modulo\",\n",
        "    keep_cross_validation_predictions = True\n",
        "  )\n",
        "\n",
        "m_RF.train(x, y, train2)"
      ],
      "execution_count": 16,
      "outputs": [
        {
          "output_type": "stream",
          "text": [
            "drf Model Build progress: |███████████████████████████████████████████████| 100%\n"
          ],
          "name": "stdout"
        }
      ]
    },
    {
      "cell_type": "markdown",
      "metadata": {
        "id": "Ogu7IrC55NFH",
        "colab_type": "text"
      },
      "source": [
        "### Model Comparision"
      ]
    },
    {
      "cell_type": "code",
      "metadata": {
        "id": "qfRdSZLf4nT4",
        "colab_type": "code",
        "colab": {}
      },
      "source": [
        "# we create a list of 3 model ids\n",
        "models = [m_GLM.model_id, m_GBM.model_id, m_RF.model_id]"
      ],
      "execution_count": 0,
      "outputs": []
    },
    {
      "cell_type": "code",
      "metadata": {
        "id": "L3B5LF785oL_",
        "colab_type": "code",
        "colab": {
          "base_uri": "https://localhost:8080/",
          "height": 34
        },
        "outputId": "576c1b49-5e9e-4fd3-e865-258172bdfc70"
      },
      "source": [
        "\n",
        "m_SE = H2OStackedEnsembleEstimator(model_id = \"SE_models\",\n",
        "                           base_models = models)\n",
        "m_SE.train(x, y, train2)"
      ],
      "execution_count": 21,
      "outputs": [
        {
          "output_type": "stream",
          "text": [
            "stackedensemble Model Build progress: |███████████████████████████████████| 100%\n"
          ],
          "name": "stdout"
        }
      ]
    },
    {
      "cell_type": "code",
      "metadata": {
        "id": "C2dGls_27Da0",
        "colab_type": "code",
        "colab": {}
      },
      "source": [
        "import pandas as pd"
      ],
      "execution_count": 0,
      "outputs": []
    },
    {
      "cell_type": "code",
      "metadata": {
        "id": "UYP9zXm-5_JD",
        "colab_type": "code",
        "colab": {}
      },
      "source": [
        "all_models = [m_GLM, m_GBM, m_RF, m_SE]\n",
        "names = [\"GLM\", \"GBM\", \"RF\", \"SE\"]"
      ],
      "execution_count": 0,
      "outputs": []
    },
    {
      "cell_type": "code",
      "metadata": {
        "id": "zwSVHMw-7GRF",
        "colab_type": "code",
        "colab": {
          "base_uri": "https://localhost:8080/",
          "height": 102
        },
        "outputId": "1b70b6bb-5ddb-4f63-df86-00c04a9e6a6e"
      },
      "source": [
        "pd.Series(map(lambda x: x.logloss(), all_models), names)"
      ],
      "execution_count": 24,
      "outputs": [
        {
          "output_type": "execute_result",
          "data": {
            "text/plain": [
              "GLM    0.618522\n",
              "GBM    0.508488\n",
              "RF     0.515886\n",
              "SE     0.234050\n",
              "dtype: float64"
            ]
          },
          "metadata": {
            "tags": []
          },
          "execution_count": 24
        }
      ]
    },
    {
      "cell_type": "markdown",
      "metadata": {
        "id": "DD9YxKnl7gXt",
        "colab_type": "text"
      },
      "source": [
        "Lower is better for the logloss. we see that SE is much better at 0.23"
      ]
    },
    {
      "cell_type": "code",
      "metadata": {
        "id": "iKASmvGM7TOx",
        "colab_type": "code",
        "colab": {
          "base_uri": "https://localhost:8080/",
          "height": 102
        },
        "outputId": "b4a651e4-ecea-4dfa-fc94-b2659a0faaf1"
      },
      "source": [
        "pd.Series(map(lambda x: x.auc(), all_models), names)"
      ],
      "execution_count": 25,
      "outputs": [
        {
          "output_type": "execute_result",
          "data": {
            "text/plain": [
              "GLM    0.702621\n",
              "GBM    0.849723\n",
              "RF     0.831402\n",
              "SE     0.991942\n",
              "dtype: float64"
            ]
          },
          "metadata": {
            "tags": []
          },
          "execution_count": 25
        }
      ]
    },
    {
      "cell_type": "markdown",
      "metadata": {
        "id": "RDjScyiR7vSx",
        "colab_type": "text"
      },
      "source": [
        "ensembles gives you few more % better performance"
      ]
    },
    {
      "cell_type": "code",
      "metadata": {
        "id": "HvlsE_iL7tDT",
        "colab_type": "code",
        "colab": {
          "base_uri": "https://localhost:8080/",
          "height": 102
        },
        "outputId": "5db06c5e-225b-4909-9c46-731bcfd43bf5"
      },
      "source": [
        "pd.Series(map(lambda x: x.auc(xval = True), all_models), names)"
      ],
      "execution_count": 26,
      "outputs": [
        {
          "output_type": "execute_result",
          "data": {
            "text/plain": [
              "GLM    0.698574\n",
              "GBM    0.805115\n",
              "RF     0.835802\n",
              "SE          NaN\n",
              "dtype: float64"
            ]
          },
          "metadata": {
            "tags": []
          },
          "execution_count": 26
        }
      ]
    },
    {
      "cell_type": "markdown",
      "metadata": {
        "id": "Inu74D9G78t7",
        "colab_type": "text"
      },
      "source": [
        "so far we were looking at the results of the data it was trained on. We see that stacked ensemble does not have any results, as it was built on all the cross-validation data. there is no seperate dataset to evaluate it upon. "
      ]
    },
    {
      "cell_type": "code",
      "metadata": {
        "id": "J1ei4fJE742b",
        "colab_type": "code",
        "colab": {}
      },
      "source": [
        "# Analyzing the model on the test data. \n",
        "test_perf = list(map(lambda x: x.model_performance(test), all_models))"
      ],
      "execution_count": 0,
      "outputs": []
    },
    {
      "cell_type": "code",
      "metadata": {
        "id": "6Z9JBUiC8tm8",
        "colab_type": "code",
        "colab": {
          "base_uri": "https://localhost:8080/",
          "height": 102
        },
        "outputId": "7d924be8-c726-41b6-eab0-d4bda3fa7d83"
      },
      "source": [
        "pd.Series(map(lambda p: p.logloss(), test_perf), names)"
      ],
      "execution_count": 28,
      "outputs": [
        {
          "output_type": "execute_result",
          "data": {
            "text/plain": [
              "GLM    0.623406\n",
              "GBM    0.544773\n",
              "RF     0.492564\n",
              "SE     0.489151\n",
              "dtype: float64"
            ]
          },
          "metadata": {
            "tags": []
          },
          "execution_count": 28
        }
      ]
    },
    {
      "cell_type": "code",
      "metadata": {
        "id": "NIgU91X183z4",
        "colab_type": "code",
        "colab": {
          "base_uri": "https://localhost:8080/",
          "height": 102
        },
        "outputId": "d9cd706b-7403-4030-c40f-63d7bdc56fe2"
      },
      "source": [
        "pd.Series(map(lambda p: p.auc(), test_perf), names)"
      ],
      "execution_count": 30,
      "outputs": [
        {
          "output_type": "execute_result",
          "data": {
            "text/plain": [
              "GLM    0.692037\n",
              "GBM    0.802151\n",
              "RF     0.839630\n",
              "SE     0.840522\n",
              "dtype: float64"
            ]
          },
          "metadata": {
            "tags": []
          },
          "execution_count": 30
        }
      ]
    },
    {
      "cell_type": "markdown",
      "metadata": {
        "id": "u8qxKQj-9bV9",
        "colab_type": "text"
      },
      "source": [
        "Always compare the performance at the end. Do not run the ensemble mechanically. \n"
      ]
    }
  ]
}