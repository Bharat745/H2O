{
  "nbformat": 4,
  "nbformat_minor": 0,
  "metadata": {
    "colab": {
      "name": "Random Forest_iris.ipynb",
      "version": "0.3.2",
      "provenance": [],
      "include_colab_link": true
    },
    "language_info": {
      "codemirror_mode": {
        "name": "ipython",
        "version": 3
      },
      "file_extension": ".py",
      "mimetype": "text/x-python",
      "name": "python",
      "nbconvert_exporter": "python",
      "pygments_lexer": "ipython3",
      "version": "3.7.3"
    },
    "kernelspec": {
      "display_name": "Python 3",
      "language": "python",
      "name": "python3"
    }
  },
  "cells": [
    {
      "cell_type": "markdown",
      "metadata": {
        "id": "view-in-github",
        "colab_type": "text"
      },
      "source": [
        "<a href=\"https://colab.research.google.com/github/Bharat745/H2O/blob/master/Random_Forest_iris.ipynb\" target=\"_parent\"><img src=\"https://colab.research.google.com/assets/colab-badge.svg\" alt=\"Open In Colab\"/></a>"
      ]
    },
    {
      "cell_type": "markdown",
      "metadata": {
        "id": "6xHGw5gnwpc4",
        "colab_type": "text"
      },
      "source": [
        "# Random Forest Iris dataset"
      ]
    },
    {
      "cell_type": "markdown",
      "metadata": {
        "id": "VAGy9TdJyJzh",
        "colab_type": "text"
      },
      "source": [
        "## Installation and importing necessary libraries and the dataset\n"
      ]
    },
    {
      "cell_type": "code",
      "metadata": {
        "id": "yj_zuERewxFf",
        "colab_type": "code",
        "colab": {
          "base_uri": "https://localhost:8080/",
          "height": 221
        },
        "outputId": "730f9552-23a6-4909-dfff-237e60b74f12"
      },
      "source": [
        "# Installing java version for running H2O on colab\n",
        "! apt-get install default-jre\n",
        "!java -version"
      ],
      "execution_count": 1,
      "outputs": [
        {
          "output_type": "stream",
          "text": [
            "Reading package lists... Done\n",
            "Building dependency tree       \n",
            "Reading state information... Done\n",
            "default-jre is already the newest version (2:1.11-68ubuntu1~18.04.1).\n",
            "default-jre set to manually installed.\n",
            "The following package was automatically installed and is no longer required:\n",
            "  libnvidia-common-410\n",
            "Use 'apt autoremove' to remove it.\n",
            "0 upgraded, 0 newly installed, 0 to remove and 16 not upgraded.\n",
            "openjdk version \"11.0.3\" 2019-04-16\n",
            "OpenJDK Runtime Environment (build 11.0.3+7-Ubuntu-1ubuntu218.04.1)\n",
            "OpenJDK 64-Bit Server VM (build 11.0.3+7-Ubuntu-1ubuntu218.04.1, mixed mode, sharing)\n"
          ],
          "name": "stdout"
        }
      ]
    },
    {
      "cell_type": "code",
      "metadata": {
        "id": "BkHHGDyNwpc7",
        "colab_type": "code",
        "colab": {
          "base_uri": "https://localhost:8080/",
          "height": 814
        },
        "outputId": "07efda50-d565-4a7c-b302-7e4e558088f1"
      },
      "source": [
        "# Start and connect to local H2O cluster\n",
        "! pip install h2o\n",
        "import h2o\n",
        "h2o.init(nthreads = -1)"
      ],
      "execution_count": 2,
      "outputs": [
        {
          "output_type": "stream",
          "text": [
            "Collecting h2o\n",
            "\u001b[?25l  Downloading https://files.pythonhosted.org/packages/2a/05/cad6d1d8a4b0e85975aae28e61791510b7b963e7667143f33a63abbd5665/h2o-3.24.0.5.tar.gz (122.4MB)\n",
            "\u001b[K     |████████████████████████████████| 122.4MB 171kB/s \n",
            "\u001b[?25hRequirement already satisfied: requests in /usr/local/lib/python3.6/dist-packages (from h2o) (2.21.0)\n",
            "Requirement already satisfied: tabulate in /usr/local/lib/python3.6/dist-packages (from h2o) (0.8.3)\n",
            "Requirement already satisfied: future in /usr/local/lib/python3.6/dist-packages (from h2o) (0.16.0)\n",
            "Collecting colorama>=0.3.8 (from h2o)\n",
            "  Downloading https://files.pythonhosted.org/packages/4f/a6/728666f39bfff1719fc94c481890b2106837da9318031f71a8424b662e12/colorama-0.4.1-py2.py3-none-any.whl\n",
            "Requirement already satisfied: certifi>=2017.4.17 in /usr/local/lib/python3.6/dist-packages (from requests->h2o) (2019.6.16)\n",
            "Requirement already satisfied: idna<2.9,>=2.5 in /usr/local/lib/python3.6/dist-packages (from requests->h2o) (2.8)\n",
            "Requirement already satisfied: urllib3<1.25,>=1.21.1 in /usr/local/lib/python3.6/dist-packages (from requests->h2o) (1.24.3)\n",
            "Requirement already satisfied: chardet<3.1.0,>=3.0.2 in /usr/local/lib/python3.6/dist-packages (from requests->h2o) (3.0.4)\n",
            "Building wheels for collected packages: h2o\n",
            "  Building wheel for h2o (setup.py) ... \u001b[?25l\u001b[?25hdone\n",
            "  Stored in directory: /root/.cache/pip/wheels/fe/31/5a/d0a96f4ab19a49d5381707eb3017b1a41ec89acbeff54a532c\n",
            "Successfully built h2o\n",
            "Installing collected packages: colorama, h2o\n",
            "Successfully installed colorama-0.4.1 h2o-3.24.0.5\n",
            "Checking whether there is an H2O instance running at http://localhost:54321 ..... not found.\n",
            "Attempting to start a local H2O server...\n",
            "  Java Version: openjdk version \"11.0.3\" 2019-04-16; OpenJDK Runtime Environment (build 11.0.3+7-Ubuntu-1ubuntu218.04.1); OpenJDK 64-Bit Server VM (build 11.0.3+7-Ubuntu-1ubuntu218.04.1, mixed mode, sharing)\n",
            "  Starting server from /usr/local/lib/python3.6/dist-packages/h2o/backend/bin/h2o.jar\n",
            "  Ice root: /tmp/tmpwk1ygafy\n",
            "  JVM stdout: /tmp/tmpwk1ygafy/h2o_unknownUser_started_from_python.out\n",
            "  JVM stderr: /tmp/tmpwk1ygafy/h2o_unknownUser_started_from_python.err\n",
            "  Server is running at http://127.0.0.1:54321\n",
            "Connecting to H2O server at http://127.0.0.1:54321 ... successful.\n"
          ],
          "name": "stdout"
        },
        {
          "output_type": "display_data",
          "data": {
            "text/html": [
              "<div style=\"overflow:auto\"><table style=\"width:50%\"><tr><td>H2O cluster uptime:</td>\n",
              "<td>02 secs</td></tr>\n",
              "<tr><td>H2O cluster timezone:</td>\n",
              "<td>Etc/UTC</td></tr>\n",
              "<tr><td>H2O data parsing timezone:</td>\n",
              "<td>UTC</td></tr>\n",
              "<tr><td>H2O cluster version:</td>\n",
              "<td>3.24.0.5</td></tr>\n",
              "<tr><td>H2O cluster version age:</td>\n",
              "<td>16 days </td></tr>\n",
              "<tr><td>H2O cluster name:</td>\n",
              "<td>H2O_from_python_unknownUser_243a22</td></tr>\n",
              "<tr><td>H2O cluster total nodes:</td>\n",
              "<td>1</td></tr>\n",
              "<tr><td>H2O cluster free memory:</td>\n",
              "<td>3 Gb</td></tr>\n",
              "<tr><td>H2O cluster total cores:</td>\n",
              "<td>2</td></tr>\n",
              "<tr><td>H2O cluster allowed cores:</td>\n",
              "<td>2</td></tr>\n",
              "<tr><td>H2O cluster status:</td>\n",
              "<td>accepting new members, healthy</td></tr>\n",
              "<tr><td>H2O connection url:</td>\n",
              "<td>http://127.0.0.1:54321</td></tr>\n",
              "<tr><td>H2O connection proxy:</td>\n",
              "<td>None</td></tr>\n",
              "<tr><td>H2O internal security:</td>\n",
              "<td>False</td></tr>\n",
              "<tr><td>H2O API Extensions:</td>\n",
              "<td>Amazon S3, XGBoost, Algos, AutoML, Core V3, Core V4</td></tr>\n",
              "<tr><td>Python version:</td>\n",
              "<td>3.6.8 final</td></tr></table></div>"
            ],
            "text/plain": [
              "--------------------------  ---------------------------------------------------\n",
              "H2O cluster uptime:         02 secs\n",
              "H2O cluster timezone:       Etc/UTC\n",
              "H2O data parsing timezone:  UTC\n",
              "H2O cluster version:        3.24.0.5\n",
              "H2O cluster version age:    16 days\n",
              "H2O cluster name:           H2O_from_python_unknownUser_243a22\n",
              "H2O cluster total nodes:    1\n",
              "H2O cluster free memory:    3 Gb\n",
              "H2O cluster total cores:    2\n",
              "H2O cluster allowed cores:  2\n",
              "H2O cluster status:         accepting new members, healthy\n",
              "H2O connection url:         http://127.0.0.1:54321\n",
              "H2O connection proxy:\n",
              "H2O internal security:      False\n",
              "H2O API Extensions:         Amazon S3, XGBoost, Algos, AutoML, Core V3, Core V4\n",
              "Python version:             3.6.8 final\n",
              "--------------------------  ---------------------------------------------------"
            ]
          },
          "metadata": {
            "tags": []
          }
        }
      ]
    },
    {
      "cell_type": "code",
      "metadata": {
        "id": "XEnM6fp_wpdJ",
        "colab_type": "code",
        "colab": {
          "base_uri": "https://localhost:8080/",
          "height": 34
        },
        "outputId": "9f4eef0f-90e5-43a8-d001-041573177610"
      },
      "source": [
        "#Import dataset\n",
        "url = \"http://h2o-public-test-data.s3.amazonaws.com/smalldata/iris/iris_wheader.csv\"\n",
        "iris= h2o.import_file(url)"
      ],
      "execution_count": 3,
      "outputs": [
        {
          "output_type": "stream",
          "text": [
            "Parse progress: |█████████████████████████████████████████████████████████| 100%\n"
          ],
          "name": "stdout"
        }
      ]
    },
    {
      "cell_type": "markdown",
      "metadata": {
        "id": "qDfXXe11ygX8",
        "colab_type": "text"
      },
      "source": [
        "## Data preparation and descriptive statistics"
      ]
    },
    {
      "cell_type": "code",
      "metadata": {
        "id": "HqwR8llvwpdQ",
        "colab_type": "code",
        "colab": {}
      },
      "source": [
        "# Splitting the dataset to train and test\n",
        "train, test = iris.split_frame([0.8])"
      ],
      "execution_count": 0,
      "outputs": []
    },
    {
      "cell_type": "code",
      "metadata": {
        "id": "tFIZq53GwpdW",
        "colab_type": "code",
        "colab": {
          "base_uri": "https://localhost:8080/",
          "height": 777
        },
        "outputId": "fde5f4bb-7b34-4865-818d-41e03ee8e4ce"
      },
      "source": [
        "#looking at the datasets\n",
        "train.summary()\n",
        "test.summary()"
      ],
      "execution_count": 5,
      "outputs": [
        {
          "output_type": "display_data",
          "data": {
            "text/html": [
              "<table>\n",
              "<thead>\n",
              "<tr><th>       </th><th>sepal_len         </th><th>sepal_wid         </th><th>petal_len        </th><th>petal_wid         </th><th>class      </th></tr>\n",
              "</thead>\n",
              "<tbody>\n",
              "<tr><td>type   </td><td>real              </td><td>real              </td><td>real             </td><td>real              </td><td>enum       </td></tr>\n",
              "<tr><td>mins   </td><td>4.3               </td><td>2.0               </td><td>1.0              </td><td>0.1               </td><td>           </td></tr>\n",
              "<tr><td>mean   </td><td>5.766129032258063 </td><td>3.025806451612904 </td><td>3.675            </td><td>1.1685483870967746</td><td>           </td></tr>\n",
              "<tr><td>maxs   </td><td>7.7               </td><td>4.1               </td><td>6.9              </td><td>2.5               </td><td>           </td></tr>\n",
              "<tr><td>sigma  </td><td>0.8046498098854236</td><td>0.4271042537077735</td><td>1.760341107004018</td><td>0.768312154495388 </td><td>           </td></tr>\n",
              "<tr><td>zeros  </td><td>0                 </td><td>0                 </td><td>0                </td><td>0                 </td><td>           </td></tr>\n",
              "<tr><td>missing</td><td>0                 </td><td>0                 </td><td>0                </td><td>0                 </td><td>0          </td></tr>\n",
              "<tr><td>0      </td><td>5.1               </td><td>3.5               </td><td>1.4              </td><td>0.2               </td><td>Iris-setosa</td></tr>\n",
              "<tr><td>1      </td><td>4.9               </td><td>3.0               </td><td>1.4              </td><td>0.2               </td><td>Iris-setosa</td></tr>\n",
              "<tr><td>2      </td><td>4.6               </td><td>3.1               </td><td>1.5              </td><td>0.2               </td><td>Iris-setosa</td></tr>\n",
              "<tr><td>3      </td><td>5.0               </td><td>3.6               </td><td>1.4              </td><td>0.2               </td><td>Iris-setosa</td></tr>\n",
              "<tr><td>4      </td><td>5.4               </td><td>3.9               </td><td>1.7              </td><td>0.4               </td><td>Iris-setosa</td></tr>\n",
              "<tr><td>5      </td><td>4.6               </td><td>3.4               </td><td>1.4              </td><td>0.3               </td><td>Iris-setosa</td></tr>\n",
              "<tr><td>6      </td><td>5.0               </td><td>3.4               </td><td>1.5              </td><td>0.2               </td><td>Iris-setosa</td></tr>\n",
              "<tr><td>7      </td><td>4.4               </td><td>2.9               </td><td>1.4              </td><td>0.2               </td><td>Iris-setosa</td></tr>\n",
              "<tr><td>8      </td><td>4.9               </td><td>3.1               </td><td>1.5              </td><td>0.1               </td><td>Iris-setosa</td></tr>\n",
              "<tr><td>9      </td><td>5.4               </td><td>3.7               </td><td>1.5              </td><td>0.2               </td><td>Iris-setosa</td></tr>\n",
              "</tbody>\n",
              "</table>"
            ]
          },
          "metadata": {
            "tags": []
          }
        },
        {
          "output_type": "display_data",
          "data": {
            "text/html": [
              "<table>\n",
              "<thead>\n",
              "<tr><th>       </th><th>sepal_len         </th><th>sepal_wid         </th><th>petal_len         </th><th>petal_wid         </th><th>class          </th></tr>\n",
              "</thead>\n",
              "<tbody>\n",
              "<tr><td>type   </td><td>real              </td><td>real              </td><td>real              </td><td>real              </td><td>enum           </td></tr>\n",
              "<tr><td>mins   </td><td>4.7               </td><td>2.5               </td><td>1.3               </td><td>0.1               </td><td>               </td></tr>\n",
              "<tr><td>mean   </td><td>6.211538461538463 </td><td>3.1884615384615382</td><td>4.157692307692307 </td><td>1.3423076923076922</td><td>               </td></tr>\n",
              "<tr><td>maxs   </td><td>7.9               </td><td>4.4               </td><td>6.7               </td><td>2.3               </td><td>               </td></tr>\n",
              "<tr><td>sigma  </td><td>0.8547874229663994</td><td>0.4475059088565631</td><td>1.7629913390423853</td><td>0.7354851878443655</td><td>               </td></tr>\n",
              "<tr><td>zeros  </td><td>0                 </td><td>0                 </td><td>0                 </td><td>0                 </td><td>               </td></tr>\n",
              "<tr><td>missing</td><td>0                 </td><td>0                 </td><td>0                 </td><td>0                 </td><td>0              </td></tr>\n",
              "<tr><td>0      </td><td>4.7               </td><td>3.2               </td><td>1.3               </td><td>0.2               </td><td>Iris-setosa    </td></tr>\n",
              "<tr><td>1      </td><td>5.7               </td><td>4.4               </td><td>1.5               </td><td>0.4               </td><td>Iris-setosa    </td></tr>\n",
              "<tr><td>2      </td><td>5.0               </td><td>3.4               </td><td>1.6               </td><td>0.4               </td><td>Iris-setosa    </td></tr>\n",
              "<tr><td>3      </td><td>5.2               </td><td>3.5               </td><td>1.5               </td><td>0.2               </td><td>Iris-setosa    </td></tr>\n",
              "<tr><td>4      </td><td>5.5               </td><td>4.2               </td><td>1.4               </td><td>0.2               </td><td>Iris-setosa    </td></tr>\n",
              "<tr><td>5      </td><td>4.9               </td><td>3.1               </td><td>1.5               </td><td>0.1               </td><td>Iris-setosa    </td></tr>\n",
              "<tr><td>6      </td><td>5.1               </td><td>3.8               </td><td>1.9               </td><td>0.4               </td><td>Iris-setosa    </td></tr>\n",
              "<tr><td>7      </td><td>6.4               </td><td>3.2               </td><td>4.5               </td><td>1.5               </td><td>Iris-versicolor</td></tr>\n",
              "<tr><td>8      </td><td>6.9               </td><td>3.1               </td><td>4.9               </td><td>1.5               </td><td>Iris-versicolor</td></tr>\n",
              "<tr><td>9      </td><td>6.5               </td><td>2.8               </td><td>4.6               </td><td>1.5               </td><td>Iris-versicolor</td></tr>\n",
              "</tbody>\n",
              "</table>"
            ]
          },
          "metadata": {
            "tags": []
          }
        }
      ]
    },
    {
      "cell_type": "code",
      "metadata": {
        "id": "WUt-kOUWwpdd",
        "colab_type": "code",
        "colab": {
          "base_uri": "https://localhost:8080/",
          "height": 34
        },
        "outputId": "4a865be5-6f0e-41da-9e13-7b0ab7a0fa0a"
      },
      "source": [
        "train.nrows"
      ],
      "execution_count": 6,
      "outputs": [
        {
          "output_type": "execute_result",
          "data": {
            "text/plain": [
              "124"
            ]
          },
          "metadata": {
            "tags": []
          },
          "execution_count": 6
        }
      ]
    },
    {
      "cell_type": "code",
      "metadata": {
        "id": "r3d0NnGnwpdk",
        "colab_type": "code",
        "colab": {
          "base_uri": "https://localhost:8080/",
          "height": 34
        },
        "outputId": "579b4930-fe3b-4e36-825c-6c50e013b7f5"
      },
      "source": [
        "test.nrows"
      ],
      "execution_count": 7,
      "outputs": [
        {
          "output_type": "execute_result",
          "data": {
            "text/plain": [
              "26"
            ]
          },
          "metadata": {
            "tags": []
          },
          "execution_count": 7
        }
      ]
    },
    {
      "cell_type": "markdown",
      "metadata": {
        "id": "OtQueunqyppt",
        "colab_type": "text"
      },
      "source": [
        "## Analytics and Modelling"
      ]
    },
    {
      "cell_type": "code",
      "metadata": {
        "id": "yNT_kuPGwpdr",
        "colab_type": "code",
        "colab": {}
      },
      "source": [
        "# Importing Random forest estimator\n",
        "from h2o.estimators.random_forest import H2ORandomForestEstimator"
      ],
      "execution_count": 0,
      "outputs": []
    },
    {
      "cell_type": "code",
      "metadata": {
        "id": "CTJk6gv4wpdv",
        "colab_type": "code",
        "colab": {}
      },
      "source": [
        "# Define the features and target\n",
        "features = list(test.columns)\n",
        "target = \"class\""
      ],
      "execution_count": 0,
      "outputs": []
    },
    {
      "cell_type": "code",
      "metadata": {
        "id": "EqKtNxIfwpdz",
        "colab_type": "code",
        "colab": {
          "base_uri": "https://localhost:8080/",
          "height": 945
        },
        "outputId": "216e0bb8-c20e-42c6-e942-99cbb89b89c0"
      },
      "source": [
        "# Train the Random Forest Model\n",
        "mRF = H2ORandomForestEstimator(seed= 1234)\n",
        "mRF.train(x= features, y = target ,training_frame = train)\n",
        "print(mRF)"
      ],
      "execution_count": 10,
      "outputs": [
        {
          "output_type": "stream",
          "text": [
            "drf Model Build progress: |███████████████████████████████████████████████| 100%\n",
            "Model Details\n",
            "=============\n",
            "H2ORandomForestEstimator :  Distributed Random Forest\n",
            "Model Key:  DRF_model_python_1562340797463_1\n",
            "\n",
            "\n",
            "ModelMetricsMultinomial: drf\n",
            "** Reported on train data. **\n",
            "\n",
            "MSE: 0.03145618375278179\n",
            "RMSE: 0.1773589122451471\n",
            "LogLoss: 0.10010960350530813\n",
            "Mean Per-Class Error: 0.04939024390243902\n",
            "Confusion Matrix: Row labels: Actual class; Column labels: Predicted class\n",
            "\n"
          ],
          "name": "stdout"
        },
        {
          "output_type": "display_data",
          "data": {
            "text/html": [
              "<div style=\"overflow:auto\"><table style=\"width:50%\"><tr><td><b>Iris-setosa</b></td>\n",
              "<td><b>Iris-versicolor</b></td>\n",
              "<td><b>Iris-virginica</b></td>\n",
              "<td><b>Error</b></td>\n",
              "<td><b>Rate</b></td></tr>\n",
              "<tr><td>43.0</td>\n",
              "<td>0.0</td>\n",
              "<td>0.0</td>\n",
              "<td>0.0</td>\n",
              "<td>0 / 43</td></tr>\n",
              "<tr><td>0.0</td>\n",
              "<td>38.0</td>\n",
              "<td>3.0</td>\n",
              "<td>0.0731707</td>\n",
              "<td>3 / 41</td></tr>\n",
              "<tr><td>0.0</td>\n",
              "<td>3.0</td>\n",
              "<td>37.0</td>\n",
              "<td>0.075</td>\n",
              "<td>3 / 40</td></tr>\n",
              "<tr><td>43.0</td>\n",
              "<td>41.0</td>\n",
              "<td>40.0</td>\n",
              "<td>0.0483871</td>\n",
              "<td>6 / 124</td></tr></table></div>"
            ],
            "text/plain": [
              "Iris-setosa    Iris-versicolor    Iris-virginica    Error      Rate\n",
              "-------------  -----------------  ----------------  ---------  -------\n",
              "43             0                  0                 0          0 / 43\n",
              "0              38                 3                 0.0731707  3 / 41\n",
              "0              3                  37                0.075      3 / 40\n",
              "43             41                 40                0.0483871  6 / 124"
            ]
          },
          "metadata": {
            "tags": []
          }
        },
        {
          "output_type": "stream",
          "text": [
            "Top-3 Hit Ratios: \n"
          ],
          "name": "stdout"
        },
        {
          "output_type": "display_data",
          "data": {
            "text/html": [
              "<div style=\"overflow:auto\"><table style=\"width:50%\"><tr><td><b>k</b></td>\n",
              "<td><b>hit_ratio</b></td></tr>\n",
              "<tr><td>1</td>\n",
              "<td>0.9516129</td></tr>\n",
              "<tr><td>2</td>\n",
              "<td>1.0</td></tr>\n",
              "<tr><td>3</td>\n",
              "<td>1.0</td></tr></table></div>"
            ],
            "text/plain": [
              "k    hit_ratio\n",
              "---  -----------\n",
              "1    0.951613\n",
              "2    1\n",
              "3    1"
            ]
          },
          "metadata": {
            "tags": []
          }
        },
        {
          "output_type": "stream",
          "text": [
            "Scoring History: \n"
          ],
          "name": "stdout"
        },
        {
          "output_type": "display_data",
          "data": {
            "text/html": [
              "<div style=\"overflow:auto\"><table style=\"width:50%\"><tr><td><b></b></td>\n",
              "<td><b>timestamp</b></td>\n",
              "<td><b>duration</b></td>\n",
              "<td><b>number_of_trees</b></td>\n",
              "<td><b>training_rmse</b></td>\n",
              "<td><b>training_logloss</b></td>\n",
              "<td><b>training_classification_error</b></td></tr>\n",
              "<tr><td></td>\n",
              "<td>2019-07-05 15:34:12</td>\n",
              "<td> 0.032 sec</td>\n",
              "<td>0.0</td>\n",
              "<td>nan</td>\n",
              "<td>nan</td>\n",
              "<td>nan</td></tr>\n",
              "<tr><td></td>\n",
              "<td>2019-07-05 15:34:12</td>\n",
              "<td> 0.213 sec</td>\n",
              "<td>1.0</td>\n",
              "<td>0.2672612</td>\n",
              "<td>2.4670555</td>\n",
              "<td>0.0714286</td></tr>\n",
              "<tr><td></td>\n",
              "<td>2019-07-05 15:34:12</td>\n",
              "<td> 0.233 sec</td>\n",
              "<td>2.0</td>\n",
              "<td>0.2469146</td>\n",
              "<td>1.8174918</td>\n",
              "<td>0.0779221</td></tr>\n",
              "<tr><td></td>\n",
              "<td>2019-07-05 15:34:12</td>\n",
              "<td> 0.250 sec</td>\n",
              "<td>3.0</td>\n",
              "<td>0.2155914</td>\n",
              "<td>1.3856125</td>\n",
              "<td>0.0594059</td></tr>\n",
              "<tr><td></td>\n",
              "<td>2019-07-05 15:34:12</td>\n",
              "<td> 0.268 sec</td>\n",
              "<td>4.0</td>\n",
              "<td>0.2062209</td>\n",
              "<td>1.2420560</td>\n",
              "<td>0.0530973</td></tr>\n",
              "<tr><td>---</td>\n",
              "<td>---</td>\n",
              "<td>---</td>\n",
              "<td>---</td>\n",
              "<td>---</td>\n",
              "<td>---</td>\n",
              "<td>---</td></tr>\n",
              "<tr><td></td>\n",
              "<td>2019-07-05 15:34:12</td>\n",
              "<td> 0.750 sec</td>\n",
              "<td>46.0</td>\n",
              "<td>0.1771788</td>\n",
              "<td>0.0992848</td>\n",
              "<td>0.0483871</td></tr>\n",
              "<tr><td></td>\n",
              "<td>2019-07-05 15:34:12</td>\n",
              "<td> 0.757 sec</td>\n",
              "<td>47.0</td>\n",
              "<td>0.1779516</td>\n",
              "<td>0.1004649</td>\n",
              "<td>0.0483871</td></tr>\n",
              "<tr><td></td>\n",
              "<td>2019-07-05 15:34:13</td>\n",
              "<td> 0.763 sec</td>\n",
              "<td>48.0</td>\n",
              "<td>0.1768702</td>\n",
              "<td>0.0992866</td>\n",
              "<td>0.0483871</td></tr>\n",
              "<tr><td></td>\n",
              "<td>2019-07-05 15:34:13</td>\n",
              "<td> 0.777 sec</td>\n",
              "<td>49.0</td>\n",
              "<td>0.1783339</td>\n",
              "<td>0.1006435</td>\n",
              "<td>0.0483871</td></tr>\n",
              "<tr><td></td>\n",
              "<td>2019-07-05 15:34:13</td>\n",
              "<td> 0.785 sec</td>\n",
              "<td>50.0</td>\n",
              "<td>0.1773589</td>\n",
              "<td>0.1001096</td>\n",
              "<td>0.0483871</td></tr></table></div>"
            ],
            "text/plain": [
              "     timestamp            duration    number_of_trees    training_rmse        training_logloss     training_classification_error\n",
              "---  -------------------  ----------  -----------------  -------------------  -------------------  -------------------------------\n",
              "     2019-07-05 15:34:12  0.032 sec   0.0                nan                  nan                  nan\n",
              "     2019-07-05 15:34:12  0.213 sec   1.0                0.2672612419124244   2.4670554567793346   0.07142857142857142\n",
              "     2019-07-05 15:34:12  0.233 sec   2.0                0.24691458232921557  1.8174917538814388   0.07792207792207792\n",
              "     2019-07-05 15:34:12  0.250 sec   3.0                0.21559139121216433  1.3856125252363445   0.0594059405940594\n",
              "     2019-07-05 15:34:12  0.268 sec   4.0                0.20622085324877049  1.2420560190883092   0.05309734513274336\n",
              "---  ---                  ---         ---                ---                  ---                  ---\n",
              "     2019-07-05 15:34:12  0.750 sec   46.0               0.1771788214622026   0.09928482872456164  0.04838709677419355\n",
              "     2019-07-05 15:34:12  0.757 sec   47.0               0.1779515846964051   0.10046486929326098  0.04838709677419355\n",
              "     2019-07-05 15:34:13  0.763 sec   48.0               0.1768701592604855   0.09928657055612242  0.04838709677419355\n",
              "     2019-07-05 15:34:13  0.777 sec   49.0               0.1783338514754394   0.10064351444087312  0.04838709677419355\n",
              "     2019-07-05 15:34:13  0.785 sec   50.0               0.1773589122451471   0.10010960350530813  0.04838709677419355"
            ]
          },
          "metadata": {
            "tags": []
          }
        },
        {
          "output_type": "stream",
          "text": [
            "\n",
            "See the whole table with table.as_data_frame()\n",
            "Variable Importances: \n"
          ],
          "name": "stdout"
        },
        {
          "output_type": "display_data",
          "data": {
            "text/html": [
              "<div style=\"overflow:auto\"><table style=\"width:50%\"><tr><td><b>variable</b></td>\n",
              "<td><b>relative_importance</b></td>\n",
              "<td><b>scaled_importance</b></td>\n",
              "<td><b>percentage</b></td></tr>\n",
              "<tr><td>petal_len</td>\n",
              "<td>1720.1953125</td>\n",
              "<td>1.0</td>\n",
              "<td>0.4825888</td></tr>\n",
              "<tr><td>petal_wid</td>\n",
              "<td>1327.9210205</td>\n",
              "<td>0.7719594</td>\n",
              "<td>0.3725390</td></tr>\n",
              "<tr><td>sepal_len</td>\n",
              "<td>405.5614929</td>\n",
              "<td>0.2357648</td>\n",
              "<td>0.1137774</td></tr>\n",
              "<tr><td>sepal_wid</td>\n",
              "<td>110.8378372</td>\n",
              "<td>0.0644333</td>\n",
              "<td>0.0310948</td></tr></table></div>"
            ],
            "text/plain": [
              "variable    relative_importance    scaled_importance    percentage\n",
              "----------  ---------------------  -------------------  ------------\n",
              "petal_len   1720.2                 1                    0.482589\n",
              "petal_wid   1327.92                0.771959             0.372539\n",
              "sepal_len   405.561                0.235765             0.113777\n",
              "sepal_wid   110.838                0.0644333            0.0310948"
            ]
          },
          "metadata": {
            "tags": []
          }
        },
        {
          "output_type": "stream",
          "text": [
            "\n"
          ],
          "name": "stdout"
        }
      ]
    },
    {
      "cell_type": "markdown",
      "metadata": {
        "id": "6C53tlzJ0lN3",
        "colab_type": "text"
      },
      "source": [
        "We see from our model above that 6 out of 124 were predicted wrongly, which gives a 95% accuracy on our training data. We see that the model perfectly predicts Iris-sentosa, but wrongly predicts the versicolor and verginica. We also see that model made 50 trees to train. We see from the variable importance data that petal_len is the most important variable while making the predictions followed by others. "
      ]
    },
    {
      "cell_type": "markdown",
      "metadata": {
        "id": "cAL1neWizBRc",
        "colab_type": "text"
      },
      "source": [
        "## Results and next steps"
      ]
    },
    {
      "cell_type": "code",
      "metadata": {
        "id": "P2ChydEDwpd9",
        "colab_type": "code",
        "colab": {
          "base_uri": "https://localhost:8080/",
          "height": 34
        },
        "outputId": "1987bd8e-77b5-4aad-88fa-9293b672f43f"
      },
      "source": [
        "# Using the Random Forest model to make predictions\n",
        "p = mRF.predict(test)"
      ],
      "execution_count": 11,
      "outputs": [
        {
          "output_type": "stream",
          "text": [
            "drf prediction progress: |████████████████████████████████████████████████| 100%\n"
          ],
          "name": "stdout"
        }
      ]
    },
    {
      "cell_type": "code",
      "metadata": {
        "id": "zS6QVwFDwpeC",
        "colab_type": "code",
        "colab": {
          "base_uri": "https://localhost:8080/",
          "height": 250
        },
        "outputId": "4dff6e1a-343d-4679-f5c0-060e7f941e21"
      },
      "source": [
        "p"
      ],
      "execution_count": 12,
      "outputs": [
        {
          "output_type": "display_data",
          "data": {
            "text/html": [
              "<table>\n",
              "<thead>\n",
              "<tr><th>predict        </th><th style=\"text-align: right;\">  Iris-setosa</th><th style=\"text-align: right;\">  Iris-versicolor</th><th style=\"text-align: right;\">  Iris-virginica</th></tr>\n",
              "</thead>\n",
              "<tbody>\n",
              "<tr><td>Iris-setosa    </td><td style=\"text-align: right;\">  0.995243   </td><td style=\"text-align: right;\">       0.00191393</td><td style=\"text-align: right;\">      0.00284355</td></tr>\n",
              "<tr><td>Iris-setosa    </td><td style=\"text-align: right;\">  0.99515    </td><td style=\"text-align: right;\">       0.00195125</td><td style=\"text-align: right;\">      0.00289901</td></tr>\n",
              "<tr><td>Iris-setosa    </td><td style=\"text-align: right;\">  0.995243   </td><td style=\"text-align: right;\">       0.00191393</td><td style=\"text-align: right;\">      0.00284355</td></tr>\n",
              "<tr><td>Iris-setosa    </td><td style=\"text-align: right;\">  0.995243   </td><td style=\"text-align: right;\">       0.00191393</td><td style=\"text-align: right;\">      0.00284355</td></tr>\n",
              "<tr><td>Iris-setosa    </td><td style=\"text-align: right;\">  0.99515    </td><td style=\"text-align: right;\">       0.00195125</td><td style=\"text-align: right;\">      0.00289901</td></tr>\n",
              "<tr><td>Iris-setosa    </td><td style=\"text-align: right;\">  0.995243   </td><td style=\"text-align: right;\">       0.00191393</td><td style=\"text-align: right;\">      0.00284355</td></tr>\n",
              "<tr><td>Iris-setosa    </td><td style=\"text-align: right;\">  0.995243   </td><td style=\"text-align: right;\">       0.00191393</td><td style=\"text-align: right;\">      0.00284355</td></tr>\n",
              "<tr><td>Iris-versicolor</td><td style=\"text-align: right;\">  0.000774913</td><td style=\"text-align: right;\">       0.956605  </td><td style=\"text-align: right;\">      0.0426202 </td></tr>\n",
              "<tr><td>Iris-versicolor</td><td style=\"text-align: right;\">  0.000764915</td><td style=\"text-align: right;\">       0.747935  </td><td style=\"text-align: right;\">      0.2513    </td></tr>\n",
              "<tr><td>Iris-versicolor</td><td style=\"text-align: right;\">  0.000792184</td><td style=\"text-align: right;\">       0.97597   </td><td style=\"text-align: right;\">      0.0232374 </td></tr>\n",
              "</tbody>\n",
              "</table>"
            ]
          },
          "metadata": {
            "tags": []
          }
        },
        {
          "output_type": "execute_result",
          "data": {
            "text/plain": [
              ""
            ]
          },
          "metadata": {
            "tags": []
          },
          "execution_count": 12
        }
      ]
    },
    {
      "cell_type": "markdown",
      "metadata": {
        "id": "1bHYUPvB1rk9",
        "colab_type": "text"
      },
      "source": [
        "Predictions are made with a probablity of all the catagorical variables. The model classifies based on the probablity of the highest catagory."
      ]
    },
    {
      "cell_type": "code",
      "metadata": {
        "id": "hIHKRPz-wpeJ",
        "colab_type": "code",
        "colab": {
          "base_uri": "https://localhost:8080/",
          "height": 397
        },
        "outputId": "f1d8591e-e0bb-4cb9-bf5f-6f9f6cb20528"
      },
      "source": [
        "# Checking the performance of the model\n",
        "mRF.model_performance(test)"
      ],
      "execution_count": 13,
      "outputs": [
        {
          "output_type": "stream",
          "text": [
            "\n",
            "ModelMetricsMultinomial: drf\n",
            "** Reported on test data. **\n",
            "\n",
            "MSE: 0.03504376799709709\n",
            "RMSE: 0.1871998076844554\n",
            "LogLoss: 0.11477835352694324\n",
            "Mean Per-Class Error: 0.037037037037037035\n",
            "Confusion Matrix: Row labels: Actual class; Column labels: Predicted class\n",
            "\n"
          ],
          "name": "stdout"
        },
        {
          "output_type": "display_data",
          "data": {
            "text/html": [
              "<div style=\"overflow:auto\"><table style=\"width:50%\"><tr><td><b>Iris-setosa</b></td>\n",
              "<td><b>Iris-versicolor</b></td>\n",
              "<td><b>Iris-virginica</b></td>\n",
              "<td><b>Error</b></td>\n",
              "<td><b>Rate</b></td></tr>\n",
              "<tr><td>7.0</td>\n",
              "<td>0.0</td>\n",
              "<td>0.0</td>\n",
              "<td>0.0</td>\n",
              "<td>0 / 7</td></tr>\n",
              "<tr><td>0.0</td>\n",
              "<td>8.0</td>\n",
              "<td>1.0</td>\n",
              "<td>0.1111111</td>\n",
              "<td>1 / 9</td></tr>\n",
              "<tr><td>0.0</td>\n",
              "<td>0.0</td>\n",
              "<td>10.0</td>\n",
              "<td>0.0</td>\n",
              "<td>0 / 10</td></tr>\n",
              "<tr><td>7.0</td>\n",
              "<td>8.0</td>\n",
              "<td>11.0</td>\n",
              "<td>0.0384615</td>\n",
              "<td>1 / 26</td></tr></table></div>"
            ],
            "text/plain": [
              "Iris-setosa    Iris-versicolor    Iris-virginica    Error      Rate\n",
              "-------------  -----------------  ----------------  ---------  ------\n",
              "7              0                  0                 0          0 / 7\n",
              "0              8                  1                 0.111111   1 / 9\n",
              "0              0                  10                0          0 / 10\n",
              "7              8                  11                0.0384615  1 / 26"
            ]
          },
          "metadata": {
            "tags": []
          }
        },
        {
          "output_type": "stream",
          "text": [
            "Top-3 Hit Ratios: \n"
          ],
          "name": "stdout"
        },
        {
          "output_type": "display_data",
          "data": {
            "text/html": [
              "<div style=\"overflow:auto\"><table style=\"width:50%\"><tr><td><b>k</b></td>\n",
              "<td><b>hit_ratio</b></td></tr>\n",
              "<tr><td>1</td>\n",
              "<td>0.9615384</td></tr>\n",
              "<tr><td>2</td>\n",
              "<td>1.0</td></tr>\n",
              "<tr><td>3</td>\n",
              "<td>1.0</td></tr></table></div>"
            ],
            "text/plain": [
              "k    hit_ratio\n",
              "---  -----------\n",
              "1    0.961538\n",
              "2    1\n",
              "3    1"
            ]
          },
          "metadata": {
            "tags": []
          }
        },
        {
          "output_type": "execute_result",
          "data": {
            "text/plain": [
              ""
            ]
          },
          "metadata": {
            "tags": []
          },
          "execution_count": 13
        }
      ]
    },
    {
      "cell_type": "markdown",
      "metadata": {
        "id": "WKIMxVzc0C5E",
        "colab_type": "text"
      },
      "source": [
        "We see from results that 1 of 26 predictions made was wrong. which gives us a prediction accuracy of 96% on our test data set."
      ]
    },
    {
      "cell_type": "code",
      "metadata": {
        "collapsed": true,
        "id": "_JUpkeT_wpeO",
        "colab_type": "code",
        "colab": {}
      },
      "source": [
        "# To know the details of each parameters\n",
        "help(h2o.estimators.random_forest.H2ORandomForestEstimator)"
      ],
      "execution_count": 0,
      "outputs": []
    },
    {
      "cell_type": "markdown",
      "metadata": {
        "id": "6Xk0r5-3FdAG",
        "colab_type": "text"
      },
      "source": [
        ""
      ]
    }
  ]
}